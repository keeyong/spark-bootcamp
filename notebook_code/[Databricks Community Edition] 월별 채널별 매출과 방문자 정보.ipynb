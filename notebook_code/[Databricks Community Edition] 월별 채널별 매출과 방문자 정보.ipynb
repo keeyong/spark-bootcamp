{
 "cells": [
  {
   "cell_type": "markdown",
   "metadata": {
    "application/vnd.databricks.v1+cell": {
     "cellMetadata": {},
     "inputWidgets": {},
     "nuid": "9f31ddba-fdf9-421c-8fa6-b80802af5cea",
     "showTitle": false,
     "tableResultSettingsMap": {},
     "title": ""
    },
    "id": "ElawwmWzcylW"
   },
   "source": [
    "## 월별 채널별 매출과 방문자 정보 계산하기"
   ]
  },
  {
   "cell_type": "code",
   "execution_count": 0,
   "metadata": {
    "application/vnd.databricks.v1+cell": {
     "cellMetadata": {
      "byteLimit": 2048000,
      "rowLimit": 10000
     },
     "inputWidgets": {},
     "nuid": "74a71e5a-820c-4463-b1c7-ae83e653f1fa",
     "showTitle": false,
     "tableResultSettingsMap": {},
     "title": ""
    },
    "id": "EEaNuN3xKNXm"
   },
   "outputs": [
    {
     "output_type": "display_data",
     "data": {
      "text/html": [
       "<style scoped>\n",
       "  .ansiout {\n",
       "    display: block;\n",
       "    unicode-bidi: embed;\n",
       "    white-space: pre-wrap;\n",
       "    word-wrap: break-word;\n",
       "    word-break: break-all;\n",
       "    font-family: \"Menlo\", \"Monaco\", \"Consolas\", \"Ubuntu Mono\", \"Source Code Pro\", monospace;\n",
       "    font-size: 13px;\n",
       "    color: #555;\n",
       "    margin-left: 4px;\n",
       "    line-height: 19px;\n",
       "  }\n",
       "</style>"
      ]
     },
     "metadata": {
      "application/vnd.databricks.v1+output": {
       "arguments": {},
       "data": "",
       "errorSummary": "",
       "errorTraceType": null,
       "metadata": {},
       "type": "ipynbError"
      }
     },
     "output_type": "display_data"
    }
   ],
   "source": [
    "df_user_session_channel = spark.read \\\n",
    "    .format(\"csv\") \\\n",
    "    .option(\"header\", \"true\") \\\n",
    "    .option(\"inferSchema\", \"true\") \\\n",
    "    .load(\"s3a://s3-geospatial/readonly/user_session_channel.csv\")\n",
    "\n",
    "df_session_timestamp = spark.read \\\n",
    "    .format(\"csv\") \\\n",
    "    .option(\"header\", \"true\") \\\n",
    "    .option(\"inferSchema\", \"true\") \\\n",
    "    .load(\"s3a://s3-geospatial/readonly/session_timestamp.csv\")\n",
    "\n",
    "df_session_transaction = spark.read \\\n",
    "    .format(\"csv\") \\\n",
    "    .option(\"header\", \"true\") \\\n",
    "    .option(\"inferSchema\", \"true\") \\\n",
    "    .load(\"s3a://s3-geospatial/readonly/session_transaction.csv\")"
   ]
  },
  {
   "cell_type": "code",
   "execution_count": 0,
   "metadata": {
    "application/vnd.databricks.v1+cell": {
     "cellMetadata": {
      "byteLimit": 2048000,
      "rowLimit": 10000
     },
     "inputWidgets": {},
     "nuid": "be2a0c60-86ea-4ec1-9e30-b0f73d71b21a",
     "showTitle": false,
     "tableResultSettingsMap": {},
     "title": ""
    },
    "id": "AjcT5LWi7_B5"
   },
   "outputs": [
    {
     "output_type": "display_data",
     "data": {
      "text/html": [
       "<style scoped>\n",
       "  .ansiout {\n",
       "    display: block;\n",
       "    unicode-bidi: embed;\n",
       "    white-space: pre-wrap;\n",
       "    word-wrap: break-word;\n",
       "    word-break: break-all;\n",
       "    font-family: \"Menlo\", \"Monaco\", \"Consolas\", \"Ubuntu Mono\", \"Source Code Pro\", monospace;\n",
       "    font-size: 13px;\n",
       "    color: #555;\n",
       "    margin-left: 4px;\n",
       "    line-height: 19px;\n",
       "  }\n",
       "</style>"
      ]
     },
     "metadata": {
      "application/vnd.databricks.v1+output": {
       "arguments": {},
       "data": "",
       "errorSummary": "",
       "errorTraceType": null,
       "metadata": {},
       "type": "ipynbError"
      }
     },
     "output_type": "display_data"
    }
   ],
   "source": [
    "df_user_session_channel.createOrReplaceTempView(\"user_session_channel\")\n",
    "df_session_timestamp.createOrReplaceTempView(\"session_timestamp\")\n",
    "df_session_transaction.createOrReplaceTempView(\"session_transaction\")"
   ]
  },
  {
   "cell_type": "code",
   "execution_count": 0,
   "metadata": {
    "application/vnd.databricks.v1+cell": {
     "cellMetadata": {
      "byteLimit": 2048000,
      "implicitDf": true,
      "rowLimit": 10000
     },
     "inputWidgets": {},
     "nuid": "b0bdd393-6d12-4ed9-9a80-1c899c5830d7",
     "showTitle": false,
     "tableResultSettingsMap": {},
     "title": ""
    }
   },
   "outputs": [
    {
     "output_type": "display_data",
     "data": {
      "text/html": [
       "<style scoped>\n",
       "  .ansiout {\n",
       "    display: block;\n",
       "    unicode-bidi: embed;\n",
       "    white-space: pre-wrap;\n",
       "    word-wrap: break-word;\n",
       "    word-break: break-all;\n",
       "    font-family: \"Menlo\", \"Monaco\", \"Consolas\", \"Ubuntu Mono\", \"Source Code Pro\", monospace;\n",
       "    font-size: 13px;\n",
       "    color: #555;\n",
       "    margin-left: 4px;\n",
       "    line-height: 19px;\n",
       "  }\n",
       "</style>"
      ]
     },
     "metadata": {
      "application/vnd.databricks.v1+output": {
       "arguments": {},
       "data": "",
       "errorSummary": "",
       "errorTraceType": null,
       "metadata": {},
       "type": "ipynbError"
      }
     },
     "output_type": "display_data"
    }
   ],
   "source": [
    "%sql\n",
    "SELECT ts, channel\n",
    "FROM user_session_channel usc\n",
    "JOIN session_timestamp st ON usc.sessionid = st.sessionid\n",
    "WHERE userid = 251\n",
    "ORDER BY 1;"
   ]
  },
  {
   "cell_type": "code",
   "execution_count": 0,
   "metadata": {
    "application/vnd.databricks.v1+cell": {
     "cellMetadata": {
      "byteLimit": 2048000,
      "rowLimit": 10000
     },
     "inputWidgets": {},
     "nuid": "f7ba1d76-3bcb-4cc5-8076-fbf05a86af35",
     "showTitle": false,
     "tableResultSettingsMap": {},
     "title": ""
    },
    "colab": {
     "base_uri": "https://localhost:8080/"
    },
    "id": "Umznov_4FZuT",
    "outputId": "0d9f4ef0-d7ca-474d-88b0-9aa643dd52f8"
   },
   "outputs": [
    {
     "output_type": "stream",
     "name": "stdout",
     "output_type": "stream",
     "text": [
      "+--------------------+--------------------+\n|           sessionid|                  ts|\n+--------------------+--------------------+\n|7cdace91c487558e2...|2019-05-01 00:13:...|\n|94f192dee566b018e...|2019-05-01 00:49:...|\n|7ed2d3454c5eea711...|2019-05-01 10:18:...|\n|f1daf122cde863010...|2019-05-01 13:10:...|\n|fd0efcca272f704a7...|2019-05-01 13:45:...|\n+--------------------+--------------------+\nonly showing top 5 rows\n\n"
     ]
    }
   ],
   "source": [
    "spark.table(\"session_timestamp\").show(5)"
   ]
  },
  {
   "cell_type": "code",
   "execution_count": 0,
   "metadata": {
    "application/vnd.databricks.v1+cell": {
     "cellMetadata": {
      "byteLimit": 2048000,
      "rowLimit": 10000
     },
     "inputWidgets": {},
     "nuid": "c79a885c-1cf6-4f89-9c1d-3cb10f98a448",
     "showTitle": false,
     "tableResultSettingsMap": {},
     "title": ""
    },
    "colab": {
     "base_uri": "https://localhost:8080/"
    },
    "id": "f3UxHdoLC5Bt",
    "outputId": "c72b0521-232f-49eb-e19f-a1260e0a408c"
   },
   "outputs": [
    {
     "output_type": "stream",
     "name": "stdout",
     "output_type": "stream",
     "text": [
      "+------+--------------------+--------+\n|userid|           sessionid| channel|\n+------+--------------------+--------+\n|   184|c41dd99a69df04044...|   Naver|\n|    80|fdc0eb412a84fa549...| Organic|\n|   251|0a54b19a13b6712dc...|Facebook|\n|   264|a914ecef9c12ffdb9...|  Google|\n|   744|05ae14d7ae387b933...|Facebook|\n+------+--------------------+--------+\nonly showing top 5 rows\n\n"
     ]
    }
   ],
   "source": [
    "df_user_session_channel.show(5)"
   ]
  },
  {
   "cell_type": "code",
   "execution_count": 0,
   "metadata": {
    "application/vnd.databricks.v1+cell": {
     "cellMetadata": {
      "byteLimit": 2048000,
      "rowLimit": 10000
     },
     "inputWidgets": {},
     "nuid": "bdf36c3c-488f-4b08-ad16-13e1550d4f0e",
     "showTitle": false,
     "tableResultSettingsMap": {},
     "title": ""
    },
    "colab": {
     "base_uri": "https://localhost:8080/"
    },
    "id": "T9lIcukADIgk",
    "outputId": "d35aef5a-a05f-4e41-a2f4-53931c302bd1"
   },
   "outputs": [
    {
     "output_type": "stream",
     "name": "stdout",
     "output_type": "stream",
     "text": [
      "+--------------------+--------------------+\n|           sessionid|                  ts|\n+--------------------+--------------------+\n|7cdace91c487558e2...|2019-05-01 00:13:...|\n|94f192dee566b018e...|2019-05-01 00:49:...|\n|7ed2d3454c5eea711...|2019-05-01 10:18:...|\n|f1daf122cde863010...|2019-05-01 13:10:...|\n|fd0efcca272f704a7...|2019-05-01 13:45:...|\n+--------------------+--------------------+\nonly showing top 5 rows\n\n"
     ]
    }
   ],
   "source": [
    "df_session_timestamp.show(5)"
   ]
  },
  {
   "cell_type": "code",
   "execution_count": 0,
   "metadata": {
    "application/vnd.databricks.v1+cell": {
     "cellMetadata": {
      "byteLimit": 2048000,
      "rowLimit": 10000
     },
     "inputWidgets": {},
     "nuid": "18c78d8c-75c8-4fd1-833a-e93e58e74227",
     "showTitle": false,
     "tableResultSettingsMap": {},
     "title": ""
    },
    "colab": {
     "base_uri": "https://localhost:8080/"
    },
    "id": "vwiwGeXRDNk2",
    "outputId": "b45f0558-99a9-4440-89d1-d1ab98a3b372"
   },
   "outputs": [
    {
     "output_type": "stream",
     "name": "stdout",
     "output_type": "stream",
     "text": [
      "+--------------------+--------+------+\n|           sessionid|refunded|amount|\n+--------------------+--------+------+\n|00029153d12ae1c9a...|   false|    85|\n|008909bd27b680698...|   false|    13|\n|0107acb41ef20db22...|   false|    16|\n|018544a2c48077d2c...|   false|    39|\n|020c38173caff0203...|   false|    61|\n+--------------------+--------+------+\nonly showing top 5 rows\n\n"
     ]
    }
   ],
   "source": [
    "df_session_transaction.show(5)"
   ]
  },
  {
   "cell_type": "markdown",
   "metadata": {
    "application/vnd.databricks.v1+cell": {
     "cellMetadata": {},
     "inputWidgets": {},
     "nuid": "80f088af-9c42-461d-a540-fba103abb02b",
     "showTitle": false,
     "tableResultSettingsMap": {},
     "title": ""
    },
    "id": "J2tg1Myi8Q5I"
   },
   "source": [
    "## 월별 채널별 총 방문자와 매출 발생 방문자 계산"
   ]
  },
  {
   "cell_type": "code",
   "execution_count": 0,
   "metadata": {
    "application/vnd.databricks.v1+cell": {
     "cellMetadata": {
      "byteLimit": 2048000,
      "rowLimit": 10000
     },
     "inputWidgets": {},
     "nuid": "8254419a-0017-4647-a6bf-c45d26f518be",
     "showTitle": false,
     "tableResultSettingsMap": {},
     "title": ""
    },
    "colab": {
     "base_uri": "https://localhost:8080/"
    },
    "id": "MpbHpUQ1IaVp",
    "outputId": "c1a43352-730f-4485-9af7-7d0eb6740934"
   },
   "outputs": [
    {
     "output_type": "stream",
     "name": "stdout",
     "output_type": "stream",
     "text": [
      "+--------------------+-----+\n|           sessionid|count|\n+--------------------+-----+\n|5c3a3b139a11689e0...|    1|\n+--------------------+-----+\n\n"
     ]
    }
   ],
   "source": [
    "# JOIN key가 정말 하나씩만 존재하나?\n",
    "spark.sql(\"\"\"SELECT sessionid, COUNT(1) count\n",
    "FROM user_session_channel\n",
    "GROUP BY 1\n",
    "ORDER BY 2 DESC\n",
    "LIMIT 1\"\"\").show() "
   ]
  },
  {
   "cell_type": "code",
   "execution_count": 0,
   "metadata": {
    "application/vnd.databricks.v1+cell": {
     "cellMetadata": {
      "byteLimit": 2048000,
      "rowLimit": 10000
     },
     "inputWidgets": {},
     "nuid": "28b4723c-679e-47c1-a775-7ff1a251e375",
     "showTitle": false,
     "tableResultSettingsMap": {},
     "title": ""
    },
    "colab": {
     "base_uri": "https://localhost:8080/"
    },
    "id": "QvYe1ehfKChR",
    "outputId": "e167c499-5223-45f0-8a7c-a76a3456b0d0"
   },
   "outputs": [
    {
     "output_type": "stream",
     "name": "stdout",
     "output_type": "stream",
     "text": [
      "+--------------------+-----+\n|           sessionid|count|\n+--------------------+-----+\n|532ff98823e7d1433...|    1|\n+--------------------+-----+\n\n"
     ]
    }
   ],
   "source": [
    "# JOIN key가 정말 하나씩만 존재하나?\n",
    "spark.sql(\"\"\"SELECT sessionid, COUNT(1) count\n",
    "FROM session_transaction\n",
    "GROUP BY 1\n",
    "ORDER BY 2 DESC\n",
    "LIMIT 1\"\"\").show() "
   ]
  },
  {
   "cell_type": "code",
   "execution_count": 0,
   "metadata": {
    "application/vnd.databricks.v1+cell": {
     "cellMetadata": {
      "byteLimit": 2048000,
      "rowLimit": 10000
     },
     "inputWidgets": {},
     "nuid": "7f7cf976-9d12-45b1-a58a-c44b05933888",
     "showTitle": false,
     "tableResultSettingsMap": {},
     "title": ""
    },
    "colab": {
     "base_uri": "https://localhost:8080/"
    },
    "id": "_g0ZU_f7KIED",
    "outputId": "04ecb328-ff5f-4bc3-dbc3-e740525acb77"
   },
   "outputs": [
    {
     "output_type": "stream",
     "name": "stdout",
     "output_type": "stream",
     "text": [
      "+--------------------+-----+\n|           sessionid|count|\n+--------------------+-----+\n|006c64491cb8acf20...|    1|\n+--------------------+-----+\n\n"
     ]
    }
   ],
   "source": [
    "# JOIN key가 정말 하나씩만 존재하나?\n",
    "spark.sql(\"\"\"SELECT sessionid, COUNT(1) count\n",
    "FROM session_timestamp\n",
    "GROUP BY 1\n",
    "ORDER BY 2 DESC\n",
    "LIMIT 1\"\"\").show() "
   ]
  },
  {
   "cell_type": "markdown",
   "metadata": {
    "application/vnd.databricks.v1+cell": {
     "cellMetadata": {},
     "inputWidgets": {},
     "nuid": "b003b506-36d3-41ff-9b4b-0bbd7777d503",
     "showTitle": false,
     "tableResultSettingsMap": {},
     "title": ""
    },
    "id": "2RvznT3Qf_TV"
   },
   "source": [
    "### 월별 채널별 총 방문자 계산"
   ]
  },
  {
   "cell_type": "code",
   "execution_count": 0,
   "metadata": {
    "application/vnd.databricks.v1+cell": {
     "cellMetadata": {
      "byteLimit": 2048000,
      "rowLimit": 10000
     },
     "inputWidgets": {},
     "nuid": "fab48d43-c755-48e6-bfd0-9fbbc7ae2b0a",
     "showTitle": false,
     "tableResultSettingsMap": {},
     "title": ""
    }
   },
   "outputs": [
    {
     "output_type": "stream",
     "name": "stdout",
     "output_type": "stream",
     "text": [
      "+---------+\n|sessionId|\n+---------+\n+---------+\n\n"
     ]
    }
   ],
   "source": [
    "spark.sql(\"\"\"\n",
    "    SELECT sessionId \n",
    "    FROM user_session_channel\n",
    "    \n",
    "    EXCEPT\n",
    "    \n",
    "    SELECT sessionId\n",
    "    FROM session_timestamp\n",
    "\"\"\").show()"
   ]
  },
  {
   "cell_type": "code",
   "execution_count": 0,
   "metadata": {
    "application/vnd.databricks.v1+cell": {
     "cellMetadata": {
      "byteLimit": 2048000,
      "rowLimit": 10000
     },
     "inputWidgets": {},
     "nuid": "3afa4aa4-90d8-4567-8cef-079089564f39",
     "showTitle": false,
     "tableResultSettingsMap": {},
     "title": ""
    }
   },
   "outputs": [
    {
     "output_type": "stream",
     "name": "stdout",
     "output_type": "stream",
     "text": [
      "+---------+\n|sessionId|\n+---------+\n+---------+\n\n"
     ]
    }
   ],
   "source": [
    "spark.sql(\"\"\"\n",
    "    SELECT sessionId \n",
    "    FROM session_timestamp\n",
    "    \n",
    "    EXCEPT\n",
    "    \n",
    "    SELECT sessionId\n",
    "    FROM user_session_channel\n",
    "\"\"\").show()"
   ]
  },
  {
   "cell_type": "code",
   "execution_count": 0,
   "metadata": {
    "application/vnd.databricks.v1+cell": {
     "cellMetadata": {
      "byteLimit": 2048000,
      "rowLimit": 10000
     },
     "inputWidgets": {},
     "nuid": "d4d6883e-bb25-4b6d-9b61-3f582830455c",
     "showTitle": false,
     "tableResultSettingsMap": {},
     "title": ""
    },
    "id": "GdiSxs1030G0"
   },
   "outputs": [],
   "source": [
    "mon_channel_rev_df = spark.sql(\"\"\"\n",
    "    SELECT LEFT(sti.ts, 7) year_month,\n",
    "      usc.channel channel,\n",
    "      COUNT(DISTINCT userid) total_visitors\n",
    "    FROM user_session_channel usc\n",
    "    LEFT JOIN session_timestamp sti ON usc.sessionid = sti.sessionid\n",
    "    GROUP BY 1 ,2\n",
    "    ORDER BY 1, 2\"\"\")"
   ]
  },
  {
   "cell_type": "code",
   "execution_count": 0,
   "metadata": {
    "application/vnd.databricks.v1+cell": {
     "cellMetadata": {
      "byteLimit": 2048000,
      "rowLimit": 10000
     },
     "inputWidgets": {},
     "nuid": "06ff8210-1829-4954-886c-473fbe9fb5a9",
     "showTitle": false,
     "tableResultSettingsMap": {},
     "title": ""
    },
    "colab": {
     "base_uri": "https://localhost:8080/"
    },
    "id": "CZXGJow1Igoi",
    "outputId": "78b5acea-7459-4e1b-bc5e-97079fe1b5d6"
   },
   "outputs": [],
   "source": [
    "mon_channel_rev_df.show()"
   ]
  },
  {
   "cell_type": "markdown",
   "metadata": {
    "application/vnd.databricks.v1+cell": {
     "cellMetadata": {},
     "inputWidgets": {},
     "nuid": "d3913feb-8304-422a-a013-5f875ad82d11",
     "showTitle": false,
     "tableResultSettingsMap": {},
     "title": ""
    },
    "id": "wC4dO8vWgF97"
   },
   "source": [
    "### 월별 채널별 총 방문자와 구매 방문자 계산"
   ]
  },
  {
   "cell_type": "code",
   "execution_count": 0,
   "metadata": {
    "application/vnd.databricks.v1+cell": {
     "cellMetadata": {
      "byteLimit": 2048000,
      "rowLimit": 10000
     },
     "inputWidgets": {},
     "nuid": "e66429aa-310e-445b-a26e-13b4fabceab4",
     "showTitle": false,
     "tableResultSettingsMap": {},
     "title": ""
    },
    "id": "y5kpe4n4gGNU"
   },
   "outputs": [],
   "source": [
    "mon_channel_rev_df = spark.sql(\"\"\"\n",
    "    SELECT LEFT(sti.ts, 7) year_month,\n",
    "      usc.channel channel,\n",
    "      COUNT(DISTINCT userid) total_visitors,\n",
    "      COUNT(DISTINCT CASE WHEN amount is not NULL THEN userid END) paid_visitors\n",
    "    FROM user_session_channel usc\n",
    "    LEFT JOIN session_timestamp sti ON usc.sessionid = sti.sessionid\n",
    "    LEFT JOIN session_transaction str ON usc.sessionid = str.sessionid\n",
    "    GROUP BY 1 ,2\n",
    "    ORDER BY 1, 2\"\"\")"
   ]
  },
  {
   "cell_type": "code",
   "execution_count": 0,
   "metadata": {
    "application/vnd.databricks.v1+cell": {
     "cellMetadata": {
      "byteLimit": 2048000,
      "rowLimit": 10000
     },
     "inputWidgets": {},
     "nuid": "d3703d82-8577-4c9b-bc08-4749ede1695a",
     "showTitle": false,
     "tableResultSettingsMap": {},
     "title": ""
    },
    "colab": {
     "base_uri": "https://localhost:8080/"
    },
    "id": "whIte26D63hG",
    "outputId": "0890f7ec-7137-473a-f8e0-9063499398fd"
   },
   "outputs": [
    {
     "output_type": "stream",
     "name": "stdout",
     "output_type": "stream",
     "text": [
      "+----------+---------+--------------+-------------+\n|year_month|  channel|total_visitors|paid_visitors|\n+----------+---------+--------------+-------------+\n|   2019-05| Facebook|           247|           14|\n|   2019-05|   Google|           253|           10|\n|   2019-05|Instagram|           234|           11|\n|   2019-05|    Naver|           237|           11|\n|   2019-05|  Organic|           238|           17|\n|   2019-05|  Youtube|           244|           10|\n|   2019-06| Facebook|           414|           22|\n|   2019-06|   Google|           412|           13|\n|   2019-06|Instagram|           410|           21|\n|   2019-06|    Naver|           398|           15|\n|   2019-06|  Organic|           416|           14|\n|   2019-06|  Youtube|           400|           17|\n|   2019-07| Facebook|           558|           32|\n|   2019-07|   Google|           556|           21|\n|   2019-07|Instagram|           567|           25|\n|   2019-07|    Naver|           553|           19|\n|   2019-07|  Organic|           557|           24|\n|   2019-07|  Youtube|           564|           36|\n|   2019-08| Facebook|           611|           18|\n|   2019-08|   Google|           610|           28|\n+----------+---------+--------------+-------------+\nonly showing top 20 rows\n\n"
     ]
    }
   ],
   "source": [
    "mon_channel_rev_df.show()"
   ]
  },
  {
   "cell_type": "markdown",
   "metadata": {
    "application/vnd.databricks.v1+cell": {
     "cellMetadata": {},
     "inputWidgets": {},
     "nuid": "e76f397b-c116-45a5-ae47-2b4818f2388f",
     "showTitle": false,
     "tableResultSettingsMap": {},
     "title": ""
    },
    "id": "1ZLK7L7yASE2"
   },
   "source": [
    "### 월별 채널별 총 매출액 (리펀드 포함), 순매출액 (리펀드 제외), 구매자 비율 계산"
   ]
  },
  {
   "cell_type": "code",
   "execution_count": 0,
   "metadata": {
    "application/vnd.databricks.v1+cell": {
     "cellMetadata": {
      "byteLimit": 2048000,
      "rowLimit": 10000
     },
     "inputWidgets": {},
     "nuid": "79ae025a-fadd-4bf2-9c87-63d203f1e18b",
     "showTitle": false,
     "tableResultSettingsMap": {},
     "title": ""
    },
    "id": "-iicBV-0Ac_D"
   },
   "outputs": [
    {
     "output_type": "stream",
     "name": "stdout",
     "output_type": "stream",
     "text": [
      "+----------+---------+--------------+-------------+-------------+\n|year_month|  channel|total_visitors|paid_visitors|gross_revenue|\n+----------+---------+--------------+-------------+-------------+\n|   2019-05| Facebook|           247|           14|         1199|\n|   2019-05|   Google|           253|           10|          580|\n|   2019-05|Instagram|           234|           11|          959|\n|   2019-05|    Naver|           237|           11|          867|\n|   2019-05|  Organic|           238|           17|         1846|\n|   2019-05|  Youtube|           244|           10|          529|\n|   2019-06| Facebook|           414|           22|         1578|\n|   2019-06|   Google|           412|           13|          947|\n|   2019-06|Instagram|           410|           21|         1462|\n|   2019-06|    Naver|           398|           15|         1090|\n|   2019-06|  Organic|           416|           14|         1129|\n|   2019-06|  Youtube|           400|           17|         1042|\n|   2019-07| Facebook|           558|           32|         2222|\n|   2019-07|   Google|           556|           21|         1558|\n|   2019-07|Instagram|           567|           25|         1896|\n|   2019-07|    Naver|           553|           19|         1547|\n|   2019-07|  Organic|           557|           24|         1600|\n|   2019-07|  Youtube|           564|           36|         2210|\n|   2019-08| Facebook|           611|           18|         1009|\n|   2019-08|   Google|           610|           28|         2210|\n+----------+---------+--------------+-------------+-------------+\nonly showing top 20 rows\n\n"
     ]
    }
   ],
   "source": [
    "# 먼저 총 매출액부터 계산\n",
    "spark.sql(\"\"\"\n",
    "  SELECT LEFT(sti.ts, 7) year_month,\n",
    "      usc.channel channel,\n",
    "      COUNT(DISTINCT userid) total_visitors,\n",
    "      COUNT(DISTINCT CASE WHEN amount is not NULL THEN userid END) paid_visitors,\n",
    "      SUM(amount) gross_revenue\n",
    "   FROM user_session_channel usc\n",
    "   LEFT JOIN session_timestamp sti ON sti.sessionid = usc.sessionid\n",
    "   LEFT JOIN session_transaction str ON str.sessionid = usc.sessionid\n",
    "   GROUP BY 1, 2\n",
    "   ORDER BY 1, 2;\n",
    "\"\"\").show()"
   ]
  },
  {
   "cell_type": "code",
   "execution_count": 0,
   "metadata": {
    "application/vnd.databricks.v1+cell": {
     "cellMetadata": {
      "byteLimit": 2048000,
      "rowLimit": 10000
     },
     "inputWidgets": {},
     "nuid": "9dc974a8-cfe6-4e57-93e8-51184ae47c5a",
     "showTitle": false,
     "tableResultSettingsMap": {},
     "title": ""
    },
    "colab": {
     "base_uri": "https://localhost:8080/"
    },
    "id": "_0sAwtuphJdK",
    "outputId": "386cf472-1b16-4471-dd5f-9d5b62807e63"
   },
   "outputs": [
    {
     "output_type": "stream",
     "name": "stdout",
     "output_type": "stream",
     "text": [
      "+----------+---------+--------------+-------------+-------------+-----------+\n|year_month|  channel|total_visitors|paid_visitors|gross_revenue|net_revenue|\n+----------+---------+--------------+-------------+-------------+-----------+\n|   2019-05| Facebook|           247|           14|         1199|        997|\n|   2019-05|   Google|           253|           10|          580|        580|\n|   2019-05|Instagram|           234|           11|          959|        770|\n|   2019-05|    Naver|           237|           11|          867|        844|\n|   2019-05|  Organic|           238|           17|         1846|       1571|\n|   2019-05|  Youtube|           244|           10|          529|        529|\n|   2019-06| Facebook|           414|           22|         1578|       1578|\n|   2019-06|   Google|           412|           13|          947|        947|\n|   2019-06|Instagram|           410|           21|         1462|       1418|\n|   2019-06|    Naver|           398|           15|         1090|       1090|\n|   2019-06|  Organic|           416|           14|         1129|        940|\n|   2019-06|  Youtube|           400|           17|         1042|       1042|\n|   2019-07| Facebook|           558|           32|         2222|       2144|\n|   2019-07|   Google|           556|           21|         1558|       1385|\n|   2019-07|Instagram|           567|           25|         1896|       1766|\n|   2019-07|    Naver|           553|           19|         1547|       1547|\n|   2019-07|  Organic|           557|           24|         1600|       1600|\n|   2019-07|  Youtube|           564|           36|         2210|       2037|\n|   2019-08| Facebook|           611|           18|         1009|       1009|\n|   2019-08|   Google|           610|           28|         2210|       1894|\n+----------+---------+--------------+-------------+-------------+-----------+\nonly showing top 20 rows\n\n"
     ]
    }
   ],
   "source": [
    "# 다음으로 순매출액 계산\n",
    "spark.sql(\"\"\"\n",
    "  SELECT LEFT(sti.ts, 7) year_month,\n",
    "      usc.channel channel,\n",
    "      COUNT(DISTINCT userid) total_visitors,\n",
    "      COUNT(DISTINCT CASE WHEN amount is not NULL THEN userid END) paid_visitors,\n",
    "      SUM(amount) gross_revenue,\n",
    "      SUM(CASE WHEN refunded is not True THEN amount END) net_revenue\n",
    "   FROM user_session_channel usc\n",
    "   LEFT JOIN session_timestamp sti ON sti.sessionid = usc.sessionid\n",
    "   LEFT JOIN session_transaction str ON str.sessionid = usc.sessionid\n",
    "   GROUP BY 1, 2\n",
    "   ORDER BY 1, 2;\n",
    "\"\"\").show()"
   ]
  },
  {
   "cell_type": "code",
   "execution_count": 0,
   "metadata": {
    "application/vnd.databricks.v1+cell": {
     "cellMetadata": {
      "byteLimit": 2048000,
      "rowLimit": 10000
     },
     "inputWidgets": {},
     "nuid": "100eae20-e598-4e22-871f-1201f4e6cee7",
     "showTitle": false,
     "tableResultSettingsMap": {},
     "title": ""
    }
   },
   "outputs": [
    {
     "output_type": "stream",
     "name": "stdout",
     "output_type": "stream",
     "text": [
      "+----------+---------+--------------+-------------+-------------+-----------+------------------+\n|year_month|  channel|total_visitors|paid_visitors|gross_revenue|net_revenue|   conversion_rate|\n+----------+---------+--------------+-------------+-------------+-----------+------------------+\n|   2019-05| Facebook|           247|           14|         1199|        997| 5.668016194331984|\n|   2019-05|   Google|           253|           10|          580|        580| 3.952569169960474|\n|   2019-05|Instagram|           234|           11|          959|        770| 4.700854700854701|\n|   2019-05|    Naver|           237|           11|          867|        844| 4.641350210970464|\n|   2019-05|  Organic|           238|           17|         1846|       1571| 7.142857142857143|\n|   2019-05|  Youtube|           244|           10|          529|        529| 4.098360655737705|\n|   2019-06| Facebook|           414|           22|         1578|       1578| 5.314009661835748|\n|   2019-06|   Google|           412|           13|          947|        947|3.1553398058252426|\n|   2019-06|Instagram|           410|           21|         1462|       1418| 5.121951219512195|\n|   2019-06|    Naver|           398|           15|         1090|       1090|3.7688442211055277|\n|   2019-06|  Organic|           416|           14|         1129|        940|3.3653846153846154|\n|   2019-06|  Youtube|           400|           17|         1042|       1042|              4.25|\n|   2019-07| Facebook|           558|           32|         2222|       2144| 5.734767025089606|\n|   2019-07|   Google|           556|           21|         1558|       1385| 3.776978417266187|\n|   2019-07|Instagram|           567|           25|         1896|       1766| 4.409171075837743|\n|   2019-07|    Naver|           553|           19|         1547|       1547|3.4358047016274864|\n|   2019-07|  Organic|           557|           24|         1600|       1600| 4.308797127468582|\n|   2019-07|  Youtube|           564|           36|         2210|       2037| 6.382978723404255|\n|   2019-08| Facebook|           611|           18|         1009|       1009|2.9459901800327333|\n|   2019-08|   Google|           610|           28|         2210|       1894| 4.590163934426229|\n+----------+---------+--------------+-------------+-------------+-----------+------------------+\nonly showing top 20 rows\n\n"
     ]
    }
   ],
   "source": [
    " # 유료 사용자 비율 계산\n",
    "spark.sql(\"\"\"\n",
    "  SELECT LEFT(sti.ts, 7) year_month,\n",
    "      usc.channel channel,\n",
    "      COUNT(DISTINCT userid) total_visitors,\n",
    "      COUNT(DISTINCT CASE WHEN amount is not NULL THEN userid END) paid_visitors,\n",
    "      SUM(amount) gross_revenue,\n",
    "      SUM(CASE WHEN refunded is not True THEN amount END) net_revenue,\n",
    "      paid_visitors*100/total_visitors conversion_rate\n",
    "   FROM user_session_channel usc\n",
    "   LEFT JOIN session_timestamp sti ON sti.sessionid = usc.sessionid\n",
    "   LEFT JOIN session_transaction str ON str.sessionid = usc.sessionid\n",
    "   GROUP BY 1, 2\n",
    "   ORDER BY 1, 2;\n",
    "\"\"\").show()"
   ]
  },
  {
   "cell_type": "code",
   "execution_count": 0,
   "metadata": {
    "application/vnd.databricks.v1+cell": {
     "cellMetadata": {
      "byteLimit": 2048000,
      "rowLimit": 10000
     },
     "inputWidgets": {},
     "nuid": "2354618e-a897-4fb4-8a3d-bf05540857f6",
     "showTitle": false,
     "tableResultSettingsMap": {},
     "title": ""
    }
   },
   "outputs": [
    {
     "output_type": "stream",
     "name": "stdout",
     "output_type": "stream",
     "text": [
      "+----------+---------+--------------+-------------+-------------+-----------+---------------+\n|year_month|  channel|total_visitors|paid_visitors|gross_revenue|net_revenue|conversion_rate|\n+----------+---------+--------------+-------------+-------------+-----------+---------------+\n|   2019-05| Facebook|           247|           14|         1199|        997|           5.67|\n|   2019-05|   Google|           253|           10|          580|        580|           3.95|\n|   2019-05|Instagram|           234|           11|          959|        770|            4.7|\n|   2019-05|    Naver|           237|           11|          867|        844|           4.64|\n|   2019-05|  Organic|           238|           17|         1846|       1571|           7.14|\n|   2019-05|  Youtube|           244|           10|          529|        529|            4.1|\n|   2019-06| Facebook|           414|           22|         1578|       1578|           5.31|\n|   2019-06|   Google|           412|           13|          947|        947|           3.16|\n|   2019-06|Instagram|           410|           21|         1462|       1418|           5.12|\n|   2019-06|    Naver|           398|           15|         1090|       1090|           3.77|\n|   2019-06|  Organic|           416|           14|         1129|        940|           3.37|\n|   2019-06|  Youtube|           400|           17|         1042|       1042|           4.25|\n|   2019-07| Facebook|           558|           32|         2222|       2144|           5.73|\n|   2019-07|   Google|           556|           21|         1558|       1385|           3.78|\n|   2019-07|Instagram|           567|           25|         1896|       1766|           4.41|\n|   2019-07|    Naver|           553|           19|         1547|       1547|           3.44|\n|   2019-07|  Organic|           557|           24|         1600|       1600|           4.31|\n|   2019-07|  Youtube|           564|           36|         2210|       2037|           6.38|\n|   2019-08| Facebook|           611|           18|         1009|       1009|           2.95|\n|   2019-08|   Google|           610|           28|         2210|       1894|           4.59|\n+----------+---------+--------------+-------------+-------------+-----------+---------------+\nonly showing top 20 rows\n\n"
     ]
    }
   ],
   "source": [
    "# 유료 사용자 비율을 소수 둘째 짜리까지 퍼센트 계산 \n",
    "spark.sql(\"\"\"\n",
    "  SELECT LEFT(sti.ts, 7) year_month,\n",
    "      usc.channel channel,\n",
    "      COUNT(DISTINCT userid) total_visitors,\n",
    "      COUNT(DISTINCT CASE WHEN amount is not NULL THEN userid END) paid_visitors,\n",
    "      SUM(amount) gross_revenue,\n",
    "      SUM(CASE WHEN refunded is not True THEN amount END) net_revenue,\n",
    "      ROUND(paid_visitors*100/total_visitors, 2) conversion_rate\n",
    "   FROM user_session_channel usc\n",
    "   LEFT JOIN session_timestamp sti ON sti.sessionid = usc.sessionid\n",
    "   LEFT JOIN session_transaction str ON str.sessionid = usc.sessionid\n",
    "   GROUP BY 1, 2\n",
    "   ORDER BY 1, 2;\n",
    "\"\"\").show()"
   ]
  }
 ],
 "metadata": {
  "application/vnd.databricks.v1+notebook": {
   "computePreferences": null,
   "dashboards": [],
   "environmentMetadata": null,
   "inputWidgetPreferences": null,
   "language": "python",
   "notebookMetadata": {
    "mostRecentlyExecutedCommandWithImplicitDF": {
     "commandId": 3489295735907414,
     "dataframes": [
      "_sqldf"
     ]
    },
    "pythonIndentUnit": 4
   },
   "notebookName": "월별 채널별 매출과 방문자 정보",
   "widgets": {}
  },
  "colab": {
   "provenance": []
  },
  "kernelspec": {
   "display_name": "Python 3",
   "name": "python3"
  }
 },
 "nbformat": 4,
 "nbformat_minor": 0
}