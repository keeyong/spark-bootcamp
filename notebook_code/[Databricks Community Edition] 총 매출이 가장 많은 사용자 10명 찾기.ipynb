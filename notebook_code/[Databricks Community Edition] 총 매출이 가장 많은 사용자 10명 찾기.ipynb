{
 "cells": [
  {
   "cell_type": "markdown",
   "metadata": {
    "application/vnd.databricks.v1+cell": {
     "cellMetadata": {},
     "inputWidgets": {},
     "nuid": "d0877060-43ff-404e-8a8d-33551b950386",
     "showTitle": false,
     "tableResultSettingsMap": {},
     "title": ""
    },
    "id": "ElawwmWzcylW"
   },
   "source": [
    "## 총 매출이 가장 많은 사용자 10명 찾기"
   ]
  },
  {
   "cell_type": "code",
   "execution_count": 0,
   "metadata": {
    "application/vnd.databricks.v1+cell": {
     "cellMetadata": {
      "byteLimit": 2048000,
      "rowLimit": 10000
     },
     "inputWidgets": {},
     "nuid": "14da0596-6aeb-4c0b-b98d-ed58604cf611",
     "showTitle": false,
     "tableResultSettingsMap": {},
     "title": ""
    },
    "id": "EEaNuN3xKNXm"
   },
   "outputs": [],
   "source": [
    "df_user_session_channel = spark.read \\\n",
    "    .format(\"csv\") \\\n",
    "    .option(\"header\", \"true\") \\\n",
    "    .option(\"inferSchema\", \"true\") \\\n",
    "    .load(\"s3a://s3-geospatial/readonly/user_session_channel.csv\")\n",
    "\n",
    "df_session_timestamp = spark.read \\\n",
    "    .format(\"csv\") \\\n",
    "    .option(\"header\", \"true\") \\\n",
    "    .option(\"inferSchema\", \"true\") \\\n",
    "    .load(\"s3a://s3-geospatial/readonly/session_timestamp.csv\")\n",
    "\n",
    "df_session_transaction = spark.read \\\n",
    "    .format(\"csv\") \\\n",
    "    .option(\"header\", \"true\") \\\n",
    "    .option(\"inferSchema\", \"true\") \\\n",
    "    .load(\"s3a://s3-geospatial/readonly/session_transaction.csv\")"
   ]
  },
  {
   "cell_type": "code",
   "execution_count": 0,
   "metadata": {
    "application/vnd.databricks.v1+cell": {
     "cellMetadata": {
      "byteLimit": 2048000,
      "rowLimit": 10000
     },
     "inputWidgets": {},
     "nuid": "b5b9cee4-1ac7-4420-ab94-6f4f8b67f87b",
     "showTitle": false,
     "tableResultSettingsMap": {},
     "title": ""
    },
    "id": "AjcT5LWi7_B5"
   },
   "outputs": [],
   "source": [
    "df_user_session_channel.createOrReplaceTempView(\"user_session_channel\")\n",
    "df_session_timestamp.createOrReplaceTempView(\"session_timestamp\")\n",
    "df_session_transaction.createOrReplaceTempView(\"session_transaction\")"
   ]
  },
  {
   "cell_type": "code",
   "execution_count": 0,
   "metadata": {
    "application/vnd.databricks.v1+cell": {
     "cellMetadata": {
      "byteLimit": 2048000,
      "rowLimit": 10000
     },
     "inputWidgets": {},
     "nuid": "28417d41-f222-4b6b-9966-c50a6e149816",
     "showTitle": false,
     "tableResultSettingsMap": {},
     "title": ""
    },
    "colab": {
     "base_uri": "https://localhost:8080/"
    },
    "id": "f3UxHdoLC5Bt",
    "outputId": "a3547556-3f92-43fa-d7e6-f6086a6ddc13"
   },
   "outputs": [
    {
     "output_type": "stream",
     "name": "stdout",
     "output_type": "stream",
     "text": [
      "+------+--------------------+--------+\n|userid|           sessionid| channel|\n+------+--------------------+--------+\n|   184|c41dd99a69df04044...|   Naver|\n|    80|fdc0eb412a84fa549...| Organic|\n|   251|0a54b19a13b6712dc...|Facebook|\n|   264|a914ecef9c12ffdb9...|  Google|\n|   744|05ae14d7ae387b933...|Facebook|\n+------+--------------------+--------+\nonly showing top 5 rows\n\n"
     ]
    }
   ],
   "source": [
    "df_user_session_channel.show(5)"
   ]
  },
  {
   "cell_type": "code",
   "execution_count": 0,
   "metadata": {
    "application/vnd.databricks.v1+cell": {
     "cellMetadata": {
      "byteLimit": 2048000,
      "rowLimit": 10000
     },
     "inputWidgets": {},
     "nuid": "9441fa20-300e-4973-8b26-a5caae53f6ff",
     "showTitle": false,
     "tableResultSettingsMap": {},
     "title": ""
    },
    "colab": {
     "base_uri": "https://localhost:8080/"
    },
    "id": "T9lIcukADIgk",
    "outputId": "13e8be2a-dc49-4231-e864-dd5c4cf617fa"
   },
   "outputs": [
    {
     "output_type": "stream",
     "name": "stdout",
     "output_type": "stream",
     "text": [
      "+--------------------+--------------------+\n|           sessionid|                  ts|\n+--------------------+--------------------+\n|7cdace91c487558e2...|2019-05-01 00:13:...|\n|94f192dee566b018e...|2019-05-01 00:49:...|\n|7ed2d3454c5eea711...|2019-05-01 10:18:...|\n|f1daf122cde863010...|2019-05-01 13:10:...|\n|fd0efcca272f704a7...|2019-05-01 13:45:...|\n+--------------------+--------------------+\nonly showing top 5 rows\n\n"
     ]
    }
   ],
   "source": [
    "df_session_timestamp.show(5)"
   ]
  },
  {
   "cell_type": "code",
   "execution_count": 0,
   "metadata": {
    "application/vnd.databricks.v1+cell": {
     "cellMetadata": {
      "byteLimit": 2048000,
      "rowLimit": 10000
     },
     "inputWidgets": {},
     "nuid": "3f63c13e-98eb-4bab-a2f3-194803cbdc03",
     "showTitle": false,
     "tableResultSettingsMap": {},
     "title": ""
    },
    "colab": {
     "base_uri": "https://localhost:8080/"
    },
    "id": "vwiwGeXRDNk2",
    "outputId": "5b479434-d711-44ff-b926-28b1d7f503de"
   },
   "outputs": [
    {
     "output_type": "stream",
     "name": "stdout",
     "output_type": "stream",
     "text": [
      "+--------------------+--------+------+\n|           sessionid|refunded|amount|\n+--------------------+--------+------+\n|00029153d12ae1c9a...|   false|    85|\n|008909bd27b680698...|   false|    13|\n|0107acb41ef20db22...|   false|    16|\n|018544a2c48077d2c...|   false|    39|\n|020c38173caff0203...|   false|    61|\n+--------------------+--------+------+\nonly showing top 5 rows\n\n"
     ]
    }
   ],
   "source": [
    "df_session_transaction.show(5)"
   ]
  },
  {
   "cell_type": "code",
   "execution_count": 0,
   "metadata": {
    "application/vnd.databricks.v1+cell": {
     "cellMetadata": {
      "byteLimit": 2048000,
      "rowLimit": 10000
     },
     "inputWidgets": {},
     "nuid": "ec6e10bf-5e6d-4ced-95e6-f3b31a485202",
     "showTitle": false,
     "tableResultSettingsMap": {},
     "title": ""
    },
    "id": "GdiSxs1030G0"
   },
   "outputs": [],
   "source": [
    "top_rev_user_df = spark.sql(\"\"\"\n",
    "    SELECT userid,\n",
    "        SUM(str.amount) revenue,\n",
    "        SUM(CASE WHEN str.refunded = False THEN str.amount END) net_revenue\n",
    "    FROM user_session_channel usc\n",
    "    JOIN session_transaction str ON usc.sessionid = str.sessionid\n",
    "    GROUP BY 1\n",
    "    ORDER BY 2 DESC\n",
    "    LIMIT 10\"\"\")"
   ]
  },
  {
   "cell_type": "code",
   "execution_count": 0,
   "metadata": {
    "application/vnd.databricks.v1+cell": {
     "cellMetadata": {
      "byteLimit": 2048000,
      "rowLimit": 10000
     },
     "inputWidgets": {},
     "nuid": "ddfd0d8a-8584-48fb-9857-d3f5aaa43895",
     "showTitle": false,
     "tableResultSettingsMap": {},
     "title": ""
    },
    "colab": {
     "base_uri": "https://localhost:8080/"
    },
    "id": "whIte26D63hG",
    "outputId": "37c3590c-2a8e-4268-911b-06f43d1f8d79"
   },
   "outputs": [
    {
     "output_type": "stream",
     "name": "stdout",
     "output_type": "stream",
     "text": [
      "+------+-------+-----------+\n|userid|revenue|net_revenue|\n+------+-------+-----------+\n|   989|    743|        743|\n|   772|    556|        556|\n|  1615|    506|        506|\n|   654|    488|        488|\n|  1651|    463|        463|\n|   973|    438|        438|\n|   262|    422|        422|\n|  1099|    421|        343|\n|  2682|    414|        414|\n|   891|    412|        412|\n+------+-------+-----------+\n\n"
     ]
    }
   ],
   "source": [
    "top_rev_user_df.show()"
   ]
  },
  {
   "cell_type": "code",
   "execution_count": 0,
   "metadata": {
    "application/vnd.databricks.v1+cell": {
     "cellMetadata": {
      "byteLimit": 2048000,
      "rowLimit": 10000
     },
     "inputWidgets": {},
     "nuid": "4b680df4-02d9-4b71-8885-a515c0eca9fb",
     "showTitle": false,
     "tableResultSettingsMap": {},
     "title": ""
    },
    "id": "W7JRcaAnbCHu"
   },
   "outputs": [],
   "source": [
    "top_rev_user_df_rank = spark.sql(\"\"\"\n",
    "SELECT\n",
    "  userid,\n",
    "  SUM(amount) total_amount, \n",
    " \tRANK() OVER (ORDER BY SUM(amount) DESC) rank\n",
    "FROM session_transaction st\n",
    "JOIN user_session_channel usc ON st.sessionid = usc.sessionid\n",
    "GROUP\tBY userid\n",
    "ORDER BY rank\n",
    "LIMIT 10\"\"\")"
   ]
  },
  {
   "cell_type": "code",
   "execution_count": 0,
   "metadata": {
    "application/vnd.databricks.v1+cell": {
     "cellMetadata": {
      "byteLimit": 2048000,
      "rowLimit": 10000
     },
     "inputWidgets": {},
     "nuid": "a8923518-b095-4602-9980-d667f2862310",
     "showTitle": false,
     "tableResultSettingsMap": {},
     "title": ""
    },
    "colab": {
     "base_uri": "https://localhost:8080/"
    },
    "id": "C50aAfvibpao",
    "outputId": "d734a220-2dd8-40dc-fb6c-2ba7ea7c10fd"
   },
   "outputs": [
    {
     "output_type": "stream",
     "name": "stdout",
     "output_type": "stream",
     "text": [
      "+------+------------+----+\n|userid|total_amount|rank|\n+------+------------+----+\n|   989|         743|   1|\n|   772|         556|   2|\n|  1615|         506|   3|\n|   654|         488|   4|\n|  1651|         463|   5|\n|   973|         438|   6|\n|   262|         422|   7|\n|  1099|         421|   8|\n|  2682|         414|   9|\n|   891|         412|  10|\n+------+------------+----+\n\n"
     ]
    }
   ],
   "source": [
    "top_rev_user_df_rank.show()"
   ]
  }
 ],
 "metadata": {
  "application/vnd.databricks.v1+notebook": {
   "computePreferences": null,
   "dashboards": [],
   "environmentMetadata": null,
   "inputWidgetPreferences": null,
   "language": "python",
   "notebookMetadata": {
    "pythonIndentUnit": 4
   },
   "notebookName": "총 매출이 가장 많은 사용자 10명 찾기",
   "widgets": {}
  },
  "colab": {
   "provenance": []
  },
  "kernelspec": {
   "display_name": "Python 3",
   "name": "python3"
  }
 },
 "nbformat": 4,
 "nbformat_minor": 0
}