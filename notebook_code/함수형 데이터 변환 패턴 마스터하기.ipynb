{
 "cells": [
  {
   "cell_type": "code",
   "execution_count": 0,
   "metadata": {
    "application/vnd.databricks.v1+cell": {
     "cellMetadata": {
      "byteLimit": 2048000,
      "rowLimit": 10000
     },
     "inputWidgets": {},
     "nuid": "541e01d6-4dd2-4b8a-9081-4da6d40b077b",
     "showTitle": false,
     "tableResultSettingsMap": {},
     "title": ""
    }
   },
   "outputs": [],
   "source": [
    "import pandas as pd\n",
    "import numpy as np\n",
    "\n",
    "# Spark에서 일괄 연산을 위한 함수 생성을 위해 pandas_udf 함수를 임포트\n",
    "from pyspark.sql.functions import col, udf, pandas_udf, expr\n",
    "from pyspark.sql.types import IntegerType, DoubleType, StringType, FloatType"
   ]
  },
  {
   "cell_type": "markdown",
   "metadata": {
    "application/vnd.databricks.v1+cell": {
     "cellMetadata": {},
     "inputWidgets": {},
     "nuid": "7b6475f3-a281-4a26-b8c3-10ad7dcf6495",
     "showTitle": false,
     "tableResultSettingsMap": {},
     "title": ""
    }
   },
   "source": [
    "# 사전 학습"
   ]
  },
  {
   "cell_type": "markdown",
   "metadata": {
    "application/vnd.databricks.v1+cell": {
     "cellMetadata": {
      "byteLimit": 2048000,
      "rowLimit": 10000
     },
     "inputWidgets": {},
     "nuid": "6939788c-c83f-4f8a-bb84-925c881e25d1",
     "showTitle": false,
     "tableResultSettingsMap": {},
     "title": ""
    }
   },
   "source": [
    "## Python Lambda 함수 학습"
   ]
  },
  {
   "cell_type": "code",
   "execution_count": 0,
   "metadata": {
    "application/vnd.databricks.v1+cell": {
     "cellMetadata": {
      "byteLimit": 2048000,
      "rowLimit": 10000
     },
     "inputWidgets": {},
     "nuid": "33d2ad7b-674e-43f3-91fb-75ebb6613e64",
     "showTitle": false,
     "tableResultSettingsMap": {},
     "title": ""
    }
   },
   "outputs": [
    {
     "output_type": "stream",
     "name": "stdout",
     "output_type": "stream",
     "text": [
      "10\n"
     ]
    }
   ],
   "source": [
    "# add라는 이름으로 Lambda 함수 정의\n",
    "add = lambda x, y: x + y\n",
    "\n",
    "# 여기에 인자를 주고 실제로 실행\n",
    "print(add(3, 7)) "
   ]
  },
  {
   "cell_type": "code",
   "execution_count": 0,
   "metadata": {
    "application/vnd.databricks.v1+cell": {
     "cellMetadata": {
      "byteLimit": 2048000,
      "rowLimit": 10000
     },
     "inputWidgets": {},
     "nuid": "da3ddd47-5f53-4c00-bb1a-920b988f13af",
     "showTitle": false,
     "tableResultSettingsMap": {},
     "title": ""
    }
   },
   "outputs": [
    {
     "output_type": "stream",
     "name": "stdout",
     "output_type": "stream",
     "text": [
      "25\n"
     ]
    }
   ],
   "source": [
    "# square라는 이름의 Lambda 함수 정의\n",
    "square = lambda x: x ** 2\n",
    "\n",
    "# 인자를 하나 주고 실행\n",
    "print(square(5))  # Output: 25"
   ]
  },
  {
   "cell_type": "code",
   "execution_count": 0,
   "metadata": {
    "application/vnd.databricks.v1+cell": {
     "cellMetadata": {
      "byteLimit": 2048000,
      "rowLimit": 10000
     },
     "inputWidgets": {},
     "nuid": "0f13c0dc-a838-4fa8-8386-6f1bf2e43f96",
     "showTitle": false,
     "tableResultSettingsMap": {},
     "title": ""
    }
   },
   "outputs": [
    {
     "output_type": "stream",
     "name": "stdout",
     "output_type": "stream",
     "text": [
      "<map object at 0x725eb87c9a50>\n"
     ]
    }
   ],
   "source": [
    "# 만일 이 함수를 리스트의 각 원소에 적용하고 싶다면\n",
    "# map이라는 함수를 사용 (이는 함수를 리스트의 원소에 적용해주는 역할을 수행)\n",
    "numbers = [1, 2, 3, 4, 5]\n",
    "squared_map = map(square, numbers)\n",
    "print(squared_map)"
   ]
  },
  {
   "cell_type": "code",
   "execution_count": 0,
   "metadata": {
    "application/vnd.databricks.v1+cell": {
     "cellMetadata": {
      "byteLimit": 2048000,
      "rowLimit": 10000
     },
     "inputWidgets": {},
     "nuid": "277d79dc-47d2-47cf-85b2-e0e4a3964188",
     "showTitle": false,
     "tableResultSettingsMap": {},
     "title": ""
    }
   },
   "outputs": [],
   "source": [
    "# map은 iterator라는 것을 리턴해주며 이 내용을 보고 싶다면 list를 사용해서 리스트로 변환 가능\n",
    "squared_list = list(squared_map)"
   ]
  },
  {
   "cell_type": "code",
   "execution_count": 0,
   "metadata": {
    "application/vnd.databricks.v1+cell": {
     "cellMetadata": {
      "byteLimit": 2048000,
      "rowLimit": 10000
     },
     "inputWidgets": {},
     "nuid": "35013630-b9b3-4e10-9532-f259a4462b64",
     "showTitle": false,
     "tableResultSettingsMap": {},
     "title": ""
    }
   },
   "outputs": [
    {
     "output_type": "execute_result",
     "data": {
      "text/plain": [
       "[1, 4, 9, 16, 25]"
      ]
     },
     "execution_count": 9,
     "metadata": {},
     "output_type": "execute_result"
    }
   ],
   "source": [
    "squared_list"
   ]
  },
  {
   "cell_type": "markdown",
   "metadata": {
    "application/vnd.databricks.v1+cell": {
     "cellMetadata": {
      "byteLimit": 2048000,
      "rowLimit": 10000
     },
     "inputWidgets": {},
     "nuid": "d7b7d76f-9b58-4765-a025-7dbce5edef22",
     "showTitle": false,
     "tableResultSettingsMap": {},
     "title": ""
    }
   },
   "source": [
    "### 이런 기능을 Pandas DataFrame에도 적용하고 싶다면 사용 가능한 것이 Pandas의 apply 함수"
   ]
  },
  {
   "cell_type": "markdown",
   "metadata": {
    "application/vnd.databricks.v1+cell": {
     "cellMetadata": {
      "byteLimit": 2048000,
      "rowLimit": 10000
     },
     "inputWidgets": {},
     "nuid": "3f16c0f6-3a81-4235-985b-ce8bb43945ef",
     "showTitle": false,
     "tableResultSettingsMap": {},
     "title": ""
    }
   },
   "source": [
    "## Spark에서 UDF 학습\n",
    "\n",
    "Spark에는 Pandas의 apply와는 기능이 별도로 존재하지는 않고 기본적으로 컬럼 연산이나 UDF를 통해 비슷한 기능 구현이 가능하며 apply 함수에서처럼 열과 행의 구분이 딱히 있지 않음"
   ]
  },
  {
   "cell_type": "code",
   "execution_count": 0,
   "metadata": {
    "application/vnd.databricks.v1+cell": {
     "cellMetadata": {
      "byteLimit": 2048000,
      "rowLimit": 10000
     },
     "inputWidgets": {},
     "nuid": "be0c6e02-61fa-48e8-9649-66d6daf2bcd8",
     "showTitle": false,
     "tableResultSettingsMap": {},
     "title": ""
    }
   },
   "outputs": [
    {
     "output_type": "stream",
     "name": "stdout",
     "output_type": "stream",
     "text": [
      "+---+-------------+------+\n| id|         name|salary|\n+---+-------------+------+\n|  1| luka doncici|   100|\n|  2| lebron james|   200|\n|  3|austin reaves|   300|\n+---+-------------+------+\n\n"
     ]
    }
   ],
   "source": [
    "data = {\n",
    "    'id': [1, 2, 3],\n",
    "    'name': ['luka doncici', 'lebron james', 'austin reaves'],\n",
    "    'salary': [100, 200, 300]\n",
    "}\n",
    "sdf = spark.createDataFrame(pd.DataFrame(data))\n",
    "sdf.show()"
   ]
  },
  {
   "cell_type": "code",
   "execution_count": 0,
   "metadata": {
    "application/vnd.databricks.v1+cell": {
     "cellMetadata": {
      "byteLimit": 2048000,
      "rowLimit": 10000
     },
     "inputWidgets": {},
     "nuid": "11eec57c-e303-48b8-983f-ef3265887aa0",
     "showTitle": false,
     "tableResultSettingsMap": {},
     "title": ""
    }
   },
   "outputs": [
    {
     "output_type": "stream",
     "name": "stdout",
     "output_type": "stream",
     "text": [
      "+---+-------------+------+-------------+\n| id|         name|salary| Capital Name|\n+---+-------------+------+-------------+\n|  1| luka doncici|   100| LUKA DONCICI|\n|  2| lebron james|   200| LEBRON JAMES|\n|  3|austin reaves|   300|AUSTIN REAVES|\n+---+-------------+------+-------------+\n\n"
     ]
    }
   ],
   "source": [
    "# 예제 1: pyspark.sql.functions.udf: DataFrame에서만 사용 가능\n",
    "import pyspark.sql.functions as F\n",
    "from pyspark.sql.types import *\n",
    "\n",
    "upperUDF = F.udf(lambda z:z.upper())  \n",
    "sdf_v2 = sdf.withColumn(\"Capital Name\", upperUDF(\"Name\"))\n",
    "sdf_v2.show()"
   ]
  },
  {
   "cell_type": "code",
   "execution_count": 0,
   "metadata": {
    "application/vnd.databricks.v1+cell": {
     "cellMetadata": {
      "byteLimit": 2048000,
      "rowLimit": 10000
     },
     "inputWidgets": {},
     "nuid": "34d9968d-164b-4264-b01e-ef8ab51e33e7",
     "showTitle": false,
     "tableResultSettingsMap": {},
     "title": ""
    }
   },
   "outputs": [
    {
     "output_type": "stream",
     "name": "stdout",
     "output_type": "stream",
     "text": [
      "+---+-------------+------+------------------+\n| id|         name|salary|        new salary|\n+---+-------------+------+------------------+\n|  1| luka doncici|   100|110.00000000000001|\n|  2| lebron james|   200|220.00000000000003|\n|  3|austin reaves|   300|             330.0|\n+---+-------------+------+------------------+\n\n"
     ]
    }
   ],
   "source": [
    "sdf.withColumn(\"new salary\", F.udf(lambda x: x*1.1)(\"salary\")).show()"
   ]
  },
  {
   "cell_type": "code",
   "execution_count": 0,
   "metadata": {
    "application/vnd.databricks.v1+cell": {
     "cellMetadata": {
      "byteLimit": 2048000,
      "rowLimit": 10000
     },
     "inputWidgets": {},
     "nuid": "843eb6f4-09e0-4c54-b184-2daf51d89897",
     "showTitle": false,
     "tableResultSettingsMap": {},
     "title": ""
    }
   },
   "outputs": [
    {
     "output_type": "stream",
     "name": "stdout",
     "output_type": "stream",
     "text": [
      "+-----------+\n|upper(aBcD)|\n+-----------+\n|       ABCD|\n+-----------+\n\n"
     ]
    }
   ],
   "source": [
    "# 예제 2: spark.udf.register: DataFrame 뿐만 아니라 Spark SQL에서도 사용가능\n",
    "def upper(s):\n",
    "   return s.upper()\n",
    "\n",
    "# 먼저 SELECT를 통해 테스트\n",
    "upperUDF = spark.udf.register(\"upper\", upper)\n",
    "spark.sql(\"SELECT upper('aBcD')\").show()"
   ]
  },
  {
   "cell_type": "code",
   "execution_count": 0,
   "metadata": {
    "application/vnd.databricks.v1+cell": {
     "cellMetadata": {
      "byteLimit": 2048000,
      "rowLimit": 10000
     },
     "inputWidgets": {},
     "nuid": "25529f4e-7993-4ac9-a4ea-a6dd64a104e8",
     "showTitle": false,
     "tableResultSettingsMap": {},
     "title": ""
    }
   },
   "outputs": [
    {
     "output_type": "stream",
     "name": "stdout",
     "output_type": "stream",
     "text": [
      "+-------------+-------------+\n|         name| Capital Name|\n+-------------+-------------+\n| luka doncici| LUKA DONCICI|\n| lebron james| LEBRON JAMES|\n|austin reaves|AUSTIN REAVES|\n+-------------+-------------+\n\n"
     ]
    }
   ],
   "source": [
    "# DataFrame 기반 SQL에 적용\n",
    "sdf.createOrReplaceTempView(\"sdf\")\n",
    "spark.sql(\"\"\"SELECT name, upper(name) as `Capital Name` FROM sdf\"\"\").show()\n"
   ]
  },
  {
   "cell_type": "code",
   "execution_count": 0,
   "metadata": {
    "application/vnd.databricks.v1+cell": {
     "cellMetadata": {
      "byteLimit": 2048000,
      "rowLimit": 10000
     },
     "inputWidgets": {},
     "nuid": "22d4752a-f07f-4593-9899-91a679809193",
     "showTitle": false,
     "tableResultSettingsMap": {},
     "title": ""
    }
   },
   "outputs": [
    {
     "output_type": "stream",
     "name": "stdout",
     "output_type": "stream",
     "text": [
      "+---+-------------+------+-------------+\n| id|         name|salary| Capital Name|\n+---+-------------+------+-------------+\n|  1| luka doncici|   100| LUKA DONCICI|\n|  2| lebron james|   200| LEBRON JAMES|\n|  3|austin reaves|   300|AUSTIN REAVES|\n+---+-------------+------+-------------+\n\n+---+-------------+------+-------------+\n| id|         name|salary| Captial Name|\n+---+-------------+------+-------------+\n|  1| luka doncici|   100| LUKA DONCICI|\n|  2| lebron james|   200| LEBRON JAMES|\n|  3|austin reaves|   300|AUSTIN REAVES|\n+---+-------------+------+-------------+\n\n"
     ]
    }
   ],
   "source": [
    "sdf_v2 = sdf.withColumn(\"Capital Name\", expr(\"upper(name)\"))\n",
    "sdf_v2.show()\n",
    "\n",
    "sdf_v3 = sdf.withColumn(\"Captial Name\", upperUDF(\"name\"))\n",
    "sdf_v3.show()\n"
   ]
  },
  {
   "cell_type": "code",
   "execution_count": 0,
   "metadata": {
    "application/vnd.databricks.v1+cell": {
     "cellMetadata": {
      "byteLimit": 2048000,
      "rowLimit": 10000
     },
     "inputWidgets": {},
     "nuid": "6cc8ae94-69ac-4d7d-a690-e878b46bd501",
     "showTitle": false,
     "tableResultSettingsMap": {},
     "title": ""
    }
   },
   "outputs": [],
   "source": [
    "# 예제 3: pyspark.sql.functions.pandas_udf\n",
    "# 가장 성능이 좋은데 내부적으로 Partition 단위로 Pandas 엔진을 사용\n",
    "# 그래서 입력과 출력이 모두 판다스 시리즈이어야함\n",
    "from pyspark.sql.functions import pandas_udf"
   ]
  },
  {
   "cell_type": "code",
   "execution_count": 0,
   "metadata": {
    "application/vnd.databricks.v1+cell": {
     "cellMetadata": {
      "byteLimit": 2048000,
      "rowLimit": 10000
     },
     "inputWidgets": {},
     "nuid": "207c50b1-afee-4f1f-b915-83b5e0db6f48",
     "showTitle": false,
     "tableResultSettingsMap": {},
     "title": ""
    }
   },
   "outputs": [
    {
     "output_type": "stream",
     "name": "stdout",
     "output_type": "stream",
     "text": [
      "+---+-------------+------+-------------+\n| id|         name|salary| Capital Name|\n+---+-------------+------+-------------+\n|  1| luka doncici|   100| LUKA DONCICI|\n|  2| lebron james|   200| LEBRON JAMES|\n|  3|austin reaves|   300|AUSTIN REAVES|\n+---+-------------+------+-------------+\n\n+---+-------------+-------------+\n| id|         name| Capital Name|\n+---+-------------+-------------+\n|  1| luka doncici| LUKA DONCICI|\n|  2| lebron james| LEBRON JAMES|\n|  3|austin reaves|AUSTIN REAVES|\n+---+-------------+-------------+\n\n"
     ]
    }
   ],
   "source": [
    "@pandas_udf(StringType())\n",
    "def upper_udf2(s: pd.Series) -> pd.Series:\n",
    "   return s.str.upper()\n",
    "\n",
    "upperUDF = spark.udf.register(\"upper_udf\", upper_udf2)\n",
    "spark.sql('SELECT *, upper_udf(name) `Capital Name` FROM sdf').show()\n",
    "sdf.select(\"id\", \"name\", upperUDF(\"name\").alias(\"Capital Name\")).show()"
   ]
  },
  {
   "cell_type": "code",
   "execution_count": 0,
   "metadata": {
    "application/vnd.databricks.v1+cell": {
     "cellMetadata": {
      "byteLimit": 2048000,
      "rowLimit": 10000
     },
     "inputWidgets": {},
     "nuid": "9026f111-e8e1-408e-9e12-ab328072ef97",
     "showTitle": false,
     "tableResultSettingsMap": {},
     "title": ""
    }
   },
   "outputs": [
    {
     "output_type": "stream",
     "name": "stdout",
     "output_type": "stream",
     "text": [
      "+---+-------------+------+----------+\n| id|         name|salary|New Salary|\n+---+-------------+------+----------+\n|  1| luka doncici|   100|     110.0|\n|  2| lebron james|   200|     220.0|\n|  3|austin reaves|   300|     330.0|\n+---+-------------+------+----------+\n\n+---+-------------+------+----------+\n| id|         name|salary|New Salary|\n+---+-------------+------+----------+\n|  1| luka doncici|   100|     110.0|\n|  2| lebron james|   200|     220.0|\n|  3|austin reaves|   300|     330.0|\n+---+-------------+------+----------+\n\n"
     ]
    }
   ],
   "source": [
    "@pandas_udf(FloatType())\n",
    "def multiply_110percent(v: pd.Series) -> pd.Series:\n",
    "   return v*1.1\n",
    "\n",
    "multiply110percentUDF = spark.udf.register('multiply_110percent', multiply_110percent)\n",
    "spark.sql('SELECT *, multiply_110percent(salary) `New Salary` FROM sdf').show()\n",
    "sdf.select(\"id\", \"name\", \"salary\", multiply110percentUDF(\"salary\").alias(\"New Salary\")).show()"
   ]
  },
  {
   "cell_type": "markdown",
   "metadata": {
    "application/vnd.databricks.v1+cell": {
     "cellMetadata": {},
     "inputWidgets": {},
     "nuid": "7e2e550d-5977-427a-9f89-71d7f0741aed",
     "showTitle": false,
     "tableResultSettingsMap": {},
     "title": ""
    }
   },
   "source": [
    "# 본격 학습"
   ]
  },
  {
   "cell_type": "markdown",
   "metadata": {
    "application/vnd.databricks.v1+cell": {
     "cellMetadata": {
      "byteLimit": 2048000,
      "rowLimit": 10000
     },
     "inputWidgets": {},
     "nuid": "95db070d-a070-42b2-9368-e6347b266dc6",
     "showTitle": false,
     "tableResultSettingsMap": {},
     "title": ""
    }
   },
   "source": [
    "## 테스트 데이터 생성"
   ]
  },
  {
   "cell_type": "code",
   "execution_count": 0,
   "metadata": {
    "application/vnd.databricks.v1+cell": {
     "cellMetadata": {
      "byteLimit": 2048000,
      "rowLimit": 10000
     },
     "inputWidgets": {},
     "nuid": "2d1d0473-e0ed-4816-9bf6-52629a934d2a",
     "showTitle": false,
     "tableResultSettingsMap": {},
     "title": ""
    }
   },
   "outputs": [
    {
     "output_type": "stream",
     "name": "stdout",
     "output_type": "stream",
     "text": [
      "===== Pandas 데이터프레임 =====\n  name  age  salary\n0  김철수   25   50000\n1  이영희   30   60000\n2  박민준   22   45000\n3  최지연   35   70000\n4  정현우   28   55000\n\n===== Spark 데이터프레임 =====\n+------+---+------+\n|  name|age|salary|\n+------+---+------+\n|김철수| 25| 50000|\n|이영희| 30| 60000|\n|박민준| 22| 45000|\n|최지연| 35| 70000|\n|정현우| 28| 55000|\n+------+---+------+\n\n"
     ]
    }
   ],
   "source": [
    "# 샘플 데이터 생성\n",
    "data = {\n",
    "    'name': ['김철수', '이영희', '박민준', '최지연', '정현우'],\n",
    "    'age': [25, 30, 22, 35, 28],\n",
    "    'salary': [50000, 60000, 45000, 70000, 55000]\n",
    "}\n",
    "\n",
    "# Pandas 데이터프레임 생성\n",
    "pdf = pd.DataFrame(data)\n",
    "print(\"===== Pandas 데이터프레임 =====\")\n",
    "print(pdf)\n",
    "\n",
    "# Spark 데이터프레임 생성\n",
    "sdf = spark.createDataFrame(pdf)\n",
    "print(\"\\n===== Spark 데이터프레임 =====\")\n",
    "sdf.show()"
   ]
  },
  {
   "cell_type": "markdown",
   "metadata": {
    "application/vnd.databricks.v1+cell": {
     "cellMetadata": {
      "byteLimit": 2048000,
      "rowLimit": 10000
     },
     "inputWidgets": {},
     "nuid": "d32105fe-7077-47bf-b1ca-4a8ba83cc21a",
     "showTitle": false,
     "tableResultSettingsMap": {},
     "title": ""
    }
   },
   "source": [
    "## 예제 1: 간단한 데이터프레임 조작 및 apply/lambda 함수 사용\n",
    "급여 일괄 10% 인상 계산"
   ]
  },
  {
   "cell_type": "code",
   "execution_count": 0,
   "metadata": {
    "application/vnd.databricks.v1+cell": {
     "cellMetadata": {
      "byteLimit": 2048000,
      "rowLimit": 10000
     },
     "inputWidgets": {},
     "nuid": "d17fb18d-2a82-4074-be72-b10da52a215e",
     "showTitle": false,
     "tableResultSettingsMap": {},
     "title": ""
    }
   },
   "outputs": [
    {
     "output_type": "stream",
     "name": "stdout",
     "output_type": "stream",
     "text": [
      "Pandas로 구현:\n"
     ]
    },
    {
     "output_type": "execute_result",
     "data": {
      "text/html": [
       "<div>\n",
       "<style scoped>\n",
       "    .dataframe tbody tr th:only-of-type {\n",
       "        vertical-align: middle;\n",
       "    }\n",
       "\n",
       "    .dataframe tbody tr th {\n",
       "        vertical-align: top;\n",
       "    }\n",
       "\n",
       "    .dataframe thead th {\n",
       "        text-align: right;\n",
       "    }\n",
       "</style>\n",
       "<table border=\"1\" class=\"dataframe\">\n",
       "  <thead>\n",
       "    <tr style=\"text-align: right;\">\n",
       "      <th></th>\n",
       "      <th>name</th>\n",
       "      <th>age</th>\n",
       "      <th>salary</th>\n",
       "      <th>increased_salary</th>\n",
       "    </tr>\n",
       "  </thead>\n",
       "  <tbody>\n",
       "    <tr>\n",
       "      <th>0</th>\n",
       "      <td>김철수</td>\n",
       "      <td>25</td>\n",
       "      <td>50000</td>\n",
       "      <td>55000.0</td>\n",
       "    </tr>\n",
       "    <tr>\n",
       "      <th>1</th>\n",
       "      <td>이영희</td>\n",
       "      <td>30</td>\n",
       "      <td>60000</td>\n",
       "      <td>66000.0</td>\n",
       "    </tr>\n",
       "    <tr>\n",
       "      <th>2</th>\n",
       "      <td>박민준</td>\n",
       "      <td>22</td>\n",
       "      <td>45000</td>\n",
       "      <td>49500.0</td>\n",
       "    </tr>\n",
       "    <tr>\n",
       "      <th>3</th>\n",
       "      <td>최지연</td>\n",
       "      <td>35</td>\n",
       "      <td>70000</td>\n",
       "      <td>77000.0</td>\n",
       "    </tr>\n",
       "    <tr>\n",
       "      <th>4</th>\n",
       "      <td>정현우</td>\n",
       "      <td>28</td>\n",
       "      <td>55000</td>\n",
       "      <td>60500.0</td>\n",
       "    </tr>\n",
       "  </tbody>\n",
       "</table>\n",
       "</div>"
      ],
      "text/plain": [
       "  name  age  salary  increased_salary\n",
       "0  김철수   25   50000           55000.0\n",
       "1  이영희   30   60000           66000.0\n",
       "2  박민준   22   45000           49500.0\n",
       "3  최지연   35   70000           77000.0\n",
       "4  정현우   28   55000           60500.0"
      ]
     },
     "execution_count": 3,
     "metadata": {},
     "output_type": "execute_result"
    }
   ],
   "source": [
    "# Pandas: apply/lambda를 사용하여 급여 10% 인상\n",
    "# 기본값은 axis=0으로 열 방향\n",
    "print(\"Pandas로 구현:\")\n",
    "pdf['increased_salary'] = pdf['salary'].apply(lambda x: x * 1.1)\n",
    "pdf.head(5)"
   ]
  },
  {
   "cell_type": "code",
   "execution_count": 0,
   "metadata": {
    "application/vnd.databricks.v1+cell": {
     "cellMetadata": {
      "byteLimit": 2048000,
      "rowLimit": 10000
     },
     "inputWidgets": {},
     "nuid": "b3d43ae7-fe8f-44ac-8042-b1a411000741",
     "showTitle": false,
     "tableResultSettingsMap": {},
     "title": ""
    }
   },
   "outputs": [
    {
     "output_type": "execute_result",
     "data": {
      "text/html": [
       "<div>\n",
       "<style scoped>\n",
       "    .dataframe tbody tr th:only-of-type {\n",
       "        vertical-align: middle;\n",
       "    }\n",
       "\n",
       "    .dataframe tbody tr th {\n",
       "        vertical-align: top;\n",
       "    }\n",
       "\n",
       "    .dataframe thead th {\n",
       "        text-align: right;\n",
       "    }\n",
       "</style>\n",
       "<table border=\"1\" class=\"dataframe\">\n",
       "  <thead>\n",
       "    <tr style=\"text-align: right;\">\n",
       "      <th></th>\n",
       "      <th>name</th>\n",
       "      <th>age</th>\n",
       "      <th>salary</th>\n",
       "      <th>increased_salary</th>\n",
       "      <th>increased_salary_v2</th>\n",
       "    </tr>\n",
       "  </thead>\n",
       "  <tbody>\n",
       "    <tr>\n",
       "      <th>0</th>\n",
       "      <td>김철수</td>\n",
       "      <td>25</td>\n",
       "      <td>50000</td>\n",
       "      <td>55000.0</td>\n",
       "      <td>55000.0</td>\n",
       "    </tr>\n",
       "    <tr>\n",
       "      <th>1</th>\n",
       "      <td>이영희</td>\n",
       "      <td>30</td>\n",
       "      <td>60000</td>\n",
       "      <td>66000.0</td>\n",
       "      <td>66000.0</td>\n",
       "    </tr>\n",
       "    <tr>\n",
       "      <th>2</th>\n",
       "      <td>박민준</td>\n",
       "      <td>22</td>\n",
       "      <td>45000</td>\n",
       "      <td>49500.0</td>\n",
       "      <td>49500.0</td>\n",
       "    </tr>\n",
       "    <tr>\n",
       "      <th>3</th>\n",
       "      <td>최지연</td>\n",
       "      <td>35</td>\n",
       "      <td>70000</td>\n",
       "      <td>77000.0</td>\n",
       "      <td>77000.0</td>\n",
       "    </tr>\n",
       "    <tr>\n",
       "      <th>4</th>\n",
       "      <td>정현우</td>\n",
       "      <td>28</td>\n",
       "      <td>55000</td>\n",
       "      <td>60500.0</td>\n",
       "      <td>60500.0</td>\n",
       "    </tr>\n",
       "  </tbody>\n",
       "</table>\n",
       "</div>"
      ],
      "text/plain": [
       "  name  age  salary  increased_salary  increased_salary_v2\n",
       "0  김철수   25   50000           55000.0              55000.0\n",
       "1  이영희   30   60000           66000.0              66000.0\n",
       "2  박민준   22   45000           49500.0              49500.0\n",
       "3  최지연   35   70000           77000.0              77000.0\n",
       "4  정현우   28   55000           60500.0              60500.0"
      ]
     },
     "execution_count": 4,
     "metadata": {},
     "output_type": "execute_result"
    }
   ],
   "source": [
    "def multiply_110percent(x):\n",
    "    return x*1.1\n",
    "\n",
    "pdf['increased_salary_v2'] = pdf['salary'].apply(multiply_110percent)\n",
    "pdf.head(5)"
   ]
  },
  {
   "cell_type": "code",
   "execution_count": 0,
   "metadata": {
    "application/vnd.databricks.v1+cell": {
     "cellMetadata": {
      "byteLimit": 2048000,
      "rowLimit": 10000
     },
     "inputWidgets": {},
     "nuid": "c5648e4f-a175-476f-859a-59d51a069411",
     "showTitle": false,
     "tableResultSettingsMap": {},
     "title": ""
    }
   },
   "outputs": [
    {
     "output_type": "execute_result",
     "data": {
      "text/html": [
       "<div>\n",
       "<style scoped>\n",
       "    .dataframe tbody tr th:only-of-type {\n",
       "        vertical-align: middle;\n",
       "    }\n",
       "\n",
       "    .dataframe tbody tr th {\n",
       "        vertical-align: top;\n",
       "    }\n",
       "\n",
       "    .dataframe thead th {\n",
       "        text-align: right;\n",
       "    }\n",
       "</style>\n",
       "<table border=\"1\" class=\"dataframe\">\n",
       "  <thead>\n",
       "    <tr style=\"text-align: right;\">\n",
       "      <th></th>\n",
       "      <th>index</th>\n",
       "      <th>range</th>\n",
       "    </tr>\n",
       "  </thead>\n",
       "  <tbody>\n",
       "    <tr>\n",
       "      <th>0</th>\n",
       "      <td>age</td>\n",
       "      <td>13</td>\n",
       "    </tr>\n",
       "    <tr>\n",
       "      <th>1</th>\n",
       "      <td>salary</td>\n",
       "      <td>25000</td>\n",
       "    </tr>\n",
       "  </tbody>\n",
       "</table>\n",
       "</div>"
      ],
      "text/plain": [
       "    index  range\n",
       "0     age     13\n",
       "1  salary  25000"
      ]
     },
     "execution_count": 5,
     "metadata": {},
     "output_type": "execute_result"
    }
   ],
   "source": [
    "pdf[[\"age\", \"salary\"]].apply(lambda col: col.max() - col.min()).reset_index(name=\"range\")"
   ]
  },
  {
   "cell_type": "code",
   "execution_count": 0,
   "metadata": {
    "application/vnd.databricks.v1+cell": {
     "cellMetadata": {
      "byteLimit": 2048000,
      "rowLimit": 10000
     },
     "inputWidgets": {},
     "nuid": "ff2528e5-ad6d-44ce-aa0e-0009c1565c82",
     "showTitle": false,
     "tableResultSettingsMap": {},
     "title": ""
    }
   },
   "outputs": [
    {
     "output_type": "stream",
     "name": "stdout",
     "output_type": "stream",
     "text": [
      "\nSpark로 구현:\n+------+---+------+-----------------+\n|  name|age|salary| increased_salary|\n+------+---+------+-----------------+\n|김철수| 25| 50000|55000.00000000001|\n|이영희| 30| 60000|          66000.0|\n|박민준| 22| 45000|49500.00000000001|\n|최지연| 35| 70000|          77000.0|\n|정현우| 28| 55000|60500.00000000001|\n+------+---+------+-----------------+\n\n"
     ]
    }
   ],
   "source": [
    "from pyspark.sql.functions import *\n",
    "\n",
    "# Spark: col() 함수와 수식을 사용\n",
    "print(\"\\nSpark로 구현:\")\n",
    "sdf = sdf.withColumn('increased_salary', col('salary') * 1.1)\n",
    "sdf.show()"
   ]
  },
  {
   "cell_type": "code",
   "execution_count": 0,
   "metadata": {
    "application/vnd.databricks.v1+cell": {
     "cellMetadata": {
      "byteLimit": 2048000,
      "rowLimit": 10000
     },
     "inputWidgets": {},
     "nuid": "16489f7a-a81d-449e-b52f-1b335f4d0fe3",
     "showTitle": false,
     "tableResultSettingsMap": {},
     "title": ""
    }
   },
   "outputs": [
    {
     "output_type": "stream",
     "name": "stdout",
     "output_type": "stream",
     "text": [
      "+------+---+------+----------------+\n|  name|age|salary|increased_salary|\n+------+---+------+----------------+\n|김철수| 25| 50000|         55000.0|\n|이영희| 30| 60000|         66000.0|\n|박민준| 22| 45000|         49500.0|\n|최지연| 35| 70000|         77000.0|\n|정현우| 28| 55000|         60500.0|\n+------+---+------+----------------+\n\n+------+---+------+----------------+\n|  name|age|salary|increased_salary|\n+------+---+------+----------------+\n|김철수| 25| 50000|         55000.0|\n|이영희| 30| 60000|         66000.0|\n|박민준| 22| 45000|         49500.0|\n|최지연| 35| 70000|         77000.0|\n|정현우| 28| 55000|         60500.0|\n+------+---+------+----------------+\n\n"
     ]
    }
   ],
   "source": [
    "@pandas_udf(FloatType())\n",
    "def multiply_110percent(v: pd.Series) -> pd.Series:\n",
    "   return v*1.1\n",
    "\n",
    "sdf.createOrReplaceTempView(\"sdf\")\n",
    "multiply110percentUDF = spark.udf.register('multiply_110percent', multiply_110percent)\n",
    "spark.sql('SELECT name, age, salary, multiply_110percent(salary) `increased_salary` FROM sdf').show()\n",
    "sdf.select(\"name\", \"age\", \"salary\", multiply110percentUDF(\"salary\").alias(\"increased_salary\")).show()"
   ]
  },
  {
   "cell_type": "code",
   "execution_count": 0,
   "metadata": {
    "application/vnd.databricks.v1+cell": {
     "cellMetadata": {
      "byteLimit": 2048000,
      "rowLimit": 10000
     },
     "inputWidgets": {},
     "nuid": "32d3c9e5-7b6d-496d-81a9-09d0b411b331",
     "showTitle": false,
     "tableResultSettingsMap": {},
     "title": ""
    }
   },
   "outputs": [
    {
     "output_type": "stream",
     "name": "stdout",
     "output_type": "stream",
     "text": [
      "+---+------+\n|age|salary|\n+---+------+\n| 13| 25000|\n+---+------+\n\n"
     ]
    }
   ],
   "source": [
    "\n",
    "spark.sql(\"\"\"\n",
    "    SELECT\n",
    "        (MAX(age)-MIN(age)) as age,\n",
    "        (MAX(salary)-MIN(salary)) as salary\n",
    "FROM sdf\n",
    "\"\"\").show()"
   ]
  },
  {
   "cell_type": "code",
   "execution_count": 0,
   "metadata": {
    "application/vnd.databricks.v1+cell": {
     "cellMetadata": {
      "byteLimit": 2048000,
      "rowLimit": 10000
     },
     "inputWidgets": {},
     "nuid": "d08c3b0d-6820-495a-8995-65dece705d59",
     "showTitle": false,
     "tableResultSettingsMap": {},
     "title": ""
    }
   },
   "outputs": [
    {
     "output_type": "stream",
     "name": "stdout",
     "output_type": "stream",
     "text": [
      "+------+-----+\n| index|range|\n+------+-----+\n|   age|   13|\n|salary|25000|\n+------+-----+\n\n"
     ]
    }
   ],
   "source": [
    "spark.sql(\"\"\"\n",
    "    SELECT\n",
    "        'age' as index,\n",
    "        (MAX(age)-MIN(age)) as range\n",
    "    FROM sdf\n",
    "\n",
    "    UNION\n",
    "\n",
    "    SELECT\n",
    "        'salary',\n",
    "        (MAX(salary)-MIN(salary))\n",
    "    FROM sdf\n",
    "\"\"\").show()"
   ]
  },
  {
   "cell_type": "markdown",
   "metadata": {
    "application/vnd.databricks.v1+cell": {
     "cellMetadata": {
      "byteLimit": 2048000,
      "rowLimit": 10000
     },
     "inputWidgets": {},
     "nuid": "3f587f7d-6d69-4f2e-ab20-720817c7563b",
     "showTitle": false,
     "tableResultSettingsMap": {},
     "title": ""
    }
   },
   "source": [
    "## 예제 2: 복잡한 로직을 적용한 컬럼 추가\n",
    "\n",
    "나이 기반 카테고리 추가: 청년, 중년, 장년"
   ]
  },
  {
   "cell_type": "code",
   "execution_count": 0,
   "metadata": {
    "application/vnd.databricks.v1+cell": {
     "cellMetadata": {
      "byteLimit": 2048000,
      "rowLimit": 10000
     },
     "inputWidgets": {},
     "nuid": "3d1ba8c3-afac-420a-af1c-399d3e46a843",
     "showTitle": false,
     "tableResultSettingsMap": {},
     "title": ""
    }
   },
   "outputs": [
    {
     "output_type": "stream",
     "name": "stdout",
     "output_type": "stream",
     "text": [
      "Pandas로 구현:\n"
     ]
    },
    {
     "output_type": "execute_result",
     "data": {
      "text/html": [
       "<div>\n",
       "<style scoped>\n",
       "    .dataframe tbody tr th:only-of-type {\n",
       "        vertical-align: middle;\n",
       "    }\n",
       "\n",
       "    .dataframe tbody tr th {\n",
       "        vertical-align: top;\n",
       "    }\n",
       "\n",
       "    .dataframe thead th {\n",
       "        text-align: right;\n",
       "    }\n",
       "</style>\n",
       "<table border=\"1\" class=\"dataframe\">\n",
       "  <thead>\n",
       "    <tr style=\"text-align: right;\">\n",
       "      <th></th>\n",
       "      <th>name</th>\n",
       "      <th>age</th>\n",
       "      <th>salary</th>\n",
       "      <th>increased_salary</th>\n",
       "      <th>increased_salary_v2</th>\n",
       "      <th>age_category</th>\n",
       "    </tr>\n",
       "  </thead>\n",
       "  <tbody>\n",
       "    <tr>\n",
       "      <th>0</th>\n",
       "      <td>김철수</td>\n",
       "      <td>25</td>\n",
       "      <td>50000</td>\n",
       "      <td>55000.0</td>\n",
       "      <td>55000.0</td>\n",
       "      <td>청년</td>\n",
       "    </tr>\n",
       "    <tr>\n",
       "      <th>1</th>\n",
       "      <td>이영희</td>\n",
       "      <td>30</td>\n",
       "      <td>60000</td>\n",
       "      <td>66000.0</td>\n",
       "      <td>66000.0</td>\n",
       "      <td>청년</td>\n",
       "    </tr>\n",
       "    <tr>\n",
       "      <th>2</th>\n",
       "      <td>박민준</td>\n",
       "      <td>22</td>\n",
       "      <td>45000</td>\n",
       "      <td>49500.0</td>\n",
       "      <td>49500.0</td>\n",
       "      <td>청년</td>\n",
       "    </tr>\n",
       "    <tr>\n",
       "      <th>3</th>\n",
       "      <td>최지연</td>\n",
       "      <td>35</td>\n",
       "      <td>70000</td>\n",
       "      <td>77000.0</td>\n",
       "      <td>77000.0</td>\n",
       "      <td>중년</td>\n",
       "    </tr>\n",
       "    <tr>\n",
       "      <th>4</th>\n",
       "      <td>정현우</td>\n",
       "      <td>28</td>\n",
       "      <td>55000</td>\n",
       "      <td>60500.0</td>\n",
       "      <td>60500.0</td>\n",
       "      <td>청년</td>\n",
       "    </tr>\n",
       "  </tbody>\n",
       "</table>\n",
       "</div>"
      ],
      "text/plain": [
       "  name  age  salary  increased_salary  increased_salary_v2 age_category\n",
       "0  김철수   25   50000           55000.0              55000.0           청년\n",
       "1  이영희   30   60000           66000.0              66000.0           청년\n",
       "2  박민준   22   45000           49500.0              49500.0           청년\n",
       "3  최지연   35   70000           77000.0              77000.0           중년\n",
       "4  정현우   28   55000           60500.0              60500.0           청년"
      ]
     },
     "execution_count": 12,
     "metadata": {},
     "output_type": "execute_result"
    }
   ],
   "source": [
    "# Pandas: apply/lambda를 사용하여 나이 기반 카테고리 추가\n",
    "print(\"Pandas로 구현:\")\n",
    "def age_category(age):\n",
    "    if age < 35:\n",
    "        return \"청년\"\n",
    "    elif age < 55:\n",
    "        return \"중년\"\n",
    "    else:\n",
    "        return \"장년\"\n",
    "\n",
    "pdf['age_category'] = pdf['age'].apply(age_category)\n",
    "pdf.head()"
   ]
  },
  {
   "cell_type": "code",
   "execution_count": 0,
   "metadata": {
    "application/vnd.databricks.v1+cell": {
     "cellMetadata": {
      "byteLimit": 2048000,
      "rowLimit": 10000
     },
     "inputWidgets": {},
     "nuid": "d8961bc4-2ac6-40e1-8d70-c99978596df3",
     "showTitle": false,
     "tableResultSettingsMap": {},
     "title": ""
    }
   },
   "outputs": [
    {
     "output_type": "stream",
     "name": "stdout",
     "output_type": "stream",
     "text": [
      "\nSpark로 구현:\n+------+---+------+-----------------+------------+---------------+---------------+\n|  name|age|salary| increased_salary|age_category|age_category_v2|age_category_v3|\n+------+---+------+-----------------+------------+---------------+---------------+\n|김철수| 25| 50000|55000.00000000001|        청년|           청년|           청년|\n|이영희| 30| 60000|          66000.0|        청년|           청년|           청년|\n|박민준| 22| 45000|49500.00000000001|        청년|           청년|           청년|\n|최지연| 35| 70000|          77000.0|        중년|           중년|           중년|\n|정현우| 28| 55000|60500.00000000001|        청년|           청년|           청년|\n+------+---+------+-----------------+------------+---------------+---------------+\n\n"
     ]
    }
   ],
   "source": [
    "# Spark: 일반 UDF(User Defined Function) 사용\n",
    "print(\"\\nSpark로 구현:\")\n",
    "@udf(StringType())\n",
    "def age_category_udf(age):\n",
    "    if age < 35:\n",
    "        return \"청년\"\n",
    "    elif age < 55:\n",
    "        return \"중년\"\n",
    "    else:\n",
    "        return \"장년\"\n",
    "\n",
    "sdf = sdf.withColumn('age_category', age_category_udf(col('age')))\n",
    "sdf = sdf.withColumn('age_category_v2', age_category_udf(sdf.age))\n",
    "sdf = sdf.withColumn('age_category_v3', age_category_udf(expr(\"age\")))\n",
    "\n",
    "sdf.show()"
   ]
  },
  {
   "cell_type": "code",
   "execution_count": 0,
   "metadata": {
    "application/vnd.databricks.v1+cell": {
     "cellMetadata": {
      "byteLimit": 2048000,
      "rowLimit": 10000
     },
     "inputWidgets": {},
     "nuid": "5664c8af-5022-40fb-88ae-921fb666781c",
     "showTitle": false,
     "tableResultSettingsMap": {},
     "title": ""
    }
   },
   "outputs": [
    {
     "output_type": "stream",
     "name": "stdout",
     "output_type": "stream",
     "text": [
      "+------+---+------+-----------------+------------+---------------+---------------+\n|  name|age|salary| increased_salary|age_category|age_category_v2|age_category_v3|\n+------+---+------+-----------------+------------+---------------+---------------+\n|김철수| 25| 50000|55000.00000000001|        청년|           청년|           청년|\n|이영희| 30| 60000|          66000.0|        청년|           청년|           청년|\n|박민준| 22| 45000|49500.00000000001|        청년|           청년|           청년|\n|최지연| 35| 70000|          77000.0|        중년|           중년|           중년|\n|정현우| 28| 55000|60500.00000000001|        청년|           청년|           청년|\n+------+---+------+-----------------+------------+---------------+---------------+\n\n"
     ]
    }
   ],
   "source": [
    "# Spark: Pandas UDF(User Defined Function) 사용\n",
    "@pandas_udf(StringType())  \n",
    "def age_category_pandas_udf(age_series: pd.Series) -> pd.Series:\n",
    "    return age_series.apply(lambda age: \"청년\" if age < 35 else \"중년\" if age < 55 else \"장년\")\n",
    "\n",
    "\n",
    "sdf = sdf.withColumn('age_category', age_category_pandas_udf(col('age')))\n",
    "sdf = sdf.withColumn('age_category_v2', age_category_pandas_udf(sdf.age))\n",
    "sdf = sdf.withColumn('age_category_v3', age_category_pandas_udf(expr(\"age\")))\n",
    "\n",
    "sdf.show()"
   ]
  }
 ],
 "metadata": {
  "application/vnd.databricks.v1+notebook": {
   "computePreferences": null,
   "dashboards": [],
   "environmentMetadata": {
    "base_environment": "",
    "environment_version": "1"
   },
   "inputWidgetPreferences": null,
   "language": "python",
   "notebookMetadata": {
    "pythonIndentUnit": 4
   },
   "notebookName": "함수형 데이터 변환 패턴 마스터하기",
   "widgets": {}
  }
 },
 "nbformat": 4,
 "nbformat_minor": 0
}