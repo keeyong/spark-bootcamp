{
 "cells": [
  {
   "cell_type": "markdown",
   "metadata": {
    "application/vnd.databricks.v1+cell": {
     "cellMetadata": {},
     "inputWidgets": {},
     "nuid": "4a31362e-30fd-411e-a824-41a4edc061f6",
     "showTitle": false,
     "tableResultSettingsMap": {},
     "title": ""
    },
    "id": "d3Qhs8MwuCS1"
   },
   "source": [
    "## 조인 실습 테이블 2개 셋업"
   ]
  },
  {
   "cell_type": "code",
   "execution_count": 0,
   "metadata": {
    "application/vnd.databricks.v1+cell": {
     "cellMetadata": {
      "byteLimit": 2048000,
      "rowLimit": 10000
     },
     "inputWidgets": {},
     "nuid": "728be057-cab2-4d20-9355-3fb2fa5dd89b",
     "showTitle": false,
     "tableResultSettingsMap": {},
     "title": ""
    },
    "id": "npw3MGoWuFH8"
   },
   "outputs": [],
   "source": [
    "vital = [\n",
    "     { 'UserID': 100, 'VitalID': 1, 'Date': '2020-01-01', 'Weight': 75 },\n",
    "     { 'UserID': 100, 'VitalID': 2, 'Date': '2020-01-02', 'Weight': 78 },\n",
    "     { 'UserID': 101, 'VitalID': 3, 'Date': '2020-01-01', 'Weight': 90 },\n",
    "     { 'UserID': 101, 'VitalID': 4, 'Date': '2020-01-02', 'Weight': 95 },\n",
    "]\n",
    "\n",
    "alert = [\n",
    "    { 'AlertID': 1, 'VitalID': 4, 'AlertType': 'WeightIncrease', 'Date': '2020-01-01', 'UserID': 101},\n",
    "    { 'AlertID': 2, 'VitalID': None, 'AlertType': 'MissingVital', 'Date': '2020-01-04', 'UserID': 100},\n",
    "    { 'AlertID': 3, 'VitalID': None, 'AlertType': 'MissingVital', 'Date': '2020-01-05', 'UserID': 101}\n",
    "]"
   ]
  },
  {
   "cell_type": "code",
   "execution_count": 0,
   "metadata": {
    "application/vnd.databricks.v1+cell": {
     "cellMetadata": {
      "byteLimit": 2048000,
      "rowLimit": 10000
     },
     "inputWidgets": {},
     "nuid": "0b77787d-e9c4-44d6-bd30-8337f884474d",
     "showTitle": false,
     "tableResultSettingsMap": {},
     "title": ""
    },
    "id": "MHjArqA72U1h"
   },
   "outputs": [],
   "source": [
    "df_vital = spark.createDataFrame(vital)\n",
    "df_alert = spark.createDataFrame(alert)"
   ]
  },
  {
   "cell_type": "code",
   "execution_count": 0,
   "metadata": {
    "application/vnd.databricks.v1+cell": {
     "cellMetadata": {
      "byteLimit": 2048000,
      "rowLimit": 10000
     },
     "inputWidgets": {},
     "nuid": "11865751-0d9e-4fde-8c39-34814b4b0120",
     "showTitle": false,
     "tableResultSettingsMap": {},
     "title": ""
    },
    "colab": {
     "base_uri": "https://localhost:8080/"
    },
    "id": "sZBsD0V62nGO",
    "outputId": "a216a61e-6ed1-4ebc-87c4-d3c78f89b5d6"
   },
   "outputs": [
    {
     "output_type": "stream",
     "name": "stdout",
     "output_type": "stream",
     "text": [
      "root\n |-- Date: string (nullable = true)\n |-- UserID: long (nullable = true)\n |-- VitalID: long (nullable = true)\n |-- Weight: long (nullable = true)\n\n"
     ]
    }
   ],
   "source": [
    "df_vital.printSchema()"
   ]
  },
  {
   "cell_type": "code",
   "execution_count": 0,
   "metadata": {
    "application/vnd.databricks.v1+cell": {
     "cellMetadata": {
      "byteLimit": 2048000,
      "rowLimit": 10000
     },
     "inputWidgets": {},
     "nuid": "fa1daeaf-7934-423d-87f5-b37cea54c6e9",
     "showTitle": false,
     "tableResultSettingsMap": {},
     "title": ""
    }
   },
   "outputs": [
    {
     "output_type": "stream",
     "name": "stdout",
     "output_type": "stream",
     "text": [
      "+----------+------+-------+------+\n|      Date|UserID|VitalID|Weight|\n+----------+------+-------+------+\n|2020-01-01|   100|      1|    75|\n|2020-01-02|   100|      2|    78|\n|2020-01-01|   101|      3|    90|\n|2020-01-02|   101|      4|    95|\n+----------+------+-------+------+\n\n"
     ]
    }
   ],
   "source": [
    "df_vital.show()"
   ]
  },
  {
   "cell_type": "code",
   "execution_count": 0,
   "metadata": {
    "application/vnd.databricks.v1+cell": {
     "cellMetadata": {
      "byteLimit": 2048000,
      "rowLimit": 10000
     },
     "inputWidgets": {},
     "nuid": "df7fd4d2-e96c-4fd2-9394-428836afceda",
     "showTitle": false,
     "tableResultSettingsMap": {},
     "title": ""
    },
    "colab": {
     "base_uri": "https://localhost:8080/"
    },
    "id": "cAolvJH1vyWb",
    "outputId": "d019ff2d-9cb1-4ba8-e323-9367314e30ad"
   },
   "outputs": [
    {
     "output_type": "stream",
     "name": "stdout",
     "output_type": "stream",
     "text": [
      "root\n |-- AlertID: long (nullable = true)\n |-- AlertType: string (nullable = true)\n |-- Date: string (nullable = true)\n |-- UserID: long (nullable = true)\n |-- VitalID: long (nullable = true)\n\n"
     ]
    }
   ],
   "source": [
    "df_alert.printSchema()"
   ]
  },
  {
   "cell_type": "code",
   "execution_count": 0,
   "metadata": {
    "application/vnd.databricks.v1+cell": {
     "cellMetadata": {
      "byteLimit": 2048000,
      "rowLimit": 10000
     },
     "inputWidgets": {},
     "nuid": "510168f2-7a8e-4f52-891f-f625a4b8e086",
     "showTitle": false,
     "tableResultSettingsMap": {},
     "title": ""
    }
   },
   "outputs": [
    {
     "output_type": "stream",
     "name": "stdout",
     "output_type": "stream",
     "text": [
      "+-------+--------------+----------+------+-------+\n|AlertID|     AlertType|      Date|UserID|VitalID|\n+-------+--------------+----------+------+-------+\n|      1|WeightIncrease|2020-01-01|   101|      4|\n|      2|  MissingVital|2020-01-04|   100|   null|\n|      3|  MissingVital|2020-01-05|   101|   null|\n+-------+--------------+----------+------+-------+\n\n"
     ]
    }
   ],
   "source": [
    "df_alert.show()"
   ]
  },
  {
   "cell_type": "markdown",
   "metadata": {
    "application/vnd.databricks.v1+cell": {
     "cellMetadata": {},
     "inputWidgets": {},
     "nuid": "2bb761d8-a081-48a7-b027-44ac39e11c35",
     "showTitle": false,
     "tableResultSettingsMap": {},
     "title": ""
    },
    "id": "N7s1BEG529k0"
   },
   "source": [
    "## DataFrame을 사용해서 VitalID로 JOIN하기"
   ]
  },
  {
   "cell_type": "code",
   "execution_count": 0,
   "metadata": {
    "application/vnd.databricks.v1+cell": {
     "cellMetadata": {
      "byteLimit": 2048000,
      "rowLimit": 10000
     },
     "inputWidgets": {},
     "nuid": "49d9a61b-097d-488b-92da-eda5cd7eef69",
     "showTitle": false,
     "tableResultSettingsMap": {},
     "title": ""
    },
    "colab": {
     "base_uri": "https://localhost:8080/"
    },
    "id": "fXM54Q6D29Ed",
    "outputId": "810c8bcd-076a-4d21-8c32-ecc157b84816"
   },
   "outputs": [
    {
     "output_type": "stream",
     "name": "stdout",
     "output_type": "stream",
     "text": [
      "+----------+------+-------+------+-------+--------------+----------+------+-------+\n|      Date|UserID|VitalID|Weight|AlertID|     AlertType|      Date|UserID|VitalID|\n+----------+------+-------+------+-------+--------------+----------+------+-------+\n|2020-01-02|   101|      4|    95|      1|WeightIncrease|2020-01-01|   101|      4|\n+----------+------+-------+------+-------+--------------+----------+------+-------+\n\n"
     ]
    }
   ],
   "source": [
    "# INNER JOIN\n",
    "join_expr = df_vital.VitalID == df_alert.VitalID\n",
    "df_vital.join(df_alert, join_expr, \"inner\").show()"
   ]
  },
  {
   "cell_type": "code",
   "execution_count": 0,
   "metadata": {
    "application/vnd.databricks.v1+cell": {
     "cellMetadata": {
      "byteLimit": 2048000,
      "rowLimit": 10000
     },
     "inputWidgets": {},
     "nuid": "76b7df06-83fd-4894-9060-cc956d1cf053",
     "showTitle": false,
     "tableResultSettingsMap": {},
     "title": ""
    },
    "colab": {
     "base_uri": "https://localhost:8080/"
    },
    "id": "a4d7hLVr5A_y",
    "outputId": "f1877d6c-68c5-4ec4-aee8-5bd466ccddc8"
   },
   "outputs": [
    {
     "output_type": "stream",
     "name": "stdout",
     "output_type": "stream",
     "text": [
      "+----------+------+-------+------+-------+--------------+----------+------+-------+\n|      Date|UserID|VitalID|Weight|AlertID|     AlertType|      Date|UserID|VitalID|\n+----------+------+-------+------+-------+--------------+----------+------+-------+\n|2020-01-01|   100|      1|    75|   null|          null|      null|  null|   null|\n|2020-01-02|   100|      2|    78|   null|          null|      null|  null|   null|\n|2020-01-01|   101|      3|    90|   null|          null|      null|  null|   null|\n|2020-01-02|   101|      4|    95|      1|WeightIncrease|2020-01-01|   101|      4|\n+----------+------+-------+------+-------+--------------+----------+------+-------+\n\n"
     ]
    }
   ],
   "source": [
    "# LEFT JOIN\n",
    "join_expr = df_vital.VitalID == df_alert.VitalID\n",
    "df_vital.join(df_alert, join_expr, \"left\").show()"
   ]
  },
  {
   "cell_type": "code",
   "execution_count": 0,
   "metadata": {
    "application/vnd.databricks.v1+cell": {
     "cellMetadata": {
      "byteLimit": 2048000,
      "rowLimit": 10000
     },
     "inputWidgets": {},
     "nuid": "814b3331-a12d-444d-b9d2-26a4270e78ac",
     "showTitle": false,
     "tableResultSettingsMap": {},
     "title": ""
    },
    "colab": {
     "base_uri": "https://localhost:8080/"
    },
    "id": "nqJCVWPw5H6A",
    "outputId": "30c8f8f4-73dd-4513-9b58-b35680b0ed54"
   },
   "outputs": [
    {
     "output_type": "stream",
     "name": "stdout",
     "output_type": "stream",
     "text": [
      "+----------+------+-------+------+-------+--------------+----------+------+-------+\n|      Date|UserID|VitalID|Weight|AlertID|     AlertType|      Date|UserID|VitalID|\n+----------+------+-------+------+-------+--------------+----------+------+-------+\n|2020-01-02|   101|      4|    95|      1|WeightIncrease|2020-01-01|   101|      4|\n|      null|  null|   null|  null|      2|  MissingVital|2020-01-04|   100|   null|\n|      null|  null|   null|  null|      3|  MissingVital|2020-01-05|   101|   null|\n+----------+------+-------+------+-------+--------------+----------+------+-------+\n\n"
     ]
    }
   ],
   "source": [
    "# RIGHT JOIN\n",
    "join_expr = df_vital.VitalID == df_alert.VitalID\n",
    "df_vital.join(df_alert, join_expr, \"right\").show()"
   ]
  },
  {
   "cell_type": "code",
   "execution_count": 0,
   "metadata": {
    "application/vnd.databricks.v1+cell": {
     "cellMetadata": {
      "byteLimit": 2048000,
      "rowLimit": 10000
     },
     "inputWidgets": {},
     "nuid": "879db69d-0a26-42f1-a5b2-e89f183551e4",
     "showTitle": false,
     "tableResultSettingsMap": {},
     "title": ""
    },
    "colab": {
     "base_uri": "https://localhost:8080/"
    },
    "id": "dySkJObl5KVU",
    "outputId": "c87ff187-34e5-427f-8b77-9ff2369bf45b"
   },
   "outputs": [
    {
     "output_type": "stream",
     "name": "stdout",
     "output_type": "stream",
     "text": [
      "+----------+------+-------+------+-------+--------------+----------+------+-------+\n|      Date|UserID|VitalID|Weight|AlertID|     AlertType|      Date|UserID|VitalID|\n+----------+------+-------+------+-------+--------------+----------+------+-------+\n|      null|  null|   null|  null|      2|  MissingVital|2020-01-04|   100|   null|\n|      null|  null|   null|  null|      3|  MissingVital|2020-01-05|   101|   null|\n|2020-01-01|   100|      1|    75|   null|          null|      null|  null|   null|\n|2020-01-02|   100|      2|    78|   null|          null|      null|  null|   null|\n|2020-01-01|   101|      3|    90|   null|          null|      null|  null|   null|\n|2020-01-02|   101|      4|    95|      1|WeightIncrease|2020-01-01|   101|      4|\n+----------+------+-------+------+-------+--------------+----------+------+-------+\n\n"
     ]
    }
   ],
   "source": [
    "# FULL OUTER JOIN\n",
    "join_expr = df_vital.VitalID == df_alert.VitalID\n",
    "df_vital.join(df_alert, join_expr, \"full\").show()"
   ]
  },
  {
   "cell_type": "code",
   "execution_count": 0,
   "metadata": {
    "application/vnd.databricks.v1+cell": {
     "cellMetadata": {
      "byteLimit": 2048000,
      "rowLimit": 10000
     },
     "inputWidgets": {},
     "nuid": "57e85ea6-e9fe-48ff-89dd-a46b9cf092ef",
     "showTitle": false,
     "tableResultSettingsMap": {},
     "title": ""
    },
    "colab": {
     "base_uri": "https://localhost:8080/"
    },
    "id": "d43BHiaI5OJC",
    "outputId": "2b07dd1f-b756-4437-a595-95d3c0e71a90"
   },
   "outputs": [
    {
     "output_type": "stream",
     "name": "stdout",
     "output_type": "stream",
     "text": [
      "+----------+------+-------+------+-------+--------------+----------+------+-------+\n|      Date|UserID|VitalID|Weight|AlertID|     AlertType|      Date|UserID|VitalID|\n+----------+------+-------+------+-------+--------------+----------+------+-------+\n|2020-01-01|   100|      1|    75|      1|WeightIncrease|2020-01-01|   101|      4|\n|2020-01-01|   100|      1|    75|      2|  MissingVital|2020-01-04|   100|   null|\n|2020-01-01|   100|      1|    75|      3|  MissingVital|2020-01-05|   101|   null|\n|2020-01-02|   100|      2|    78|      1|WeightIncrease|2020-01-01|   101|      4|\n|2020-01-02|   100|      2|    78|      2|  MissingVital|2020-01-04|   100|   null|\n|2020-01-02|   100|      2|    78|      3|  MissingVital|2020-01-05|   101|   null|\n|2020-01-01|   101|      3|    90|      1|WeightIncrease|2020-01-01|   101|      4|\n|2020-01-01|   101|      3|    90|      2|  MissingVital|2020-01-04|   100|   null|\n|2020-01-01|   101|      3|    90|      3|  MissingVital|2020-01-05|   101|   null|\n|2020-01-02|   101|      4|    95|      1|WeightIncrease|2020-01-01|   101|      4|\n|2020-01-02|   101|      4|    95|      2|  MissingVital|2020-01-04|   100|   null|\n|2020-01-02|   101|      4|    95|      3|  MissingVital|2020-01-05|   101|   null|\n+----------+------+-------+------+-------+--------------+----------+------+-------+\n\n"
     ]
    }
   ],
   "source": [
    "# CROSS JOIN\n",
    "df_vital.join(df_alert, None, \"cross\").show()"
   ]
  },
  {
   "cell_type": "code",
   "execution_count": 0,
   "metadata": {
    "application/vnd.databricks.v1+cell": {
     "cellMetadata": {
      "byteLimit": 2048000,
      "rowLimit": 10000
     },
     "inputWidgets": {},
     "nuid": "cbb6ad7e-99c2-44ac-8f4c-29b61f2904b0",
     "showTitle": false,
     "tableResultSettingsMap": {},
     "title": ""
    },
    "colab": {
     "base_uri": "https://localhost:8080/"
    },
    "id": "1fuMgCb_5Y7Z",
    "outputId": "9ee4fa8a-848b-4724-894a-ea64f4dc5f55"
   },
   "outputs": [
    {
     "output_type": "stream",
     "name": "stdout",
     "output_type": "stream",
     "text": [
      "+----------+------+-------+------+----------+------+-------+------+\n|      Date|UserID|VitalID|Weight|      Date|UserID|VitalID|Weight|\n+----------+------+-------+------+----------+------+-------+------+\n|2020-01-01|   100|      1|    75|2020-01-01|   100|      1|    75|\n|2020-01-02|   100|      2|    78|2020-01-02|   100|      2|    78|\n|2020-01-01|   101|      3|    90|2020-01-01|   101|      3|    90|\n|2020-01-02|   101|      4|    95|2020-01-02|   101|      4|    95|\n+----------+------+-------+------+----------+------+-------+------+\n\n"
     ]
    }
   ],
   "source": [
    "# SELF JOIN\n",
    "join_expr = df_vital.VitalID == df_vital.VitalID\n",
    "df_vital.join(df_vital, join_expr, \"left\").show()"
   ]
  },
  {
   "cell_type": "markdown",
   "metadata": {
    "application/vnd.databricks.v1+cell": {
     "cellMetadata": {},
     "inputWidgets": {},
     "nuid": "abde0403-51a4-4077-b1e5-45e2da165d58",
     "showTitle": false,
     "tableResultSettingsMap": {},
     "title": ""
    },
    "id": "zChnkwWO3ClW"
   },
   "source": [
    "## SQL을 사용해서 VitalID로 JOIN하기"
   ]
  },
  {
   "cell_type": "code",
   "execution_count": 0,
   "metadata": {
    "application/vnd.databricks.v1+cell": {
     "cellMetadata": {
      "byteLimit": 2048000,
      "rowLimit": 10000
     },
     "inputWidgets": {},
     "nuid": "304c38cb-a930-4c34-9e85-94945ea08fa8",
     "showTitle": false,
     "tableResultSettingsMap": {},
     "title": ""
    },
    "id": "_8Lejetx3D8M"
   },
   "outputs": [],
   "source": [
    "df_vital.createOrReplaceTempView(\"Vital\")\n",
    "df_alert.createOrReplaceTempView(\"Alert\")"
   ]
  },
  {
   "cell_type": "code",
   "execution_count": 0,
   "metadata": {
    "application/vnd.databricks.v1+cell": {
     "cellMetadata": {
      "byteLimit": 2048000,
      "rowLimit": 10000
     },
     "inputWidgets": {},
     "nuid": "f3ba99cc-3d67-49c4-a52f-d1a19e85587f",
     "showTitle": false,
     "tableResultSettingsMap": {},
     "title": ""
    },
    "colab": {
     "base_uri": "https://localhost:8080/"
    },
    "id": "t4xIAQdh3kZm",
    "outputId": "ec83022e-9f15-4037-add1-11343f2ab004"
   },
   "outputs": [
    {
     "output_type": "stream",
     "name": "stdout",
     "output_type": "stream",
     "text": [
      "+----------+------+-------+------+-------+--------------+----------+------+-------+\n|      Date|UserID|VitalID|Weight|AlertID|     AlertType|      Date|UserID|VitalID|\n+----------+------+-------+------+-------+--------------+----------+------+-------+\n|2020-01-02|   101|      4|    95|      1|WeightIncrease|2020-01-01|   101|      4|\n+----------+------+-------+------+-------+--------------+----------+------+-------+\n\n"
     ]
    }
   ],
   "source": [
    "# INNER JOIN\n",
    "df_inner_join = spark.sql(\"\"\"\n",
    "    SELECT *\n",
    "    FROM Vital v\n",
    "    JOIN Alert a ON v.vitalID = a.vitalID;\"\"\")\n",
    "df_inner_join.show()"
   ]
  },
  {
   "cell_type": "code",
   "execution_count": 0,
   "metadata": {
    "application/vnd.databricks.v1+cell": {
     "cellMetadata": {
      "byteLimit": 2048000,
      "rowLimit": 10000
     },
     "inputWidgets": {},
     "nuid": "0ccc53e5-04fe-4a92-9f03-ce78264f7487",
     "showTitle": false,
     "tableResultSettingsMap": {},
     "title": ""
    },
    "colab": {
     "base_uri": "https://localhost:8080/"
    },
    "id": "tinySjFV34CW",
    "outputId": "9ba178b4-f00a-4dca-df31-bf200835bc88"
   },
   "outputs": [
    {
     "output_type": "stream",
     "name": "stdout",
     "output_type": "stream",
     "text": [
      "+----------+------+-------+------+-------+--------------+----------+------+-------+\n|      Date|UserID|VitalID|Weight|AlertID|     AlertType|      Date|UserID|VitalID|\n+----------+------+-------+------+-------+--------------+----------+------+-------+\n|2020-01-01|   100|      1|    75|   null|          null|      null|  null|   null|\n|2020-01-02|   100|      2|    78|   null|          null|      null|  null|   null|\n|2020-01-01|   101|      3|    90|   null|          null|      null|  null|   null|\n|2020-01-02|   101|      4|    95|      1|WeightIncrease|2020-01-01|   101|      4|\n+----------+------+-------+------+-------+--------------+----------+------+-------+\n\n"
     ]
    }
   ],
   "source": [
    "# LEFT JOIN\n",
    "df_left_join = spark.sql(\"\"\"\n",
    "    SELECT *\n",
    "    FROM Vital v\n",
    "    LEFT JOIN Alert a ON v.vitalID = a.vitalID;\"\"\")\n",
    "df_left_join.show()"
   ]
  },
  {
   "cell_type": "code",
   "execution_count": 0,
   "metadata": {
    "application/vnd.databricks.v1+cell": {
     "cellMetadata": {
      "byteLimit": 2048000,
      "rowLimit": 10000
     },
     "inputWidgets": {},
     "nuid": "25768467-8750-48f8-914d-7ac55cf67c9e",
     "showTitle": false,
     "tableResultSettingsMap": {},
     "title": ""
    },
    "colab": {
     "base_uri": "https://localhost:8080/"
    },
    "id": "DOf0w4Wg3_XH",
    "outputId": "05f55912-57ba-483f-c669-60556f0a17dc"
   },
   "outputs": [
    {
     "output_type": "stream",
     "name": "stdout",
     "output_type": "stream",
     "text": [
      "+----------+------+-------+------+-------+--------------+----------+------+-------+\n|      Date|UserID|VitalID|Weight|AlertID|     AlertType|      Date|UserID|VitalID|\n+----------+------+-------+------+-------+--------------+----------+------+-------+\n|2020-01-02|   101|      4|    95|      1|WeightIncrease|2020-01-01|   101|      4|\n|      null|  null|   null|  null|      2|  MissingVital|2020-01-04|   100|   null|\n|      null|  null|   null|  null|      3|  MissingVital|2020-01-05|   101|   null|\n+----------+------+-------+------+-------+--------------+----------+------+-------+\n\n"
     ]
    }
   ],
   "source": [
    "# RIGHT JOIN\n",
    "df_right_join = spark.sql(\"\"\"\n",
    "    SELECT *\n",
    "    FROM Vital v\n",
    "    RIGHT JOIN Alert a ON v.vitalID = a.vitalID;\"\"\")\n",
    "df_right_join.show()"
   ]
  },
  {
   "cell_type": "code",
   "execution_count": 0,
   "metadata": {
    "application/vnd.databricks.v1+cell": {
     "cellMetadata": {
      "byteLimit": 2048000,
      "rowLimit": 10000
     },
     "inputWidgets": {},
     "nuid": "47fb76e9-8683-4d9f-8250-c19fb7659cb0",
     "showTitle": false,
     "tableResultSettingsMap": {},
     "title": ""
    },
    "colab": {
     "base_uri": "https://localhost:8080/"
    },
    "id": "KdsQg2Jv4Dcn",
    "outputId": "6dc62777-b302-49a1-8ac6-e85f41b0b4bc"
   },
   "outputs": [
    {
     "output_type": "stream",
     "name": "stdout",
     "output_type": "stream",
     "text": [
      "+----------+------+-------+------+-------+--------------+----------+------+-------+\n|      Date|UserID|VitalID|Weight|AlertID|     AlertType|      Date|UserID|VitalID|\n+----------+------+-------+------+-------+--------------+----------+------+-------+\n|      null|  null|   null|  null|      2|  MissingVital|2020-01-04|   100|   null|\n|      null|  null|   null|  null|      3|  MissingVital|2020-01-05|   101|   null|\n|2020-01-01|   100|      1|    75|   null|          null|      null|  null|   null|\n|2020-01-02|   100|      2|    78|   null|          null|      null|  null|   null|\n|2020-01-01|   101|      3|    90|   null|          null|      null|  null|   null|\n|2020-01-02|   101|      4|    95|      1|WeightIncrease|2020-01-01|   101|      4|\n+----------+------+-------+------+-------+--------------+----------+------+-------+\n\n"
     ]
    }
   ],
   "source": [
    "# OUTER JOIN\n",
    "df_outer_join = spark.sql(\"\"\"\n",
    "    SELECT *\n",
    "    FROM Vital v\n",
    "    FULL JOIN Alert a ON v.vitalID = a.vitalID;\"\"\")\n",
    "df_outer_join.show()"
   ]
  },
  {
   "cell_type": "code",
   "execution_count": 0,
   "metadata": {
    "application/vnd.databricks.v1+cell": {
     "cellMetadata": {
      "byteLimit": 2048000,
      "rowLimit": 10000
     },
     "inputWidgets": {},
     "nuid": "8f5e12ed-1a56-40ee-bf73-63b19930b58e",
     "showTitle": false,
     "tableResultSettingsMap": {},
     "title": ""
    },
    "colab": {
     "base_uri": "https://localhost:8080/"
    },
    "id": "Qe5086Ai4Jx3",
    "outputId": "1d49a2af-70c3-46b3-f885-9b70b21f955d"
   },
   "outputs": [
    {
     "output_type": "stream",
     "name": "stdout",
     "output_type": "stream",
     "text": [
      "+----------+------+-------+------+-------+--------------+----------+------+-------+\n|      Date|UserID|VitalID|Weight|AlertID|     AlertType|      Date|UserID|VitalID|\n+----------+------+-------+------+-------+--------------+----------+------+-------+\n|2020-01-01|   100|      1|    75|      1|WeightIncrease|2020-01-01|   101|      4|\n|2020-01-01|   100|      1|    75|      2|  MissingVital|2020-01-04|   100|   null|\n|2020-01-01|   100|      1|    75|      3|  MissingVital|2020-01-05|   101|   null|\n|2020-01-02|   100|      2|    78|      1|WeightIncrease|2020-01-01|   101|      4|\n|2020-01-02|   100|      2|    78|      2|  MissingVital|2020-01-04|   100|   null|\n|2020-01-02|   100|      2|    78|      3|  MissingVital|2020-01-05|   101|   null|\n|2020-01-01|   101|      3|    90|      1|WeightIncrease|2020-01-01|   101|      4|\n|2020-01-01|   101|      3|    90|      2|  MissingVital|2020-01-04|   100|   null|\n|2020-01-01|   101|      3|    90|      3|  MissingVital|2020-01-05|   101|   null|\n|2020-01-02|   101|      4|    95|      1|WeightIncrease|2020-01-01|   101|      4|\n|2020-01-02|   101|      4|    95|      2|  MissingVital|2020-01-04|   100|   null|\n|2020-01-02|   101|      4|    95|      3|  MissingVital|2020-01-05|   101|   null|\n+----------+------+-------+------+-------+--------------+----------+------+-------+\n\n"
     ]
    }
   ],
   "source": [
    "# CROSS JOIN\n",
    "df_cross_join = spark.sql(\"\"\"\n",
    "    SELECT * FROM Vital v\n",
    "    CROSS JOIN Alert a\"\"\")\n",
    "df_cross_join.show()"
   ]
  },
  {
   "cell_type": "code",
   "execution_count": 0,
   "metadata": {
    "application/vnd.databricks.v1+cell": {
     "cellMetadata": {
      "byteLimit": 2048000,
      "rowLimit": 10000
     },
     "inputWidgets": {},
     "nuid": "282a18b1-2d69-4772-8c60-688e19169082",
     "showTitle": false,
     "tableResultSettingsMap": {},
     "title": ""
    },
    "colab": {
     "base_uri": "https://localhost:8080/"
    },
    "id": "Z3VOvx3l4TF2",
    "outputId": "f48cb018-516a-46b6-efc8-133a64d85a3d"
   },
   "outputs": [
    {
     "output_type": "stream",
     "name": "stdout",
     "output_type": "stream",
     "text": [
      "+----------+------+-------+------+----------+------+-------+------+\n|      Date|UserID|VitalID|Weight|      Date|UserID|VitalID|Weight|\n+----------+------+-------+------+----------+------+-------+------+\n|2020-01-01|   100|      1|    75|2020-01-01|   100|      1|    75|\n|2020-01-01|   100|      1|    75|2020-01-02|   100|      2|    78|\n|2020-01-01|   100|      1|    75|2020-01-01|   101|      3|    90|\n|2020-01-01|   100|      1|    75|2020-01-02|   101|      4|    95|\n|2020-01-02|   100|      2|    78|2020-01-01|   100|      1|    75|\n|2020-01-02|   100|      2|    78|2020-01-02|   100|      2|    78|\n|2020-01-02|   100|      2|    78|2020-01-01|   101|      3|    90|\n|2020-01-02|   100|      2|    78|2020-01-02|   101|      4|    95|\n|2020-01-01|   101|      3|    90|2020-01-01|   100|      1|    75|\n|2020-01-01|   101|      3|    90|2020-01-02|   100|      2|    78|\n|2020-01-01|   101|      3|    90|2020-01-01|   101|      3|    90|\n|2020-01-01|   101|      3|    90|2020-01-02|   101|      4|    95|\n|2020-01-02|   101|      4|    95|2020-01-01|   100|      1|    75|\n|2020-01-02|   101|      4|    95|2020-01-02|   100|      2|    78|\n|2020-01-02|   101|      4|    95|2020-01-01|   101|      3|    90|\n|2020-01-02|   101|      4|    95|2020-01-02|   101|      4|    95|\n+----------+------+-------+------+----------+------+-------+------+\n\n"
     ]
    }
   ],
   "source": [
    "# self JOIN\n",
    "df_self_join = spark.sql(\"\"\"\n",
    "    SELECT *\n",
    "    FROM Vital v1\n",
    "    JOIN Vital v2\"\"\")\n",
    "df_self_join.show()"
   ]
  },
  {
   "cell_type": "code",
   "execution_count": 0,
   "metadata": {
    "application/vnd.databricks.v1+cell": {
     "cellMetadata": {},
     "inputWidgets": {},
     "nuid": "23cc511e-a197-4d9f-aad0-87c52df7fcbe",
     "showTitle": false,
     "tableResultSettingsMap": {},
     "title": ""
    },
    "id": "NOcaf2pr4cV_"
   },
   "outputs": [],
   "source": []
  }
 ],
 "metadata": {
  "application/vnd.databricks.v1+notebook": {
   "computePreferences": null,
   "dashboards": [],
   "environmentMetadata": null,
   "inputWidgetPreferences": null,
   "language": "python",
   "notebookMetadata": {
    "pythonIndentUnit": 4
   },
   "notebookName": "DataFrame와 SQL로 해보는 6가지 조인",
   "widgets": {}
  },
  "colab": {
   "provenance": []
  },
  "kernelspec": {
   "display_name": "Python 3",
   "name": "python3"
  }
 },
 "nbformat": 4,
 "nbformat_minor": 0
}
