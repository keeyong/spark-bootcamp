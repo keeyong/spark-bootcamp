{
 "cells": [
  {
   "cell_type": "markdown",
   "metadata": {
    "application/vnd.databricks.v1+cell": {
     "cellMetadata": {},
     "inputWidgets": {},
     "nuid": "8cfc7e51-9bef-4f79-9098-bff3244ee0d8",
     "showTitle": false,
     "tableResultSettingsMap": {},
     "title": ""
    },
    "id": "AD5LoMHATNWp"
   },
   "source": [
    "### Dataframe에 UDAF 사용해보기"
   ]
  },
  {
   "cell_type": "code",
   "execution_count": 0,
   "metadata": {
    "application/vnd.databricks.v1+cell": {
     "cellMetadata": {
      "byteLimit": 2048000,
      "rowLimit": 10000
     },
     "inputWidgets": {},
     "nuid": "6725a319-60ce-49c2-b10c-ea11bb1e7af7",
     "showTitle": false,
     "tableResultSettingsMap": {},
     "title": ""
    }
   },
   "outputs": [],
   "source": [
    "data = [\n",
    "    {\"a\": 1, \"b\": 2},\n",
    "    {\"a\": 5, \"b\": 5}\n",
    "]\n",
    "\n",
    "df = spark.createDataFrame(data)"
   ]
  },
  {
   "cell_type": "code",
   "execution_count": 0,
   "metadata": {
    "application/vnd.databricks.v1+cell": {
     "cellMetadata": {
      "byteLimit": 2048000,
      "rowLimit": 10000
     },
     "inputWidgets": {},
     "nuid": "f1ce835e-13a2-465c-aaed-e0d6ee4177b2",
     "showTitle": false,
     "tableResultSettingsMap": {},
     "title": ""
    },
    "colab": {
     "base_uri": "https://localhost:8080/"
    },
    "id": "R3_fbjsGp65Q",
    "outputId": "25851feb-b727-4cea-91ba-97224ca0291c"
   },
   "outputs": [
    {
     "output_type": "display_data",
     "data": {
      "application/vnd.databricks.v1+bamboolib_hint": "{\"pd.DataFrames\": [], \"version\": \"0.0.1\"}",
      "text/plain": []
     },
     "metadata": {},
     "output_type": "display_data"
    },
    {
     "output_type": "stream",
     "name": "stdout",
     "output_type": "stream",
     "text": [
      "+---+\n|  c|\n+---+\n|3.5|\n+---+\n\n"
     ]
    }
   ],
   "source": [
    "from pyspark.sql.functions import pandas_udf\n",
    "from pyspark.sql.types import FloatType\n",
    "import pandas as pd\n",
    "\n",
    "# Define the UDF\n",
    "@pandas_udf(FloatType())\n",
    "def average(v: pd.Series) -> float:\n",
    "    return v.mean()\n",
    "\n",
    "df.createOrReplaceTempView(\"test\")\n",
    "averageUDF = spark.udf.register('average', average)\n",
    "spark.sql('SELECT average(b) c FROM test').show()"
   ]
  },
  {
   "cell_type": "code",
   "execution_count": 0,
   "metadata": {
    "application/vnd.databricks.v1+cell": {
     "cellMetadata": {
      "byteLimit": 2048000,
      "rowLimit": 10000
     },
     "inputWidgets": {},
     "nuid": "f8c5800b-f7b0-465f-95e4-d89a53335d35",
     "showTitle": false,
     "tableResultSettingsMap": {},
     "title": ""
    },
    "colab": {
     "base_uri": "https://localhost:8080/"
    },
    "id": "Lhcp9zJVTshw",
    "outputId": "bfb8b5fe-ac0d-4116-8750-4c7d71e38e32"
   },
   "outputs": [
    {
     "output_type": "stream",
     "name": "stdout",
     "output_type": "stream",
     "text": [
      "+---+\n|  c|\n+---+\n|3.5|\n+---+\n\n"
     ]
    }
   ],
   "source": [
    "df.agg(averageUDF(\"b\").alias(\"c\")).show()"
   ]
  },
  {
   "cell_type": "markdown",
   "metadata": {
    "application/vnd.databricks.v1+cell": {
     "cellMetadata": {},
     "inputWidgets": {},
     "nuid": "5f8f4edc-ad7d-4a1d-ba87-7903ed855d06",
     "showTitle": false,
     "tableResultSettingsMap": {},
     "title": ""
    },
    "id": "izkEXdR-npYL"
   },
   "source": [
    "### 하나의 레코드에서 다수의 레코드를 만들어내는 예제 (Order to 1+ Items)"
   ]
  },
  {
   "cell_type": "code",
   "execution_count": 0,
   "metadata": {
    "application/vnd.databricks.v1+cell": {
     "cellMetadata": {
      "byteLimit": 2048000,
      "rowLimit": 10000
     },
     "inputWidgets": {},
     "nuid": "cf8872ab-6b22-47b5-b25f-711e427f9759",
     "showTitle": false,
     "tableResultSettingsMap": {},
     "title": ""
    },
    "id": "noGe8odRnuxd"
   },
   "outputs": [],
   "source": [
    "from pyspark.sql.functions import *\n",
    "from pyspark.sql.types import StructType, StructField, StringType, ArrayType, LongType\n",
    "\n",
    "order = spark.read.options(delimiter='\\t').option(\"header\",\"true\").csv(\"s3a://s3-geospatial/orders.csv\")"
   ]
  },
  {
   "cell_type": "code",
   "execution_count": 0,
   "metadata": {
    "application/vnd.databricks.v1+cell": {
     "cellMetadata": {
      "byteLimit": 2048000,
      "rowLimit": 10000
     },
     "inputWidgets": {},
     "nuid": "43991702-1e4e-4e87-a65e-b51020c6c5ff",
     "showTitle": false,
     "tableResultSettingsMap": {},
     "title": ""
    },
    "colab": {
     "base_uri": "https://localhost:8080/"
    },
    "id": "KHYN-yq6oAXS",
    "outputId": "0e00c767-df8d-45d7-da89-e4ee95ae5938"
   },
   "outputs": [
    {
     "output_type": "stream",
     "name": "stdout",
     "output_type": "stream",
     "text": [
      "+------------+-----------------------------------------------------------------------------+\n|order_id    |items                                                                        |\n+------------+-----------------------------------------------------------------------------+\n|860196503764|[{\"name\": \"DAILY SPF\", \"quantity\": 1, \"id\": 1883727790094}]                  |\n|860292645076|[{\"name\": \"DAILY SPF \\u2014 Bundle Set\", \"quantity\": 1, \"id\": 1883875377166}]|\n|860320956628|[{\"name\": \"DAILY SPF\", \"quantity\": 1, \"id\": 1883919974414}]                  |\n|860321513684|[{\"name\": \"DAILY SPF\", \"quantity\": 1, \"id\": 1883920793614}]                  |\n|862930665684|[{\"name\": \"DAILY SPF\", \"quantity\": 1, \"id\": 1887913672718}]                  |\n|862975819988|[{\"name\": \"DAILY SPF\", \"quantity\": 1, \"id\": 1887985827854}]                  |\n|862985191636|[{\"name\": \"DAILY SPF \\u2014 Bundle Set\", \"quantity\": 1, \"id\": 1887999164430}]|\n|870939295956|[{\"name\": \"DAILY SPF\", \"quantity\": 1, \"id\": 1900142264334}]                  |\n|880188063956|[{\"name\": \"DAILY SPF\", \"quantity\": 1, \"id\": 1914170572814}]                  |\n|933014601940|[{\"name\": \"DAILY SPF\", \"quantity\": 1, \"id\": 1995572117518}]                  |\n|934065930452|[{\"name\": \"DAILY SPF\", \"quantity\": 1, \"id\": 1997094813710}]                  |\n|938210722004|[{\"name\": \"DAILY SPF\", \"quantity\": 1, \"id\": 2003241992206}]                  |\n|944748331220|[{\"name\": \"DAILY SPF\", \"quantity\": 1, \"id\": 2013027794958}]                  |\n|862843896020|[{\"name\": \"DAILY SPF \\u2014 Bundle Set\", \"quantity\": 1, \"id\": 1887779946510}]|\n|862959763668|[{\"name\": \"DAILY SPF\", \"quantity\": 1, \"id\": 1887960727566}]                  |\n|870966558932|[{\"name\": \"DAILY SPF\", \"quantity\": 1, \"id\": 1900184338446}]                  |\n|887936647380|[{\"name\": \"DAILY SPF\", \"quantity\": 1, \"id\": 1926287851534}]                  |\n|908426477780|[{\"name\": \"DAILY SPF\", \"quantity\": 1, \"id\": 1960246870030}]                  |\n|921300107476|[{\"name\": \"DAILY SPF\", \"quantity\": 1, \"id\": 1979032993806}]                  |\n|932229710036|[{\"name\": \"DAILY SPF\", \"quantity\": 1, \"id\": 1994496901134}]                  |\n+------------+-----------------------------------------------------------------------------+\nonly showing top 20 rows\n\n"
     ]
    }
   ],
   "source": [
    "order.show(truncate=False)"
   ]
  },
  {
   "cell_type": "code",
   "execution_count": 0,
   "metadata": {
    "application/vnd.databricks.v1+cell": {
     "cellMetadata": {
      "byteLimit": 2048000,
      "rowLimit": 10000
     },
     "inputWidgets": {},
     "nuid": "4b1d0cdc-71cc-4d83-b435-28850d0920c4",
     "showTitle": false,
     "tableResultSettingsMap": {},
     "title": ""
    },
    "colab": {
     "base_uri": "https://localhost:8080/"
    },
    "id": "7uJgS3zQWy4k",
    "outputId": "baebcf6f-d6d9-4a7b-e142-b0c6fe9f9591"
   },
   "outputs": [
    {
     "output_type": "stream",
     "name": "stdout",
     "output_type": "stream",
     "text": [
      "root\n |-- order_id: string (nullable = true)\n |-- items: string (nullable = true)\n\n"
     ]
    }
   ],
   "source": [
    "order.printSchema()"
   ]
  },
  {
   "cell_type": "code",
   "execution_count": 0,
   "metadata": {
    "application/vnd.databricks.v1+cell": {
     "cellMetadata": {
      "byteLimit": 2048000,
      "rowLimit": 10000
     },
     "inputWidgets": {},
     "nuid": "27f80ff0-3eb1-4f65-ae1a-7901e1fdda6c",
     "showTitle": false,
     "tableResultSettingsMap": {},
     "title": ""
    },
    "id": "MzIUYg-xrdnL"
   },
   "outputs": [],
   "source": [
    "# 데이터프레임을 이용해서 해보기\n",
    "schema = ArrayType(\n",
    "    StructType([\n",
    "        StructField(\"name\", StringType()),\n",
    "        StructField(\"id\", StringType()),\n",
    "        StructField(\"quantity\", LongType())\n",
    "    ])\n",
    ")"
   ]
  },
  {
   "cell_type": "markdown",
   "metadata": {
    "application/vnd.databricks.v1+cell": {
     "cellMetadata": {},
     "inputWidgets": {},
     "nuid": "2ff9d623-bc71-4391-b738-1cc90e5dcbbe",
     "showTitle": false,
     "tableResultSettingsMap": {},
     "title": ""
    }
   },
   "source": [
    "items 필드의 내용(JSON)을 앞서 정의한 schema에 맞게 파싱하기"
   ]
  },
  {
   "cell_type": "code",
   "execution_count": 0,
   "metadata": {
    "application/vnd.databricks.v1+cell": {
     "cellMetadata": {
      "byteLimit": 2048000,
      "rowLimit": 10000
     },
     "inputWidgets": {},
     "nuid": "afb2f1f0-28c3-4705-83c8-2f0d012eb4da",
     "showTitle": false,
     "tableResultSettingsMap": {},
     "title": ""
    },
    "colab": {
     "base_uri": "https://localhost:8080/"
    },
    "id": "dhfm4QaEY1-K",
    "outputId": "e1e187a7-d93a-47f8-9c1e-0c8ff9625abe"
   },
   "outputs": [
    {
     "output_type": "stream",
     "name": "stdout",
     "output_type": "stream",
     "text": [
      "root\n |-- order_id: string (nullable = true)\n |-- items: string (nullable = true)\n |-- item_struct: array (nullable = true)\n |    |-- element: struct (containsNull = true)\n |    |    |-- name: string (nullable = true)\n |    |    |-- id: string (nullable = true)\n |    |    |-- quantity: long (nullable = true)\n\n"
     ]
    }
   ],
   "source": [
    "order.withColumn(\"item_struct\", from_json(\"items\", schema)).printSchema()"
   ]
  },
  {
   "cell_type": "code",
   "execution_count": 0,
   "metadata": {
    "application/vnd.databricks.v1+cell": {
     "cellMetadata": {
      "byteLimit": 2048000,
      "rowLimit": 10000
     },
     "inputWidgets": {},
     "nuid": "0c3a6818-b4c5-422b-8666-4892e53d44b2",
     "showTitle": false,
     "tableResultSettingsMap": {},
     "title": ""
    }
   },
   "outputs": [
    {
     "output_type": "stream",
     "name": "stdout",
     "output_type": "stream",
     "text": [
      "root\n |-- order_id: string (nullable = true)\n |-- items: string (nullable = true)\n |-- item: struct (nullable = true)\n |    |-- name: string (nullable = true)\n |    |-- id: string (nullable = true)\n |    |-- quantity: long (nullable = true)\n\n"
     ]
    }
   ],
   "source": [
    "order.withColumn(\"item\", explode(from_json(\"items\", schema))).printSchema()"
   ]
  },
  {
   "cell_type": "markdown",
   "metadata": {
    "application/vnd.databricks.v1+cell": {
     "cellMetadata": {},
     "inputWidgets": {},
     "nuid": "0734d810-8900-400e-a857-caa93677aa43",
     "showTitle": false,
     "tableResultSettingsMap": {},
     "title": ""
    }
   },
   "source": [
    "앞에서 만들어진 DataFrame의 items 필드를 제거하기"
   ]
  },
  {
   "cell_type": "code",
   "execution_count": 0,
   "metadata": {
    "application/vnd.databricks.v1+cell": {
     "cellMetadata": {
      "byteLimit": 2048000,
      "rowLimit": 10000
     },
     "inputWidgets": {},
     "nuid": "68115c2f-be06-4296-a4a9-585b0ad30103",
     "showTitle": false,
     "tableResultSettingsMap": {},
     "title": ""
    },
    "id": "ZhBVvmMKYyfQ"
   },
   "outputs": [],
   "source": [
    "order_items = order.withColumn(\"item\", explode(from_json(\"items\", schema))).drop(\"items\")"
   ]
  },
  {
   "cell_type": "code",
   "execution_count": 0,
   "metadata": {
    "application/vnd.databricks.v1+cell": {
     "cellMetadata": {
      "byteLimit": 2048000,
      "rowLimit": 10000
     },
     "inputWidgets": {},
     "nuid": "f73351e2-73ce-4085-90a3-2ba508551288",
     "showTitle": false,
     "tableResultSettingsMap": {},
     "title": ""
    },
    "colab": {
     "base_uri": "https://localhost:8080/"
    },
    "id": "iE4F7-EH2nqb",
    "outputId": "63442b1d-752b-42d8-da31-05def400a6c4"
   },
   "outputs": [
    {
     "output_type": "stream",
     "name": "stdout",
     "output_type": "stream",
     "text": [
      "+------------+------------------------------------------+\n|order_id    |item                                      |\n+------------+------------------------------------------+\n|860196503764|{DAILY SPF, 1883727790094, 1}             |\n|860292645076|{DAILY SPF — Bundle Set, 1883875377166, 1}|\n|860320956628|{DAILY SPF, 1883919974414, 1}             |\n|860321513684|{DAILY SPF, 1883920793614, 1}             |\n|862930665684|{DAILY SPF, 1887913672718, 1}             |\n+------------+------------------------------------------+\nonly showing top 5 rows\n\n"
     ]
    }
   ],
   "source": [
    "order_items.show(5, truncate=False)"
   ]
  },
  {
   "cell_type": "code",
   "execution_count": 0,
   "metadata": {
    "application/vnd.databricks.v1+cell": {
     "cellMetadata": {
      "byteLimit": 2048000,
      "rowLimit": 10000
     },
     "inputWidgets": {},
     "nuid": "8d38d979-3d5d-481d-b594-4de1642f600f",
     "showTitle": false,
     "tableResultSettingsMap": {},
     "title": ""
    },
    "colab": {
     "base_uri": "https://localhost:8080/"
    },
    "id": "nzHUswiPjZv0",
    "outputId": "9dfdb591-2988-4e7b-ef8c-a7fca5f4a6a5"
   },
   "outputs": [
    {
     "output_type": "stream",
     "name": "stdout",
     "output_type": "stream",
     "text": [
      "root\n |-- order_id: string (nullable = true)\n |-- item: struct (nullable = true)\n |    |-- name: string (nullable = true)\n |    |-- id: string (nullable = true)\n |    |-- quantity: long (nullable = true)\n\n"
     ]
    }
   ],
   "source": [
    "order_items.printSchema()"
   ]
  },
  {
   "cell_type": "code",
   "execution_count": 0,
   "metadata": {
    "application/vnd.databricks.v1+cell": {
     "cellMetadata": {
      "byteLimit": 2048000,
      "rowLimit": 10000
     },
     "inputWidgets": {},
     "nuid": "6c762cc8-4f24-4458-9b87-2a276f86e30f",
     "showTitle": false,
     "tableResultSettingsMap": {},
     "title": ""
    },
    "id": "ZicsGY6d2yui"
   },
   "outputs": [],
   "source": [
    "order_items.createOrReplaceTempView(\"order_items\")"
   ]
  },
  {
   "cell_type": "code",
   "execution_count": 0,
   "metadata": {
    "application/vnd.databricks.v1+cell": {
     "cellMetadata": {
      "byteLimit": 2048000,
      "rowLimit": 10000
     },
     "inputWidgets": {},
     "nuid": "e4db2c6a-ee98-4261-b379-da34e2da5a76",
     "showTitle": false,
     "tableResultSettingsMap": {},
     "title": ""
    },
    "colab": {
     "base_uri": "https://localhost:8080/"
    },
    "id": "EkKpLPoj25kX",
    "outputId": "b6125d60-79ff-4e50-8146-ae0fcafac8aa"
   },
   "outputs": [
    {
     "output_type": "stream",
     "name": "stdout",
     "output_type": "stream",
     "text": [
      "+-------------+---------+\n|     order_id|avg_count|\n+-------------+---------+\n|1816674631892|      500|\n|1821860430036|      300|\n|2186043064532|      208|\n|2118824558804|      200|\n|2143034474708|      200|\n+-------------+---------+\nonly showing top 5 rows\n\n"
     ]
    }
   ],
   "source": [
    "spark.sql(\"\"\"\n",
    "    SELECT order_id, CAST(average(item.quantity) as decimal) avg_count\n",
    "    FROM order_items \n",
    "    GROUP BY 1 \n",
    "    ORDER BY 2 DESC\"\"\").show(5)"
   ]
  },
  {
   "cell_type": "code",
   "execution_count": 0,
   "metadata": {
    "application/vnd.databricks.v1+cell": {
     "cellMetadata": {
      "byteLimit": 2048000,
      "rowLimit": 10000
     },
     "inputWidgets": {},
     "nuid": "68399d90-a95c-4834-a36d-6f35f29f5655",
     "showTitle": false,
     "tableResultSettingsMap": {},
     "title": ""
    },
    "colab": {
     "base_uri": "https://localhost:8080/"
    },
    "id": "v2ztg-puj10J",
    "outputId": "9dde421a-8dbf-4f55-aaf0-e7ce38fef091"
   },
   "outputs": [
    {
     "output_type": "stream",
     "name": "stdout",
     "output_type": "stream",
     "text": [
      "+--------+\n|quantity|\n+--------+\n|     500|\n+--------+\n\n"
     ]
    }
   ],
   "source": [
    "spark.sql(\"\"\"SELECT item.quantity FROM order_items WHERE order_id = '1816674631892'\"\"\").show()"
   ]
  },
  {
   "cell_type": "code",
   "execution_count": 0,
   "metadata": {
    "application/vnd.databricks.v1+cell": {
     "cellMetadata": {
      "byteLimit": 2048000,
      "rowLimit": 10000
     },
     "inputWidgets": {},
     "nuid": "2b9972e0-5b91-4f1c-9435-623d6ab54619",
     "showTitle": false,
     "tableResultSettingsMap": {},
     "title": ""
    },
    "colab": {
     "base_uri": "https://localhost:8080/"
    },
    "id": "iGSo9VEAaDaL",
    "outputId": "22c426c2-a28a-427e-fd72-aa3ba695a122"
   },
   "outputs": [
    {
     "output_type": "stream",
     "name": "stdout",
     "output_type": "stream",
     "text": [
      "Out[31]: [Table(name='order_items', catalog=None, namespace=[], description=None, tableType='TEMPORARY', isTemporary=True),\n Table(name='test', catalog=None, namespace=[], description=None, tableType='TEMPORARY', isTemporary=True)]"
     ]
    }
   ],
   "source": [
    "spark.catalog.listTables()"
   ]
  },
  {
   "cell_type": "code",
   "execution_count": 0,
   "metadata": {
    "application/vnd.databricks.v1+cell": {
     "cellMetadata": {
      "byteLimit": 2048000,
      "rowLimit": 10000
     },
     "inputWidgets": {},
     "nuid": "f615d7df-1c1a-4ca6-9cc7-b0a13c80f873",
     "showTitle": false,
     "tableResultSettingsMap": {},
     "title": ""
    },
    "colab": {
     "base_uri": "https://localhost:8080/"
    },
    "id": "l-h5OW7Ymog8",
    "outputId": "6b6c53c1-d527-47ad-bac5-7c9fbff782c1"
   },
   "outputs": [
    {
     "output_type": "stream",
     "name": "stdout",
     "output_type": "stream",
     "text": [
      "!\n!=\n%\n&\n*\n+\n-\n/\n<\n<=\n<=>\n<>\n=\n==\n>\n>=\n^\nabs\nacos\nacosh\nadd_months\naes_decrypt\naes_encrypt\naggregate\nand\nany\nany_value\napprox_count_distinct\napprox_percentile\napprox_top_k\narray\narray_agg\narray_append\narray_compact\narray_contains\narray_distinct\narray_except\narray_intersect\narray_join\narray_max\narray_min\narray_position\narray_remove\narray_repeat\narray_size\narray_sort\narray_union\narrays_overlap\narrays_zip\nascii\nasin\nasinh\nassert_true\natan\natan2\natanh\navg\nbase64\nbetween\nbigint\nbin\nbinary\nbit_and\nbit_count\nbit_get\nbit_length\nbit_or\nbit_reverse\nbit_xor\nbool_and\nbool_or\nboolean\nbround\nbtrim\ncardinality\ncase\ncast\ncbrt\nceil\nceiling\nchar\nchar_length\ncharacter_length\ncharindex\nchr\ncloud_files\ncoalesce\ncollect_list\ncollect_set\nconcat\nconcat_ws\ncontains\nconv\ncorr\ncos\ncosh\ncot\ncount\ncount_if\ncount_min_sketch\ncovar_pop\ncovar_samp\ncrc32\ncsc\ncume_dist\ncurdate\ncurrent_catalog\ncurrent_database\ncurrent_date\ncurrent_metastore\ncurrent_oauth_custom_identity_claim\ncurrent_schema\ncurrent_timestamp\ncurrent_timezone\ncurrent_user\ncurrent_version\ndate\ndate_add\ndate_diff\ndate_format\ndate_from_unix_date\ndate_part\ndate_sub\ndate_trunc\ndateadd\ndatediff\ndatepart\nday\ndayofmonth\ndayofweek\ndayofyear\ndecimal\ndecode\ndegrees\ndense_rank\ndiv\ndouble\ne\nelement_at\nelt\nencode\nendswith\nequal_null\nevent_log\nevery\nexists\nexp\nexplode\nexplode_outer\nexpm1\nextract\nfactorial\nfilter\nfind_in_set\nfirst\nfirst_value\nflatten\nfloat\nfloor\nforall\nformat_number\nformat_string\nfrom_csv\nfrom_json\nfrom_unixtime\nfrom_utc_timestamp\nget\nget_json_object\ngetbit\ngetdate\ngreatest\ngrouping\ngrouping_id\nh3_boundaryasgeojson\nh3_boundaryaswkb\nh3_boundaryaswkt\nh3_centerasgeojson\nh3_centeraswkb\nh3_centeraswkt\nh3_compact\nh3_distance\nh3_getpentagoncellids\nh3_h3tostring\nh3_hexring\nh3_ischildof\nh3_ispentagon\nh3_isvalid\nh3_kring\nh3_kringdistances\nh3_longlatash3\nh3_longlatash3string\nh3_maxchild\nh3_minchild\nh3_pointash3\nh3_pointash3string\nh3_polyfillash3\nh3_polyfillash3string\nh3_resolution\nh3_stringtoh3\nh3_tochildren\nh3_toparent\nh3_try_polyfillash3\nh3_try_polyfillash3string\nh3_try_validate\nh3_uncompact\nh3_validate\nhash\nhex\nhistogram_numeric\nhour\nhypot\nif\niff\nifnull\nilike\nin\ninitcap\ninline\ninline_outer\ninput_file_block_length\ninput_file_block_start\ninput_file_name\ninstr\nint\nis_account_group_member\nis_member\nisnan\nisnotnull\nisnull\njava_method\njson_array_length\njson_object_keys\njson_tuple\nkurtosis\nlag\nlast\nlast_day\nlast_value\nlcase\nlead\nleast\nleft\nlen\nlength\nlevenshtein\nlike\nlist_secrets\nln\nlocate\nlog\nlog10\nlog1p\nlog2\nlower\nlpad\nltrim\nluhn_check\nmake_date\nmake_dt_interval\nmake_interval\nmake_timestamp\nmake_ym_interval\nmap\nmap_concat\nmap_contains_key\nmap_entries\nmap_filter\nmap_from_arrays\nmap_from_entries\nmap_keys\nmap_values\nmap_zip_with\nmask\nmax\nmax_by\nmd5\nmean\nmedian\nmin\nmin_by\nminute\nmod\nmode\nmonotonically_increasing_id\nmonth\nmonths_between\nnamed_struct\nnanvl\nnegative\nnext_day\nnot\nnow\nnth_value\nntile\nnullif\nnvl\nnvl2\noctet_length\nor\noverlay\nparse_url\npercent_rank\npercentile\npercentile_approx\npi\npmod\nposexplode\nposexplode_outer\nposition\npositive\npow\npower\nprintf\nquarter\nradians\nraise_error\nrand\nrandn\nrandom\nrange\nrank\nread_files\nreduce\nreflect\nregexp\nregexp_count\nregexp_extract\nregexp_extract_all\nregexp_instr\nregexp_like\nregexp_replace\nregexp_substr\nregr_avgx\nregr_avgy\nregr_count\nregr_intercept\nregr_r2\nregr_slope\nregr_sxx\nregr_sxy\nregr_syy\nrepeat\nreplace\nreverse\nright\nrint\nrlike\nround\nrow_number\nrpad\nrtrim\nschema_of_csv\nschema_of_json\nsec\nsecond\nsecret\nsentences\nsequence\nsession_window\nsha\nsha1\nsha2\nshiftleft\nshiftright\nshiftrightunsigned\nshuffle\nsign\nsignum\nsin\nsinh\nsize\nskewness\nslice\nsmallint\nsome\nsort_array\nsoundex\nspace\nspark_partition_id\nsplit\nsplit_part\nsqrt\nst_area\nst_astext\nst_geogfromtext\nst_geogfromwkt\nst_geometrytype\nst_geomfromtext\nst_geomfromwkt\nst_isempty\nst_length\nst_ndims\nst_npoints\nst_point\nst_setsrid\nst_srid\nst_xmax\nst_xmin\nst_ymax\nst_ymin\nstack\nstartswith\nstd\nstddev\nstddev_pop\nstddev_samp\nstr_to_map\nstring\nstringdecode\nstruct\nsubstr\nsubstring\nsubstring_index\nsum\ntan\ntanh\ntimestamp\ntimestamp_micros\ntimestamp_millis\ntimestamp_seconds\ntinyint\nto_binary\nto_char\nto_csv\nto_date\nto_json\nto_number\nto_timestamp\nto_unix_timestamp\nto_utc_timestamp\ntransform\ntransform_keys\ntransform_values\ntranslate\ntrim\ntrunc\ntry_add\ntry_avg\ntry_divide\ntry_element_at\ntry_multiply\ntry_subtract\ntry_sum\ntry_to_binary\ntry_to_number\ntry_to_timestamp\ntypeof\nucase\nunbase64\nunhex\nunix_date\nunix_micros\nunix_millis\nunix_seconds\nunix_timestamp\nupper\nurl_decode\nurl_encode\nuuid\nvar_pop\nvar_samp\nvariance\nversion\nweekday\nweekofyear\nwhen\nwidth_bucket\nwindow\nwindow_time\nxpath\nxpath_boolean\nxpath_double\nxpath_float\nxpath_int\nxpath_long\nxpath_number\nxpath_short\nxpath_string\nxxhash64\nyear\nzip_with\n|\n||\n~\naverage\n"
     ]
    }
   ],
   "source": [
    "for f in spark.catalog.listFunctions():\n",
    "    print(f[0])"
   ]
  }
 ],
 "metadata": {
  "application/vnd.databricks.v1+notebook": {
   "computePreferences": null,
   "dashboards": [],
   "environmentMetadata": null,
   "inputWidgetPreferences": null,
   "language": "python",
   "notebookMetadata": {
    "pythonIndentUnit": 4
   },
   "notebookName": "[Databricks Community Edition] UDF로 고급기능 만들기",
   "widgets": {}
  },
  "colab": {
   "collapsed_sections": [
    "LoCk7SgRrFuP",
    "QkvG7CGo1BgF",
    "YV16sPAT04lt",
    "cdANBnd70u-E",
    "ziIgaC_cXx8S",
    "1bbYGM8MX3zO",
    "9nO5mhnwPozH",
    "uBXdq3jqPwur"
   ],
   "provenance": []
  },
  "kernelspec": {
   "display_name": "Python 3",
   "name": "python3"
  }
 },
 "nbformat": 4,
 "nbformat_minor": 0
}