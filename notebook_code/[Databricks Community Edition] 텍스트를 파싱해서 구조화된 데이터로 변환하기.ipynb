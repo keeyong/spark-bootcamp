{
 "cells": [
  {
   "cell_type": "code",
   "execution_count": 0,
   "metadata": {
    "application/vnd.databricks.v1+cell": {
     "cellMetadata": {
      "byteLimit": 2048000,
      "rowLimit": 10000
     },
     "inputWidgets": {},
     "nuid": "51a244f3-2f3f-4814-bbac-1874a8741d3b",
     "showTitle": false,
     "tableResultSettingsMap": {},
     "title": ""
    }
   },
   "outputs": [],
   "source": [
    "import pyspark.sql.functions as f\n",
    "from pyspark.sql.types import *\n",
    "\n",
    "schema = StructType([ StructField(\"text\", StringType(), True)])\n",
    "csv_s3_url = \"s3a://s3-geospatial/transfer_cost.txt\"   # s3a는 S3를 분산파일시스템으로 접근할 때 사용하는 프로토콜\n",
    "df = spark.read.schema(schema).text(csv_s3_url)"
   ]
  },
  {
   "cell_type": "code",
   "execution_count": 0,
   "metadata": {
    "application/vnd.databricks.v1+cell": {
     "cellMetadata": {
      "byteLimit": 2048000,
      "rowLimit": 10000
     },
     "inputWidgets": {},
     "nuid": "6177f9df-9e8b-492b-a7c2-26458fc5c9c2",
     "showTitle": false,
     "tableResultSettingsMap": {},
     "title": ""
    }
   },
   "outputs": [
    {
     "output_type": "stream",
     "name": "stdout",
     "output_type": "stream",
     "text": [
      "root\n |-- text: string (nullable = true)\n\n"
     ]
    }
   ],
   "source": [
    "df.printSchema()"
   ]
  },
  {
   "cell_type": "code",
   "execution_count": 0,
   "metadata": {
    "application/vnd.databricks.v1+cell": {
     "cellMetadata": {
      "byteLimit": 2048000,
      "rowLimit": 10000
     },
     "inputWidgets": {},
     "nuid": "3401871d-9b72-41ab-bbe0-29b2c07fc878",
     "showTitle": false,
     "tableResultSettingsMap": {},
     "title": ""
    }
   },
   "outputs": [
    {
     "output_type": "stream",
     "name": "stdout",
     "output_type": "stream",
     "text": [
      "Out[3]: 3834"
     ]
    }
   ],
   "source": [
    "df.count()"
   ]
  },
  {
   "cell_type": "code",
   "execution_count": 0,
   "metadata": {
    "application/vnd.databricks.v1+cell": {
     "cellMetadata": {
      "byteLimit": 2048000,
      "rowLimit": 10000
     },
     "inputWidgets": {},
     "nuid": "0cdbdf6f-bf2c-409c-8924-36953180a7f2",
     "showTitle": false,
     "tableResultSettingsMap": {},
     "title": ""
    }
   },
   "outputs": [
    {
     "output_type": "stream",
     "name": "stdout",
     "output_type": "stream",
     "text": [
      "+---------------------------------------------------------------------------+\n|text                                                                       |\n+---------------------------------------------------------------------------+\n|On 2021-01-04 the cost per ton from 85001 to 85002 is $28.32 at ABC Hauling|\n|On 2021-01-04 the cost per ton from 85001 to 85004 is $25.68 at ABC Hauling|\n|On 2021-01-04 the cost per ton from 85001 to 85007 is 19.86 at ABC Hauling |\n|On 2021-01-04 the cost per ton from 85001 to 85007 is 20.52 at Haul Today  |\n|On 2021-01-04 the cost per ton from 85001 to 85010 is 20.72 at Haul Today  |\n|On 2021-01-04 the cost per ton from 85001 to 85012 is $18.98 at ABC Hauling|\n|On 2021-01-04 the cost per ton from 85001 to 85013 is 26.64 at Haul Today  |\n|On 2021-01-04 the cost per ton from 85001 to 85020 is 26.34 at ABC Hauling |\n|On 2021-01-04 the cost per ton from 85001 to 85021 is $20.15 at ABC Hauling|\n|On 2021-01-04 the cost per ton from 85002 to 85001 is 21.57 at Haul Today  |\n|On 2021-01-04 the cost per ton from 85002 to 85004 is 21.40 at Haul Today  |\n|On 2021-01-04 the cost per ton from 85002 to 85007 is 25.93 at Haul Today  |\n|On 2021-01-04 the cost per ton from 85002 to 85010 is 19.80 at Haul Today  |\n|On 2021-01-04 the cost per ton from 85002 to 85012 is 21.66 at Haul Today  |\n|On 2021-01-04 the cost per ton from 85002 to 85013 is $25.90 at Haul Today |\n|On 2021-01-04 the cost per ton from 85002 to 85020 is 19.15 at ABC Hauling |\n|On 2021-01-04 the cost per ton from 85002 to 85021 is $27.13 at Haul Today |\n|On 2021-01-04 the cost per ton from 85004 to 85001 is 23.88 at Haul Today  |\n|On 2021-01-04 the cost per ton from 85004 to 85002 is 26.40 at ABC Hauling |\n|On 2021-01-04 the cost per ton from 85004 to 85007 is 26.03 at ABC Hauling |\n+---------------------------------------------------------------------------+\nonly showing top 20 rows\n\n"
     ]
    }
   ],
   "source": [
    "df.show(truncate=False)"
   ]
  },
  {
   "cell_type": "code",
   "execution_count": 0,
   "metadata": {
    "application/vnd.databricks.v1+cell": {
     "cellMetadata": {
      "byteLimit": 2048000,
      "rowLimit": 10000
     },
     "inputWidgets": {},
     "nuid": "30d1cc93-2395-4b0b-80b7-7d3aeac3e6a4",
     "showTitle": false,
     "tableResultSettingsMap": {},
     "title": ""
    }
   },
   "outputs": [],
   "source": [
    "regex_str = r'On (\\S+) the cost per ton from (\\d+) to (\\d+) is (\\S+) at (.*)'\n",
    "\n",
    "df_with_new_columns = df\\\n",
    "    .withColumn('week', f.regexp_extract('text', regex_str, 1))\\\n",
    "    .withColumn('departure_zipcode', f.regexp_extract(f.column('text'), regex_str, 2))\\\n",
    "    .withColumn('arrival_zipcode', f.regexp_extract(df.text, regex_str, 3))\\\n",
    "    .withColumn('cost', f.regexp_extract(f.col('text'), regex_str, 4))\\\n",
    "    .withColumn('vendor', f.regexp_extract(f.col('text'), regex_str, 5))"
   ]
  },
  {
   "cell_type": "code",
   "execution_count": 0,
   "metadata": {
    "application/vnd.databricks.v1+cell": {
     "cellMetadata": {
      "byteLimit": 2048000,
      "rowLimit": 10000
     },
     "inputWidgets": {},
     "nuid": "91507879-d0c2-439e-b397-a0f4836bc9d6",
     "showTitle": false,
     "tableResultSettingsMap": {},
     "title": ""
    }
   },
   "outputs": [
    {
     "output_type": "stream",
     "name": "stdout",
     "output_type": "stream",
     "text": [
      "root\n |-- text: string (nullable = true)\n |-- week: string (nullable = true)\n |-- departure_zipcode: string (nullable = true)\n |-- arrival_zipcode: string (nullable = true)\n |-- cost: string (nullable = true)\n |-- vendor: string (nullable = true)\n\n"
     ]
    }
   ],
   "source": [
    "df_with_new_columns.printSchema()"
   ]
  },
  {
   "cell_type": "code",
   "execution_count": 0,
   "metadata": {
    "application/vnd.databricks.v1+cell": {
     "cellMetadata": {
      "byteLimit": 2048000,
      "rowLimit": 10000
     },
     "inputWidgets": {},
     "nuid": "878dfa24-f6db-4253-b1cc-e0f5724dc9f5",
     "showTitle": false,
     "tableResultSettingsMap": {},
     "title": ""
    }
   },
   "outputs": [],
   "source": [
    "final_df = df_with_new_columns.drop(\"text\")"
   ]
  },
  {
   "cell_type": "code",
   "execution_count": 0,
   "metadata": {
    "application/vnd.databricks.v1+cell": {
     "cellMetadata": {
      "byteLimit": 2048000,
      "rowLimit": 10000
     },
     "inputWidgets": {},
     "nuid": "27b6b837-dcdf-4b58-bde8-1ff5b17e5ad5",
     "showTitle": false,
     "tableResultSettingsMap": {},
     "title": ""
    }
   },
   "outputs": [],
   "source": [
    "final_df.write.csv(\"extracted.csv\", mode=\"overwrite\")"
   ]
  },
  {
   "cell_type": "code",
   "execution_count": 0,
   "metadata": {
    "application/vnd.databricks.v1+cell": {
     "cellMetadata": {
      "byteLimit": 2048000,
      "rowLimit": 10000
     },
     "inputWidgets": {},
     "nuid": "59a029c6-5ace-47a7-ae25-4c0032fbdbaa",
     "showTitle": false,
     "tableResultSettingsMap": {},
     "title": ""
    }
   },
   "outputs": [
    {
     "output_type": "display_data",
     "data": {
      "text/html": [
       "<style scoped>\n",
       "  .table-result-container {\n",
       "    max-height: 300px;\n",
       "    overflow: auto;\n",
       "  }\n",
       "  table, th, td {\n",
       "    border: 1px solid black;\n",
       "    border-collapse: collapse;\n",
       "  }\n",
       "  th, td {\n",
       "    padding: 5px;\n",
       "  }\n",
       "  th {\n",
       "    text-align: left;\n",
       "  }\n",
       "</style><div class='table-result-container'><table class='table-result'><thead style='background-color: white'><tr><th>path</th><th>name</th><th>size</th><th>modificationTime</th></tr></thead><tbody><tr><td>dbfs:/extracted.csv/_SUCCESS</td><td>_SUCCESS</td><td>0</td><td>1743495235000</td></tr><tr><td>dbfs:/extracted.csv/_committed_2870063434376686262</td><td>_committed_2870063434376686262</td><td>112</td><td>1743192105000</td></tr><tr><td>dbfs:/extracted.csv/_committed_4647331972062101456</td><td>_committed_4647331972062101456</td><td>209</td><td>1743495234000</td></tr><tr><td>dbfs:/extracted.csv/_committed_vacuum1421264936678791883</td><td>_committed_vacuum1421264936678791883</td><td>96</td><td>1743495235000</td></tr><tr><td>dbfs:/extracted.csv/_started_4647331972062101456</td><td>_started_4647331972062101456</td><td>0</td><td>1743495233000</td></tr><tr><td>dbfs:/extracted.csv/part-00000-tid-4647331972062101456-2e31b7ae-1cb8-40cc-8cf3-22819218b8a7-3-1-c000.csv</td><td>part-00000-tid-4647331972062101456-2e31b7ae-1cb8-40cc-8cf3-22819218b8a7-3-1-c000.csv</td><td>156423</td><td>1743495234000</td></tr></tbody></table></div>"
      ]
     },
     "metadata": {
      "application/vnd.databricks.v1+output": {
       "addedWidgets": {},
       "aggData": [],
       "aggError": "",
       "aggOverflow": false,
       "aggSchema": [],
       "aggSeriesLimitReached": false,
       "aggType": "",
       "arguments": {},
       "columnCustomDisplayInfos": {},
       "data": [
        [
         "dbfs:/extracted.csv/_SUCCESS",
         "_SUCCESS",
         0,
         1743495235000
        ],
        [
         "dbfs:/extracted.csv/_committed_2870063434376686262",
         "_committed_2870063434376686262",
         112,
         1743192105000
        ],
        [
         "dbfs:/extracted.csv/_committed_4647331972062101456",
         "_committed_4647331972062101456",
         209,
         1743495234000
        ],
        [
         "dbfs:/extracted.csv/_committed_vacuum1421264936678791883",
         "_committed_vacuum1421264936678791883",
         96,
         1743495235000
        ],
        [
         "dbfs:/extracted.csv/_started_4647331972062101456",
         "_started_4647331972062101456",
         0,
         1743495233000
        ],
        [
         "dbfs:/extracted.csv/part-00000-tid-4647331972062101456-2e31b7ae-1cb8-40cc-8cf3-22819218b8a7-3-1-c000.csv",
         "part-00000-tid-4647331972062101456-2e31b7ae-1cb8-40cc-8cf3-22819218b8a7-3-1-c000.csv",
         156423,
         1743495234000
        ]
       ],
       "datasetInfos": [],
       "dbfsResultPath": null,
       "isJsonSchema": true,
       "metadata": {
        "isDbfsCommandResult": false
       },
       "overflow": false,
       "plotOptions": {
        "customPlotOptions": {},
        "displayType": "table",
        "pivotAggregation": null,
        "pivotColumns": null,
        "xColumns": null,
        "yColumns": null
       },
       "removedWidgets": [],
       "schema": [
        {
         "metadata": "{}",
         "name": "path",
         "type": "\"string\""
        },
        {
         "metadata": "{}",
         "name": "name",
         "type": "\"string\""
        },
        {
         "metadata": "{}",
         "name": "size",
         "type": "\"long\""
        },
        {
         "metadata": "{}",
         "name": "modificationTime",
         "type": "\"long\""
        }
       ],
       "type": "table"
      }
     },
     "output_type": "display_data"
    }
   ],
   "source": [
    "%fs ls dbfs:/extracted.csv/"
   ]
  },
  {
   "cell_type": "code",
   "execution_count": 0,
   "metadata": {
    "application/vnd.databricks.v1+cell": {
     "cellMetadata": {
      "byteLimit": 2048000,
      "rowLimit": 10000
     },
     "inputWidgets": {},
     "nuid": "c9c7a263-87ae-4ad1-8bbc-caa5574aea08",
     "showTitle": false,
     "tableResultSettingsMap": {},
     "title": ""
    }
   },
   "outputs": [],
   "source": [
    "final_df.write.format(\"json\").save(\"extracted.json\", mode=\"overwrite\")"
   ]
  },
  {
   "cell_type": "code",
   "execution_count": 0,
   "metadata": {
    "application/vnd.databricks.v1+cell": {
     "cellMetadata": {
      "byteLimit": 2048000,
      "rowLimit": 10000
     },
     "inputWidgets": {},
     "nuid": "9d28b06b-a710-4430-a773-d66106892ffc",
     "showTitle": false,
     "tableResultSettingsMap": {},
     "title": ""
    }
   },
   "outputs": [
    {
     "output_type": "display_data",
     "data": {
      "text/html": [
       "<style scoped>\n",
       "  .table-result-container {\n",
       "    max-height: 300px;\n",
       "    overflow: auto;\n",
       "  }\n",
       "  table, th, td {\n",
       "    border: 1px solid black;\n",
       "    border-collapse: collapse;\n",
       "  }\n",
       "  th, td {\n",
       "    padding: 5px;\n",
       "  }\n",
       "  th {\n",
       "    text-align: left;\n",
       "  }\n",
       "</style><div class='table-result-container'><table class='table-result'><thead style='background-color: white'><tr><th>path</th><th>name</th><th>size</th><th>modificationTime</th></tr></thead><tbody><tr><td>dbfs:/extracted.json/_SUCCESS</td><td>_SUCCESS</td><td>0</td><td>1743495329000</td></tr><tr><td>dbfs:/extracted.json/_committed_2194929421918048030</td><td>_committed_2194929421918048030</td><td>113</td><td>1743192181000</td></tr><tr><td>dbfs:/extracted.json/_committed_8397155499577508729</td><td>_committed_8397155499577508729</td><td>211</td><td>1743495329000</td></tr><tr><td>dbfs:/extracted.json/_committed_vacuum7933004407605867108</td><td>_committed_vacuum7933004407605867108</td><td>96</td><td>1743495330000</td></tr><tr><td>dbfs:/extracted.json/_started_8397155499577508729</td><td>_started_8397155499577508729</td><td>0</td><td>1743495328000</td></tr><tr><td>dbfs:/extracted.json/part-00000-tid-8397155499577508729-110b9591-4740-4073-81a7-b681cf20d96c-4-1-c000.json</td><td>part-00000-tid-8397155499577508729-110b9591-4740-4073-81a7-b681cf20d96c-4-1-c000.json</td><td>436305</td><td>1743495328000</td></tr></tbody></table></div>"
      ]
     },
     "metadata": {
      "application/vnd.databricks.v1+output": {
       "addedWidgets": {},
       "aggData": [],
       "aggError": "",
       "aggOverflow": false,
       "aggSchema": [],
       "aggSeriesLimitReached": false,
       "aggType": "",
       "arguments": {},
       "columnCustomDisplayInfos": {},
       "data": [
        [
         "dbfs:/extracted.json/_SUCCESS",
         "_SUCCESS",
         0,
         1743495329000
        ],
        [
         "dbfs:/extracted.json/_committed_2194929421918048030",
         "_committed_2194929421918048030",
         113,
         1743192181000
        ],
        [
         "dbfs:/extracted.json/_committed_8397155499577508729",
         "_committed_8397155499577508729",
         211,
         1743495329000
        ],
        [
         "dbfs:/extracted.json/_committed_vacuum7933004407605867108",
         "_committed_vacuum7933004407605867108",
         96,
         1743495330000
        ],
        [
         "dbfs:/extracted.json/_started_8397155499577508729",
         "_started_8397155499577508729",
         0,
         1743495328000
        ],
        [
         "dbfs:/extracted.json/part-00000-tid-8397155499577508729-110b9591-4740-4073-81a7-b681cf20d96c-4-1-c000.json",
         "part-00000-tid-8397155499577508729-110b9591-4740-4073-81a7-b681cf20d96c-4-1-c000.json",
         436305,
         1743495328000
        ]
       ],
       "datasetInfos": [],
       "dbfsResultPath": null,
       "isJsonSchema": true,
       "metadata": {
        "isDbfsCommandResult": false
       },
       "overflow": false,
       "plotOptions": {
        "customPlotOptions": {},
        "displayType": "table",
        "pivotAggregation": null,
        "pivotColumns": null,
        "xColumns": null,
        "yColumns": null
       },
       "removedWidgets": [],
       "schema": [
        {
         "metadata": "{}",
         "name": "path",
         "type": "\"string\""
        },
        {
         "metadata": "{}",
         "name": "name",
         "type": "\"string\""
        },
        {
         "metadata": "{}",
         "name": "size",
         "type": "\"long\""
        },
        {
         "metadata": "{}",
         "name": "modificationTime",
         "type": "\"long\""
        }
       ],
       "type": "table"
      }
     },
     "output_type": "display_data"
    }
   ],
   "source": [
    "%fs ls dbfs:/extracted.json/"
   ]
  },
  {
   "cell_type": "code",
   "execution_count": 0,
   "metadata": {
    "application/vnd.databricks.v1+cell": {
     "cellMetadata": {
      "byteLimit": 2048000,
      "rowLimit": 10000
     },
     "inputWidgets": {},
     "nuid": "a9b579cc-6300-4ad4-914d-6a1a5834546c",
     "showTitle": false,
     "tableResultSettingsMap": {},
     "title": ""
    }
   },
   "outputs": [],
   "source": [
    "df_with_new_columns.createOrReplaceTempView(\"transfer_cost\")"
   ]
  },
  {
   "cell_type": "code",
   "execution_count": 0,
   "metadata": {
    "application/vnd.databricks.v1+cell": {
     "cellMetadata": {
      "byteLimit": 2048000,
      "rowLimit": 10000
     },
     "inputWidgets": {},
     "nuid": "4212814f-f64a-4f3d-8e94-67f2a8b82a98",
     "showTitle": false,
     "tableResultSettingsMap": {},
     "title": ""
    }
   },
   "outputs": [],
   "source": [
    "df_most_popular_route_10 = spark.sql(\"\"\"\n",
    "    SELECT departure_zipcode, arrival_zipcode, COUNT(1) as count\n",
    "    FROM transfer_cost\n",
    "    GROUP BY 1, 2\n",
    "    ORDER BY 3 DESC\n",
    "    LIMIT 10\n",
    "\"\"\")"
   ]
  },
  {
   "cell_type": "code",
   "execution_count": 0,
   "metadata": {
    "application/vnd.databricks.v1+cell": {
     "cellMetadata": {
      "byteLimit": 2048000,
      "rowLimit": 10000
     },
     "inputWidgets": {},
     "nuid": "f3798c6c-4882-446a-a1fc-456377a5d42d",
     "showTitle": false,
     "tableResultSettingsMap": {},
     "title": ""
    }
   },
   "outputs": [
    {
     "output_type": "stream",
     "name": "stdout",
     "output_type": "stream",
     "text": [
      "+-----------------+---------------+-----+\n|departure_zipcode|arrival_zipcode|count|\n+-----------------+---------------+-----+\n|            85004|          85001|   56|\n|            85013|          85001|   56|\n|            85020|          85021|   56|\n|            85012|          85021|   55|\n|            85001|          85007|   55|\n|            85007|          85021|   55|\n|            85012|          85013|   55|\n|            85012|          85002|   55|\n|            85004|          85021|   55|\n|            85010|          85012|   55|\n+-----------------+---------------+-----+\n\n"
     ]
    }
   ],
   "source": [
    "df_most_popular_route_10.show()"
   ]
  }
 ],
 "metadata": {
  "application/vnd.databricks.v1+notebook": {
   "computePreferences": null,
   "dashboards": [],
   "environmentMetadata": {
    "base_environment": "",
    "environment_version": "1"
   },
   "inputWidgetPreferences": null,
   "language": "python",
   "notebookMetadata": {
    "mostRecentlyExecutedCommandWithImplicitDF": {
     "commandId": 3997460530735017,
     "dataframes": [
      "_sqldf"
     ]
    },
    "pythonIndentUnit": 4
   },
   "notebookName": "텍스트를 파싱해서 구조화된 데이터로 변환하기",
   "widgets": {}
  }
 },
 "nbformat": 4,
 "nbformat_minor": 0
}
