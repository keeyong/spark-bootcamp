{
 "cells": [
  {
   "cell_type": "code",
   "execution_count": 0,
   "metadata": {
    "application/vnd.databricks.v1+cell": {
     "cellMetadata": {
      "byteLimit": 2048000,
      "rowLimit": 10000
     },
     "inputWidgets": {},
     "nuid": "409febf8-9d0c-4326-ba0c-be715d9fa8f8",
     "showTitle": false,
     "tableResultSettingsMap": {},
     "title": ""
    }
   },
   "outputs": [],
   "source": [
    "df = spark.read.format(\"csv\") \\\n",
    "    .option(\"header\", \"true\") \\\n",
    "    .load(\"/Volumes/workspace/default/csv_data/*.csv\")"
   ]
  },
  {
   "cell_type": "code",
   "execution_count": 0,
   "metadata": {
    "application/vnd.databricks.v1+cell": {
     "cellMetadata": {
      "byteLimit": 2048000,
      "rowLimit": 10000
     },
     "inputWidgets": {},
     "nuid": "c8505aa9-e113-4e4c-9401-5145386815cd",
     "showTitle": false,
     "tableResultSettingsMap": {},
     "title": ""
    }
   },
   "outputs": [
    {
     "output_type": "stream",
     "name": "stdout",
     "output_type": "stream",
     "text": [
      "+--------+---------+\n|category|    value|\n+--------+---------+\n|       E|34.428983|\n|       B| 8.260422|\n|       C|40.582960|\n|       D|62.861538|\n|       B|29.420616|\n|       D| 8.635441|\n|       E|79.314977|\n|       A|44.416017|\n|       D|15.352240|\n|       D|45.183528|\n|       A|22.942472|\n|       E|65.832677|\n|       A|99.911955|\n|       D|53.689501|\n|       A|60.810370|\n|       B|96.753435|\n|       A|16.889099|\n|       A|35.686766|\n|       D|93.292601|\n|       B|77.622635|\n+--------+---------+\nonly showing top 20 rows\n"
     ]
    }
   ],
   "source": [
    "df.show()"
   ]
  },
  {
   "cell_type": "code",
   "execution_count": 0,
   "metadata": {
    "application/vnd.databricks.v1+cell": {
     "cellMetadata": {
      "byteLimit": 2048000,
      "rowLimit": 10000
     },
     "inputWidgets": {},
     "nuid": "6e2f0b71-efb7-4d20-8cd0-7392c12c3a44",
     "showTitle": false,
     "tableResultSettingsMap": {},
     "title": ""
    }
   },
   "outputs": [
    {
     "output_type": "execute_result",
     "data": {
      "text/plain": [
       "100000000"
      ]
     },
     "execution_count": 4,
     "metadata": {},
     "output_type": "execute_result"
    }
   ],
   "source": [
    "df.count()"
   ]
  },
  {
   "cell_type": "code",
   "execution_count": 0,
   "metadata": {
    "application/vnd.databricks.v1+cell": {
     "cellMetadata": {
      "byteLimit": 2048000,
      "rowLimit": 10000
     },
     "inputWidgets": {},
     "nuid": "bc9602eb-9a71-409f-afba-a5d97ff44317",
     "showTitle": false,
     "tableResultSettingsMap": {},
     "title": ""
    }
   },
   "outputs": [
    {
     "output_type": "stream",
     "name": "stdout",
     "output_type": "stream",
     "text": [
      "\n카테고리별 평균 계산:\nSpark 실행 시간: 20.90초\n[Row(category='A', value_avg=49.99337618849621), Row(category='B', value_avg=49.99679239337954), Row(category='C', value_avg=50.00905344126516), Row(category='D', value_avg=49.992970434460325), Row(category='E', value_avg=49.99504831441815)]\n"
     ]
    }
   ],
   "source": [
    "from pyspark.sql.functions import avg\n",
    "import time\n",
    "\n",
    "# 벤치마크: 카테고리별 평균 계산\n",
    "print(\"\\n카테고리별 평균 계산:\")\n",
    "\n",
    "spark_start = time.time()\n",
    "spark_result = df.groupby('category').agg(avg('value').alias('value_avg')).orderBy('category')\n",
    "spark_result_collected = spark_result.collect()  # 액션 실행\n",
    "spark_time = time.time() - spark_start\n",
    "print(f\"Spark 실행 시간: {spark_time:.2f}초\")\n",
    "print(spark_result_collected)"
   ]
  },
  {
   "cell_type": "code",
   "execution_count": 0,
   "metadata": {
    "application/vnd.databricks.v1+cell": {
     "cellMetadata": {
      "byteLimit": 2048000,
      "rowLimit": 10000
     },
     "inputWidgets": {},
     "nuid": "c7e1bfab-38fb-4ef1-9d32-9e1996f365b0",
     "showTitle": false,
     "tableResultSettingsMap": {},
     "title": ""
    }
   },
   "outputs": [],
   "source": [
    "df_1B = spark.read.format(\"csv\") \\\n",
    "    .option(\"header\", \"true\") \\\n",
    "    .load(\"/Volumes/workspace/default/csv_data_1B/*.csv\")"
   ]
  },
  {
   "cell_type": "code",
   "execution_count": 0,
   "metadata": {
    "application/vnd.databricks.v1+cell": {
     "cellMetadata": {
      "byteLimit": 2048000,
      "rowLimit": 10000
     },
     "inputWidgets": {},
     "nuid": "af739059-e0a5-4ee6-a4b0-fbe366e0bb90",
     "showTitle": false,
     "tableResultSettingsMap": {},
     "title": ""
    }
   },
   "outputs": [
    {
     "output_type": "stream",
     "name": "stdout",
     "output_type": "stream",
     "text": [
      "+--------+---------+\n|category|    value|\n+--------+---------+\n|       A|83.037067|\n|       B|90.359071|\n|       D|91.932310|\n|       D|44.001562|\n|       C|40.666341|\n|       D|74.190310|\n|       B|75.553067|\n|       C|84.660892|\n|       E|25.076658|\n|       D|65.026285|\n|       C|26.694129|\n|       E|64.666313|\n|       A|86.228806|\n|       A|54.327551|\n|       C|98.462621|\n|       C|97.625106|\n|       E|37.240228|\n|       E|42.553209|\n|       D|65.003225|\n|       B|37.467602|\n+--------+---------+\nonly showing top 20 rows\n"
     ]
    }
   ],
   "source": [
    "df_1B.show()"
   ]
  },
  {
   "cell_type": "code",
   "execution_count": 0,
   "metadata": {
    "application/vnd.databricks.v1+cell": {
     "cellMetadata": {
      "byteLimit": 2048000,
      "rowLimit": 10000
     },
     "inputWidgets": {},
     "nuid": "7c0afce6-69a0-4268-aae1-8285692886f9",
     "showTitle": false,
     "tableResultSettingsMap": {},
     "title": ""
    }
   },
   "outputs": [
    {
     "output_type": "execute_result",
     "data": {
      "text/plain": [
       "1000000000"
      ]
     },
     "execution_count": 8,
     "metadata": {},
     "output_type": "execute_result"
    }
   ],
   "source": [
    "df_1B.count()"
   ]
  },
  {
   "cell_type": "code",
   "execution_count": 0,
   "metadata": {
    "application/vnd.databricks.v1+cell": {
     "cellMetadata": {
      "byteLimit": 2048000,
      "rowLimit": 10000
     },
     "inputWidgets": {},
     "nuid": "db13ba19-17c1-4c90-9f20-8e387731e736",
     "showTitle": false,
     "tableResultSettingsMap": {},
     "title": ""
    }
   },
   "outputs": [
    {
     "output_type": "stream",
     "name": "stdout",
     "output_type": "stream",
     "text": [
      "\n카테고리별 평균 계산:\nSpark 실행 시간: 113.02초\n[Row(category='A', value_avg=50.00004724822896), Row(category='B', value_avg=50.00123223306212), Row(category='C', value_avg=49.99804038733005), Row(category='D', value_avg=50.00233117999002), Row(category='E', value_avg=49.998993001068)]\n"
     ]
    }
   ],
   "source": [
    "from pyspark.sql.functions import avg\n",
    "import time\n",
    "\n",
    "# 벤치마크: 카테고리별 평균 계산\n",
    "print(\"\\n카테고리별 평균 계산:\")\n",
    "\n",
    "spark_start = time.time()\n",
    "spark_result_1B = df_1B.groupby('category').agg(avg('value').alias('value_avg')).orderBy('category')\n",
    "spark_result_collected_1B = spark_result_1B.collect()  # 액션 실행\n",
    "spark_time = time.time() - spark_start\n",
    "print(f\"Spark 실행 시간: {spark_time:.2f}초\")\n",
    "print(spark_result_collected_1B)"
   ]
  },
  {
   "cell_type": "code",
   "execution_count": 0,
   "metadata": {
    "application/vnd.databricks.v1+cell": {
     "cellMetadata": {
      "byteLimit": 2048000,
      "rowLimit": 10000
     },
     "inputWidgets": {},
     "nuid": "37b875a4-2091-4c68-9e1a-5a5265692f4d",
     "showTitle": false,
     "tableResultSettingsMap": {},
     "title": ""
    }
   },
   "outputs": [],
   "source": [
    "spark_result_1B.write.mode(\"overwrite\").saveAsTable(\"workspace.default.category_average\")"
   ]
  }
 ],
 "metadata": {
  "application/vnd.databricks.v1+notebook": {
   "computePreferences": null,
   "dashboards": [],
   "environmentMetadata": {
    "base_environment": "",
    "environment_version": "2"
   },
   "language": "python",
   "notebookMetadata": {
    "mostRecentlyExecutedCommandWithImplicitDF": {
     "commandId": 4836090976722574,
     "dataframes": [
      "_sqldf"
     ]
    },
    "pythonIndentUnit": 4
   },
   "notebookName": "[Databricks Free Trial] Serverless 100M & 1B 레코드 처리",
   "widgets": {}
  },
  "language_info": {
   "name": "python"
  }
 },
 "nbformat": 4,
 "nbformat_minor": 0
}