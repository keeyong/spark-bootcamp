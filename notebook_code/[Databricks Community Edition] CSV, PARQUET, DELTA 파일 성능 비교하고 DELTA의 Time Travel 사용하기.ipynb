{
 "cells": [
  {
   "cell_type": "markdown",
   "metadata": {
    "application/vnd.databricks.v1+cell": {
     "cellMetadata": {},
     "inputWidgets": {},
     "nuid": "51d0d109-2f4b-4635-9d39-c0e4e6db6236",
     "showTitle": false,
     "tableResultSettingsMap": {},
     "title": ""
    }
   },
   "source": [
    "## 테스트 데이터 준비"
   ]
  },
  {
   "cell_type": "code",
   "execution_count": 0,
   "metadata": {
    "application/vnd.databricks.v1+cell": {
     "cellMetadata": {
      "byteLimit": 2048000,
      "rowLimit": 10000
     },
     "inputWidgets": {},
     "nuid": "573e6979-37fb-4c7c-823b-8a38d0e4b910",
     "showTitle": false,
     "tableResultSettingsMap": {},
     "title": ""
    }
   },
   "outputs": [],
   "source": [
    "# 1. 샘플 데이터 생성 (1000만 개 레코드)\n",
    "data = [(i, f\"name_{i}\", float(i % 100) * 1.1) for i in range(10**7)]\n",
    "df = spark.createDataFrame(data, [\"id\", \"name\", \"value\"])"
   ]
  },
  {
   "cell_type": "code",
   "execution_count": 0,
   "metadata": {
    "application/vnd.databricks.v1+cell": {
     "cellMetadata": {
      "byteLimit": 2048000,
      "rowLimit": 10000
     },
     "inputWidgets": {},
     "nuid": "9a042f47-e12f-40aa-ba25-10d5eaa2c3e2",
     "showTitle": false,
     "tableResultSettingsMap": {},
     "title": ""
    }
   },
   "outputs": [],
   "source": [
    "# 2. 저장 경로 지정\n",
    "csv_path = \"dbfs:/test_data_csv\"\n",
    "parquet_path = \"dbfs:/test_data_parquet\"\n",
    "delta_path = \"dbfs:/test_data_delta\""
   ]
  },
  {
   "cell_type": "code",
   "execution_count": 0,
   "metadata": {
    "application/vnd.databricks.v1+cell": {
     "cellMetadata": {
      "byteLimit": 2048000,
      "rowLimit": 10000
     },
     "inputWidgets": {},
     "nuid": "04e74c77-dd3b-4d65-a34e-858f156f5308",
     "showTitle": false,
     "tableResultSettingsMap": {},
     "title": ""
    }
   },
   "outputs": [],
   "source": [
    "# 3. 저장\n",
    "df.write.mode(\"overwrite\").option(\"header\", True).csv(csv_path)\n",
    "df.write.mode(\"overwrite\").parquet(parquet_path)\n",
    "df.write.mode(\"overwrite\").format(\"delta\").save(delta_path)"
   ]
  },
  {
   "cell_type": "markdown",
   "metadata": {
    "application/vnd.databricks.v1+cell": {
     "cellMetadata": {},
     "inputWidgets": {},
     "nuid": "62035867-051e-40ff-bec5-172e67e684bd",
     "showTitle": false,
     "tableResultSettingsMap": {},
     "title": ""
    }
   },
   "source": [
    "## 타입별 읽기 성능 체크해보기"
   ]
  },
  {
   "cell_type": "code",
   "execution_count": 0,
   "metadata": {
    "application/vnd.databricks.v1+cell": {
     "cellMetadata": {
      "byteLimit": 2048000,
      "rowLimit": 10000
     },
     "inputWidgets": {},
     "nuid": "5eba3efa-4fb6-4e6b-870f-01526f3e499c",
     "showTitle": false,
     "tableResultSettingsMap": {},
     "title": ""
    }
   },
   "outputs": [
    {
     "output_type": "stream",
     "name": "stdout",
     "output_type": "stream",
     "text": [
      "CSV Load Time:     9.32 seconds\n"
     ]
    }
   ],
   "source": [
    "import time\n",
    "\n",
    "# CSV 로드 시간 측정\n",
    "start_csv = time.time()\n",
    "df_csv = spark.read.option(\"header\", True).csv(csv_path)\n",
    "df_csv.count()\n",
    "end_csv = time.time()\n",
    "\n",
    "print(f\"CSV Load Time:     {end_csv - start_csv:.2f} seconds\")"
   ]
  },
  {
   "cell_type": "code",
   "execution_count": 0,
   "metadata": {
    "application/vnd.databricks.v1+cell": {
     "cellMetadata": {
      "byteLimit": 2048000,
      "rowLimit": 10000
     },
     "inputWidgets": {},
     "nuid": "71c2b75a-bd08-419f-8b75-67641c782a48",
     "showTitle": false,
     "tableResultSettingsMap": {},
     "title": ""
    }
   },
   "outputs": [
    {
     "output_type": "stream",
     "name": "stdout",
     "output_type": "stream",
     "text": [
      "Parquet Load Time: 2.37 seconds\n"
     ]
    }
   ],
   "source": [
    "# Parquet 로드 시간 측정\n",
    "start_parquet = time.time()\n",
    "df_parquet = spark.read.parquet(parquet_path)\n",
    "df_parquet.count()\n",
    "end_parquet = time.time()\n",
    "\n",
    "print(f\"Parquet Load Time: {end_parquet - start_parquet:.2f} seconds\")"
   ]
  },
  {
   "cell_type": "code",
   "execution_count": 0,
   "metadata": {
    "application/vnd.databricks.v1+cell": {
     "cellMetadata": {
      "byteLimit": 2048000,
      "rowLimit": 10000
     },
     "inputWidgets": {},
     "nuid": "24e2d1d2-8801-4b96-923c-cc48e6cfef19",
     "showTitle": false,
     "tableResultSettingsMap": {},
     "title": ""
    }
   },
   "outputs": [
    {
     "output_type": "stream",
     "name": "stdout",
     "output_type": "stream",
     "text": [
      "Delta Load Time: 1.28 seconds\n"
     ]
    }
   ],
   "source": [
    "# Delta 로드 시간 측정\n",
    "start_delta = time.time()\n",
    "df_delta = spark.read.format(\"delta\").load(delta_path)\n",
    "df_delta.count()\n",
    "end_delta = time.time()\n",
    "\n",
    "print(f\"Delta Load Time: {end_delta - start_delta:.2f} seconds\")"
   ]
  },
  {
   "cell_type": "markdown",
   "metadata": {
    "application/vnd.databricks.v1+cell": {
     "cellMetadata": {},
     "inputWidgets": {},
     "nuid": "383aae65-eca5-49f2-a803-9a507a4d6b4e",
     "showTitle": false,
     "tableResultSettingsMap": {},
     "title": ""
    }
   },
   "source": [
    "## DELTA의 Time Travel 기능을 사용해보기"
   ]
  },
  {
   "cell_type": "code",
   "execution_count": 0,
   "metadata": {
    "application/vnd.databricks.v1+cell": {
     "cellMetadata": {
      "byteLimit": 2048000,
      "rowLimit": 10000
     },
     "inputWidgets": {},
     "nuid": "701d8aaf-cfe5-4b47-a00d-35750b354ba6",
     "showTitle": false,
     "tableResultSettingsMap": {},
     "title": ""
    }
   },
   "outputs": [],
   "source": [
    "from pyspark.sql import Row\n",
    "\n",
    "df1 = spark.createDataFrame([Row(id=1, name=\"Alice\"), Row(id=2, name=\"Bob\")])\n",
    "df1.write.format(\"delta\").mode(\"overwrite\").save(\"dbfs:/delta_tt_example\")"
   ]
  },
  {
   "cell_type": "code",
   "execution_count": 0,
   "metadata": {
    "application/vnd.databricks.v1+cell": {
     "cellMetadata": {
      "byteLimit": 2048000,
      "rowLimit": 10000
     },
     "inputWidgets": {},
     "nuid": "e86a8a0c-489f-444c-b170-da2b86b48042",
     "showTitle": false,
     "tableResultSettingsMap": {},
     "title": ""
    }
   },
   "outputs": [],
   "source": [
    "df2 = spark.createDataFrame([Row(id=1, name=\"Alice_updated\"), Row(id=2, name=\"Bob_updated\")])\n",
    "df2.write.format(\"delta\").mode(\"overwrite\").save(\"dbfs:/delta_tt_example\")"
   ]
  },
  {
   "cell_type": "code",
   "execution_count": 0,
   "metadata": {
    "application/vnd.databricks.v1+cell": {
     "cellMetadata": {
      "byteLimit": 2048000,
      "rowLimit": 10000
     },
     "inputWidgets": {},
     "nuid": "6e9b2773-3e33-4ae5-94ff-c169ef954a5a",
     "showTitle": false,
     "tableResultSettingsMap": {},
     "title": ""
    }
   },
   "outputs": [
    {
     "output_type": "stream",
     "name": "stdout",
     "output_type": "stream",
     "text": [
      "+---+-------------+\n| id|         name|\n+---+-------------+\n|  1|Alice_updated|\n|  2|  Bob_updated|\n+---+-------------+\n\n"
     ]
    }
   ],
   "source": [
    "# 최신 버전 (version 1)\n",
    "df_latest = spark.read.format(\"delta\").load(\"dbfs:/delta_tt_example\")\n",
    "df_latest.show()"
   ]
  },
  {
   "cell_type": "code",
   "execution_count": 0,
   "metadata": {
    "application/vnd.databricks.v1+cell": {
     "cellMetadata": {
      "byteLimit": 2048000,
      "rowLimit": 10000
     },
     "inputWidgets": {},
     "nuid": "55c8c1e1-6e97-424a-9170-bd762a6a36a9",
     "showTitle": false,
     "tableResultSettingsMap": {},
     "title": ""
    }
   },
   "outputs": [
    {
     "output_type": "stream",
     "name": "stdout",
     "output_type": "stream",
     "text": [
      "+---+-----+\n| id| name|\n+---+-----+\n|  1|Alice|\n|  2|  Bob|\n+---+-----+\n\n"
     ]
    }
   ],
   "source": [
    "# 이전 버전 (version 0)\n",
    "# 타임스탬프를 사용할 수도 있음 (timestampAsOf=\"2025-04-15 10:00:00\")\n",
    "df_old = spark.read.format(\"delta\").option(\"versionAsOf\", 0).load(\"dbfs:/delta_tt_example\")\n",
    "df_old.show()"
   ]
  },
  {
   "cell_type": "markdown",
   "metadata": {
    "application/vnd.databricks.v1+cell": {
     "cellMetadata": {},
     "inputWidgets": {},
     "nuid": "9a85f901-7c51-45b4-81b6-91c39aeba936",
     "showTitle": false,
     "tableResultSettingsMap": {},
     "title": ""
    }
   },
   "source": [
    "Delta 포맷은 PARQUET를 기본으로 쓰고 그 위에 다양한 기능 추가"
   ]
  },
  {
   "cell_type": "code",
   "execution_count": 0,
   "metadata": {
    "application/vnd.databricks.v1+cell": {
     "cellMetadata": {
      "byteLimit": 2048000,
      "rowLimit": 10000
     },
     "inputWidgets": {},
     "nuid": "de44ca5b-5235-4046-93dd-9198af4e08d5",
     "showTitle": false,
     "tableResultSettingsMap": {},
     "title": ""
    }
   },
   "outputs": [
    {
     "output_type": "display_data",
     "data": {
      "text/html": [
       "<style scoped>\n",
       "  .table-result-container {\n",
       "    max-height: 300px;\n",
       "    overflow: auto;\n",
       "  }\n",
       "  table, th, td {\n",
       "    border: 1px solid black;\n",
       "    border-collapse: collapse;\n",
       "  }\n",
       "  th, td {\n",
       "    padding: 5px;\n",
       "  }\n",
       "  th {\n",
       "    text-align: left;\n",
       "  }\n",
       "</style><div class='table-result-container'><table class='table-result'><thead style='background-color: white'><tr><th>path</th><th>name</th><th>size</th><th>modificationTime</th></tr></thead><tbody><tr><td>dbfs:/delta_tt_example/_delta_log/</td><td>_delta_log/</td><td>0</td><td>0</td></tr><tr><td>dbfs:/delta_tt_example/part-00003-26db0ed0-e390-4b60-b4b2-d30260c13897-c000.snappy.parquet</td><td>part-00003-26db0ed0-e390-4b60-b4b2-d30260c13897-c000.snappy.parquet</td><td>841</td><td>1743905023000</td></tr><tr><td>dbfs:/delta_tt_example/part-00003-9e682a15-c5e5-4f6c-af25-5e3f5cf4c14f-c000.snappy.parquet</td><td>part-00003-9e682a15-c5e5-4f6c-af25-5e3f5cf4c14f-c000.snappy.parquet</td><td>841</td><td>1743917161000</td></tr><tr><td>dbfs:/delta_tt_example/part-00003-c520c718-bf95-4190-a407-10e3cbd760f0-c000.snappy.parquet</td><td>part-00003-c520c718-bf95-4190-a407-10e3cbd760f0-c000.snappy.parquet</td><td>897</td><td>1743905094000</td></tr><tr><td>dbfs:/delta_tt_example/part-00003-d54d3fdd-a334-4359-96bb-2838386d3415-c000.snappy.parquet</td><td>part-00003-d54d3fdd-a334-4359-96bb-2838386d3415-c000.snappy.parquet</td><td>897</td><td>1743917205000</td></tr><tr><td>dbfs:/delta_tt_example/part-00007-139b2391-ec38-482c-9f41-19e17e71f285-c000.snappy.parquet</td><td>part-00007-139b2391-ec38-482c-9f41-19e17e71f285-c000.snappy.parquet</td><td>827</td><td>1743905023000</td></tr><tr><td>dbfs:/delta_tt_example/part-00007-39fc5252-1df5-486e-a098-f30c87c9188a-c000.snappy.parquet</td><td>part-00007-39fc5252-1df5-486e-a098-f30c87c9188a-c000.snappy.parquet</td><td>883</td><td>1743905094000</td></tr><tr><td>dbfs:/delta_tt_example/part-00007-c5bf196b-a9ed-4576-b70b-1de4be11f901-c000.snappy.parquet</td><td>part-00007-c5bf196b-a9ed-4576-b70b-1de4be11f901-c000.snappy.parquet</td><td>827</td><td>1743917161000</td></tr><tr><td>dbfs:/delta_tt_example/part-00007-d9dabcce-4c70-4831-9887-3eeb6e0a8171-c000.snappy.parquet</td><td>part-00007-d9dabcce-4c70-4831-9887-3eeb6e0a8171-c000.snappy.parquet</td><td>883</td><td>1743917205000</td></tr></tbody></table></div>"
      ]
     },
     "metadata": {
      "application/vnd.databricks.v1+output": {
       "addedWidgets": {},
       "aggData": [],
       "aggError": "",
       "aggOverflow": false,
       "aggSchema": [],
       "aggSeriesLimitReached": false,
       "aggType": "",
       "arguments": {},
       "columnCustomDisplayInfos": {},
       "data": [
        [
         "dbfs:/delta_tt_example/_delta_log/",
         "_delta_log/",
         0,
         0
        ],
        [
         "dbfs:/delta_tt_example/part-00003-26db0ed0-e390-4b60-b4b2-d30260c13897-c000.snappy.parquet",
         "part-00003-26db0ed0-e390-4b60-b4b2-d30260c13897-c000.snappy.parquet",
         841,
         1743905023000
        ],
        [
         "dbfs:/delta_tt_example/part-00003-9e682a15-c5e5-4f6c-af25-5e3f5cf4c14f-c000.snappy.parquet",
         "part-00003-9e682a15-c5e5-4f6c-af25-5e3f5cf4c14f-c000.snappy.parquet",
         841,
         1743917161000
        ],
        [
         "dbfs:/delta_tt_example/part-00003-c520c718-bf95-4190-a407-10e3cbd760f0-c000.snappy.parquet",
         "part-00003-c520c718-bf95-4190-a407-10e3cbd760f0-c000.snappy.parquet",
         897,
         1743905094000
        ],
        [
         "dbfs:/delta_tt_example/part-00003-d54d3fdd-a334-4359-96bb-2838386d3415-c000.snappy.parquet",
         "part-00003-d54d3fdd-a334-4359-96bb-2838386d3415-c000.snappy.parquet",
         897,
         1743917205000
        ],
        [
         "dbfs:/delta_tt_example/part-00007-139b2391-ec38-482c-9f41-19e17e71f285-c000.snappy.parquet",
         "part-00007-139b2391-ec38-482c-9f41-19e17e71f285-c000.snappy.parquet",
         827,
         1743905023000
        ],
        [
         "dbfs:/delta_tt_example/part-00007-39fc5252-1df5-486e-a098-f30c87c9188a-c000.snappy.parquet",
         "part-00007-39fc5252-1df5-486e-a098-f30c87c9188a-c000.snappy.parquet",
         883,
         1743905094000
        ],
        [
         "dbfs:/delta_tt_example/part-00007-c5bf196b-a9ed-4576-b70b-1de4be11f901-c000.snappy.parquet",
         "part-00007-c5bf196b-a9ed-4576-b70b-1de4be11f901-c000.snappy.parquet",
         827,
         1743917161000
        ],
        [
         "dbfs:/delta_tt_example/part-00007-d9dabcce-4c70-4831-9887-3eeb6e0a8171-c000.snappy.parquet",
         "part-00007-d9dabcce-4c70-4831-9887-3eeb6e0a8171-c000.snappy.parquet",
         883,
         1743917205000
        ]
       ],
       "datasetInfos": [],
       "dbfsResultPath": null,
       "isJsonSchema": true,
       "metadata": {
        "isDbfsCommandResult": false
       },
       "overflow": false,
       "plotOptions": {
        "customPlotOptions": {},
        "displayType": "table",
        "pivotAggregation": null,
        "pivotColumns": null,
        "xColumns": null,
        "yColumns": null
       },
       "removedWidgets": [],
       "schema": [
        {
         "metadata": "{}",
         "name": "path",
         "type": "\"string\""
        },
        {
         "metadata": "{}",
         "name": "name",
         "type": "\"string\""
        },
        {
         "metadata": "{}",
         "name": "size",
         "type": "\"long\""
        },
        {
         "metadata": "{}",
         "name": "modificationTime",
         "type": "\"long\""
        }
       ],
       "type": "table"
      }
     },
     "output_type": "display_data"
    }
   ],
   "source": [
    "%fs ls dbfs:/delta_tt_example/\n"
   ]
  },
  {
   "cell_type": "code",
   "execution_count": 0,
   "metadata": {
    "application/vnd.databricks.v1+cell": {
     "cellMetadata": {
      "byteLimit": 2048000,
      "rowLimit": 10000
     },
     "inputWidgets": {},
     "nuid": "723c2053-91f6-4f7f-a379-d50f3f03efe9",
     "showTitle": false,
     "tableResultSettingsMap": {},
     "title": ""
    }
   },
   "outputs": [
    {
     "output_type": "display_data",
     "data": {
      "text/html": [
       "<style scoped>\n",
       "  .table-result-container {\n",
       "    max-height: 300px;\n",
       "    overflow: auto;\n",
       "  }\n",
       "  table, th, td {\n",
       "    border: 1px solid black;\n",
       "    border-collapse: collapse;\n",
       "  }\n",
       "  th, td {\n",
       "    padding: 5px;\n",
       "  }\n",
       "  th {\n",
       "    text-align: left;\n",
       "  }\n",
       "</style><div class='table-result-container'><table class='table-result'><thead style='background-color: white'><tr><th>path</th><th>name</th><th>size</th><th>modificationTime</th></tr></thead><tbody><tr><td>dbfs:/delta_tt_example/_delta_log/.s3-optimization-0</td><td>.s3-optimization-0</td><td>0</td><td>1743905024000</td></tr><tr><td>dbfs:/delta_tt_example/_delta_log/.s3-optimization-1</td><td>.s3-optimization-1</td><td>0</td><td>1743905024000</td></tr><tr><td>dbfs:/delta_tt_example/_delta_log/.s3-optimization-2</td><td>.s3-optimization-2</td><td>0</td><td>1743905024000</td></tr><tr><td>dbfs:/delta_tt_example/_delta_log/00000000000000000000.crc</td><td>00000000000000000000.crc</td><td>2902</td><td>1743905027000</td></tr><tr><td>dbfs:/delta_tt_example/_delta_log/00000000000000000000.json</td><td>00000000000000000000.json</td><td>1894</td><td>1743905024000</td></tr><tr><td>dbfs:/delta_tt_example/_delta_log/00000000000000000001.crc</td><td>00000000000000000001.crc</td><td>2934</td><td>1743905098000</td></tr><tr><td>dbfs:/delta_tt_example/_delta_log/00000000000000000001.json</td><td>00000000000000000001.json</td><td>2240</td><td>1743905095000</td></tr><tr><td>dbfs:/delta_tt_example/_delta_log/00000000000000000002.crc</td><td>00000000000000000002.crc</td><td>2902</td><td>1743917165000</td></tr><tr><td>dbfs:/delta_tt_example/_delta_log/00000000000000000002.json</td><td>00000000000000000002.json</td><td>2208</td><td>1743917162000</td></tr><tr><td>dbfs:/delta_tt_example/_delta_log/00000000000000000003.crc</td><td>00000000000000000003.crc</td><td>2934</td><td>1743917208000</td></tr><tr><td>dbfs:/delta_tt_example/_delta_log/00000000000000000003.json</td><td>00000000000000000003.json</td><td>2240</td><td>1743917206000</td></tr></tbody></table></div>"
      ]
     },
     "metadata": {
      "application/vnd.databricks.v1+output": {
       "addedWidgets": {},
       "aggData": [],
       "aggError": "",
       "aggOverflow": false,
       "aggSchema": [],
       "aggSeriesLimitReached": false,
       "aggType": "",
       "arguments": {},
       "columnCustomDisplayInfos": {},
       "data": [
        [
         "dbfs:/delta_tt_example/_delta_log/.s3-optimization-0",
         ".s3-optimization-0",
         0,
         1743905024000
        ],
        [
         "dbfs:/delta_tt_example/_delta_log/.s3-optimization-1",
         ".s3-optimization-1",
         0,
         1743905024000
        ],
        [
         "dbfs:/delta_tt_example/_delta_log/.s3-optimization-2",
         ".s3-optimization-2",
         0,
         1743905024000
        ],
        [
         "dbfs:/delta_tt_example/_delta_log/00000000000000000000.crc",
         "00000000000000000000.crc",
         2902,
         1743905027000
        ],
        [
         "dbfs:/delta_tt_example/_delta_log/00000000000000000000.json",
         "00000000000000000000.json",
         1894,
         1743905024000
        ],
        [
         "dbfs:/delta_tt_example/_delta_log/00000000000000000001.crc",
         "00000000000000000001.crc",
         2934,
         1743905098000
        ],
        [
         "dbfs:/delta_tt_example/_delta_log/00000000000000000001.json",
         "00000000000000000001.json",
         2240,
         1743905095000
        ],
        [
         "dbfs:/delta_tt_example/_delta_log/00000000000000000002.crc",
         "00000000000000000002.crc",
         2902,
         1743917165000
        ],
        [
         "dbfs:/delta_tt_example/_delta_log/00000000000000000002.json",
         "00000000000000000002.json",
         2208,
         1743917162000
        ],
        [
         "dbfs:/delta_tt_example/_delta_log/00000000000000000003.crc",
         "00000000000000000003.crc",
         2934,
         1743917208000
        ],
        [
         "dbfs:/delta_tt_example/_delta_log/00000000000000000003.json",
         "00000000000000000003.json",
         2240,
         1743917206000
        ]
       ],
       "datasetInfos": [],
       "dbfsResultPath": null,
       "isJsonSchema": true,
       "metadata": {
        "isDbfsCommandResult": false
       },
       "overflow": false,
       "plotOptions": {
        "customPlotOptions": {},
        "displayType": "table",
        "pivotAggregation": null,
        "pivotColumns": null,
        "xColumns": null,
        "yColumns": null
       },
       "removedWidgets": [],
       "schema": [
        {
         "metadata": "{}",
         "name": "path",
         "type": "\"string\""
        },
        {
         "metadata": "{}",
         "name": "name",
         "type": "\"string\""
        },
        {
         "metadata": "{}",
         "name": "size",
         "type": "\"long\""
        },
        {
         "metadata": "{}",
         "name": "modificationTime",
         "type": "\"long\""
        }
       ],
       "type": "table"
      }
     },
     "output_type": "display_data"
    }
   ],
   "source": [
    "%fs ls dbfs:/delta_tt_example/_delta_log/"
   ]
  }
 ],
 "metadata": {
  "application/vnd.databricks.v1+notebook": {
   "computePreferences": null,
   "dashboards": [],
   "environmentMetadata": {
    "base_environment": "",
    "environment_version": "1"
   },
   "inputWidgetPreferences": null,
   "language": "python",
   "notebookMetadata": {
    "mostRecentlyExecutedCommandWithImplicitDF": {
     "commandId": 1212409919959730,
     "dataframes": [
      "_sqldf"
     ]
    },
    "pythonIndentUnit": 4
   },
   "notebookName": "[Databricks Community Edition] CSV, PARQUET, DELTA 파일 성능 비교하고 DELTA의 Time Travel 사용하기",
   "widgets": {}
  }
 },
 "nbformat": 4,
 "nbformat_minor": 0
}