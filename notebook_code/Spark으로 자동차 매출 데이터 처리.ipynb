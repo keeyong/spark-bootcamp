{
 "cells": [
  {
   "cell_type": "code",
   "execution_count": 0,
   "metadata": {
    "application/vnd.databricks.v1+cell": {
     "cellMetadata": {
      "byteLimit": 2048000,
      "rowLimit": 10000
     },
     "inputWidgets": {},
     "nuid": "c6258831-2de1-465c-a36c-eed8088ee203",
     "showTitle": false,
     "tableResultSettingsMap": {},
     "title": ""
    }
   },
   "outputs": [
    {
     "output_type": "stream",
     "name": "stderr",
     "output_type": "stream",
     "text": [
      "--2025-03-22 04:32:16--  https://s3-geospatial.s3.us-west-2.amazonaws.com/car_sales_data.csv\nResolving s3-geospatial.s3.us-west-2.amazonaws.com (s3-geospatial.s3.us-west-2.amazonaws.com)... 3.5.81.212, 52.92.237.250, 52.92.188.226, ...\nConnecting to s3-geospatial.s3.us-west-2.amazonaws.com (s3-geospatial.s3.us-west-2.amazonaws.com)|3.5.81.212|:443... connected.\nHTTP request sent, awaiting response... 200 OK\nLength: 45379 (44K) [text/csv]\nSaving to: ‘/dbfs/car_sales_data.csv’\n\n     0K .......... .......... .......... .......... ....      100%  169M=0s\n\n2025-03-22 04:32:16 (169 MB/s) - ‘/dbfs/car_sales_data.csv’ saved [45379/45379]\n\n"
     ]
    }
   ],
   "source": [
    "%sh\n",
    "\n",
    "wget -O /dbfs/car_sales_data.csv https://s3-geospatial.s3.us-west-2.amazonaws.com/car_sales_data.csv"
   ]
  },
  {
   "cell_type": "code",
   "execution_count": 0,
   "metadata": {
    "application/vnd.databricks.v1+cell": {
     "cellMetadata": {
      "byteLimit": 2048000,
      "rowLimit": 10000
     },
     "inputWidgets": {},
     "nuid": "f82b15bd-370e-458a-8616-bd132936b194",
     "showTitle": false,
     "tableResultSettingsMap": {},
     "title": ""
    }
   },
   "outputs": [
    {
     "output_type": "stream",
     "name": "stdout",
     "output_type": "stream",
     "text": [
      "total 48\n-rw-r--r-- 1 root root 45379 Mar 14 21:47 car_sales_data.csv\n"
     ]
    }
   ],
   "source": [
    "%sh \n",
    "\n",
    "ls -tl /dbfs/"
   ]
  },
  {
   "cell_type": "code",
   "execution_count": 0,
   "metadata": {
    "application/vnd.databricks.v1+cell": {
     "cellMetadata": {
      "byteLimit": 2048000,
      "rowLimit": 10000
     },
     "inputWidgets": {},
     "nuid": "dc9cdc44-3683-41a2-aa9b-f9590c3e0842",
     "showTitle": false,
     "tableResultSettingsMap": {},
     "title": ""
    }
   },
   "outputs": [
    {
     "output_type": "display_data",
     "data": {
      "text/html": [
       "<style scoped>\n",
       "  .table-result-container {\n",
       "    max-height: 300px;\n",
       "    overflow: auto;\n",
       "  }\n",
       "  table, th, td {\n",
       "    border: 1px solid black;\n",
       "    border-collapse: collapse;\n",
       "  }\n",
       "  th, td {\n",
       "    padding: 5px;\n",
       "  }\n",
       "  th {\n",
       "    text-align: left;\n",
       "  }\n",
       "</style><div class='table-result-container'><table class='table-result'><thead style='background-color: white'><tr><th>path</th><th>name</th><th>size</th><th>modificationTime</th></tr></thead><tbody><tr><td>dbfs:/car_sales_data.csv</td><td>car_sales_data.csv</td><td>45379</td><td>1742335789000</td></tr><tr><td>dbfs:/databricks-datasets/</td><td>databricks-datasets/</td><td>0</td><td>0</td></tr><tr><td>dbfs:/databricks-results/</td><td>databricks-results/</td><td>0</td><td>0</td></tr><tr><td>dbfs:/large_data.csv</td><td>large_data.csv</td><td>20182437859</td><td>1741819826000</td></tr><tr><td>dbfs:/large_data_100M.csv</td><td>large_data_100M.csv</td><td>2018258729</td><td>1742076822000</td></tr><tr><td>dbfs:/large_data_10M.csv</td><td>large_data_10M.csv</td><td>201822123</td><td>1742101769000</td></tr><tr><td>dbfs:/monthly_sales_by_brand/</td><td>monthly_sales_by_brand/</td><td>0</td><td>0</td></tr><tr><td>dbfs:/user/</td><td>user/</td><td>0</td><td>0</td></tr></tbody></table></div>"
      ]
     },
     "metadata": {
      "application/vnd.databricks.v1+output": {
       "addedWidgets": {},
       "aggData": [],
       "aggError": "",
       "aggOverflow": false,
       "aggSchema": [],
       "aggSeriesLimitReached": false,
       "aggType": "",
       "arguments": {},
       "columnCustomDisplayInfos": {},
       "data": [
        [
         "dbfs:/car_sales_data.csv",
         "car_sales_data.csv",
         45379,
         1742335789000
        ],
        [
         "dbfs:/databricks-datasets/",
         "databricks-datasets/",
         0,
         0
        ],
        [
         "dbfs:/databricks-results/",
         "databricks-results/",
         0,
         0
        ],
        [
         "dbfs:/large_data.csv",
         "large_data.csv",
         20182437859,
         1741819826000
        ],
        [
         "dbfs:/large_data_100M.csv",
         "large_data_100M.csv",
         2018258729,
         1742076822000
        ],
        [
         "dbfs:/large_data_10M.csv",
         "large_data_10M.csv",
         201822123,
         1742101769000
        ],
        [
         "dbfs:/monthly_sales_by_brand/",
         "monthly_sales_by_brand/",
         0,
         0
        ],
        [
         "dbfs:/user/",
         "user/",
         0,
         0
        ]
       ],
       "datasetInfos": [],
       "dbfsResultPath": null,
       "isJsonSchema": true,
       "metadata": {
        "isDbfsCommandResult": false
       },
       "overflow": false,
       "plotOptions": {
        "customPlotOptions": {},
        "displayType": "table",
        "pivotAggregation": null,
        "pivotColumns": null,
        "xColumns": null,
        "yColumns": null
       },
       "removedWidgets": [],
       "schema": [
        {
         "metadata": "{}",
         "name": "path",
         "type": "\"string\""
        },
        {
         "metadata": "{}",
         "name": "name",
         "type": "\"string\""
        },
        {
         "metadata": "{}",
         "name": "size",
         "type": "\"long\""
        },
        {
         "metadata": "{}",
         "name": "modificationTime",
         "type": "\"long\""
        }
       ],
       "type": "table"
      }
     },
     "output_type": "display_data"
    }
   ],
   "source": [
    "%fs ls /"
   ]
  },
  {
   "cell_type": "code",
   "execution_count": 0,
   "metadata": {
    "application/vnd.databricks.v1+cell": {
     "cellMetadata": {
      "byteLimit": 2048000,
      "rowLimit": 10000
     },
     "inputWidgets": {},
     "nuid": "a1da05c6-f29e-4a31-886f-648ad4d31944",
     "showTitle": false,
     "tableResultSettingsMap": {},
     "title": ""
    }
   },
   "outputs": [
    {
     "output_type": "execute_result",
     "data": {
      "text/plain": [
       "True"
      ]
     },
     "execution_count": 3,
     "metadata": {},
     "output_type": "execute_result"
    }
   ],
   "source": [
    "# 로컬 파일 시스템에서 DBFS로 복사\n",
    "dbutils.fs.cp(\"file:/dbfs/car_sales_data.csv\", \"dbfs:/car_sales_data.csv\")"
   ]
  },
  {
   "cell_type": "code",
   "execution_count": 0,
   "metadata": {
    "application/vnd.databricks.v1+cell": {
     "cellMetadata": {
      "byteLimit": 2048000,
      "rowLimit": 10000
     },
     "inputWidgets": {},
     "nuid": "18ce3645-9259-4bb3-a5b8-f950bcd94aea",
     "showTitle": false,
     "tableResultSettingsMap": {},
     "title": ""
    }
   },
   "outputs": [],
   "source": [
    "# Databricks 노트북에서는 SparkSession 인스턴스를 별도로 생성할 필요가 없음\n",
    "# 판매 정보를 Spark DataFrame으로 로드\n",
    "df = spark.read.option(\"header\", \"true\").csv(\"dbfs:/car_sales_data.csv\")"
   ]
  },
  {
   "cell_type": "code",
   "execution_count": 0,
   "metadata": {
    "application/vnd.databricks.v1+cell": {
     "cellMetadata": {
      "byteLimit": 2048000,
      "rowLimit": 10000
     },
     "inputWidgets": {},
     "nuid": "22464d41-770f-4473-afaa-6cedd1c45aaf",
     "showTitle": false,
     "tableResultSettingsMap": {},
     "title": ""
    }
   },
   "outputs": [
    {
     "output_type": "stream",
     "name": "stdout",
     "output_type": "stream",
     "text": [
      "root\n |-- cars_name: string (nullable = true)\n |-- car_price: string (nullable = true)\n |-- purchase_date: string (nullable = true)\n |-- brand_name: string (nullable = true)\n\n"
     ]
    }
   ],
   "source": [
    "# 타입이 모두 문자열로 기본 설정됨\n",
    "df.printSchema()"
   ]
  },
  {
   "cell_type": "code",
   "execution_count": 0,
   "metadata": {
    "application/vnd.databricks.v1+cell": {
     "cellMetadata": {
      "byteLimit": 2048000,
      "rowLimit": 10000
     },
     "inputWidgets": {},
     "nuid": "6f49c10c-f760-4d7d-9081-dca640ae03c7",
     "showTitle": false,
     "tableResultSettingsMap": {},
     "title": ""
    }
   },
   "outputs": [],
   "source": [
    "# 이번에는 inferSchema 필드의 값을 true로 설정\n",
    "df = spark.read.option(\"header\", \"true\").option(\"inferSchema\", \"true\").csv(\"dbfs:/car_sales_data.csv\")"
   ]
  },
  {
   "cell_type": "code",
   "execution_count": 0,
   "metadata": {
    "application/vnd.databricks.v1+cell": {
     "cellMetadata": {
      "byteLimit": 2048000,
      "rowLimit": 10000
     },
     "inputWidgets": {},
     "nuid": "88b57618-13d0-43f1-afde-e57039353fdd",
     "showTitle": false,
     "tableResultSettingsMap": {},
     "title": ""
    }
   },
   "outputs": [
    {
     "output_type": "stream",
     "name": "stdout",
     "output_type": "stream",
     "text": [
      "root\n |-- cars_name: string (nullable = true)\n |-- car_price: integer (nullable = true)\n |-- purchase_date: date (nullable = true)\n |-- brand_name: string (nullable = true)\n\n"
     ]
    }
   ],
   "source": [
    "df.printSchema()"
   ]
  },
  {
   "cell_type": "code",
   "execution_count": 0,
   "metadata": {
    "application/vnd.databricks.v1+cell": {
     "cellMetadata": {
      "byteLimit": 2048000,
      "rowLimit": 10000
     },
     "inputWidgets": {},
     "nuid": "bb965763-ed8a-4838-9d9c-e1883bbfa699",
     "showTitle": false,
     "tableResultSettingsMap": {},
     "title": ""
    }
   },
   "outputs": [
    {
     "output_type": "stream",
     "name": "stdout",
     "output_type": "stream",
     "text": [
      "+-------------------+---------+-------------+----------+\n|          cars_name|car_price|purchase_date|brand_name|\n+-------------------+---------+-------------+----------+\n|Chevrolet Silverado|    35000|   2024-11-15| Chevrolet|\n|            Audi A4|    35000|   2024-05-08|     Tesla|\n|            Audi A4|    24000|   2024-01-31|       BMW|\n|    Hyundai Elantra|    21000|   2024-05-24|      Audi|\n|   Mercedes C-Class|    45000|   2024-02-28|    Nissan|\n|   Mercedes C-Class|    45000|   2024-12-01|   Hyundai|\n|            Audi A4|    47000|   2024-05-23| Chevrolet|\n|   Mercedes C-Class|    45000|   2024-10-25|       BMW|\n|    Hyundai Elantra|    25000|   2024-10-13|      Audi|\n|            Audi A4|    47000|   2024-05-17|      Audi|\n|        Honda Civic|    42000|   2024-09-15|    Nissan|\n|   Mercedes C-Class|    45000|   2025-01-10| Chevrolet|\n|      Tesla Model 3|    35000|   2024-08-25|    Nissan|\n|        Honda Civic|    42000|   2024-04-29|     Tesla|\n|       Toyota Camry|    21000|   2025-01-27|    Nissan|\n|       BMW 3 Series|    45000|   2024-08-05| Chevrolet|\n|   Mercedes C-Class|    38000|   2024-04-12|      Ford|\n|Chevrolet Silverado|    47000|   2024-06-17|  Mercedes|\n|    Hyundai Elantra|    47000|   2024-06-14|      Audi|\n|      Nissan Altima|    38000|   2024-02-16|   Hyundai|\n+-------------------+---------+-------------+----------+\nonly showing top 20 rows\n\n"
     ]
    }
   ],
   "source": [
    "# Pandas DataFrame과 다르게 Index가 존재하지 않음\n",
    "df.show()"
   ]
  },
  {
   "cell_type": "code",
   "execution_count": 0,
   "metadata": {
    "application/vnd.databricks.v1+cell": {
     "cellMetadata": {
      "byteLimit": 2048000,
      "rowLimit": 10000
     },
     "inputWidgets": {},
     "nuid": "fdac5385-d2f9-4172-8f45-4933caeff6a1",
     "showTitle": false,
     "tableResultSettingsMap": {},
     "title": ""
    }
   },
   "outputs": [
    {
     "output_type": "execute_result",
     "data": {
      "text/plain": [
       "1200"
      ]
     },
     "execution_count": 9,
     "metadata": {},
     "output_type": "execute_result"
    }
   ],
   "source": [
    "df.count()"
   ]
  },
  {
   "cell_type": "code",
   "execution_count": 0,
   "metadata": {
    "application/vnd.databricks.v1+cell": {
     "cellMetadata": {
      "byteLimit": 2048000,
      "rowLimit": 10000
     },
     "inputWidgets": {},
     "nuid": "cfc49cf1-dd2e-4e7c-a60c-580a7998491e",
     "showTitle": false,
     "tableResultSettingsMap": {},
     "title": ""
    }
   },
   "outputs": [
    {
     "output_type": "execute_result",
     "data": {
      "text/plain": [
       "1"
      ]
     },
     "execution_count": 10,
     "metadata": {},
     "output_type": "execute_result"
    }
   ],
   "source": [
    "df.rdd.getNumPartitions()"
   ]
  },
  {
   "cell_type": "code",
   "execution_count": 0,
   "metadata": {
    "application/vnd.databricks.v1+cell": {
     "cellMetadata": {
      "byteLimit": 2048000,
      "rowLimit": 10000
     },
     "inputWidgets": {},
     "nuid": "d0968748-9429-4278-a55d-22f0c89ad310",
     "showTitle": false,
     "tableResultSettingsMap": {},
     "title": ""
    }
   },
   "outputs": [],
   "source": [
    "# purchase_date 필드를 문자열에서 datetime 타입으로 변환. \n",
    "# df[\"purchase_date\"] 대신에 df.purchase_date, col(\"purchase_date\")을 사용해도 무방\n",
    "df = df.withColumn(\"purchase_date\", df[\"purchase_date\"].cast(\"date\"))"
   ]
  },
  {
   "cell_type": "code",
   "execution_count": 0,
   "metadata": {
    "application/vnd.databricks.v1+cell": {
     "cellMetadata": {
      "byteLimit": 2048000,
      "rowLimit": 10000
     },
     "inputWidgets": {},
     "nuid": "8381b007-1ff8-4a79-91c6-c9d80d11cbf7",
     "showTitle": false,
     "tableResultSettingsMap": {},
     "title": ""
    }
   },
   "outputs": [],
   "source": [
    "from pyspark.sql.functions import month, count, year, desc, col\n",
    "\n",
    "# 2024년 데이터만 남기기\n",
    "df_2024 = df.filter(year(\"purchase_date\") == 2024)\n",
    "df_2024_v2 = df.filter(year(col(\"purchase_date\")) == 2024)\n",
    "df_2024_v3 = df.filter(year(df[\"purchase_date\"]) == 2024)\n",
    "df_2024_v4 = df.filter(year(df.purchase_date) == 2024)\n",
    "df_2024_v5 = df.filter(\"year(purchase_date) = 2024\")"
   ]
  },
  {
   "cell_type": "code",
   "execution_count": 0,
   "metadata": {
    "application/vnd.databricks.v1+cell": {
     "cellMetadata": {
      "byteLimit": 2048000,
      "rowLimit": 10000
     },
     "inputWidgets": {},
     "nuid": "92c9d9e6-a02b-4007-bc5b-07ea66525cca",
     "showTitle": false,
     "tableResultSettingsMap": {},
     "title": ""
    }
   },
   "outputs": [],
   "source": [
    "def dataframes_equal(df1, df2):\n",
    "    # Check if schemas are equal\n",
    "    if df1.schema != df2.schema:\n",
    "        return False\n",
    "    \n",
    "    # Check if row counts are equal\n",
    "    if df1.count() != df2.count():\n",
    "        return False\n",
    "    \n",
    "    # Check if all rows match\n",
    "    diff = df1.exceptAll(df2)\n",
    "    return diff.count() == 0"
   ]
  },
  {
   "cell_type": "code",
   "execution_count": 0,
   "metadata": {
    "application/vnd.databricks.v1+cell": {
     "cellMetadata": {
      "byteLimit": 2048000,
      "rowLimit": 10000
     },
     "inputWidgets": {},
     "nuid": "3c3b0ad8-0a45-4ae1-9af3-ee2fa1f1e22e",
     "showTitle": false,
     "tableResultSettingsMap": {},
     "title": ""
    }
   },
   "outputs": [
    {
     "output_type": "execute_result",
     "data": {
      "text/plain": [
       "True"
      ]
     },
     "execution_count": 14,
     "metadata": {},
     "output_type": "execute_result"
    }
   ],
   "source": [
    "dataframes_equal(df_2024, df_2024_v2)"
   ]
  },
  {
   "cell_type": "code",
   "execution_count": 0,
   "metadata": {
    "application/vnd.databricks.v1+cell": {
     "cellMetadata": {
      "byteLimit": 2048000,
      "rowLimit": 10000
     },
     "inputWidgets": {},
     "nuid": "b1c0f05d-af8c-4860-9578-8056bafdfdfd",
     "showTitle": false,
     "tableResultSettingsMap": {},
     "title": ""
    }
   },
   "outputs": [
    {
     "output_type": "execute_result",
     "data": {
      "text/plain": [
       "True"
      ]
     },
     "execution_count": 15,
     "metadata": {},
     "output_type": "execute_result"
    }
   ],
   "source": [
    "dataframes_equal(df_2024_v3, df_2024_v4)"
   ]
  },
  {
   "cell_type": "code",
   "execution_count": 0,
   "metadata": {
    "application/vnd.databricks.v1+cell": {
     "cellMetadata": {
      "byteLimit": 2048000,
      "rowLimit": 10000
     },
     "inputWidgets": {},
     "nuid": "18aff875-9715-4ccf-a3cf-744406be487f",
     "showTitle": false,
     "tableResultSettingsMap": {},
     "title": ""
    }
   },
   "outputs": [
    {
     "output_type": "execute_result",
     "data": {
      "text/plain": [
       "True"
      ]
     },
     "execution_count": 16,
     "metadata": {},
     "output_type": "execute_result"
    }
   ],
   "source": [
    "dataframes_equal(df_2024, df_2024_v3)"
   ]
  },
  {
   "cell_type": "code",
   "execution_count": 0,
   "metadata": {
    "application/vnd.databricks.v1+cell": {
     "cellMetadata": {
      "byteLimit": 2048000,
      "rowLimit": 10000
     },
     "inputWidgets": {},
     "nuid": "68bbd952-afa4-4b9b-a976-f192e66e4e40",
     "showTitle": false,
     "tableResultSettingsMap": {},
     "title": ""
    }
   },
   "outputs": [
    {
     "output_type": "execute_result",
     "data": {
      "text/plain": [
       "True"
      ]
     },
     "execution_count": 17,
     "metadata": {},
     "output_type": "execute_result"
    }
   ],
   "source": [
    "dataframes_equal(df_2024, df_2024_v5)"
   ]
  },
  {
   "cell_type": "code",
   "execution_count": 0,
   "metadata": {
    "application/vnd.databricks.v1+cell": {
     "cellMetadata": {
      "byteLimit": 2048000,
      "rowLimit": 10000
     },
     "inputWidgets": {},
     "nuid": "0a0cbc86-d652-4b0c-884e-c454af70021a",
     "showTitle": false,
     "tableResultSettingsMap": {},
     "title": ""
    }
   },
   "outputs": [],
   "source": [
    "# 문제 1: 2024년 브랜드별로 월간 차량 판매 대수 계산\n",
    "# 새로운 month라는 필드를 만들고 월 정보를 보존\n",
    "df_2024 = df_2024.withColumn(\"month\", month(\"purchase_date\"))"
   ]
  },
  {
   "cell_type": "code",
   "execution_count": 0,
   "metadata": {
    "application/vnd.databricks.v1+cell": {
     "cellMetadata": {
      "byteLimit": 2048000,
      "rowLimit": 10000
     },
     "inputWidgets": {},
     "nuid": "adf3e85f-a03e-4c80-98c6-1fd610ad8178",
     "showTitle": false,
     "tableResultSettingsMap": {},
     "title": ""
    }
   },
   "outputs": [
    {
     "output_type": "stream",
     "name": "stdout",
     "output_type": "stream",
     "text": [
      "+-------------------+---------+-------------+----------+-----+\n|          cars_name|car_price|purchase_date|brand_name|month|\n+-------------------+---------+-------------+----------+-----+\n|Chevrolet Silverado|    35000|   2024-11-15| Chevrolet|   11|\n|            Audi A4|    35000|   2024-05-08|     Tesla|    5|\n|            Audi A4|    24000|   2024-01-31|       BMW|    1|\n|    Hyundai Elantra|    21000|   2024-05-24|      Audi|    5|\n|   Mercedes C-Class|    45000|   2024-02-28|    Nissan|    2|\n|   Mercedes C-Class|    45000|   2024-12-01|   Hyundai|   12|\n|            Audi A4|    47000|   2024-05-23| Chevrolet|    5|\n|   Mercedes C-Class|    45000|   2024-10-25|       BMW|   10|\n|    Hyundai Elantra|    25000|   2024-10-13|      Audi|   10|\n|            Audi A4|    47000|   2024-05-17|      Audi|    5|\n|        Honda Civic|    42000|   2024-09-15|    Nissan|    9|\n|      Tesla Model 3|    35000|   2024-08-25|    Nissan|    8|\n|        Honda Civic|    42000|   2024-04-29|     Tesla|    4|\n|       BMW 3 Series|    45000|   2024-08-05| Chevrolet|    8|\n|   Mercedes C-Class|    38000|   2024-04-12|      Ford|    4|\n|Chevrolet Silverado|    47000|   2024-06-17|  Mercedes|    6|\n|    Hyundai Elantra|    47000|   2024-06-14|      Audi|    6|\n|      Nissan Altima|    38000|   2024-02-16|   Hyundai|    2|\n|      Tesla Model 3|    50000|   2024-02-05|  Mercedes|    2|\n|   Mercedes C-Class|    22000|   2024-09-14|      Audi|    9|\n+-------------------+---------+-------------+----------+-----+\nonly showing top 20 rows\n\n"
     ]
    }
   ],
   "source": [
    "df_2024.show()"
   ]
  },
  {
   "cell_type": "code",
   "execution_count": 0,
   "metadata": {
    "application/vnd.databricks.v1+cell": {
     "cellMetadata": {
      "byteLimit": 2048000,
      "rowLimit": 10000
     },
     "inputWidgets": {},
     "nuid": "215e2f6e-81c3-4337-89e9-4c24fec9336e",
     "showTitle": false,
     "tableResultSettingsMap": {},
     "title": ""
    }
   },
   "outputs": [
    {
     "output_type": "stream",
     "name": "stdout",
     "output_type": "stream",
     "text": [
      "+----------+-----+-----+\n|brand_name|month|count|\n+----------+-----+-----+\n|   Hyundai|    5|    8|\n|    Nissan|    8|    5|\n|  Mercedes|    4|   13|\n|     Tesla|    4|   10|\n|      Audi|   12|    9|\n|   Hyundai|    2|   10|\n| Chevrolet|   12|   14|\n|      Ford|    3|   11|\n|      Audi|    8|    8|\n|      Audi|    7|    9|\n| Chevrolet|    7|    7|\n|       BMW|    8|    3|\n|      Ford|    9|    5|\n|       BMW|    3|    8|\n|   Hyundai|   11|   11|\n|       BMW|    9|   10|\n|       BMW|    2|   14|\n|  Mercedes|    5|    4|\n| Chevrolet|   10|    8|\n|    Nissan|    5|    9|\n+----------+-----+-----+\nonly showing top 20 rows\n\n"
     ]
    }
   ],
   "source": [
    "df_2024.groupBy(\"brand_name\", \"month\").count().show()"
   ]
  },
  {
   "cell_type": "code",
   "execution_count": 0,
   "metadata": {
    "application/vnd.databricks.v1+cell": {
     "cellMetadata": {
      "byteLimit": 2048000,
      "rowLimit": 10000
     },
     "inputWidgets": {},
     "nuid": "2c754220-6042-4b6a-94a4-703d3f9cfa23",
     "showTitle": false,
     "tableResultSettingsMap": {},
     "title": ""
    }
   },
   "outputs": [],
   "source": [
    "# brand_name과 month로 그룹핑하고 카운트한 다음에 이를 sales_count라는 필드로 생성\n",
    "# Pandas처럼 Series라는 것이 존재하지 않음\n",
    "monthly_sales_by_brand = df_2024.groupBy(\"brand_name\", \"month\") \\\n",
    "    .agg(count(\"*\").alias(\"sales_count\"))"
   ]
  },
  {
   "cell_type": "code",
   "execution_count": 0,
   "metadata": {
    "application/vnd.databricks.v1+cell": {
     "cellMetadata": {
      "byteLimit": 2048000,
      "rowLimit": 10000
     },
     "inputWidgets": {},
     "nuid": "68184e23-70e7-4709-bf0a-4ecdd74fb45b",
     "showTitle": false,
     "tableResultSettingsMap": {},
     "title": ""
    }
   },
   "outputs": [
    {
     "output_type": "stream",
     "name": "stdout",
     "output_type": "stream",
     "text": [
      "+----------+-----+-----------+\n|brand_name|month|sales_count|\n+----------+-----+-----------+\n|   Hyundai|    5|          8|\n|    Nissan|    8|          5|\n|  Mercedes|    4|         13|\n|     Tesla|    4|         10|\n|      Audi|   12|          9|\n|   Hyundai|    2|         10|\n| Chevrolet|   12|         14|\n|      Ford|    3|         11|\n|      Audi|    8|          8|\n|      Audi|    7|          9|\n| Chevrolet|    7|          7|\n|       BMW|    8|          3|\n|      Ford|    9|          5|\n|       BMW|    3|          8|\n|   Hyundai|   11|         11|\n|       BMW|    9|         10|\n|       BMW|    2|         14|\n|  Mercedes|    5|          4|\n| Chevrolet|   10|          8|\n|    Nissan|    5|          9|\n+----------+-----+-----------+\nonly showing top 20 rows\n\n"
     ]
    }
   ],
   "source": [
    "# 앞서 연산들은 이제서야 실행됨 -> 이를 Lazy Execution이라 부름.\n",
    "# Pandas는 Eager Execution (바로바로 처리)\n",
    "monthly_sales_by_brand.show()"
   ]
  },
  {
   "cell_type": "code",
   "execution_count": 0,
   "metadata": {
    "application/vnd.databricks.v1+cell": {
     "cellMetadata": {
      "byteLimit": 2048000,
      "rowLimit": 10000
     },
     "inputWidgets": {},
     "nuid": "e19e3b4f-8468-4e99-8ae7-1771b3d27ecc",
     "showTitle": false,
     "tableResultSettingsMap": {},
     "title": ""
    }
   },
   "outputs": [],
   "source": [
    "monthly_sales_by_brand.write.mode(\"overwrite\").csv(\"dbfs:/monthly_sales_by_brand\", header=True)"
   ]
  },
  {
   "cell_type": "code",
   "execution_count": 0,
   "metadata": {
    "application/vnd.databricks.v1+cell": {
     "cellMetadata": {
      "byteLimit": 2048000,
      "rowLimit": 10000
     },
     "inputWidgets": {},
     "nuid": "5e961b40-f973-47a0-b24b-95930b6a265f",
     "showTitle": false,
     "tableResultSettingsMap": {},
     "title": ""
    }
   },
   "outputs": [
    {
     "output_type": "display_data",
     "data": {
      "text/html": [
       "<style scoped>\n",
       "  .table-result-container {\n",
       "    max-height: 300px;\n",
       "    overflow: auto;\n",
       "  }\n",
       "  table, th, td {\n",
       "    border: 1px solid black;\n",
       "    border-collapse: collapse;\n",
       "  }\n",
       "  th, td {\n",
       "    padding: 5px;\n",
       "  }\n",
       "  th {\n",
       "    text-align: left;\n",
       "  }\n",
       "</style><div class='table-result-container'><table class='table-result'><thead style='background-color: white'><tr><th>path</th><th>name</th><th>size</th><th>modificationTime</th></tr></thead><tbody><tr><td>dbfs:/monthly_sales_by_brand/_SUCCESS</td><td>_SUCCESS</td><td>0</td><td>1742618596000</td></tr><tr><td>dbfs:/monthly_sales_by_brand/_committed_671407255045041086</td><td>_committed_671407255045041086</td><td>208</td><td>1742618595000</td></tr><tr><td>dbfs:/monthly_sales_by_brand/_committed_7799594938157334490</td><td>_committed_7799594938157334490</td><td>111</td><td>1742603516000</td></tr><tr><td>dbfs:/monthly_sales_by_brand/_committed_vacuum5339320046666790796</td><td>_committed_vacuum5339320046666790796</td><td>96</td><td>1742618596000</td></tr><tr><td>dbfs:/monthly_sales_by_brand/_started_671407255045041086</td><td>_started_671407255045041086</td><td>0</td><td>1742618595000</td></tr><tr><td>dbfs:/monthly_sales_by_brand/part-00000-tid-671407255045041086-bb4d949a-b6e9-412c-bb90-68bb4985da1e-45-1-c000.csv</td><td>part-00000-tid-671407255045041086-bb4d949a-b6e9-412c-bb90-68bb4985da1e-45-1-c000.csv</td><td>1326</td><td>1742618595000</td></tr></tbody></table></div>"
      ]
     },
     "metadata": {
      "application/vnd.databricks.v1+output": {
       "addedWidgets": {},
       "aggData": [],
       "aggError": "",
       "aggOverflow": false,
       "aggSchema": [],
       "aggSeriesLimitReached": false,
       "aggType": "",
       "arguments": {},
       "columnCustomDisplayInfos": {},
       "data": [
        [
         "dbfs:/monthly_sales_by_brand/_SUCCESS",
         "_SUCCESS",
         0,
         1742618596000
        ],
        [
         "dbfs:/monthly_sales_by_brand/_committed_671407255045041086",
         "_committed_671407255045041086",
         208,
         1742618595000
        ],
        [
         "dbfs:/monthly_sales_by_brand/_committed_7799594938157334490",
         "_committed_7799594938157334490",
         111,
         1742603516000
        ],
        [
         "dbfs:/monthly_sales_by_brand/_committed_vacuum5339320046666790796",
         "_committed_vacuum5339320046666790796",
         96,
         1742618596000
        ],
        [
         "dbfs:/monthly_sales_by_brand/_started_671407255045041086",
         "_started_671407255045041086",
         0,
         1742618595000
        ],
        [
         "dbfs:/monthly_sales_by_brand/part-00000-tid-671407255045041086-bb4d949a-b6e9-412c-bb90-68bb4985da1e-45-1-c000.csv",
         "part-00000-tid-671407255045041086-bb4d949a-b6e9-412c-bb90-68bb4985da1e-45-1-c000.csv",
         1326,
         1742618595000
        ]
       ],
       "datasetInfos": [],
       "dbfsResultPath": null,
       "isJsonSchema": true,
       "metadata": {
        "isDbfsCommandResult": false
       },
       "overflow": false,
       "plotOptions": {
        "customPlotOptions": {},
        "displayType": "table",
        "pivotAggregation": null,
        "pivotColumns": null,
        "xColumns": null,
        "yColumns": null
       },
       "removedWidgets": [],
       "schema": [
        {
         "metadata": "{}",
         "name": "path",
         "type": "\"string\""
        },
        {
         "metadata": "{}",
         "name": "name",
         "type": "\"string\""
        },
        {
         "metadata": "{}",
         "name": "size",
         "type": "\"long\""
        },
        {
         "metadata": "{}",
         "name": "modificationTime",
         "type": "\"long\""
        }
       ],
       "type": "table"
      }
     },
     "output_type": "display_data"
    }
   ],
   "source": [
    "%fs ls monthly_sales_by_brand/"
   ]
  },
  {
   "cell_type": "code",
   "execution_count": 0,
   "metadata": {
    "application/vnd.databricks.v1+cell": {
     "cellMetadata": {
      "byteLimit": 2048000,
      "rowLimit": 10000
     },
     "inputWidgets": {},
     "nuid": "86966acc-746f-4893-83fd-b5f089b46774",
     "showTitle": false,
     "tableResultSettingsMap": {},
     "title": ""
    }
   },
   "outputs": [
    {
     "output_type": "stream",
     "name": "stdout",
     "output_type": "stream",
     "text": [
      "+----------+-----+-----------+-----------+\n|brand_name|month|sales_count|sales_total|\n+----------+-----+-----------+-----------+\n|   Hyundai|    5|          8|     241000|\n|    Nissan|    8|          5|     170000|\n|  Mercedes|    4|         13|     473000|\n|     Tesla|    4|         10|     370000|\n|      Audi|   12|          9|     288000|\n|   Hyundai|    2|         10|     378000|\n| Chevrolet|   12|         14|     510000|\n|      Ford|    3|         11|     388000|\n|      Audi|    8|          8|     259000|\n|      Audi|    7|          9|     264000|\n| Chevrolet|    7|          7|     205000|\n|       BMW|    8|          3|     130000|\n|      Ford|    9|          5|     189000|\n|       BMW|    3|          8|     285000|\n|   Hyundai|   11|         11|     426000|\n|       BMW|    9|         10|     367000|\n|       BMW|    2|         14|     549000|\n|  Mercedes|    5|          4|     146000|\n| Chevrolet|   10|          8|     287000|\n|    Nissan|    5|          9|     306000|\n+----------+-----+-----------+-----------+\nonly showing top 20 rows\n\n"
     ]
    }
   ],
   "source": [
    "from pyspark.sql.functions import sum   # sum을 임포트 안 하면 파이썬의 기본 sum 함수가 사용되면서 이상한 에러 발생\n",
    "\n",
    "df_2024 = df_2024.withColumn(\"car_price\", col(\"car_price\").cast(\"integer\"))\n",
    "\n",
    "df_2024.groupBy(\"brand_name\", \"month\").agg(\n",
    "    count(\"*\").alias(\"sales_count\"),\n",
    "    sum(\"car_price\").alias(\"sales_total\")\n",
    ").show()"
   ]
  },
  {
   "cell_type": "code",
   "execution_count": 0,
   "metadata": {
    "application/vnd.databricks.v1+cell": {
     "cellMetadata": {
      "byteLimit": 2048000,
      "rowLimit": 10000
     },
     "inputWidgets": {},
     "nuid": "89a0edba-687c-44fd-9730-dd369480636c",
     "showTitle": false,
     "tableResultSettingsMap": {},
     "title": ""
    }
   },
   "outputs": [],
   "source": [
    "# 문제 2: 2024년 가장 많이 팔린 차 5대를 가장 많이 팔린 차부터 찾기\n",
    "top_5_cars = df_2024.groupBy(\"cars_name\") \\\n",
    "    .agg(count(\"*\").alias(\"sales_count\")) \\\n",
    "    .orderBy(desc(\"sales_count\")) \\\n",
    "    .limit(5)"
   ]
  },
  {
   "cell_type": "code",
   "execution_count": 0,
   "metadata": {
    "application/vnd.databricks.v1+cell": {
     "cellMetadata": {
      "byteLimit": 2048000,
      "rowLimit": 10000
     },
     "inputWidgets": {},
     "nuid": "b07705cc-295d-4595-89ba-645bf78105fc",
     "showTitle": false,
     "tableResultSettingsMap": {},
     "title": ""
    }
   },
   "outputs": [
    {
     "output_type": "stream",
     "name": "stdout",
     "output_type": "stream",
     "text": [
      "+-------------------+-----------+\n|          cars_name|sales_count|\n+-------------------+-----------+\n|   Mercedes C-Class|        140|\n|    Hyundai Elantra|        126|\n|Chevrolet Silverado|        115|\n|       BMW 3 Series|        114|\n|       Toyota Camry|        112|\n+-------------------+-----------+\n\n"
     ]
    }
   ],
   "source": [
    "top_5_cars.show()"
   ]
  }
 ],
 "metadata": {
  "application/vnd.databricks.v1+notebook": {
   "computePreferences": null,
   "dashboards": [],
   "environmentMetadata": {
    "base_environment": "",
    "client": "1"
   },
   "language": "python",
   "notebookMetadata": {
    "mostRecentlyExecutedCommandWithImplicitDF": {
     "commandId": 1489191903474362,
     "dataframes": [
      "_sqldf"
     ]
    },
    "pythonIndentUnit": 4
   },
   "notebookName": "Pandas에서 Spark으로: 자동차 매출 데이터 처리",
   "widgets": {}
  }
 },
 "nbformat": 4,
 "nbformat_minor": 0
}
