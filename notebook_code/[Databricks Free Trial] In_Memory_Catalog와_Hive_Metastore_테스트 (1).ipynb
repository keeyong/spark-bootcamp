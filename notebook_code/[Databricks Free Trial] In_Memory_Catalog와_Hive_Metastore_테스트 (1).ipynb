{
 "cells": [
  {
   "cell_type": "markdown",
   "metadata": {
    "application/vnd.databricks.v1+cell": {
     "cellMetadata": {},
     "inputWidgets": {},
     "nuid": "84539d4f-5d94-42cb-80d1-30065a0953ae",
     "showTitle": false,
     "tableResultSettingsMap": {},
     "title": ""
    }
   },
   "source": [
    "\n",
    "Spark 유료버전에는 기본으로 Unity Catalog만 설치되며 Community 버전이나 다른 오픈소스에서는 있는 환경 변수들이 존재하지 않음\n",
    "또한 보안 때문에 로컬 폴더와 DBFS간의 데이터를 주고 받는 것이 금지됨. 이번에는 orders.csv 파일을 S3에서 바로 다운로드받을 예정"
   ]
  },
  {
   "cell_type": "code",
   "execution_count": 0,
   "metadata": {
    "application/vnd.databricks.v1+cell": {
     "cellMetadata": {
      "byteLimit": 2048000,
      "rowLimit": 10000
     },
     "inputWidgets": {},
     "nuid": "8ca17866-e759-4e1c-9ae9-fb776308c2fb",
     "showTitle": false,
     "tableResultSettingsMap": {},
     "title": ""
    },
    "colab": {
     "base_uri": "https://localhost:8080/",
     "height": 35
    },
    "id": "j98YZf5MAyRU",
    "outputId": "12f2ad42-e5ae-474b-eae4-e23d08079e25"
   },
   "outputs": [
    {
     "output_type": "display_data",
     "data": {
      "text/plain": [
       "\u001B[0;31m---------------------------------------------------------------------------\u001B[0m\n",
       "\u001B[0;31mAnalysisException\u001B[0m                         Traceback (most recent call last)\n",
       "File \u001B[0;32m<command-1314523540085783>, line 1\u001B[0m\n",
       "\u001B[0;32m----> 1\u001B[0m \u001B[43mspark\u001B[49m\u001B[38;5;241;43m.\u001B[39;49m\u001B[43mconf\u001B[49m\u001B[38;5;241;43m.\u001B[39;49m\u001B[43mget\u001B[49m\u001B[43m(\u001B[49m\u001B[38;5;124;43m\"\u001B[39;49m\u001B[38;5;124;43mspark.sql.catalogImplementation\u001B[39;49m\u001B[38;5;124;43m\"\u001B[39;49m\u001B[43m,\u001B[49m\u001B[43m \u001B[49m\u001B[38;5;124;43m\"\u001B[39;49m\u001B[38;5;124;43mNot Set\u001B[39;49m\u001B[38;5;124;43m\"\u001B[39;49m\u001B[43m)\u001B[49m\n",
       "\n",
       "File \u001B[0;32m/databricks/python/lib/python3.10/site-packages/pyspark/sql/connect/conf.py:66\u001B[0m, in \u001B[0;36mRuntimeConf.get\u001B[0;34m(self, key, default)\u001B[0m\n",
       "\u001B[1;32m     62\u001B[0m     op_get_with_default \u001B[38;5;241m=\u001B[39m proto\u001B[38;5;241m.\u001B[39mConfigRequest\u001B[38;5;241m.\u001B[39mGetWithDefault(\n",
       "\u001B[1;32m     63\u001B[0m         pairs\u001B[38;5;241m=\u001B[39m[proto\u001B[38;5;241m.\u001B[39mKeyValue(key\u001B[38;5;241m=\u001B[39mkey, value\u001B[38;5;241m=\u001B[39mcast(Optional[\u001B[38;5;28mstr\u001B[39m], default))]\n",
       "\u001B[1;32m     64\u001B[0m     )\n",
       "\u001B[1;32m     65\u001B[0m     operation \u001B[38;5;241m=\u001B[39m proto\u001B[38;5;241m.\u001B[39mConfigRequest\u001B[38;5;241m.\u001B[39mOperation(get_with_default\u001B[38;5;241m=\u001B[39mop_get_with_default)\n",
       "\u001B[0;32m---> 66\u001B[0m result \u001B[38;5;241m=\u001B[39m \u001B[38;5;28;43mself\u001B[39;49m\u001B[38;5;241;43m.\u001B[39;49m\u001B[43m_client\u001B[49m\u001B[38;5;241;43m.\u001B[39;49m\u001B[43mconfig\u001B[49m\u001B[43m(\u001B[49m\u001B[43moperation\u001B[49m\u001B[43m)\u001B[49m\n",
       "\u001B[1;32m     67\u001B[0m \u001B[38;5;28;01mreturn\u001B[39;00m result\u001B[38;5;241m.\u001B[39mpairs[\u001B[38;5;241m0\u001B[39m][\u001B[38;5;241m1\u001B[39m]\n",
       "\n",
       "File \u001B[0;32m/databricks/python/lib/python3.10/site-packages/pyspark/sql/connect/client/core.py:1726\u001B[0m, in \u001B[0;36mSparkConnectClient.config\u001B[0;34m(self, operation)\u001B[0m\n",
       "\u001B[1;32m   1724\u001B[0m     \u001B[38;5;28;01mraise\u001B[39;00m SparkConnectException(\u001B[38;5;124m\"\u001B[39m\u001B[38;5;124mInvalid state during retry exception handling.\u001B[39m\u001B[38;5;124m\"\u001B[39m)\n",
       "\u001B[1;32m   1725\u001B[0m \u001B[38;5;28;01mexcept\u001B[39;00m \u001B[38;5;167;01mException\u001B[39;00m \u001B[38;5;28;01mas\u001B[39;00m error:\n",
       "\u001B[0;32m-> 1726\u001B[0m     \u001B[38;5;28;43mself\u001B[39;49m\u001B[38;5;241;43m.\u001B[39;49m\u001B[43m_handle_error\u001B[49m\u001B[43m(\u001B[49m\u001B[43merror\u001B[49m\u001B[43m)\u001B[49m\n",
       "\n",
       "File \u001B[0;32m/databricks/python/lib/python3.10/site-packages/pyspark/sql/connect/client/core.py:1913\u001B[0m, in \u001B[0;36mSparkConnectClient._handle_error\u001B[0;34m(self, error)\u001B[0m\n",
       "\u001B[1;32m   1911\u001B[0m \u001B[38;5;28mself\u001B[39m\u001B[38;5;241m.\u001B[39mthread_local\u001B[38;5;241m.\u001B[39minside_error_handling \u001B[38;5;241m=\u001B[39m \u001B[38;5;28;01mTrue\u001B[39;00m\n",
       "\u001B[1;32m   1912\u001B[0m \u001B[38;5;28;01mif\u001B[39;00m \u001B[38;5;28misinstance\u001B[39m(error, grpc\u001B[38;5;241m.\u001B[39mRpcError):\n",
       "\u001B[0;32m-> 1913\u001B[0m     \u001B[38;5;28;43mself\u001B[39;49m\u001B[38;5;241;43m.\u001B[39;49m\u001B[43m_handle_rpc_error\u001B[49m\u001B[43m(\u001B[49m\u001B[43merror\u001B[49m\u001B[43m)\u001B[49m\n",
       "\u001B[1;32m   1914\u001B[0m \u001B[38;5;28;01melif\u001B[39;00m \u001B[38;5;28misinstance\u001B[39m(error, \u001B[38;5;167;01mValueError\u001B[39;00m):\n",
       "\u001B[1;32m   1915\u001B[0m     \u001B[38;5;28;01mif\u001B[39;00m \u001B[38;5;124m\"\u001B[39m\u001B[38;5;124mCannot invoke RPC\u001B[39m\u001B[38;5;124m\"\u001B[39m \u001B[38;5;129;01min\u001B[39;00m \u001B[38;5;28mstr\u001B[39m(error) \u001B[38;5;129;01mand\u001B[39;00m \u001B[38;5;124m\"\u001B[39m\u001B[38;5;124mclosed\u001B[39m\u001B[38;5;124m\"\u001B[39m \u001B[38;5;129;01min\u001B[39;00m \u001B[38;5;28mstr\u001B[39m(error):\n",
       "\n",
       "File \u001B[0;32m/databricks/python/lib/python3.10/site-packages/pyspark/sql/connect/client/core.py:1988\u001B[0m, in \u001B[0;36mSparkConnectClient._handle_rpc_error\u001B[0;34m(self, rpc_error)\u001B[0m\n",
       "\u001B[1;32m   1985\u001B[0m             info \u001B[38;5;241m=\u001B[39m error_details_pb2\u001B[38;5;241m.\u001B[39mErrorInfo()\n",
       "\u001B[1;32m   1986\u001B[0m             d\u001B[38;5;241m.\u001B[39mUnpack(info)\n",
       "\u001B[0;32m-> 1988\u001B[0m             \u001B[38;5;28;01mraise\u001B[39;00m convert_exception(\n",
       "\u001B[1;32m   1989\u001B[0m                 info,\n",
       "\u001B[1;32m   1990\u001B[0m                 status\u001B[38;5;241m.\u001B[39mmessage,\n",
       "\u001B[1;32m   1991\u001B[0m                 \u001B[38;5;28mself\u001B[39m\u001B[38;5;241m.\u001B[39m_fetch_enriched_error(info),\n",
       "\u001B[1;32m   1992\u001B[0m                 \u001B[38;5;28mself\u001B[39m\u001B[38;5;241m.\u001B[39m_display_server_stack_trace(),\n",
       "\u001B[1;32m   1993\u001B[0m             ) \u001B[38;5;28;01mfrom\u001B[39;00m \u001B[38;5;28mNone\u001B[39m\n",
       "\u001B[1;32m   1995\u001B[0m     \u001B[38;5;28;01mraise\u001B[39;00m SparkConnectGrpcException(status\u001B[38;5;241m.\u001B[39mmessage) \u001B[38;5;28;01mfrom\u001B[39;00m \u001B[38;5;28mNone\u001B[39m\n",
       "\u001B[1;32m   1996\u001B[0m \u001B[38;5;28;01melse\u001B[39;00m:\n",
       "\n",
       "\u001B[0;31mAnalysisException\u001B[0m: [CONFIG_NOT_AVAILABLE] Configuration spark.sql.catalogImplementation is not available. SQLSTATE: 42K0I\n",
       "\n",
       "JVM stacktrace:\n",
       "org.apache.spark.sql.AnalysisException\n",
       "\tat com.databricks.sql.connect.SparkConnectConfig$.assertConfigAllowedForRead(SparkConnectConfig.scala:247)\n",
       "\tat org.apache.spark.sql.connect.service.SparkConnectConfigHandler$RuntimeConfigWrapper.get(SparkConnectConfigHandler.scala:116)\n",
       "\tat org.apache.spark.sql.connect.service.SparkConnectConfigHandler.transform(SparkConnectConfigHandler.scala:291)\n",
       "\tat org.apache.spark.sql.connect.service.SparkConnectConfigHandler.$anonfun$handleGetWithDefault$1(SparkConnectConfigHandler.scala:332)\n",
       "\tat org.apache.spark.sql.connect.service.SparkConnectConfigHandler.$anonfun$handleGetWithDefault$1$adapted(SparkConnectConfigHandler.scala:330)\n",
       "\tat scala.collection.Iterator.foreach(Iterator.scala:943)\n",
       "\tat scala.collection.Iterator.foreach$(Iterator.scala:943)\n",
       "\tat scala.collection.AbstractIterator.foreach(Iterator.scala:1431)\n",
       "\tat org.apache.spark.sql.connect.service.SparkConnectConfigHandler.handleGetWithDefault(SparkConnectConfigHandler.scala:330)\n",
       "\tat org.apache.spark.sql.connect.service.SparkConnectConfigHandler.$anonfun$doHandle$1(SparkConnectConfigHandler.scala:236)\n",
       "\tat org.apache.spark.sql.connect.service.SparkConnectConfigHandler.$anonfun$doHandle$1$adapted(SparkConnectConfigHandler.scala:211)\n",
       "\tat org.apache.spark.sql.connect.service.SessionHolder.$anonfun$withSession$2(SessionHolder.scala:404)\n",
       "\tat org.apache.spark.sql.SparkSession.withActive(SparkSession.scala:1426)\n",
       "\tat org.apache.spark.sql.connect.service.SessionHolder.$anonfun$withSession$1(SessionHolder.scala:404)\n",
       "\tat org.apache.spark.JobArtifactSet$.withActiveJobArtifactState(JobArtifactSet.scala:97)\n",
       "\tat org.apache.spark.sql.artifact.ArtifactManager.$anonfun$withResources$1(ArtifactManager.scala:90)\n",
       "\tat org.apache.spark.util.Utils$.withContextClassLoader(Utils.scala:240)\n",
       "\tat org.apache.spark.sql.artifact.ArtifactManager.withResources(ArtifactManager.scala:89)\n",
       "\tat org.apache.spark.sql.connect.service.SessionHolder.withSession(SessionHolder.scala:403)\n",
       "\tat org.apache.spark.sql.connect.service.SparkConnectConfigHandler.doHandle(SparkConnectConfigHandler.scala:211)\n",
       "\tat org.apache.spark.sql.connect.service.SparkConnectConfigHandler.$anonfun$handle$1(SparkConnectConfigHandler.scala:202)\n",
       "\tat org.apache.spark.sql.connect.service.SparkConnectConfigHandler.$anonfun$handle$1$adapted(SparkConnectConfigHandler.scala:186)\n",
       "\tat com.databricks.spark.connect.logging.rpc.SparkConnectRpcMetricsCollectorUtils$.collectMetrics(SparkConnectRpcMetricsCollector.scala:258)\n",
       "\tat org.apache.spark.sql.connect.service.SparkConnectConfigHandler.handle(SparkConnectConfigHandler.scala:186)\n",
       "\tat org.apache.spark.sql.connect.service.SparkConnectService.config(SparkConnectService.scala:129)\n",
       "\tat org.apache.spark.connect.proto.SparkConnectServiceGrpc$MethodHandlers.invoke(SparkConnectServiceGrpc.java:805)\n",
       "\tat grpc_shaded.io.grpc.stub.ServerCalls$UnaryServerCallHandler$UnaryServerCallListener.onHalfClose(ServerCalls.java:182)\n",
       "\tat grpc_shaded.io.grpc.PartialForwardingServerCallListener.onHalfClose(PartialForwardingServerCallListener.java:35)\n",
       "\tat grpc_shaded.io.grpc.ForwardingServerCallListener.onHalfClose(ForwardingServerCallListener.java:23)\n",
       "\tat grpc_shaded.io.grpc.ForwardingServerCallListener$SimpleForwardingServerCallListener.onHalfClose(ForwardingServerCallListener.java:40)\n",
       "\tat com.databricks.spark.connect.service.AuthenticationInterceptor$AuthenticatedServerCallListener.$anonfun$onHalfClose$1(AuthenticationInterceptor.scala:351)\n",
       "\tat scala.runtime.java8.JFunction0$mcV$sp.apply(JFunction0$mcV$sp.java:23)\n",
       "\tat com.databricks.unity.UCSEphemeralState$Handle.runWith(UCSEphemeralState.scala:51)\n",
       "\tat com.databricks.unity.HandleImpl.runWith(UCSHandle.scala:104)\n",
       "\tat com.databricks.spark.connect.service.RequestContext.$anonfun$runWith$3(RequestContext.scala:306)\n",
       "\tat com.databricks.spark.connect.service.RequestContext$.com$databricks$spark$connect$service$RequestContext$$withLocalProperties(RequestContext.scala:500)\n",
       "\tat com.databricks.spark.connect.service.RequestContext.$anonfun$runWith$2(RequestContext.scala:306)\n",
       "\tat com.databricks.logging.AttributionContextTracing.$anonfun$withAttributionContext$1(AttributionContextTracing.scala:49)\n",
       "\tat com.databricks.logging.AttributionContext$.$anonfun$withValue$1(AttributionContext.scala:293)\n",
       "\tat scala.util.DynamicVariable.withValue(DynamicVariable.scala:62)\n",
       "\tat com.databricks.logging.AttributionContext$.withValue(AttributionContext.scala:289)\n",
       "\tat com.databricks.logging.AttributionContextTracing.withAttributionContext(AttributionContextTracing.scala:47)\n",
       "\tat com.databricks.logging.AttributionContextTracing.withAttributionContext$(AttributionContextTracing.scala:44)\n",
       "\tat com.databricks.spark.util.PublicDBLogging.withAttributionContext(DatabricksSparkUsageLogger.scala:30)\n",
       "\tat com.databricks.spark.util.UniverseAttributionContextWrapper.withValue(AttributionContextUtils.scala:229)\n",
       "\tat com.databricks.spark.connect.service.RequestContext.$anonfun$runWith$1(RequestContext.scala:305)\n",
       "\tat com.databricks.spark.connect.service.RequestContext.withContext(RequestContext.scala:318)\n",
       "\tat com.databricks.spark.connect.service.RequestContext.runWith(RequestContext.scala:298)\n",
       "\tat com.databricks.spark.connect.service.AuthenticationInterceptor$AuthenticatedServerCallListener.onHalfClose(AuthenticationInterceptor.scala:351)\n",
       "\tat grpc_shaded.io.grpc.PartialForwardingServerCallListener.onHalfClose(PartialForwardingServerCallListener.java:35)\n",
       "\tat grpc_shaded.io.grpc.ForwardingServerCallListener.onHalfClose(ForwardingServerCallListener.java:23)\n",
       "\tat grpc_shaded.io.grpc.ForwardingServerCallListener$SimpleForwardingServerCallListener.onHalfClose(ForwardingServerCallListener.java:40)\n",
       "\tat grpc_shaded.io.grpc.internal.ServerCallImpl$ServerStreamListenerImpl.halfClosed(ServerCallImpl.java:351)\n",
       "\tat grpc_shaded.io.grpc.internal.ServerImpl$JumpToApplicationThreadServerStreamListener$1HalfClosed.runInContext(ServerImpl.java:861)\n",
       "\tat grpc_shaded.io.grpc.internal.ContextRunnable.run(ContextRunnable.java:37)\n",
       "\tat grpc_shaded.io.grpc.internal.SerializingExecutor.run(SerializingExecutor.java:133)\n",
       "\tat java.util.concurrent.ThreadPoolExecutor.runWorker(ThreadPoolExecutor.java:1136)\n",
       "\tat java.util.concurrent.ThreadPoolExecutor$Worker.run(ThreadPoolExecutor.java:635)\n",
       "\tat java.lang.Thread.run(Thread.java:840)"
      ]
     },
     "metadata": {
      "application/vnd.databricks.v1+output": {
       "addedWidgets": {},
       "arguments": {},
       "datasetInfos": [],
       "jupyterProps": {
        "ename": "AnalysisException",
        "evalue": "[CONFIG_NOT_AVAILABLE] Configuration spark.sql.catalogImplementation is not available. SQLSTATE: 42K0I\n\nJVM stacktrace:\norg.apache.spark.sql.AnalysisException\n\tat com.databricks.sql.connect.SparkConnectConfig$.assertConfigAllowedForRead(SparkConnectConfig.scala:247)\n\tat org.apache.spark.sql.connect.service.SparkConnectConfigHandler$RuntimeConfigWrapper.get(SparkConnectConfigHandler.scala:116)\n\tat org.apache.spark.sql.connect.service.SparkConnectConfigHandler.transform(SparkConnectConfigHandler.scala:291)\n\tat org.apache.spark.sql.connect.service.SparkConnectConfigHandler.$anonfun$handleGetWithDefault$1(SparkConnectConfigHandler.scala:332)\n\tat org.apache.spark.sql.connect.service.SparkConnectConfigHandler.$anonfun$handleGetWithDefault$1$adapted(SparkConnectConfigHandler.scala:330)\n\tat scala.collection.Iterator.foreach(Iterator.scala:943)\n\tat scala.collection.Iterator.foreach$(Iterator.scala:943)\n\tat scala.collection.AbstractIterator.foreach(Iterator.scala:1431)\n\tat org.apache.spark.sql.connect.service.SparkConnectConfigHandler.handleGetWithDefault(SparkConnectConfigHandler.scala:330)\n\tat org.apache.spark.sql.connect.service.SparkConnectConfigHandler.$anonfun$doHandle$1(SparkConnectConfigHandler.scala:236)\n\tat org.apache.spark.sql.connect.service.SparkConnectConfigHandler.$anonfun$doHandle$1$adapted(SparkConnectConfigHandler.scala:211)\n\tat org.apache.spark.sql.connect.service.SessionHolder.$anonfun$withSession$2(SessionHolder.scala:404)\n\tat org.apache.spark.sql.SparkSession.withActive(SparkSession.scala:1426)\n\tat org.apache.spark.sql.connect.service.SessionHolder.$anonfun$withSession$1(SessionHolder.scala:404)\n\tat org.apache.spark.JobArtifactSet$.withActiveJobArtifactState(JobArtifactSet.scala:97)\n\tat org.apache.spark.sql.artifact.ArtifactManager.$anonfun$withResources$1(ArtifactManager.scala:90)\n\tat org.apache.spark.util.Utils$.withContextClassLoader(Utils.scala:240)\n\tat org.apache.spark.sql.artifact.ArtifactManager.withResources(ArtifactManager.scala:89)\n\tat org.apache.spark.sql.connect.service.SessionHolder.withSession(SessionHolder.scala:403)\n\tat org.apache.spark.sql.connect.service.SparkConnectConfigHandler.doHandle(SparkConnectConfigHandler.scala:211)\n\tat org.apache.spark.sql.connect.service.SparkConnectConfigHandler.$anonfun$handle$1(SparkConnectConfigHandler.scala:202)\n\tat org.apache.spark.sql.connect.service.SparkConnectConfigHandler.$anonfun$handle$1$adapted(SparkConnectConfigHandler.scala:186)\n\tat com.databricks.spark.connect.logging.rpc.SparkConnectRpcMetricsCollectorUtils$.collectMetrics(SparkConnectRpcMetricsCollector.scala:258)\n\tat org.apache.spark.sql.connect.service.SparkConnectConfigHandler.handle(SparkConnectConfigHandler.scala:186)\n\tat org.apache.spark.sql.connect.service.SparkConnectService.config(SparkConnectService.scala:129)\n\tat org.apache.spark.connect.proto.SparkConnectServiceGrpc$MethodHandlers.invoke(SparkConnectServiceGrpc.java:805)\n\tat grpc_shaded.io.grpc.stub.ServerCalls$UnaryServerCallHandler$UnaryServerCallListener.onHalfClose(ServerCalls.java:182)\n\tat grpc_shaded.io.grpc.PartialForwardingServerCallListener.onHalfClose(PartialForwardingServerCallListener.java:35)\n\tat grpc_shaded.io.grpc.ForwardingServerCallListener.onHalfClose(ForwardingServerCallListener.java:23)\n\tat grpc_shaded.io.grpc.ForwardingServerCallListener$SimpleForwardingServerCallListener.onHalfClose(ForwardingServerCallListener.java:40)\n\tat com.databricks.spark.connect.service.AuthenticationInterceptor$AuthenticatedServerCallListener.$anonfun$onHalfClose$1(AuthenticationInterceptor.scala:351)\n\tat scala.runtime.java8.JFunction0$mcV$sp.apply(JFunction0$mcV$sp.java:23)\n\tat com.databricks.unity.UCSEphemeralState$Handle.runWith(UCSEphemeralState.scala:51)\n\tat com.databricks.unity.HandleImpl.runWith(UCSHandle.scala:104)\n\tat com.databricks.spark.connect.service.RequestContext.$anonfun$runWith$3(RequestContext.scala:306)\n\tat com.databricks.spark.connect.service.RequestContext$.com$databricks$spark$connect$service$RequestContext$$withLocalProperties(RequestContext.scala:500)\n\tat com.databricks.spark.connect.service.RequestContext.$anonfun$runWith$2(RequestContext.scala:306)\n\tat com.databricks.logging.AttributionContextTracing.$anonfun$withAttributionContext$1(AttributionContextTracing.scala:49)\n\tat com.databricks.logging.AttributionContext$.$anonfun$withValue$1(AttributionContext.scala:293)\n\tat scala.util.DynamicVariable.withValue(DynamicVariable.scala:62)\n\tat com.databricks.logging.AttributionContext$.withValue(AttributionContext.scala:289)\n\tat com.databricks.logging.AttributionContextTracing.withAttributionContext(AttributionContextTracing.scala:47)\n\tat com.databricks.logging.AttributionContextTracing.withAttributionContext$(AttributionContextTracing.scala:44)\n\tat com.databricks.spark.util.PublicDBLogging.withAttributionContext(DatabricksSparkUsageLogger.scala:30)\n\tat com.databricks.spark.util.UniverseAttributionContextWrapper.withValue(AttributionContextUtils.scala:229)\n\tat com.databricks.spark.connect.service.RequestContext.$anonfun$runWith$1(RequestContext.scala:305)\n\tat com.databricks.spark.connect.service.RequestContext.withContext(RequestContext.scala:318)\n\tat com.databricks.spark.connect.service.RequestContext.runWith(RequestContext.scala:298)\n\tat com.databricks.spark.connect.service.AuthenticationInterceptor$AuthenticatedServerCallListener.onHalfClose(AuthenticationInterceptor.scala:351)\n\tat grpc_shaded.io.grpc.PartialForwardingServerCallListener.onHalfClose(PartialForwardingServerCallListener.java:35)\n\tat grpc_shaded.io.grpc.ForwardingServerCallListener.onHalfClose(ForwardingServerCallListener.java:23)\n\tat grpc_shaded.io.grpc.ForwardingServerCallListener$SimpleForwardingServerCallListener.onHalfClose(ForwardingServerCallListener.java:40)\n\tat grpc_shaded.io.grpc.internal.ServerCallImpl$ServerStreamListenerImpl.halfClosed(ServerCallImpl.java:351)\n\tat grpc_shaded.io.grpc.internal.ServerImpl$JumpToApplicationThreadServerStreamListener$1HalfClosed.runInContext(ServerImpl.java:861)\n\tat grpc_shaded.io.grpc.internal.ContextRunnable.run(ContextRunnable.java:37)\n\tat grpc_shaded.io.grpc.internal.SerializingExecutor.run(SerializingExecutor.java:133)\n\tat java.util.concurrent.ThreadPoolExecutor.runWorker(ThreadPoolExecutor.java:1136)\n\tat java.util.concurrent.ThreadPoolExecutor$Worker.run(ThreadPoolExecutor.java:635)\n\tat java.lang.Thread.run(Thread.java:840)"
       },
       "metadata": {
        "errorSummary": "[CONFIG_NOT_AVAILABLE] Configuration spark.sql.catalogImplementation is not available. SQLSTATE: 42K0I"
       },
       "removedWidgets": [],
       "sqlProps": {
        "errorClass": "CONFIG_NOT_AVAILABLE",
        "pysparkCallSite": "",
        "pysparkFragment": "",
        "sqlState": "42K0I",
        "stackTrace": "org.apache.spark.sql.AnalysisException\n\tat com.databricks.sql.connect.SparkConnectConfig$.assertConfigAllowedForRead(SparkConnectConfig.scala:247)\n\tat org.apache.spark.sql.connect.service.SparkConnectConfigHandler$RuntimeConfigWrapper.get(SparkConnectConfigHandler.scala:116)\n\tat org.apache.spark.sql.connect.service.SparkConnectConfigHandler.transform(SparkConnectConfigHandler.scala:291)\n\tat org.apache.spark.sql.connect.service.SparkConnectConfigHandler.$anonfun$handleGetWithDefault$1(SparkConnectConfigHandler.scala:332)\n\tat org.apache.spark.sql.connect.service.SparkConnectConfigHandler.$anonfun$handleGetWithDefault$1$adapted(SparkConnectConfigHandler.scala:330)\n\tat scala.collection.Iterator.foreach(Iterator.scala:943)\n\tat scala.collection.Iterator.foreach$(Iterator.scala:943)\n\tat scala.collection.AbstractIterator.foreach(Iterator.scala:1431)\n\tat org.apache.spark.sql.connect.service.SparkConnectConfigHandler.handleGetWithDefault(SparkConnectConfigHandler.scala:330)\n\tat org.apache.spark.sql.connect.service.SparkConnectConfigHandler.$anonfun$doHandle$1(SparkConnectConfigHandler.scala:236)\n\tat org.apache.spark.sql.connect.service.SparkConnectConfigHandler.$anonfun$doHandle$1$adapted(SparkConnectConfigHandler.scala:211)\n\tat org.apache.spark.sql.connect.service.SessionHolder.$anonfun$withSession$2(SessionHolder.scala:404)\n\tat org.apache.spark.sql.SparkSession.withActive(SparkSession.scala:1426)\n\tat org.apache.spark.sql.connect.service.SessionHolder.$anonfun$withSession$1(SessionHolder.scala:404)\n\tat org.apache.spark.JobArtifactSet$.withActiveJobArtifactState(JobArtifactSet.scala:97)\n\tat org.apache.spark.sql.artifact.ArtifactManager.$anonfun$withResources$1(ArtifactManager.scala:90)\n\tat org.apache.spark.util.Utils$.withContextClassLoader(Utils.scala:240)\n\tat org.apache.spark.sql.artifact.ArtifactManager.withResources(ArtifactManager.scala:89)\n\tat org.apache.spark.sql.connect.service.SessionHolder.withSession(SessionHolder.scala:403)\n\tat org.apache.spark.sql.connect.service.SparkConnectConfigHandler.doHandle(SparkConnectConfigHandler.scala:211)\n\tat org.apache.spark.sql.connect.service.SparkConnectConfigHandler.$anonfun$handle$1(SparkConnectConfigHandler.scala:202)\n\tat org.apache.spark.sql.connect.service.SparkConnectConfigHandler.$anonfun$handle$1$adapted(SparkConnectConfigHandler.scala:186)\n\tat com.databricks.spark.connect.logging.rpc.SparkConnectRpcMetricsCollectorUtils$.collectMetrics(SparkConnectRpcMetricsCollector.scala:258)\n\tat org.apache.spark.sql.connect.service.SparkConnectConfigHandler.handle(SparkConnectConfigHandler.scala:186)\n\tat org.apache.spark.sql.connect.service.SparkConnectService.config(SparkConnectService.scala:129)\n\tat org.apache.spark.connect.proto.SparkConnectServiceGrpc$MethodHandlers.invoke(SparkConnectServiceGrpc.java:805)\n\tat grpc_shaded.io.grpc.stub.ServerCalls$UnaryServerCallHandler$UnaryServerCallListener.onHalfClose(ServerCalls.java:182)\n\tat grpc_shaded.io.grpc.PartialForwardingServerCallListener.onHalfClose(PartialForwardingServerCallListener.java:35)\n\tat grpc_shaded.io.grpc.ForwardingServerCallListener.onHalfClose(ForwardingServerCallListener.java:23)\n\tat grpc_shaded.io.grpc.ForwardingServerCallListener$SimpleForwardingServerCallListener.onHalfClose(ForwardingServerCallListener.java:40)\n\tat com.databricks.spark.connect.service.AuthenticationInterceptor$AuthenticatedServerCallListener.$anonfun$onHalfClose$1(AuthenticationInterceptor.scala:351)\n\tat scala.runtime.java8.JFunction0$mcV$sp.apply(JFunction0$mcV$sp.java:23)\n\tat com.databricks.unity.UCSEphemeralState$Handle.runWith(UCSEphemeralState.scala:51)\n\tat com.databricks.unity.HandleImpl.runWith(UCSHandle.scala:104)\n\tat com.databricks.spark.connect.service.RequestContext.$anonfun$runWith$3(RequestContext.scala:306)\n\tat com.databricks.spark.connect.service.RequestContext$.com$databricks$spark$connect$service$RequestContext$$withLocalProperties(RequestContext.scala:500)\n\tat com.databricks.spark.connect.service.RequestContext.$anonfun$runWith$2(RequestContext.scala:306)\n\tat com.databricks.logging.AttributionContextTracing.$anonfun$withAttributionContext$1(AttributionContextTracing.scala:49)\n\tat com.databricks.logging.AttributionContext$.$anonfun$withValue$1(AttributionContext.scala:293)\n\tat scala.util.DynamicVariable.withValue(DynamicVariable.scala:62)\n\tat com.databricks.logging.AttributionContext$.withValue(AttributionContext.scala:289)\n\tat com.databricks.logging.AttributionContextTracing.withAttributionContext(AttributionContextTracing.scala:47)\n\tat com.databricks.logging.AttributionContextTracing.withAttributionContext$(AttributionContextTracing.scala:44)\n\tat com.databricks.spark.util.PublicDBLogging.withAttributionContext(DatabricksSparkUsageLogger.scala:30)\n\tat com.databricks.spark.util.UniverseAttributionContextWrapper.withValue(AttributionContextUtils.scala:229)\n\tat com.databricks.spark.connect.service.RequestContext.$anonfun$runWith$1(RequestContext.scala:305)\n\tat com.databricks.spark.connect.service.RequestContext.withContext(RequestContext.scala:318)\n\tat com.databricks.spark.connect.service.RequestContext.runWith(RequestContext.scala:298)\n\tat com.databricks.spark.connect.service.AuthenticationInterceptor$AuthenticatedServerCallListener.onHalfClose(AuthenticationInterceptor.scala:351)\n\tat grpc_shaded.io.grpc.PartialForwardingServerCallListener.onHalfClose(PartialForwardingServerCallListener.java:35)\n\tat grpc_shaded.io.grpc.ForwardingServerCallListener.onHalfClose(ForwardingServerCallListener.java:23)\n\tat grpc_shaded.io.grpc.ForwardingServerCallListener$SimpleForwardingServerCallListener.onHalfClose(ForwardingServerCallListener.java:40)\n\tat grpc_shaded.io.grpc.internal.ServerCallImpl$ServerStreamListenerImpl.halfClosed(ServerCallImpl.java:351)\n\tat grpc_shaded.io.grpc.internal.ServerImpl$JumpToApplicationThreadServerStreamListener$1HalfClosed.runInContext(ServerImpl.java:861)\n\tat grpc_shaded.io.grpc.internal.ContextRunnable.run(ContextRunnable.java:37)\n\tat grpc_shaded.io.grpc.internal.SerializingExecutor.run(SerializingExecutor.java:133)\n\tat java.util.concurrent.ThreadPoolExecutor.runWorker(ThreadPoolExecutor.java:1136)\n\tat java.util.concurrent.ThreadPoolExecutor$Worker.run(ThreadPoolExecutor.java:635)\n\tat java.lang.Thread.run(Thread.java:840)",
        "startIndex": null,
        "stopIndex": null
       },
       "stackFrames": [
        "\u001B[0;31m---------------------------------------------------------------------------\u001B[0m",
        "\u001B[0;31mAnalysisException\u001B[0m                         Traceback (most recent call last)",
        "File \u001B[0;32m<command-1314523540085783>, line 1\u001B[0m\n\u001B[0;32m----> 1\u001B[0m \u001B[43mspark\u001B[49m\u001B[38;5;241;43m.\u001B[39;49m\u001B[43mconf\u001B[49m\u001B[38;5;241;43m.\u001B[39;49m\u001B[43mget\u001B[49m\u001B[43m(\u001B[49m\u001B[38;5;124;43m\"\u001B[39;49m\u001B[38;5;124;43mspark.sql.catalogImplementation\u001B[39;49m\u001B[38;5;124;43m\"\u001B[39;49m\u001B[43m,\u001B[49m\u001B[43m \u001B[49m\u001B[38;5;124;43m\"\u001B[39;49m\u001B[38;5;124;43mNot Set\u001B[39;49m\u001B[38;5;124;43m\"\u001B[39;49m\u001B[43m)\u001B[49m\n",
        "File \u001B[0;32m/databricks/python/lib/python3.10/site-packages/pyspark/sql/connect/conf.py:66\u001B[0m, in \u001B[0;36mRuntimeConf.get\u001B[0;34m(self, key, default)\u001B[0m\n\u001B[1;32m     62\u001B[0m     op_get_with_default \u001B[38;5;241m=\u001B[39m proto\u001B[38;5;241m.\u001B[39mConfigRequest\u001B[38;5;241m.\u001B[39mGetWithDefault(\n\u001B[1;32m     63\u001B[0m         pairs\u001B[38;5;241m=\u001B[39m[proto\u001B[38;5;241m.\u001B[39mKeyValue(key\u001B[38;5;241m=\u001B[39mkey, value\u001B[38;5;241m=\u001B[39mcast(Optional[\u001B[38;5;28mstr\u001B[39m], default))]\n\u001B[1;32m     64\u001B[0m     )\n\u001B[1;32m     65\u001B[0m     operation \u001B[38;5;241m=\u001B[39m proto\u001B[38;5;241m.\u001B[39mConfigRequest\u001B[38;5;241m.\u001B[39mOperation(get_with_default\u001B[38;5;241m=\u001B[39mop_get_with_default)\n\u001B[0;32m---> 66\u001B[0m result \u001B[38;5;241m=\u001B[39m \u001B[38;5;28;43mself\u001B[39;49m\u001B[38;5;241;43m.\u001B[39;49m\u001B[43m_client\u001B[49m\u001B[38;5;241;43m.\u001B[39;49m\u001B[43mconfig\u001B[49m\u001B[43m(\u001B[49m\u001B[43moperation\u001B[49m\u001B[43m)\u001B[49m\n\u001B[1;32m     67\u001B[0m \u001B[38;5;28;01mreturn\u001B[39;00m result\u001B[38;5;241m.\u001B[39mpairs[\u001B[38;5;241m0\u001B[39m][\u001B[38;5;241m1\u001B[39m]\n",
        "File \u001B[0;32m/databricks/python/lib/python3.10/site-packages/pyspark/sql/connect/client/core.py:1726\u001B[0m, in \u001B[0;36mSparkConnectClient.config\u001B[0;34m(self, operation)\u001B[0m\n\u001B[1;32m   1724\u001B[0m     \u001B[38;5;28;01mraise\u001B[39;00m SparkConnectException(\u001B[38;5;124m\"\u001B[39m\u001B[38;5;124mInvalid state during retry exception handling.\u001B[39m\u001B[38;5;124m\"\u001B[39m)\n\u001B[1;32m   1725\u001B[0m \u001B[38;5;28;01mexcept\u001B[39;00m \u001B[38;5;167;01mException\u001B[39;00m \u001B[38;5;28;01mas\u001B[39;00m error:\n\u001B[0;32m-> 1726\u001B[0m     \u001B[38;5;28;43mself\u001B[39;49m\u001B[38;5;241;43m.\u001B[39;49m\u001B[43m_handle_error\u001B[49m\u001B[43m(\u001B[49m\u001B[43merror\u001B[49m\u001B[43m)\u001B[49m\n",
        "File \u001B[0;32m/databricks/python/lib/python3.10/site-packages/pyspark/sql/connect/client/core.py:1913\u001B[0m, in \u001B[0;36mSparkConnectClient._handle_error\u001B[0;34m(self, error)\u001B[0m\n\u001B[1;32m   1911\u001B[0m \u001B[38;5;28mself\u001B[39m\u001B[38;5;241m.\u001B[39mthread_local\u001B[38;5;241m.\u001B[39minside_error_handling \u001B[38;5;241m=\u001B[39m \u001B[38;5;28;01mTrue\u001B[39;00m\n\u001B[1;32m   1912\u001B[0m \u001B[38;5;28;01mif\u001B[39;00m \u001B[38;5;28misinstance\u001B[39m(error, grpc\u001B[38;5;241m.\u001B[39mRpcError):\n\u001B[0;32m-> 1913\u001B[0m     \u001B[38;5;28;43mself\u001B[39;49m\u001B[38;5;241;43m.\u001B[39;49m\u001B[43m_handle_rpc_error\u001B[49m\u001B[43m(\u001B[49m\u001B[43merror\u001B[49m\u001B[43m)\u001B[49m\n\u001B[1;32m   1914\u001B[0m \u001B[38;5;28;01melif\u001B[39;00m \u001B[38;5;28misinstance\u001B[39m(error, \u001B[38;5;167;01mValueError\u001B[39;00m):\n\u001B[1;32m   1915\u001B[0m     \u001B[38;5;28;01mif\u001B[39;00m \u001B[38;5;124m\"\u001B[39m\u001B[38;5;124mCannot invoke RPC\u001B[39m\u001B[38;5;124m\"\u001B[39m \u001B[38;5;129;01min\u001B[39;00m \u001B[38;5;28mstr\u001B[39m(error) \u001B[38;5;129;01mand\u001B[39;00m \u001B[38;5;124m\"\u001B[39m\u001B[38;5;124mclosed\u001B[39m\u001B[38;5;124m\"\u001B[39m \u001B[38;5;129;01min\u001B[39;00m \u001B[38;5;28mstr\u001B[39m(error):\n",
        "File \u001B[0;32m/databricks/python/lib/python3.10/site-packages/pyspark/sql/connect/client/core.py:1988\u001B[0m, in \u001B[0;36mSparkConnectClient._handle_rpc_error\u001B[0;34m(self, rpc_error)\u001B[0m\n\u001B[1;32m   1985\u001B[0m             info \u001B[38;5;241m=\u001B[39m error_details_pb2\u001B[38;5;241m.\u001B[39mErrorInfo()\n\u001B[1;32m   1986\u001B[0m             d\u001B[38;5;241m.\u001B[39mUnpack(info)\n\u001B[0;32m-> 1988\u001B[0m             \u001B[38;5;28;01mraise\u001B[39;00m convert_exception(\n\u001B[1;32m   1989\u001B[0m                 info,\n\u001B[1;32m   1990\u001B[0m                 status\u001B[38;5;241m.\u001B[39mmessage,\n\u001B[1;32m   1991\u001B[0m                 \u001B[38;5;28mself\u001B[39m\u001B[38;5;241m.\u001B[39m_fetch_enriched_error(info),\n\u001B[1;32m   1992\u001B[0m                 \u001B[38;5;28mself\u001B[39m\u001B[38;5;241m.\u001B[39m_display_server_stack_trace(),\n\u001B[1;32m   1993\u001B[0m             ) \u001B[38;5;28;01mfrom\u001B[39;00m \u001B[38;5;28mNone\u001B[39m\n\u001B[1;32m   1995\u001B[0m     \u001B[38;5;28;01mraise\u001B[39;00m SparkConnectGrpcException(status\u001B[38;5;241m.\u001B[39mmessage) \u001B[38;5;28;01mfrom\u001B[39;00m \u001B[38;5;28mNone\u001B[39m\n\u001B[1;32m   1996\u001B[0m \u001B[38;5;28;01melse\u001B[39;00m:\n",
        "\u001B[0;31mAnalysisException\u001B[0m: [CONFIG_NOT_AVAILABLE] Configuration spark.sql.catalogImplementation is not available. SQLSTATE: 42K0I\n\nJVM stacktrace:\norg.apache.spark.sql.AnalysisException\n\tat com.databricks.sql.connect.SparkConnectConfig$.assertConfigAllowedForRead(SparkConnectConfig.scala:247)\n\tat org.apache.spark.sql.connect.service.SparkConnectConfigHandler$RuntimeConfigWrapper.get(SparkConnectConfigHandler.scala:116)\n\tat org.apache.spark.sql.connect.service.SparkConnectConfigHandler.transform(SparkConnectConfigHandler.scala:291)\n\tat org.apache.spark.sql.connect.service.SparkConnectConfigHandler.$anonfun$handleGetWithDefault$1(SparkConnectConfigHandler.scala:332)\n\tat org.apache.spark.sql.connect.service.SparkConnectConfigHandler.$anonfun$handleGetWithDefault$1$adapted(SparkConnectConfigHandler.scala:330)\n\tat scala.collection.Iterator.foreach(Iterator.scala:943)\n\tat scala.collection.Iterator.foreach$(Iterator.scala:943)\n\tat scala.collection.AbstractIterator.foreach(Iterator.scala:1431)\n\tat org.apache.spark.sql.connect.service.SparkConnectConfigHandler.handleGetWithDefault(SparkConnectConfigHandler.scala:330)\n\tat org.apache.spark.sql.connect.service.SparkConnectConfigHandler.$anonfun$doHandle$1(SparkConnectConfigHandler.scala:236)\n\tat org.apache.spark.sql.connect.service.SparkConnectConfigHandler.$anonfun$doHandle$1$adapted(SparkConnectConfigHandler.scala:211)\n\tat org.apache.spark.sql.connect.service.SessionHolder.$anonfun$withSession$2(SessionHolder.scala:404)\n\tat org.apache.spark.sql.SparkSession.withActive(SparkSession.scala:1426)\n\tat org.apache.spark.sql.connect.service.SessionHolder.$anonfun$withSession$1(SessionHolder.scala:404)\n\tat org.apache.spark.JobArtifactSet$.withActiveJobArtifactState(JobArtifactSet.scala:97)\n\tat org.apache.spark.sql.artifact.ArtifactManager.$anonfun$withResources$1(ArtifactManager.scala:90)\n\tat org.apache.spark.util.Utils$.withContextClassLoader(Utils.scala:240)\n\tat org.apache.spark.sql.artifact.ArtifactManager.withResources(ArtifactManager.scala:89)\n\tat org.apache.spark.sql.connect.service.SessionHolder.withSession(SessionHolder.scala:403)\n\tat org.apache.spark.sql.connect.service.SparkConnectConfigHandler.doHandle(SparkConnectConfigHandler.scala:211)\n\tat org.apache.spark.sql.connect.service.SparkConnectConfigHandler.$anonfun$handle$1(SparkConnectConfigHandler.scala:202)\n\tat org.apache.spark.sql.connect.service.SparkConnectConfigHandler.$anonfun$handle$1$adapted(SparkConnectConfigHandler.scala:186)\n\tat com.databricks.spark.connect.logging.rpc.SparkConnectRpcMetricsCollectorUtils$.collectMetrics(SparkConnectRpcMetricsCollector.scala:258)\n\tat org.apache.spark.sql.connect.service.SparkConnectConfigHandler.handle(SparkConnectConfigHandler.scala:186)\n\tat org.apache.spark.sql.connect.service.SparkConnectService.config(SparkConnectService.scala:129)\n\tat org.apache.spark.connect.proto.SparkConnectServiceGrpc$MethodHandlers.invoke(SparkConnectServiceGrpc.java:805)\n\tat grpc_shaded.io.grpc.stub.ServerCalls$UnaryServerCallHandler$UnaryServerCallListener.onHalfClose(ServerCalls.java:182)\n\tat grpc_shaded.io.grpc.PartialForwardingServerCallListener.onHalfClose(PartialForwardingServerCallListener.java:35)\n\tat grpc_shaded.io.grpc.ForwardingServerCallListener.onHalfClose(ForwardingServerCallListener.java:23)\n\tat grpc_shaded.io.grpc.ForwardingServerCallListener$SimpleForwardingServerCallListener.onHalfClose(ForwardingServerCallListener.java:40)\n\tat com.databricks.spark.connect.service.AuthenticationInterceptor$AuthenticatedServerCallListener.$anonfun$onHalfClose$1(AuthenticationInterceptor.scala:351)\n\tat scala.runtime.java8.JFunction0$mcV$sp.apply(JFunction0$mcV$sp.java:23)\n\tat com.databricks.unity.UCSEphemeralState$Handle.runWith(UCSEphemeralState.scala:51)\n\tat com.databricks.unity.HandleImpl.runWith(UCSHandle.scala:104)\n\tat com.databricks.spark.connect.service.RequestContext.$anonfun$runWith$3(RequestContext.scala:306)\n\tat com.databricks.spark.connect.service.RequestContext$.com$databricks$spark$connect$service$RequestContext$$withLocalProperties(RequestContext.scala:500)\n\tat com.databricks.spark.connect.service.RequestContext.$anonfun$runWith$2(RequestContext.scala:306)\n\tat com.databricks.logging.AttributionContextTracing.$anonfun$withAttributionContext$1(AttributionContextTracing.scala:49)\n\tat com.databricks.logging.AttributionContext$.$anonfun$withValue$1(AttributionContext.scala:293)\n\tat scala.util.DynamicVariable.withValue(DynamicVariable.scala:62)\n\tat com.databricks.logging.AttributionContext$.withValue(AttributionContext.scala:289)\n\tat com.databricks.logging.AttributionContextTracing.withAttributionContext(AttributionContextTracing.scala:47)\n\tat com.databricks.logging.AttributionContextTracing.withAttributionContext$(AttributionContextTracing.scala:44)\n\tat com.databricks.spark.util.PublicDBLogging.withAttributionContext(DatabricksSparkUsageLogger.scala:30)\n\tat com.databricks.spark.util.UniverseAttributionContextWrapper.withValue(AttributionContextUtils.scala:229)\n\tat com.databricks.spark.connect.service.RequestContext.$anonfun$runWith$1(RequestContext.scala:305)\n\tat com.databricks.spark.connect.service.RequestContext.withContext(RequestContext.scala:318)\n\tat com.databricks.spark.connect.service.RequestContext.runWith(RequestContext.scala:298)\n\tat com.databricks.spark.connect.service.AuthenticationInterceptor$AuthenticatedServerCallListener.onHalfClose(AuthenticationInterceptor.scala:351)\n\tat grpc_shaded.io.grpc.PartialForwardingServerCallListener.onHalfClose(PartialForwardingServerCallListener.java:35)\n\tat grpc_shaded.io.grpc.ForwardingServerCallListener.onHalfClose(ForwardingServerCallListener.java:23)\n\tat grpc_shaded.io.grpc.ForwardingServerCallListener$SimpleForwardingServerCallListener.onHalfClose(ForwardingServerCallListener.java:40)\n\tat grpc_shaded.io.grpc.internal.ServerCallImpl$ServerStreamListenerImpl.halfClosed(ServerCallImpl.java:351)\n\tat grpc_shaded.io.grpc.internal.ServerImpl$JumpToApplicationThreadServerStreamListener$1HalfClosed.runInContext(ServerImpl.java:861)\n\tat grpc_shaded.io.grpc.internal.ContextRunnable.run(ContextRunnable.java:37)\n\tat grpc_shaded.io.grpc.internal.SerializingExecutor.run(SerializingExecutor.java:133)\n\tat java.util.concurrent.ThreadPoolExecutor.runWorker(ThreadPoolExecutor.java:1136)\n\tat java.util.concurrent.ThreadPoolExecutor$Worker.run(ThreadPoolExecutor.java:635)\n\tat java.lang.Thread.run(Thread.java:840)"
       ],
       "type": "baseError"
      }
     },
     "output_type": "display_data"
    }
   ],
   "source": [
    "spark.conf.get(\"spark.sql.catalogImplementation\", \"Not Set\")"
   ]
  },
  {
   "cell_type": "code",
   "execution_count": 0,
   "metadata": {
    "application/vnd.databricks.v1+cell": {
     "cellMetadata": {
      "byteLimit": 2048000,
      "rowLimit": 10000
     },
     "inputWidgets": {},
     "nuid": "70f13d8a-3566-421e-a44a-98ab6ae14d70",
     "showTitle": false,
     "tableResultSettingsMap": {},
     "title": ""
    },
    "colab": {
     "base_uri": "https://localhost:8080/",
     "height": 35
    },
    "id": "DrjnDnSMDgm1",
    "outputId": "28a8caaf-6fe7-49ee-fdba-4a27c58bee3e"
   },
   "outputs": [
    {
     "output_type": "display_data",
     "data": {
      "text/plain": [
       "\u001B[0;31m---------------------------------------------------------------------------\u001B[0m\n",
       "\u001B[0;31mAnalysisException\u001B[0m                         Traceback (most recent call last)\n",
       "File \u001B[0;32m<command-1314523540085785>, line 1\u001B[0m\n",
       "\u001B[0;32m----> 1\u001B[0m \u001B[43mspark\u001B[49m\u001B[38;5;241;43m.\u001B[39;49m\u001B[43mconf\u001B[49m\u001B[38;5;241;43m.\u001B[39;49m\u001B[43mget\u001B[49m\u001B[43m(\u001B[49m\u001B[38;5;124;43m\"\u001B[39;49m\u001B[38;5;124;43mspark.sql.warehouse.dir\u001B[39;49m\u001B[38;5;124;43m\"\u001B[39;49m\u001B[43m)\u001B[49m\n",
       "\n",
       "File \u001B[0;32m/databricks/python/lib/python3.10/site-packages/pyspark/sql/connect/conf.py:66\u001B[0m, in \u001B[0;36mRuntimeConf.get\u001B[0;34m(self, key, default)\u001B[0m\n",
       "\u001B[1;32m     62\u001B[0m     op_get_with_default \u001B[38;5;241m=\u001B[39m proto\u001B[38;5;241m.\u001B[39mConfigRequest\u001B[38;5;241m.\u001B[39mGetWithDefault(\n",
       "\u001B[1;32m     63\u001B[0m         pairs\u001B[38;5;241m=\u001B[39m[proto\u001B[38;5;241m.\u001B[39mKeyValue(key\u001B[38;5;241m=\u001B[39mkey, value\u001B[38;5;241m=\u001B[39mcast(Optional[\u001B[38;5;28mstr\u001B[39m], default))]\n",
       "\u001B[1;32m     64\u001B[0m     )\n",
       "\u001B[1;32m     65\u001B[0m     operation \u001B[38;5;241m=\u001B[39m proto\u001B[38;5;241m.\u001B[39mConfigRequest\u001B[38;5;241m.\u001B[39mOperation(get_with_default\u001B[38;5;241m=\u001B[39mop_get_with_default)\n",
       "\u001B[0;32m---> 66\u001B[0m result \u001B[38;5;241m=\u001B[39m \u001B[38;5;28;43mself\u001B[39;49m\u001B[38;5;241;43m.\u001B[39;49m\u001B[43m_client\u001B[49m\u001B[38;5;241;43m.\u001B[39;49m\u001B[43mconfig\u001B[49m\u001B[43m(\u001B[49m\u001B[43moperation\u001B[49m\u001B[43m)\u001B[49m\n",
       "\u001B[1;32m     67\u001B[0m \u001B[38;5;28;01mreturn\u001B[39;00m result\u001B[38;5;241m.\u001B[39mpairs[\u001B[38;5;241m0\u001B[39m][\u001B[38;5;241m1\u001B[39m]\n",
       "\n",
       "File \u001B[0;32m/databricks/python/lib/python3.10/site-packages/pyspark/sql/connect/client/core.py:1726\u001B[0m, in \u001B[0;36mSparkConnectClient.config\u001B[0;34m(self, operation)\u001B[0m\n",
       "\u001B[1;32m   1724\u001B[0m     \u001B[38;5;28;01mraise\u001B[39;00m SparkConnectException(\u001B[38;5;124m\"\u001B[39m\u001B[38;5;124mInvalid state during retry exception handling.\u001B[39m\u001B[38;5;124m\"\u001B[39m)\n",
       "\u001B[1;32m   1725\u001B[0m \u001B[38;5;28;01mexcept\u001B[39;00m \u001B[38;5;167;01mException\u001B[39;00m \u001B[38;5;28;01mas\u001B[39;00m error:\n",
       "\u001B[0;32m-> 1726\u001B[0m     \u001B[38;5;28;43mself\u001B[39;49m\u001B[38;5;241;43m.\u001B[39;49m\u001B[43m_handle_error\u001B[49m\u001B[43m(\u001B[49m\u001B[43merror\u001B[49m\u001B[43m)\u001B[49m\n",
       "\n",
       "File \u001B[0;32m/databricks/python/lib/python3.10/site-packages/pyspark/sql/connect/client/core.py:1913\u001B[0m, in \u001B[0;36mSparkConnectClient._handle_error\u001B[0;34m(self, error)\u001B[0m\n",
       "\u001B[1;32m   1911\u001B[0m \u001B[38;5;28mself\u001B[39m\u001B[38;5;241m.\u001B[39mthread_local\u001B[38;5;241m.\u001B[39minside_error_handling \u001B[38;5;241m=\u001B[39m \u001B[38;5;28;01mTrue\u001B[39;00m\n",
       "\u001B[1;32m   1912\u001B[0m \u001B[38;5;28;01mif\u001B[39;00m \u001B[38;5;28misinstance\u001B[39m(error, grpc\u001B[38;5;241m.\u001B[39mRpcError):\n",
       "\u001B[0;32m-> 1913\u001B[0m     \u001B[38;5;28;43mself\u001B[39;49m\u001B[38;5;241;43m.\u001B[39;49m\u001B[43m_handle_rpc_error\u001B[49m\u001B[43m(\u001B[49m\u001B[43merror\u001B[49m\u001B[43m)\u001B[49m\n",
       "\u001B[1;32m   1914\u001B[0m \u001B[38;5;28;01melif\u001B[39;00m \u001B[38;5;28misinstance\u001B[39m(error, \u001B[38;5;167;01mValueError\u001B[39;00m):\n",
       "\u001B[1;32m   1915\u001B[0m     \u001B[38;5;28;01mif\u001B[39;00m \u001B[38;5;124m\"\u001B[39m\u001B[38;5;124mCannot invoke RPC\u001B[39m\u001B[38;5;124m\"\u001B[39m \u001B[38;5;129;01min\u001B[39;00m \u001B[38;5;28mstr\u001B[39m(error) \u001B[38;5;129;01mand\u001B[39;00m \u001B[38;5;124m\"\u001B[39m\u001B[38;5;124mclosed\u001B[39m\u001B[38;5;124m\"\u001B[39m \u001B[38;5;129;01min\u001B[39;00m \u001B[38;5;28mstr\u001B[39m(error):\n",
       "\n",
       "File \u001B[0;32m/databricks/python/lib/python3.10/site-packages/pyspark/sql/connect/client/core.py:1988\u001B[0m, in \u001B[0;36mSparkConnectClient._handle_rpc_error\u001B[0;34m(self, rpc_error)\u001B[0m\n",
       "\u001B[1;32m   1985\u001B[0m             info \u001B[38;5;241m=\u001B[39m error_details_pb2\u001B[38;5;241m.\u001B[39mErrorInfo()\n",
       "\u001B[1;32m   1986\u001B[0m             d\u001B[38;5;241m.\u001B[39mUnpack(info)\n",
       "\u001B[0;32m-> 1988\u001B[0m             \u001B[38;5;28;01mraise\u001B[39;00m convert_exception(\n",
       "\u001B[1;32m   1989\u001B[0m                 info,\n",
       "\u001B[1;32m   1990\u001B[0m                 status\u001B[38;5;241m.\u001B[39mmessage,\n",
       "\u001B[1;32m   1991\u001B[0m                 \u001B[38;5;28mself\u001B[39m\u001B[38;5;241m.\u001B[39m_fetch_enriched_error(info),\n",
       "\u001B[1;32m   1992\u001B[0m                 \u001B[38;5;28mself\u001B[39m\u001B[38;5;241m.\u001B[39m_display_server_stack_trace(),\n",
       "\u001B[1;32m   1993\u001B[0m             ) \u001B[38;5;28;01mfrom\u001B[39;00m \u001B[38;5;28mNone\u001B[39m\n",
       "\u001B[1;32m   1995\u001B[0m     \u001B[38;5;28;01mraise\u001B[39;00m SparkConnectGrpcException(status\u001B[38;5;241m.\u001B[39mmessage) \u001B[38;5;28;01mfrom\u001B[39;00m \u001B[38;5;28mNone\u001B[39m\n",
       "\u001B[1;32m   1996\u001B[0m \u001B[38;5;28;01melse\u001B[39;00m:\n",
       "\n",
       "\u001B[0;31mAnalysisException\u001B[0m: [CONFIG_NOT_AVAILABLE] Configuration spark.sql.warehouse.dir is not available. SQLSTATE: 42K0I\n",
       "\n",
       "JVM stacktrace:\n",
       "org.apache.spark.sql.AnalysisException\n",
       "\tat com.databricks.sql.connect.SparkConnectConfig$.assertConfigAllowedForRead(SparkConnectConfig.scala:247)\n",
       "\tat org.apache.spark.sql.connect.service.SparkConnectConfigHandler$RuntimeConfigWrapper.get(SparkConnectConfigHandler.scala:111)\n",
       "\tat org.apache.spark.sql.connect.service.SparkConnectConfigHandler.transform(SparkConnectConfigHandler.scala:282)\n",
       "\tat org.apache.spark.sql.connect.service.SparkConnectConfigHandler.$anonfun$handleGet$1(SparkConnectConfigHandler.scala:319)\n",
       "\tat org.apache.spark.sql.connect.service.SparkConnectConfigHandler.$anonfun$handleGet$1$adapted(SparkConnectConfigHandler.scala:318)\n",
       "\tat scala.collection.Iterator.foreach(Iterator.scala:943)\n",
       "\tat scala.collection.Iterator.foreach$(Iterator.scala:943)\n",
       "\tat scala.collection.AbstractIterator.foreach(Iterator.scala:1431)\n",
       "\tat org.apache.spark.sql.connect.service.SparkConnectConfigHandler.handleGet(SparkConnectConfigHandler.scala:318)\n",
       "\tat org.apache.spark.sql.connect.service.SparkConnectConfigHandler.$anonfun$doHandle$1(SparkConnectConfigHandler.scala:234)\n",
       "\tat org.apache.spark.sql.connect.service.SparkConnectConfigHandler.$anonfun$doHandle$1$adapted(SparkConnectConfigHandler.scala:211)\n",
       "\tat org.apache.spark.sql.connect.service.SessionHolder.$anonfun$withSession$2(SessionHolder.scala:404)\n",
       "\tat org.apache.spark.sql.SparkSession.withActive(SparkSession.scala:1426)\n",
       "\tat org.apache.spark.sql.connect.service.SessionHolder.$anonfun$withSession$1(SessionHolder.scala:404)\n",
       "\tat org.apache.spark.JobArtifactSet$.withActiveJobArtifactState(JobArtifactSet.scala:97)\n",
       "\tat org.apache.spark.sql.artifact.ArtifactManager.$anonfun$withResources$1(ArtifactManager.scala:90)\n",
       "\tat org.apache.spark.util.Utils$.withContextClassLoader(Utils.scala:240)\n",
       "\tat org.apache.spark.sql.artifact.ArtifactManager.withResources(ArtifactManager.scala:89)\n",
       "\tat org.apache.spark.sql.connect.service.SessionHolder.withSession(SessionHolder.scala:403)\n",
       "\tat org.apache.spark.sql.connect.service.SparkConnectConfigHandler.doHandle(SparkConnectConfigHandler.scala:211)\n",
       "\tat org.apache.spark.sql.connect.service.SparkConnectConfigHandler.$anonfun$handle$1(SparkConnectConfigHandler.scala:202)\n",
       "\tat org.apache.spark.sql.connect.service.SparkConnectConfigHandler.$anonfun$handle$1$adapted(SparkConnectConfigHandler.scala:186)\n",
       "\tat com.databricks.spark.connect.logging.rpc.SparkConnectRpcMetricsCollectorUtils$.collectMetrics(SparkConnectRpcMetricsCollector.scala:258)\n",
       "\tat org.apache.spark.sql.connect.service.SparkConnectConfigHandler.handle(SparkConnectConfigHandler.scala:186)\n",
       "\tat org.apache.spark.sql.connect.service.SparkConnectService.config(SparkConnectService.scala:129)\n",
       "\tat org.apache.spark.connect.proto.SparkConnectServiceGrpc$MethodHandlers.invoke(SparkConnectServiceGrpc.java:805)\n",
       "\tat grpc_shaded.io.grpc.stub.ServerCalls$UnaryServerCallHandler$UnaryServerCallListener.onHalfClose(ServerCalls.java:182)\n",
       "\tat grpc_shaded.io.grpc.PartialForwardingServerCallListener.onHalfClose(PartialForwardingServerCallListener.java:35)\n",
       "\tat grpc_shaded.io.grpc.ForwardingServerCallListener.onHalfClose(ForwardingServerCallListener.java:23)\n",
       "\tat grpc_shaded.io.grpc.ForwardingServerCallListener$SimpleForwardingServerCallListener.onHalfClose(ForwardingServerCallListener.java:40)\n",
       "\tat com.databricks.spark.connect.service.AuthenticationInterceptor$AuthenticatedServerCallListener.$anonfun$onHalfClose$1(AuthenticationInterceptor.scala:351)\n",
       "\tat scala.runtime.java8.JFunction0$mcV$sp.apply(JFunction0$mcV$sp.java:23)\n",
       "\tat com.databricks.unity.UCSEphemeralState$Handle.runWith(UCSEphemeralState.scala:51)\n",
       "\tat com.databricks.unity.HandleImpl.runWith(UCSHandle.scala:104)\n",
       "\tat com.databricks.spark.connect.service.RequestContext.$anonfun$runWith$3(RequestContext.scala:306)\n",
       "\tat com.databricks.spark.connect.service.RequestContext$.com$databricks$spark$connect$service$RequestContext$$withLocalProperties(RequestContext.scala:500)\n",
       "\tat com.databricks.spark.connect.service.RequestContext.$anonfun$runWith$2(RequestContext.scala:306)\n",
       "\tat com.databricks.logging.AttributionContextTracing.$anonfun$withAttributionContext$1(AttributionContextTracing.scala:49)\n",
       "\tat com.databricks.logging.AttributionContext$.$anonfun$withValue$1(AttributionContext.scala:293)\n",
       "\tat scala.util.DynamicVariable.withValue(DynamicVariable.scala:62)\n",
       "\tat com.databricks.logging.AttributionContext$.withValue(AttributionContext.scala:289)\n",
       "\tat com.databricks.logging.AttributionContextTracing.withAttributionContext(AttributionContextTracing.scala:47)\n",
       "\tat com.databricks.logging.AttributionContextTracing.withAttributionContext$(AttributionContextTracing.scala:44)\n",
       "\tat com.databricks.spark.util.PublicDBLogging.withAttributionContext(DatabricksSparkUsageLogger.scala:30)\n",
       "\tat com.databricks.spark.util.UniverseAttributionContextWrapper.withValue(AttributionContextUtils.scala:229)\n",
       "\tat com.databricks.spark.connect.service.RequestContext.$anonfun$runWith$1(RequestContext.scala:305)\n",
       "\tat com.databricks.spark.connect.service.RequestContext.withContext(RequestContext.scala:318)\n",
       "\tat com.databricks.spark.connect.service.RequestContext.runWith(RequestContext.scala:298)\n",
       "\tat com.databricks.spark.connect.service.AuthenticationInterceptor$AuthenticatedServerCallListener.onHalfClose(AuthenticationInterceptor.scala:351)\n",
       "\tat grpc_shaded.io.grpc.PartialForwardingServerCallListener.onHalfClose(PartialForwardingServerCallListener.java:35)\n",
       "\tat grpc_shaded.io.grpc.ForwardingServerCallListener.onHalfClose(ForwardingServerCallListener.java:23)\n",
       "\tat grpc_shaded.io.grpc.ForwardingServerCallListener$SimpleForwardingServerCallListener.onHalfClose(ForwardingServerCallListener.java:40)\n",
       "\tat grpc_shaded.io.grpc.internal.ServerCallImpl$ServerStreamListenerImpl.halfClosed(ServerCallImpl.java:351)\n",
       "\tat grpc_shaded.io.grpc.internal.ServerImpl$JumpToApplicationThreadServerStreamListener$1HalfClosed.runInContext(ServerImpl.java:861)\n",
       "\tat grpc_shaded.io.grpc.internal.ContextRunnable.run(ContextRunnable.java:37)\n",
       "\tat grpc_shaded.io.grpc.internal.SerializingExecutor.run(SerializingExecutor.java:133)\n",
       "\tat java.util.concurrent.ThreadPoolExecutor.runWorker(ThreadPoolExecutor.java:1136)\n",
       "\tat java.util.concurrent.ThreadPoolExecutor$Worker.run(ThreadPoolExecutor.java:635)\n",
       "\tat java.lang.Thread.run(Thread.java:840)"
      ]
     },
     "metadata": {
      "application/vnd.databricks.v1+output": {
       "addedWidgets": {},
       "arguments": {},
       "datasetInfos": [],
       "jupyterProps": {
        "ename": "AnalysisException",
        "evalue": "[CONFIG_NOT_AVAILABLE] Configuration spark.sql.warehouse.dir is not available. SQLSTATE: 42K0I\n\nJVM stacktrace:\norg.apache.spark.sql.AnalysisException\n\tat com.databricks.sql.connect.SparkConnectConfig$.assertConfigAllowedForRead(SparkConnectConfig.scala:247)\n\tat org.apache.spark.sql.connect.service.SparkConnectConfigHandler$RuntimeConfigWrapper.get(SparkConnectConfigHandler.scala:111)\n\tat org.apache.spark.sql.connect.service.SparkConnectConfigHandler.transform(SparkConnectConfigHandler.scala:282)\n\tat org.apache.spark.sql.connect.service.SparkConnectConfigHandler.$anonfun$handleGet$1(SparkConnectConfigHandler.scala:319)\n\tat org.apache.spark.sql.connect.service.SparkConnectConfigHandler.$anonfun$handleGet$1$adapted(SparkConnectConfigHandler.scala:318)\n\tat scala.collection.Iterator.foreach(Iterator.scala:943)\n\tat scala.collection.Iterator.foreach$(Iterator.scala:943)\n\tat scala.collection.AbstractIterator.foreach(Iterator.scala:1431)\n\tat org.apache.spark.sql.connect.service.SparkConnectConfigHandler.handleGet(SparkConnectConfigHandler.scala:318)\n\tat org.apache.spark.sql.connect.service.SparkConnectConfigHandler.$anonfun$doHandle$1(SparkConnectConfigHandler.scala:234)\n\tat org.apache.spark.sql.connect.service.SparkConnectConfigHandler.$anonfun$doHandle$1$adapted(SparkConnectConfigHandler.scala:211)\n\tat org.apache.spark.sql.connect.service.SessionHolder.$anonfun$withSession$2(SessionHolder.scala:404)\n\tat org.apache.spark.sql.SparkSession.withActive(SparkSession.scala:1426)\n\tat org.apache.spark.sql.connect.service.SessionHolder.$anonfun$withSession$1(SessionHolder.scala:404)\n\tat org.apache.spark.JobArtifactSet$.withActiveJobArtifactState(JobArtifactSet.scala:97)\n\tat org.apache.spark.sql.artifact.ArtifactManager.$anonfun$withResources$1(ArtifactManager.scala:90)\n\tat org.apache.spark.util.Utils$.withContextClassLoader(Utils.scala:240)\n\tat org.apache.spark.sql.artifact.ArtifactManager.withResources(ArtifactManager.scala:89)\n\tat org.apache.spark.sql.connect.service.SessionHolder.withSession(SessionHolder.scala:403)\n\tat org.apache.spark.sql.connect.service.SparkConnectConfigHandler.doHandle(SparkConnectConfigHandler.scala:211)\n\tat org.apache.spark.sql.connect.service.SparkConnectConfigHandler.$anonfun$handle$1(SparkConnectConfigHandler.scala:202)\n\tat org.apache.spark.sql.connect.service.SparkConnectConfigHandler.$anonfun$handle$1$adapted(SparkConnectConfigHandler.scala:186)\n\tat com.databricks.spark.connect.logging.rpc.SparkConnectRpcMetricsCollectorUtils$.collectMetrics(SparkConnectRpcMetricsCollector.scala:258)\n\tat org.apache.spark.sql.connect.service.SparkConnectConfigHandler.handle(SparkConnectConfigHandler.scala:186)\n\tat org.apache.spark.sql.connect.service.SparkConnectService.config(SparkConnectService.scala:129)\n\tat org.apache.spark.connect.proto.SparkConnectServiceGrpc$MethodHandlers.invoke(SparkConnectServiceGrpc.java:805)\n\tat grpc_shaded.io.grpc.stub.ServerCalls$UnaryServerCallHandler$UnaryServerCallListener.onHalfClose(ServerCalls.java:182)\n\tat grpc_shaded.io.grpc.PartialForwardingServerCallListener.onHalfClose(PartialForwardingServerCallListener.java:35)\n\tat grpc_shaded.io.grpc.ForwardingServerCallListener.onHalfClose(ForwardingServerCallListener.java:23)\n\tat grpc_shaded.io.grpc.ForwardingServerCallListener$SimpleForwardingServerCallListener.onHalfClose(ForwardingServerCallListener.java:40)\n\tat com.databricks.spark.connect.service.AuthenticationInterceptor$AuthenticatedServerCallListener.$anonfun$onHalfClose$1(AuthenticationInterceptor.scala:351)\n\tat scala.runtime.java8.JFunction0$mcV$sp.apply(JFunction0$mcV$sp.java:23)\n\tat com.databricks.unity.UCSEphemeralState$Handle.runWith(UCSEphemeralState.scala:51)\n\tat com.databricks.unity.HandleImpl.runWith(UCSHandle.scala:104)\n\tat com.databricks.spark.connect.service.RequestContext.$anonfun$runWith$3(RequestContext.scala:306)\n\tat com.databricks.spark.connect.service.RequestContext$.com$databricks$spark$connect$service$RequestContext$$withLocalProperties(RequestContext.scala:500)\n\tat com.databricks.spark.connect.service.RequestContext.$anonfun$runWith$2(RequestContext.scala:306)\n\tat com.databricks.logging.AttributionContextTracing.$anonfun$withAttributionContext$1(AttributionContextTracing.scala:49)\n\tat com.databricks.logging.AttributionContext$.$anonfun$withValue$1(AttributionContext.scala:293)\n\tat scala.util.DynamicVariable.withValue(DynamicVariable.scala:62)\n\tat com.databricks.logging.AttributionContext$.withValue(AttributionContext.scala:289)\n\tat com.databricks.logging.AttributionContextTracing.withAttributionContext(AttributionContextTracing.scala:47)\n\tat com.databricks.logging.AttributionContextTracing.withAttributionContext$(AttributionContextTracing.scala:44)\n\tat com.databricks.spark.util.PublicDBLogging.withAttributionContext(DatabricksSparkUsageLogger.scala:30)\n\tat com.databricks.spark.util.UniverseAttributionContextWrapper.withValue(AttributionContextUtils.scala:229)\n\tat com.databricks.spark.connect.service.RequestContext.$anonfun$runWith$1(RequestContext.scala:305)\n\tat com.databricks.spark.connect.service.RequestContext.withContext(RequestContext.scala:318)\n\tat com.databricks.spark.connect.service.RequestContext.runWith(RequestContext.scala:298)\n\tat com.databricks.spark.connect.service.AuthenticationInterceptor$AuthenticatedServerCallListener.onHalfClose(AuthenticationInterceptor.scala:351)\n\tat grpc_shaded.io.grpc.PartialForwardingServerCallListener.onHalfClose(PartialForwardingServerCallListener.java:35)\n\tat grpc_shaded.io.grpc.ForwardingServerCallListener.onHalfClose(ForwardingServerCallListener.java:23)\n\tat grpc_shaded.io.grpc.ForwardingServerCallListener$SimpleForwardingServerCallListener.onHalfClose(ForwardingServerCallListener.java:40)\n\tat grpc_shaded.io.grpc.internal.ServerCallImpl$ServerStreamListenerImpl.halfClosed(ServerCallImpl.java:351)\n\tat grpc_shaded.io.grpc.internal.ServerImpl$JumpToApplicationThreadServerStreamListener$1HalfClosed.runInContext(ServerImpl.java:861)\n\tat grpc_shaded.io.grpc.internal.ContextRunnable.run(ContextRunnable.java:37)\n\tat grpc_shaded.io.grpc.internal.SerializingExecutor.run(SerializingExecutor.java:133)\n\tat java.util.concurrent.ThreadPoolExecutor.runWorker(ThreadPoolExecutor.java:1136)\n\tat java.util.concurrent.ThreadPoolExecutor$Worker.run(ThreadPoolExecutor.java:635)\n\tat java.lang.Thread.run(Thread.java:840)"
       },
       "metadata": {
        "errorSummary": "[CONFIG_NOT_AVAILABLE] Configuration spark.sql.warehouse.dir is not available. SQLSTATE: 42K0I"
       },
       "removedWidgets": [],
       "sqlProps": {
        "errorClass": "CONFIG_NOT_AVAILABLE",
        "pysparkCallSite": "",
        "pysparkFragment": "",
        "sqlState": "42K0I",
        "stackTrace": "org.apache.spark.sql.AnalysisException\n\tat com.databricks.sql.connect.SparkConnectConfig$.assertConfigAllowedForRead(SparkConnectConfig.scala:247)\n\tat org.apache.spark.sql.connect.service.SparkConnectConfigHandler$RuntimeConfigWrapper.get(SparkConnectConfigHandler.scala:111)\n\tat org.apache.spark.sql.connect.service.SparkConnectConfigHandler.transform(SparkConnectConfigHandler.scala:282)\n\tat org.apache.spark.sql.connect.service.SparkConnectConfigHandler.$anonfun$handleGet$1(SparkConnectConfigHandler.scala:319)\n\tat org.apache.spark.sql.connect.service.SparkConnectConfigHandler.$anonfun$handleGet$1$adapted(SparkConnectConfigHandler.scala:318)\n\tat scala.collection.Iterator.foreach(Iterator.scala:943)\n\tat scala.collection.Iterator.foreach$(Iterator.scala:943)\n\tat scala.collection.AbstractIterator.foreach(Iterator.scala:1431)\n\tat org.apache.spark.sql.connect.service.SparkConnectConfigHandler.handleGet(SparkConnectConfigHandler.scala:318)\n\tat org.apache.spark.sql.connect.service.SparkConnectConfigHandler.$anonfun$doHandle$1(SparkConnectConfigHandler.scala:234)\n\tat org.apache.spark.sql.connect.service.SparkConnectConfigHandler.$anonfun$doHandle$1$adapted(SparkConnectConfigHandler.scala:211)\n\tat org.apache.spark.sql.connect.service.SessionHolder.$anonfun$withSession$2(SessionHolder.scala:404)\n\tat org.apache.spark.sql.SparkSession.withActive(SparkSession.scala:1426)\n\tat org.apache.spark.sql.connect.service.SessionHolder.$anonfun$withSession$1(SessionHolder.scala:404)\n\tat org.apache.spark.JobArtifactSet$.withActiveJobArtifactState(JobArtifactSet.scala:97)\n\tat org.apache.spark.sql.artifact.ArtifactManager.$anonfun$withResources$1(ArtifactManager.scala:90)\n\tat org.apache.spark.util.Utils$.withContextClassLoader(Utils.scala:240)\n\tat org.apache.spark.sql.artifact.ArtifactManager.withResources(ArtifactManager.scala:89)\n\tat org.apache.spark.sql.connect.service.SessionHolder.withSession(SessionHolder.scala:403)\n\tat org.apache.spark.sql.connect.service.SparkConnectConfigHandler.doHandle(SparkConnectConfigHandler.scala:211)\n\tat org.apache.spark.sql.connect.service.SparkConnectConfigHandler.$anonfun$handle$1(SparkConnectConfigHandler.scala:202)\n\tat org.apache.spark.sql.connect.service.SparkConnectConfigHandler.$anonfun$handle$1$adapted(SparkConnectConfigHandler.scala:186)\n\tat com.databricks.spark.connect.logging.rpc.SparkConnectRpcMetricsCollectorUtils$.collectMetrics(SparkConnectRpcMetricsCollector.scala:258)\n\tat org.apache.spark.sql.connect.service.SparkConnectConfigHandler.handle(SparkConnectConfigHandler.scala:186)\n\tat org.apache.spark.sql.connect.service.SparkConnectService.config(SparkConnectService.scala:129)\n\tat org.apache.spark.connect.proto.SparkConnectServiceGrpc$MethodHandlers.invoke(SparkConnectServiceGrpc.java:805)\n\tat grpc_shaded.io.grpc.stub.ServerCalls$UnaryServerCallHandler$UnaryServerCallListener.onHalfClose(ServerCalls.java:182)\n\tat grpc_shaded.io.grpc.PartialForwardingServerCallListener.onHalfClose(PartialForwardingServerCallListener.java:35)\n\tat grpc_shaded.io.grpc.ForwardingServerCallListener.onHalfClose(ForwardingServerCallListener.java:23)\n\tat grpc_shaded.io.grpc.ForwardingServerCallListener$SimpleForwardingServerCallListener.onHalfClose(ForwardingServerCallListener.java:40)\n\tat com.databricks.spark.connect.service.AuthenticationInterceptor$AuthenticatedServerCallListener.$anonfun$onHalfClose$1(AuthenticationInterceptor.scala:351)\n\tat scala.runtime.java8.JFunction0$mcV$sp.apply(JFunction0$mcV$sp.java:23)\n\tat com.databricks.unity.UCSEphemeralState$Handle.runWith(UCSEphemeralState.scala:51)\n\tat com.databricks.unity.HandleImpl.runWith(UCSHandle.scala:104)\n\tat com.databricks.spark.connect.service.RequestContext.$anonfun$runWith$3(RequestContext.scala:306)\n\tat com.databricks.spark.connect.service.RequestContext$.com$databricks$spark$connect$service$RequestContext$$withLocalProperties(RequestContext.scala:500)\n\tat com.databricks.spark.connect.service.RequestContext.$anonfun$runWith$2(RequestContext.scala:306)\n\tat com.databricks.logging.AttributionContextTracing.$anonfun$withAttributionContext$1(AttributionContextTracing.scala:49)\n\tat com.databricks.logging.AttributionContext$.$anonfun$withValue$1(AttributionContext.scala:293)\n\tat scala.util.DynamicVariable.withValue(DynamicVariable.scala:62)\n\tat com.databricks.logging.AttributionContext$.withValue(AttributionContext.scala:289)\n\tat com.databricks.logging.AttributionContextTracing.withAttributionContext(AttributionContextTracing.scala:47)\n\tat com.databricks.logging.AttributionContextTracing.withAttributionContext$(AttributionContextTracing.scala:44)\n\tat com.databricks.spark.util.PublicDBLogging.withAttributionContext(DatabricksSparkUsageLogger.scala:30)\n\tat com.databricks.spark.util.UniverseAttributionContextWrapper.withValue(AttributionContextUtils.scala:229)\n\tat com.databricks.spark.connect.service.RequestContext.$anonfun$runWith$1(RequestContext.scala:305)\n\tat com.databricks.spark.connect.service.RequestContext.withContext(RequestContext.scala:318)\n\tat com.databricks.spark.connect.service.RequestContext.runWith(RequestContext.scala:298)\n\tat com.databricks.spark.connect.service.AuthenticationInterceptor$AuthenticatedServerCallListener.onHalfClose(AuthenticationInterceptor.scala:351)\n\tat grpc_shaded.io.grpc.PartialForwardingServerCallListener.onHalfClose(PartialForwardingServerCallListener.java:35)\n\tat grpc_shaded.io.grpc.ForwardingServerCallListener.onHalfClose(ForwardingServerCallListener.java:23)\n\tat grpc_shaded.io.grpc.ForwardingServerCallListener$SimpleForwardingServerCallListener.onHalfClose(ForwardingServerCallListener.java:40)\n\tat grpc_shaded.io.grpc.internal.ServerCallImpl$ServerStreamListenerImpl.halfClosed(ServerCallImpl.java:351)\n\tat grpc_shaded.io.grpc.internal.ServerImpl$JumpToApplicationThreadServerStreamListener$1HalfClosed.runInContext(ServerImpl.java:861)\n\tat grpc_shaded.io.grpc.internal.ContextRunnable.run(ContextRunnable.java:37)\n\tat grpc_shaded.io.grpc.internal.SerializingExecutor.run(SerializingExecutor.java:133)\n\tat java.util.concurrent.ThreadPoolExecutor.runWorker(ThreadPoolExecutor.java:1136)\n\tat java.util.concurrent.ThreadPoolExecutor$Worker.run(ThreadPoolExecutor.java:635)\n\tat java.lang.Thread.run(Thread.java:840)",
        "startIndex": null,
        "stopIndex": null
       },
       "stackFrames": [
        "\u001B[0;31m---------------------------------------------------------------------------\u001B[0m",
        "\u001B[0;31mAnalysisException\u001B[0m                         Traceback (most recent call last)",
        "File \u001B[0;32m<command-1314523540085785>, line 1\u001B[0m\n\u001B[0;32m----> 1\u001B[0m \u001B[43mspark\u001B[49m\u001B[38;5;241;43m.\u001B[39;49m\u001B[43mconf\u001B[49m\u001B[38;5;241;43m.\u001B[39;49m\u001B[43mget\u001B[49m\u001B[43m(\u001B[49m\u001B[38;5;124;43m\"\u001B[39;49m\u001B[38;5;124;43mspark.sql.warehouse.dir\u001B[39;49m\u001B[38;5;124;43m\"\u001B[39;49m\u001B[43m)\u001B[49m\n",
        "File \u001B[0;32m/databricks/python/lib/python3.10/site-packages/pyspark/sql/connect/conf.py:66\u001B[0m, in \u001B[0;36mRuntimeConf.get\u001B[0;34m(self, key, default)\u001B[0m\n\u001B[1;32m     62\u001B[0m     op_get_with_default \u001B[38;5;241m=\u001B[39m proto\u001B[38;5;241m.\u001B[39mConfigRequest\u001B[38;5;241m.\u001B[39mGetWithDefault(\n\u001B[1;32m     63\u001B[0m         pairs\u001B[38;5;241m=\u001B[39m[proto\u001B[38;5;241m.\u001B[39mKeyValue(key\u001B[38;5;241m=\u001B[39mkey, value\u001B[38;5;241m=\u001B[39mcast(Optional[\u001B[38;5;28mstr\u001B[39m], default))]\n\u001B[1;32m     64\u001B[0m     )\n\u001B[1;32m     65\u001B[0m     operation \u001B[38;5;241m=\u001B[39m proto\u001B[38;5;241m.\u001B[39mConfigRequest\u001B[38;5;241m.\u001B[39mOperation(get_with_default\u001B[38;5;241m=\u001B[39mop_get_with_default)\n\u001B[0;32m---> 66\u001B[0m result \u001B[38;5;241m=\u001B[39m \u001B[38;5;28;43mself\u001B[39;49m\u001B[38;5;241;43m.\u001B[39;49m\u001B[43m_client\u001B[49m\u001B[38;5;241;43m.\u001B[39;49m\u001B[43mconfig\u001B[49m\u001B[43m(\u001B[49m\u001B[43moperation\u001B[49m\u001B[43m)\u001B[49m\n\u001B[1;32m     67\u001B[0m \u001B[38;5;28;01mreturn\u001B[39;00m result\u001B[38;5;241m.\u001B[39mpairs[\u001B[38;5;241m0\u001B[39m][\u001B[38;5;241m1\u001B[39m]\n",
        "File \u001B[0;32m/databricks/python/lib/python3.10/site-packages/pyspark/sql/connect/client/core.py:1726\u001B[0m, in \u001B[0;36mSparkConnectClient.config\u001B[0;34m(self, operation)\u001B[0m\n\u001B[1;32m   1724\u001B[0m     \u001B[38;5;28;01mraise\u001B[39;00m SparkConnectException(\u001B[38;5;124m\"\u001B[39m\u001B[38;5;124mInvalid state during retry exception handling.\u001B[39m\u001B[38;5;124m\"\u001B[39m)\n\u001B[1;32m   1725\u001B[0m \u001B[38;5;28;01mexcept\u001B[39;00m \u001B[38;5;167;01mException\u001B[39;00m \u001B[38;5;28;01mas\u001B[39;00m error:\n\u001B[0;32m-> 1726\u001B[0m     \u001B[38;5;28;43mself\u001B[39;49m\u001B[38;5;241;43m.\u001B[39;49m\u001B[43m_handle_error\u001B[49m\u001B[43m(\u001B[49m\u001B[43merror\u001B[49m\u001B[43m)\u001B[49m\n",
        "File \u001B[0;32m/databricks/python/lib/python3.10/site-packages/pyspark/sql/connect/client/core.py:1913\u001B[0m, in \u001B[0;36mSparkConnectClient._handle_error\u001B[0;34m(self, error)\u001B[0m\n\u001B[1;32m   1911\u001B[0m \u001B[38;5;28mself\u001B[39m\u001B[38;5;241m.\u001B[39mthread_local\u001B[38;5;241m.\u001B[39minside_error_handling \u001B[38;5;241m=\u001B[39m \u001B[38;5;28;01mTrue\u001B[39;00m\n\u001B[1;32m   1912\u001B[0m \u001B[38;5;28;01mif\u001B[39;00m \u001B[38;5;28misinstance\u001B[39m(error, grpc\u001B[38;5;241m.\u001B[39mRpcError):\n\u001B[0;32m-> 1913\u001B[0m     \u001B[38;5;28;43mself\u001B[39;49m\u001B[38;5;241;43m.\u001B[39;49m\u001B[43m_handle_rpc_error\u001B[49m\u001B[43m(\u001B[49m\u001B[43merror\u001B[49m\u001B[43m)\u001B[49m\n\u001B[1;32m   1914\u001B[0m \u001B[38;5;28;01melif\u001B[39;00m \u001B[38;5;28misinstance\u001B[39m(error, \u001B[38;5;167;01mValueError\u001B[39;00m):\n\u001B[1;32m   1915\u001B[0m     \u001B[38;5;28;01mif\u001B[39;00m \u001B[38;5;124m\"\u001B[39m\u001B[38;5;124mCannot invoke RPC\u001B[39m\u001B[38;5;124m\"\u001B[39m \u001B[38;5;129;01min\u001B[39;00m \u001B[38;5;28mstr\u001B[39m(error) \u001B[38;5;129;01mand\u001B[39;00m \u001B[38;5;124m\"\u001B[39m\u001B[38;5;124mclosed\u001B[39m\u001B[38;5;124m\"\u001B[39m \u001B[38;5;129;01min\u001B[39;00m \u001B[38;5;28mstr\u001B[39m(error):\n",
        "File \u001B[0;32m/databricks/python/lib/python3.10/site-packages/pyspark/sql/connect/client/core.py:1988\u001B[0m, in \u001B[0;36mSparkConnectClient._handle_rpc_error\u001B[0;34m(self, rpc_error)\u001B[0m\n\u001B[1;32m   1985\u001B[0m             info \u001B[38;5;241m=\u001B[39m error_details_pb2\u001B[38;5;241m.\u001B[39mErrorInfo()\n\u001B[1;32m   1986\u001B[0m             d\u001B[38;5;241m.\u001B[39mUnpack(info)\n\u001B[0;32m-> 1988\u001B[0m             \u001B[38;5;28;01mraise\u001B[39;00m convert_exception(\n\u001B[1;32m   1989\u001B[0m                 info,\n\u001B[1;32m   1990\u001B[0m                 status\u001B[38;5;241m.\u001B[39mmessage,\n\u001B[1;32m   1991\u001B[0m                 \u001B[38;5;28mself\u001B[39m\u001B[38;5;241m.\u001B[39m_fetch_enriched_error(info),\n\u001B[1;32m   1992\u001B[0m                 \u001B[38;5;28mself\u001B[39m\u001B[38;5;241m.\u001B[39m_display_server_stack_trace(),\n\u001B[1;32m   1993\u001B[0m             ) \u001B[38;5;28;01mfrom\u001B[39;00m \u001B[38;5;28mNone\u001B[39m\n\u001B[1;32m   1995\u001B[0m     \u001B[38;5;28;01mraise\u001B[39;00m SparkConnectGrpcException(status\u001B[38;5;241m.\u001B[39mmessage) \u001B[38;5;28;01mfrom\u001B[39;00m \u001B[38;5;28mNone\u001B[39m\n\u001B[1;32m   1996\u001B[0m \u001B[38;5;28;01melse\u001B[39;00m:\n",
        "\u001B[0;31mAnalysisException\u001B[0m: [CONFIG_NOT_AVAILABLE] Configuration spark.sql.warehouse.dir is not available. SQLSTATE: 42K0I\n\nJVM stacktrace:\norg.apache.spark.sql.AnalysisException\n\tat com.databricks.sql.connect.SparkConnectConfig$.assertConfigAllowedForRead(SparkConnectConfig.scala:247)\n\tat org.apache.spark.sql.connect.service.SparkConnectConfigHandler$RuntimeConfigWrapper.get(SparkConnectConfigHandler.scala:111)\n\tat org.apache.spark.sql.connect.service.SparkConnectConfigHandler.transform(SparkConnectConfigHandler.scala:282)\n\tat org.apache.spark.sql.connect.service.SparkConnectConfigHandler.$anonfun$handleGet$1(SparkConnectConfigHandler.scala:319)\n\tat org.apache.spark.sql.connect.service.SparkConnectConfigHandler.$anonfun$handleGet$1$adapted(SparkConnectConfigHandler.scala:318)\n\tat scala.collection.Iterator.foreach(Iterator.scala:943)\n\tat scala.collection.Iterator.foreach$(Iterator.scala:943)\n\tat scala.collection.AbstractIterator.foreach(Iterator.scala:1431)\n\tat org.apache.spark.sql.connect.service.SparkConnectConfigHandler.handleGet(SparkConnectConfigHandler.scala:318)\n\tat org.apache.spark.sql.connect.service.SparkConnectConfigHandler.$anonfun$doHandle$1(SparkConnectConfigHandler.scala:234)\n\tat org.apache.spark.sql.connect.service.SparkConnectConfigHandler.$anonfun$doHandle$1$adapted(SparkConnectConfigHandler.scala:211)\n\tat org.apache.spark.sql.connect.service.SessionHolder.$anonfun$withSession$2(SessionHolder.scala:404)\n\tat org.apache.spark.sql.SparkSession.withActive(SparkSession.scala:1426)\n\tat org.apache.spark.sql.connect.service.SessionHolder.$anonfun$withSession$1(SessionHolder.scala:404)\n\tat org.apache.spark.JobArtifactSet$.withActiveJobArtifactState(JobArtifactSet.scala:97)\n\tat org.apache.spark.sql.artifact.ArtifactManager.$anonfun$withResources$1(ArtifactManager.scala:90)\n\tat org.apache.spark.util.Utils$.withContextClassLoader(Utils.scala:240)\n\tat org.apache.spark.sql.artifact.ArtifactManager.withResources(ArtifactManager.scala:89)\n\tat org.apache.spark.sql.connect.service.SessionHolder.withSession(SessionHolder.scala:403)\n\tat org.apache.spark.sql.connect.service.SparkConnectConfigHandler.doHandle(SparkConnectConfigHandler.scala:211)\n\tat org.apache.spark.sql.connect.service.SparkConnectConfigHandler.$anonfun$handle$1(SparkConnectConfigHandler.scala:202)\n\tat org.apache.spark.sql.connect.service.SparkConnectConfigHandler.$anonfun$handle$1$adapted(SparkConnectConfigHandler.scala:186)\n\tat com.databricks.spark.connect.logging.rpc.SparkConnectRpcMetricsCollectorUtils$.collectMetrics(SparkConnectRpcMetricsCollector.scala:258)\n\tat org.apache.spark.sql.connect.service.SparkConnectConfigHandler.handle(SparkConnectConfigHandler.scala:186)\n\tat org.apache.spark.sql.connect.service.SparkConnectService.config(SparkConnectService.scala:129)\n\tat org.apache.spark.connect.proto.SparkConnectServiceGrpc$MethodHandlers.invoke(SparkConnectServiceGrpc.java:805)\n\tat grpc_shaded.io.grpc.stub.ServerCalls$UnaryServerCallHandler$UnaryServerCallListener.onHalfClose(ServerCalls.java:182)\n\tat grpc_shaded.io.grpc.PartialForwardingServerCallListener.onHalfClose(PartialForwardingServerCallListener.java:35)\n\tat grpc_shaded.io.grpc.ForwardingServerCallListener.onHalfClose(ForwardingServerCallListener.java:23)\n\tat grpc_shaded.io.grpc.ForwardingServerCallListener$SimpleForwardingServerCallListener.onHalfClose(ForwardingServerCallListener.java:40)\n\tat com.databricks.spark.connect.service.AuthenticationInterceptor$AuthenticatedServerCallListener.$anonfun$onHalfClose$1(AuthenticationInterceptor.scala:351)\n\tat scala.runtime.java8.JFunction0$mcV$sp.apply(JFunction0$mcV$sp.java:23)\n\tat com.databricks.unity.UCSEphemeralState$Handle.runWith(UCSEphemeralState.scala:51)\n\tat com.databricks.unity.HandleImpl.runWith(UCSHandle.scala:104)\n\tat com.databricks.spark.connect.service.RequestContext.$anonfun$runWith$3(RequestContext.scala:306)\n\tat com.databricks.spark.connect.service.RequestContext$.com$databricks$spark$connect$service$RequestContext$$withLocalProperties(RequestContext.scala:500)\n\tat com.databricks.spark.connect.service.RequestContext.$anonfun$runWith$2(RequestContext.scala:306)\n\tat com.databricks.logging.AttributionContextTracing.$anonfun$withAttributionContext$1(AttributionContextTracing.scala:49)\n\tat com.databricks.logging.AttributionContext$.$anonfun$withValue$1(AttributionContext.scala:293)\n\tat scala.util.DynamicVariable.withValue(DynamicVariable.scala:62)\n\tat com.databricks.logging.AttributionContext$.withValue(AttributionContext.scala:289)\n\tat com.databricks.logging.AttributionContextTracing.withAttributionContext(AttributionContextTracing.scala:47)\n\tat com.databricks.logging.AttributionContextTracing.withAttributionContext$(AttributionContextTracing.scala:44)\n\tat com.databricks.spark.util.PublicDBLogging.withAttributionContext(DatabricksSparkUsageLogger.scala:30)\n\tat com.databricks.spark.util.UniverseAttributionContextWrapper.withValue(AttributionContextUtils.scala:229)\n\tat com.databricks.spark.connect.service.RequestContext.$anonfun$runWith$1(RequestContext.scala:305)\n\tat com.databricks.spark.connect.service.RequestContext.withContext(RequestContext.scala:318)\n\tat com.databricks.spark.connect.service.RequestContext.runWith(RequestContext.scala:298)\n\tat com.databricks.spark.connect.service.AuthenticationInterceptor$AuthenticatedServerCallListener.onHalfClose(AuthenticationInterceptor.scala:351)\n\tat grpc_shaded.io.grpc.PartialForwardingServerCallListener.onHalfClose(PartialForwardingServerCallListener.java:35)\n\tat grpc_shaded.io.grpc.ForwardingServerCallListener.onHalfClose(ForwardingServerCallListener.java:23)\n\tat grpc_shaded.io.grpc.ForwardingServerCallListener$SimpleForwardingServerCallListener.onHalfClose(ForwardingServerCallListener.java:40)\n\tat grpc_shaded.io.grpc.internal.ServerCallImpl$ServerStreamListenerImpl.halfClosed(ServerCallImpl.java:351)\n\tat grpc_shaded.io.grpc.internal.ServerImpl$JumpToApplicationThreadServerStreamListener$1HalfClosed.runInContext(ServerImpl.java:861)\n\tat grpc_shaded.io.grpc.internal.ContextRunnable.run(ContextRunnable.java:37)\n\tat grpc_shaded.io.grpc.internal.SerializingExecutor.run(SerializingExecutor.java:133)\n\tat java.util.concurrent.ThreadPoolExecutor.runWorker(ThreadPoolExecutor.java:1136)\n\tat java.util.concurrent.ThreadPoolExecutor$Worker.run(ThreadPoolExecutor.java:635)\n\tat java.lang.Thread.run(Thread.java:840)"
       ],
       "type": "baseError"
      }
     },
     "output_type": "display_data"
    }
   ],
   "source": [
    "spark.conf.get(\"spark.sql.warehouse.dir\")"
   ]
  },
  {
   "cell_type": "code",
   "execution_count": 0,
   "metadata": {
    "application/vnd.databricks.v1+cell": {
     "cellMetadata": {
      "byteLimit": 2048000,
      "rowLimit": 10000
     },
     "inputWidgets": {},
     "nuid": "02c80f4c-8248-41cc-8617-05b376cbe36b",
     "showTitle": false,
     "tableResultSettingsMap": {},
     "title": ""
    },
    "colab": {
     "base_uri": "https://localhost:8080/"
    },
    "id": "rftBehHoBQPU",
    "outputId": "8b1570b1-2feb-44ad-c2c8-7118c983cdb2"
   },
   "outputs": [
    {
     "output_type": "stream",
     "name": "stdout",
     "output_type": "stream",
     "text": [
      "+---------+\n|  catalog|\n+---------+\n|  samples|\n|   system|\n|workspace|\n+---------+\n\n"
     ]
    }
   ],
   "source": [
    "spark.sql(\"SHOW CATALOGS\").show()"
   ]
  },
  {
   "cell_type": "code",
   "execution_count": 0,
   "metadata": {
    "application/vnd.databricks.v1+cell": {
     "cellMetadata": {
      "byteLimit": 2048000,
      "rowLimit": 10000
     },
     "inputWidgets": {},
     "nuid": "18407775-bef0-4ae5-9696-86158cff7aef",
     "showTitle": false,
     "tableResultSettingsMap": {},
     "title": ""
    },
    "colab": {
     "base_uri": "https://localhost:8080/"
    },
    "id": "-bVzDwJVBXX4",
    "outputId": "50707c9c-a8e3-4e25-b79e-ba7c51c2cea5"
   },
   "outputs": [
    {
     "output_type": "stream",
     "name": "stdout",
     "output_type": "stream",
     "text": [
      "+------------------+\n|      databaseName|\n+------------------+\n|           default|\n|               dev|\n|information_schema|\n+------------------+\n\n"
     ]
    }
   ],
   "source": [
    "spark.sql(\"SHOW DATABASES\").show()"
   ]
  },
  {
   "cell_type": "code",
   "execution_count": 0,
   "metadata": {
    "application/vnd.databricks.v1+cell": {
     "cellMetadata": {
      "byteLimit": 2048000,
      "rowLimit": 10000
     },
     "inputWidgets": {},
     "nuid": "17e5d73d-d35a-4436-aa38-acac66552b8e",
     "showTitle": false,
     "tableResultSettingsMap": {},
     "title": ""
    },
    "colab": {
     "base_uri": "https://localhost:8080/"
    },
    "id": "RMTXaDa-BYmq",
    "outputId": "fb1115c7-40e6-4ea7-e8fd-b7d84efa67b9"
   },
   "outputs": [
    {
     "output_type": "stream",
     "name": "stdout",
     "output_type": "stream",
     "text": [
      "+--------+------------+-----------+\n|database|   tableName|isTemporary|\n+--------+------------+-----------+\n|     dev|      orders|      false|\n|     dev|orders_count|      false|\n|        |      _sqldf|       true|\n+--------+------------+-----------+\n\n"
     ]
    }
   ],
   "source": [
    "spark.sql(\"SHOW TABLES\").show()"
   ]
  },
  {
   "cell_type": "code",
   "execution_count": 0,
   "metadata": {
    "application/vnd.databricks.v1+cell": {
     "cellMetadata": {
      "byteLimit": 2048000,
      "rowLimit": 10000
     },
     "inputWidgets": {},
     "nuid": "d0189878-d94c-4ecb-840b-83a85570de1e",
     "showTitle": false,
     "tableResultSettingsMap": {},
     "title": ""
    }
   },
   "outputs": [
    {
     "output_type": "stream",
     "name": "stdout",
     "output_type": "stream",
     "text": [
      "+-----------------+\n|CURRENT_CATALOG()|\n+-----------------+\n|        workspace|\n+-----------------+\n\n"
     ]
    }
   ],
   "source": [
    "spark.sql(\"SELECT CURRENT_CATALOG()\").show()"
   ]
  },
  {
   "cell_type": "code",
   "execution_count": 0,
   "metadata": {
    "application/vnd.databricks.v1+cell": {
     "cellMetadata": {
      "byteLimit": 2048000,
      "rowLimit": 10000
     },
     "inputWidgets": {},
     "nuid": "d33ac1c3-a432-46ec-a75a-2edb90688a5b",
     "showTitle": false,
     "tableResultSettingsMap": {},
     "title": ""
    },
    "colab": {
     "base_uri": "https://localhost:8080/"
    },
    "id": "Z3lETxW2BdJk",
    "outputId": "f6568850-573f-454f-81ba-ebd448de9291"
   },
   "outputs": [
    {
     "output_type": "stream",
     "name": "stdout",
     "output_type": "stream",
     "text": [
      "+------------------+\n|CURRENT_DATABASE()|\n+------------------+\n|               dev|\n+------------------+\n\n"
     ]
    }
   ],
   "source": [
    "spark.sql(\"SELECT CURRENT_DATABASE()\").show()"
   ]
  },
  {
   "cell_type": "code",
   "execution_count": 0,
   "metadata": {
    "application/vnd.databricks.v1+cell": {
     "cellMetadata": {
      "byteLimit": 2048000,
      "rowLimit": 10000
     },
     "inputWidgets": {},
     "nuid": "cc2a7148-91df-460a-bf07-b9f329e78abd",
     "showTitle": false,
     "tableResultSettingsMap": {},
     "title": ""
    },
    "colab": {
     "base_uri": "https://localhost:8080/"
    },
    "id": "kx1cmF1fBfUU",
    "outputId": "5243bda6-9842-4f20-bf3a-a069c16c8ce7"
   },
   "outputs": [
    {
     "output_type": "execute_result",
     "data": {
      "text/plain": [
       "DataFrame[]"
      ]
     },
     "execution_count": 180,
     "metadata": {},
     "output_type": "execute_result"
    }
   ],
   "source": [
    "# 새로 데이터베이스를 하나 만들고 그걸 사용\n",
    "spark.sql(\"CREATE DATABASE IF NOT EXISTS DEV\")\n",
    "spark.sql(\"USE DEV\")"
   ]
  },
  {
   "cell_type": "code",
   "execution_count": 0,
   "metadata": {
    "application/vnd.databricks.v1+cell": {
     "cellMetadata": {
      "byteLimit": 2048000,
      "rowLimit": 10000
     },
     "inputWidgets": {},
     "nuid": "298bd95a-3a23-44a9-a7e7-0ade4a15773d",
     "showTitle": false,
     "tableResultSettingsMap": {},
     "title": ""
    },
    "colab": {
     "base_uri": "https://localhost:8080/"
    },
    "id": "KTYb9jz9ByiN",
    "outputId": "6d01c403-529a-488a-a53b-727c27b020b8"
   },
   "outputs": [
    {
     "output_type": "stream",
     "name": "stdout",
     "output_type": "stream",
     "text": [
      "+------------------+\n|      databaseName|\n+------------------+\n|           default|\n|               dev|\n|information_schema|\n+------------------+\n\n"
     ]
    }
   ],
   "source": [
    "spark.sql(\"SHOW DATABASES\").show()"
   ]
  },
  {
   "cell_type": "code",
   "execution_count": 0,
   "metadata": {
    "application/vnd.databricks.v1+cell": {
     "cellMetadata": {
      "byteLimit": 2048000,
      "rowLimit": 10000
     },
     "inputWidgets": {},
     "nuid": "197f1a6f-905b-41b0-8671-5e2f446c8da0",
     "showTitle": false,
     "tableResultSettingsMap": {},
     "title": ""
    },
    "colab": {
     "base_uri": "https://localhost:8080/"
    },
    "id": "d-ncbt_1B2sV",
    "outputId": "7df6f44e-7699-4975-ad04-697dd732c290"
   },
   "outputs": [
    {
     "output_type": "stream",
     "name": "stdout",
     "output_type": "stream",
     "text": [
      "+------------------+\n|CURRENT_DATABASE()|\n+------------------+\n|               dev|\n+------------------+\n\n"
     ]
    }
   ],
   "source": [
    "spark.sql(\"SELECT CURRENT_DATABASE()\").show()"
   ]
  },
  {
   "cell_type": "code",
   "execution_count": 0,
   "metadata": {
    "application/vnd.databricks.v1+cell": {
     "cellMetadata": {
      "byteLimit": 2048000,
      "rowLimit": 10000
     },
     "inputWidgets": {},
     "nuid": "a869dbe2-d585-40de-a8e5-eabc11c17e77",
     "showTitle": false,
     "tableResultSettingsMap": {},
     "title": ""
    },
    "id": "4PbroEG0AghG"
   },
   "outputs": [],
   "source": [
    "# S3에서 바로 로딩. 읽기에는 권한이 필요없게 S3 bucket이 설정되어 있기에 가능\n",
    "df = spark.read.csv(\n",
    "    \"s3a://s3-geospatial/orders.csv\",\n",
    "    inferSchema=True,\n",
    "    header=True,\n",
    "    sep ='\\t'\n",
    ")"
   ]
  },
  {
   "cell_type": "code",
   "execution_count": 0,
   "metadata": {
    "application/vnd.databricks.v1+cell": {
     "cellMetadata": {
      "byteLimit": 2048000,
      "rowLimit": 10000
     },
     "inputWidgets": {},
     "nuid": "1d47732a-3731-443e-bbdd-9d93dc2c17b2",
     "showTitle": false,
     "tableResultSettingsMap": {},
     "title": ""
    },
    "colab": {
     "base_uri": "https://localhost:8080/"
    },
    "id": "E5p7gt8aAqD4",
    "outputId": "109cc944-56e4-4749-af33-bd6dc441080c"
   },
   "outputs": [
    {
     "output_type": "stream",
     "name": "stdout",
     "output_type": "stream",
     "text": [
      "+------------+--------------------+\n|    order_id|               items|\n+------------+--------------------+\n|860196503764|[{\"name\": \"DAILY ...|\n|860292645076|[{\"name\": \"DAILY ...|\n|860320956628|[{\"name\": \"DAILY ...|\n|860321513684|[{\"name\": \"DAILY ...|\n|862930665684|[{\"name\": \"DAILY ...|\n|862975819988|[{\"name\": \"DAILY ...|\n|862985191636|[{\"name\": \"DAILY ...|\n|870939295956|[{\"name\": \"DAILY ...|\n|880188063956|[{\"name\": \"DAILY ...|\n|933014601940|[{\"name\": \"DAILY ...|\n|934065930452|[{\"name\": \"DAILY ...|\n|938210722004|[{\"name\": \"DAILY ...|\n|944748331220|[{\"name\": \"DAILY ...|\n|862843896020|[{\"name\": \"DAILY ...|\n|862959763668|[{\"name\": \"DAILY ...|\n|870966558932|[{\"name\": \"DAILY ...|\n|887936647380|[{\"name\": \"DAILY ...|\n|908426477780|[{\"name\": \"DAILY ...|\n|921300107476|[{\"name\": \"DAILY ...|\n|932229710036|[{\"name\": \"DAILY ...|\n+------------+--------------------+\nonly showing top 20 rows\n"
     ]
    }
   ],
   "source": [
    "df.show()"
   ]
  },
  {
   "cell_type": "code",
   "execution_count": 0,
   "metadata": {
    "application/vnd.databricks.v1+cell": {
     "cellMetadata": {
      "byteLimit": 2048000,
      "rowLimit": 10000
     },
     "inputWidgets": {},
     "nuid": "a3ef031a-c367-401b-9707-97c66c0a8bef",
     "showTitle": false,
     "tableResultSettingsMap": {},
     "title": ""
    },
    "id": "wlqtIi97B5La"
   },
   "outputs": [],
   "source": [
    "df.write.saveAsTable(\"DEV.orders\", mode=\"overwrite\")"
   ]
  },
  {
   "cell_type": "code",
   "execution_count": 0,
   "metadata": {
    "application/vnd.databricks.v1+cell": {
     "cellMetadata": {
      "byteLimit": 2048000,
      "rowLimit": 10000
     },
     "inputWidgets": {},
     "nuid": "d6d29a80-783d-48dd-8597-9cdf5130c63a",
     "showTitle": false,
     "tableResultSettingsMap": {},
     "title": ""
    },
    "colab": {
     "base_uri": "https://localhost:8080/"
    },
    "id": "TWy4-V-LClNL",
    "outputId": "addd6647-c3e0-4ffa-d815-d1c4d55e053f"
   },
   "outputs": [
    {
     "output_type": "stream",
     "name": "stdout",
     "output_type": "stream",
     "text": [
      "+--------+---------+-----------+\n|database|tableName|isTemporary|\n+--------+---------+-----------+\n|     dev|   orders|      false|\n|        |   _sqldf|       true|\n+--------+---------+-----------+\n\n"
     ]
    }
   ],
   "source": [
    "spark.sql(\"SHOW TABLES\").show()"
   ]
  },
  {
   "cell_type": "code",
   "execution_count": 0,
   "metadata": {
    "application/vnd.databricks.v1+cell": {
     "cellMetadata": {
      "byteLimit": 2048000,
      "rowLimit": 10000
     },
     "inputWidgets": {},
     "nuid": "b02b45ef-1e61-4ce0-8090-c4b47d041bb7",
     "showTitle": false,
     "tableResultSettingsMap": {},
     "title": ""
    },
    "colab": {
     "base_uri": "https://localhost:8080/"
    },
    "id": "lJ6GAi2eCntv",
    "outputId": "5481c058-0980-412e-bc22-34b5372255a0"
   },
   "outputs": [
    {
     "output_type": "execute_result",
     "data": {
      "text/plain": [
       "[Table(name='orders', catalog='workspace', namespace=['dev'], description=None, tableType='MANAGED', isTemporary=False),\n",
       " Table(name='_sqldf', catalog=None, namespace=[], description=None, tableType='TEMPORARY', isTemporary=True)]"
      ]
     },
     "execution_count": 189,
     "metadata": {},
     "output_type": "execute_result"
    }
   ],
   "source": [
    "spark.catalog.listTables()"
   ]
  },
  {
   "cell_type": "code",
   "execution_count": 0,
   "metadata": {
    "application/vnd.databricks.v1+cell": {
     "cellMetadata": {
      "byteLimit": 2048000,
      "rowLimit": 10000
     },
     "inputWidgets": {},
     "nuid": "47b2353e-bb10-4c1a-8853-ed61fb5c72db",
     "showTitle": false,
     "tableResultSettingsMap": {},
     "title": ""
    },
    "colab": {
     "base_uri": "https://localhost:8080/"
    },
    "id": "nEAv6ycKCCVA",
    "outputId": "82aac3f8-40b7-4a1f-cf9d-03551227d080"
   },
   "outputs": [
    {
     "output_type": "display_data",
     "data": {
      "text/html": [
       "<style scoped>\n",
       "  .table-result-container {\n",
       "    max-height: 300px;\n",
       "    overflow: auto;\n",
       "  }\n",
       "  table, th, td {\n",
       "    border: 1px solid black;\n",
       "    border-collapse: collapse;\n",
       "  }\n",
       "  th, td {\n",
       "    padding: 5px;\n",
       "  }\n",
       "  th {\n",
       "    text-align: left;\n",
       "  }\n",
       "</style><div class='table-result-container'><table class='table-result'><thead style='background-color: white'><tr><th>path</th><th>name</th><th>size</th><th>modificationTime</th></tr></thead><tbody><tr><td>dbfs:/Volumes/</td><td>Volumes/</td><td>0</td><td>0</td></tr><tr><td>dbfs:/databricks-datasets/</td><td>databricks-datasets/</td><td>0</td><td>0</td></tr></tbody></table></div>"
      ]
     },
     "metadata": {
      "application/vnd.databricks.v1+output": {
       "addedWidgets": {},
       "aggData": [],
       "aggError": "",
       "aggOverflow": false,
       "aggSchema": [],
       "aggSeriesLimitReached": false,
       "aggType": "",
       "arguments": {},
       "columnCustomDisplayInfos": {},
       "data": [
        [
         "dbfs:/Volumes/",
         "Volumes/",
         0,
         0
        ],
        [
         "dbfs:/databricks-datasets/",
         "databricks-datasets/",
         0,
         0
        ]
       ],
       "datasetInfos": [],
       "dbfsResultPath": null,
       "isJsonSchema": true,
       "metadata": {},
       "overflow": false,
       "plotOptions": {
        "customPlotOptions": {},
        "displayType": "table",
        "pivotAggregation": null,
        "pivotColumns": null,
        "xColumns": null,
        "yColumns": null
       },
       "removedWidgets": [],
       "schema": [
        {
         "metadata": "{}",
         "name": "path",
         "type": "\"string\""
        },
        {
         "metadata": "{}",
         "name": "name",
         "type": "\"string\""
        },
        {
         "metadata": "{}",
         "name": "size",
         "type": "\"long\""
        },
        {
         "metadata": "{}",
         "name": "modificationTime",
         "type": "\"long\""
        }
       ],
       "type": "table"
      }
     },
     "output_type": "display_data"
    }
   ],
   "source": [
    "%fs ls dbfs:/"
   ]
  },
  {
   "cell_type": "code",
   "execution_count": 0,
   "metadata": {
    "application/vnd.databricks.v1+cell": {
     "cellMetadata": {
      "byteLimit": 2048000,
      "rowLimit": 10000
     },
     "inputWidgets": {},
     "nuid": "18bfab73-5508-4d32-80e3-801818e76d62",
     "showTitle": false,
     "tableResultSettingsMap": {},
     "title": ""
    },
    "colab": {
     "base_uri": "https://localhost:8080/"
    },
    "id": "UFpkeEQwCbGr",
    "outputId": "02604ec2-b4c4-4fd6-bac7-2efd0cd4a963"
   },
   "outputs": [
    {
     "output_type": "stream",
     "name": "stdout",
     "output_type": "stream",
     "text": [
      "+------------+--------------------+\n|    order_id|               items|\n+------------+--------------------+\n|860196503764|[{\"name\": \"DAILY ...|\n|860292645076|[{\"name\": \"DAILY ...|\n|860320956628|[{\"name\": \"DAILY ...|\n|860321513684|[{\"name\": \"DAILY ...|\n|862930665684|[{\"name\": \"DAILY ...|\n|862975819988|[{\"name\": \"DAILY ...|\n|862985191636|[{\"name\": \"DAILY ...|\n|870939295956|[{\"name\": \"DAILY ...|\n|880188063956|[{\"name\": \"DAILY ...|\n|933014601940|[{\"name\": \"DAILY ...|\n+------------+--------------------+\nonly showing top 10 rows\n"
     ]
    }
   ],
   "source": [
    "spark.table(\"DEV.orders\").show(10)"
   ]
  },
  {
   "cell_type": "code",
   "execution_count": 0,
   "metadata": {
    "application/vnd.databricks.v1+cell": {
     "cellMetadata": {
      "byteLimit": 2048000,
      "rowLimit": 10000
     },
     "inputWidgets": {},
     "nuid": "6c84ee53-b320-475b-874d-4e2676e6f42f",
     "showTitle": false,
     "tableResultSettingsMap": {},
     "title": ""
    },
    "colab": {
     "base_uri": "https://localhost:8080/"
    },
    "id": "tHRepEOjCRJX",
    "outputId": "15d3050f-5962-404e-e178-1334713bf932"
   },
   "outputs": [
    {
     "output_type": "stream",
     "name": "stdout",
     "output_type": "stream",
     "text": [
      "+------------+--------------------+\n|    order_id|               items|\n+------------+--------------------+\n|860196503764|[{\"name\": \"DAILY ...|\n|860292645076|[{\"name\": \"DAILY ...|\n|860320956628|[{\"name\": \"DAILY ...|\n|860321513684|[{\"name\": \"DAILY ...|\n|862930665684|[{\"name\": \"DAILY ...|\n|862975819988|[{\"name\": \"DAILY ...|\n|862985191636|[{\"name\": \"DAILY ...|\n|870939295956|[{\"name\": \"DAILY ...|\n|880188063956|[{\"name\": \"DAILY ...|\n|933014601940|[{\"name\": \"DAILY ...|\n+------------+--------------------+\n\n"
     ]
    }
   ],
   "source": [
    "spark.sql(\"SELECT * FROM DEV.orders LIMIT 10\").show()"
   ]
  },
  {
   "cell_type": "code",
   "execution_count": 0,
   "metadata": {
    "application/vnd.databricks.v1+cell": {
     "cellMetadata": {
      "byteLimit": 2048000,
      "implicitDf": true,
      "rowLimit": 10000
     },
     "inputWidgets": {},
     "nuid": "14864613-bfcd-462b-9401-f42db2503056",
     "showTitle": false,
     "tableResultSettingsMap": {},
     "title": ""
    }
   },
   "outputs": [
    {
     "output_type": "display_data",
     "data": {
      "text/html": [
       "<style scoped>\n",
       "  .table-result-container {\n",
       "    max-height: 300px;\n",
       "    overflow: auto;\n",
       "  }\n",
       "  table, th, td {\n",
       "    border: 1px solid black;\n",
       "    border-collapse: collapse;\n",
       "  }\n",
       "  th, td {\n",
       "    padding: 5px;\n",
       "  }\n",
       "  th {\n",
       "    text-align: left;\n",
       "  }\n",
       "</style><div class='table-result-container'><table class='table-result'><thead style='background-color: white'><tr><th>order_id</th><th>items</th></tr></thead><tbody><tr><td>860196503764</td><td>[{\"name\": \"DAILY SPF\", \"quantity\": 1, \"id\": 1883727790094}]</td></tr><tr><td>860292645076</td><td>[{\"name\": \"DAILY SPF \\u2014 Bundle Set\", \"quantity\": 1, \"id\": 1883875377166}]</td></tr><tr><td>860320956628</td><td>[{\"name\": \"DAILY SPF\", \"quantity\": 1, \"id\": 1883919974414}]</td></tr><tr><td>860321513684</td><td>[{\"name\": \"DAILY SPF\", \"quantity\": 1, \"id\": 1883920793614}]</td></tr><tr><td>862930665684</td><td>[{\"name\": \"DAILY SPF\", \"quantity\": 1, \"id\": 1887913672718}]</td></tr><tr><td>862975819988</td><td>[{\"name\": \"DAILY SPF\", \"quantity\": 1, \"id\": 1887985827854}]</td></tr><tr><td>862985191636</td><td>[{\"name\": \"DAILY SPF \\u2014 Bundle Set\", \"quantity\": 1, \"id\": 1887999164430}]</td></tr><tr><td>870939295956</td><td>[{\"name\": \"DAILY SPF\", \"quantity\": 1, \"id\": 1900142264334}]</td></tr><tr><td>880188063956</td><td>[{\"name\": \"DAILY SPF\", \"quantity\": 1, \"id\": 1914170572814}]</td></tr><tr><td>933014601940</td><td>[{\"name\": \"DAILY SPF\", \"quantity\": 1, \"id\": 1995572117518}]</td></tr></tbody></table></div>"
      ]
     },
     "metadata": {
      "application/vnd.databricks.v1+output": {
       "addedWidgets": {},
       "aggData": [],
       "aggError": "",
       "aggOverflow": false,
       "aggSchema": [],
       "aggSeriesLimitReached": false,
       "aggType": "",
       "arguments": {},
       "columnCustomDisplayInfos": {},
       "data": [
        [
         860196503764,
         "[{\"name\": \"DAILY SPF\", \"quantity\": 1, \"id\": 1883727790094}]"
        ],
        [
         860292645076,
         "[{\"name\": \"DAILY SPF \\u2014 Bundle Set\", \"quantity\": 1, \"id\": 1883875377166}]"
        ],
        [
         860320956628,
         "[{\"name\": \"DAILY SPF\", \"quantity\": 1, \"id\": 1883919974414}]"
        ],
        [
         860321513684,
         "[{\"name\": \"DAILY SPF\", \"quantity\": 1, \"id\": 1883920793614}]"
        ],
        [
         862930665684,
         "[{\"name\": \"DAILY SPF\", \"quantity\": 1, \"id\": 1887913672718}]"
        ],
        [
         862975819988,
         "[{\"name\": \"DAILY SPF\", \"quantity\": 1, \"id\": 1887985827854}]"
        ],
        [
         862985191636,
         "[{\"name\": \"DAILY SPF \\u2014 Bundle Set\", \"quantity\": 1, \"id\": 1887999164430}]"
        ],
        [
         870939295956,
         "[{\"name\": \"DAILY SPF\", \"quantity\": 1, \"id\": 1900142264334}]"
        ],
        [
         880188063956,
         "[{\"name\": \"DAILY SPF\", \"quantity\": 1, \"id\": 1914170572814}]"
        ],
        [
         933014601940,
         "[{\"name\": \"DAILY SPF\", \"quantity\": 1, \"id\": 1995572117518}]"
        ]
       ],
       "datasetInfos": [
        {
         "name": "_sqldf",
         "schema": {
          "fields": [
           {
            "metadata": {},
            "name": "order_id",
            "nullable": true,
            "type": "long"
           },
           {
            "metadata": {},
            "name": "items",
            "nullable": true,
            "type": "string"
           }
          ],
          "type": "struct"
         },
         "tableIdentifier": null,
         "typeStr": "pyspark.sql.connect.dataframe.DataFrame"
        }
       ],
       "dbfsResultPath": null,
       "isJsonSchema": true,
       "metadata": {
        "createTempViewForImplicitDf": true,
        "dataframeName": "_sqldf",
        "executionCount": 193
       },
       "overflow": false,
       "plotOptions": {
        "customPlotOptions": {},
        "displayType": "table",
        "pivotAggregation": null,
        "pivotColumns": null,
        "xColumns": null,
        "yColumns": null
       },
       "removedWidgets": [],
       "schema": [
        {
         "metadata": "{}",
         "name": "order_id",
         "type": "\"long\""
        },
        {
         "metadata": "{}",
         "name": "items",
         "type": "\"string\""
        }
       ],
       "type": "table"
      }
     },
     "output_type": "display_data"
    }
   ],
   "source": [
    "%sql\n",
    "\n",
    "SELECT * FROM DEV.orders LIMIT 10"
   ]
  },
  {
   "cell_type": "code",
   "execution_count": 0,
   "metadata": {
    "application/vnd.databricks.v1+cell": {
     "cellMetadata": {
      "byteLimit": 2048000,
      "rowLimit": 10000
     },
     "inputWidgets": {},
     "nuid": "8692cabf-0ee2-4754-849a-c504904a3574",
     "showTitle": false,
     "tableResultSettingsMap": {},
     "title": ""
    },
    "colab": {
     "base_uri": "https://localhost:8080/",
     "height": 443
    },
    "id": "R3FyO8QdKElk",
    "outputId": "a236a174-ac01-4502-9a55-229995295d69"
   },
   "outputs": [
    {
     "output_type": "execute_result",
     "data": {
      "text/plain": [
       "DataFrame[num_affected_rows: bigint, num_inserted_rows: bigint]"
      ]
     },
     "execution_count": 194,
     "metadata": {},
     "output_type": "execute_result"
    }
   ],
   "source": [
    "spark.sql(\"\"\"\n",
    "    CREATE TABLE DEV.orders_count AS\n",
    "    SELECT order_id, COUNT(1) as count\n",
    "    FROM DEV.orders\n",
    "    GROUP BY 1\"\"\")"
   ]
  },
  {
   "cell_type": "code",
   "execution_count": 0,
   "metadata": {
    "application/vnd.databricks.v1+cell": {
     "cellMetadata": {
      "byteLimit": 2048000,
      "rowLimit": 10000
     },
     "inputWidgets": {},
     "nuid": "152e084c-7c52-4e97-8b45-471ea661287d",
     "showTitle": false,
     "tableResultSettingsMap": {},
     "title": ""
    },
    "colab": {
     "base_uri": "https://localhost:8080/"
    },
    "id": "mcpPBk_bLkqs",
    "outputId": "c6cf54e2-463c-4a14-e6c9-83df0f67c3e1"
   },
   "outputs": [
    {
     "output_type": "stream",
     "name": "stdout",
     "output_type": "stream",
     "text": [
      "+--------+------------+-----------+\n|database|   tableName|isTemporary|\n+--------+------------+-----------+\n|     dev|      orders|      false|\n|     dev|orders_count|      false|\n|        |      _sqldf|       true|\n+--------+------------+-----------+\n\n"
     ]
    }
   ],
   "source": [
    "spark.sql(\"SHOW TABLES\").show()"
   ]
  },
  {
   "cell_type": "code",
   "execution_count": 0,
   "metadata": {
    "application/vnd.databricks.v1+cell": {
     "cellMetadata": {
      "byteLimit": 2048000,
      "rowLimit": 10000
     },
     "inputWidgets": {},
     "nuid": "48dce8e3-2083-499d-938f-4b848c61892f",
     "showTitle": false,
     "tableResultSettingsMap": {},
     "title": ""
    },
    "colab": {
     "base_uri": "https://localhost:8080/"
    },
    "id": "egXLp32BLt6Y",
    "outputId": "ea7c28bf-c119-4870-c3c0-098590372d6d"
   },
   "outputs": [
    {
     "output_type": "execute_result",
     "data": {
      "text/plain": [
       "[Table(name='orders', catalog='workspace', namespace=['dev'], description=None, tableType='MANAGED', isTemporary=False),\n",
       " Table(name='orders_count', catalog='workspace', namespace=['dev'], description=None, tableType='MANAGED', isTemporary=False),\n",
       " Table(name='_sqldf', catalog=None, namespace=[], description=None, tableType='TEMPORARY', isTemporary=True)]"
      ]
     },
     "execution_count": 196,
     "metadata": {},
     "output_type": "execute_result"
    }
   ],
   "source": [
    "# 결과에서 tableType을 살펴볼 것!\n",
    "spark.catalog.listTables()"
   ]
  },
  {
   "cell_type": "code",
   "execution_count": 0,
   "metadata": {
    "application/vnd.databricks.v1+cell": {
     "cellMetadata": {
      "byteLimit": 2048000,
      "implicitDf": true,
      "rowLimit": 10000
     },
     "inputWidgets": {},
     "nuid": "c92533bb-29e7-42d0-859f-0f7f7c3d8745",
     "showTitle": false,
     "tableResultSettingsMap": {},
     "title": ""
    }
   },
   "outputs": [
    {
     "output_type": "display_data",
     "data": {
      "text/html": [
       "<style scoped>\n",
       "  .table-result-container {\n",
       "    max-height: 300px;\n",
       "    overflow: auto;\n",
       "  }\n",
       "  table, th, td {\n",
       "    border: 1px solid black;\n",
       "    border-collapse: collapse;\n",
       "  }\n",
       "  th, td {\n",
       "    padding: 5px;\n",
       "  }\n",
       "  th {\n",
       "    text-align: left;\n",
       "  }\n",
       "</style><div class='table-result-container'><table class='table-result'><thead style='background-color: white'><tr><th>order_id</th><th>count</th></tr></thead><tbody><tr><td>1296324231380</td><td>1</td></tr><tr><td>1256869527764</td><td>1</td></tr><tr><td>2209629307092</td><td>1</td></tr><tr><td>933014601940</td><td>1</td></tr><tr><td>1221504565460</td><td>1</td></tr><tr><td>2108798238932</td><td>1</td></tr><tr><td>2102309093588</td><td>1</td></tr><tr><td>1299495092436</td><td>1</td></tr><tr><td>2047024529620</td><td>1</td></tr><tr><td>2207727878356</td><td>1</td></tr><tr><td>870939295956</td><td>1</td></tr><tr><td>1284329636052</td><td>1</td></tr><tr><td>1355215864020</td><td>1</td></tr><tr><td>1427390628052</td><td>1</td></tr><tr><td>1285899911380</td><td>1</td></tr><tr><td>2057217016020</td><td>1</td></tr><tr><td>2129033134292</td><td>1</td></tr><tr><td>1972235305172</td><td>1</td></tr><tr><td>1709551714516</td><td>1</td></tr><tr><td>1363939393748</td><td>1</td></tr><tr><td>2141867147476</td><td>1</td></tr><tr><td>1213636444372</td><td>1</td></tr><tr><td>1296249192660</td><td>1</td></tr><tr><td>1221186912468</td><td>1</td></tr><tr><td>2147619471572</td><td>1</td></tr><tr><td>1303814439124</td><td>1</td></tr><tr><td>1997374095572</td><td>1</td></tr><tr><td>1400867258580</td><td>1</td></tr><tr><td>1288196227284</td><td>1</td></tr><tr><td>1392394666196</td><td>1</td></tr><tr><td>2088885584084</td><td>1</td></tr><tr><td>2095003238612</td><td>1</td></tr><tr><td>2209244315860</td><td>1</td></tr><tr><td>1354644914388</td><td>1</td></tr><tr><td>1844953186516</td><td>1</td></tr><tr><td>2024300609748</td><td>1</td></tr><tr><td>1316516790484</td><td>1</td></tr><tr><td>1709874741460</td><td>1</td></tr><tr><td>2135281533140</td><td>1</td></tr><tr><td>1215640338644</td><td>1</td></tr><tr><td>2090388390100</td><td>1</td></tr><tr><td>1943296114900</td><td>1</td></tr><tr><td>1341259481300</td><td>1</td></tr><tr><td>2201412600020</td><td>1</td></tr><tr><td>1291017846996</td><td>1</td></tr><tr><td>2185741467860</td><td>1</td></tr><tr><td>1105768153300</td><td>1</td></tr><tr><td>1321020326100</td><td>1</td></tr><tr><td>2210441560276</td><td>1</td></tr><tr><td>1229690011860</td><td>1</td></tr><tr><td>2148330275028</td><td>1</td></tr><tr><td>1165691650260</td><td>1</td></tr><tr><td>1832624324820</td><td>1</td></tr><tr><td>1390931050708</td><td>1</td></tr><tr><td>1906576589012</td><td>1</td></tr><tr><td>1707597594836</td><td>1</td></tr><tr><td>2013940941012</td><td>1</td></tr><tr><td>1380826513620</td><td>1</td></tr><tr><td>1697009828052</td><td>1</td></tr><tr><td>1974987817172</td><td>1</td></tr><tr><td>1234950652116</td><td>1</td></tr><tr><td>2213240242388</td><td>1</td></tr><tr><td>2137904971988</td><td>1</td></tr><tr><td>1248108413140</td><td>1</td></tr><tr><td>2124812320980</td><td>1</td></tr><tr><td>1267703611604</td><td>1</td></tr><tr><td>1378747941076</td><td>1</td></tr><tr><td>2094060110036</td><td>1</td></tr><tr><td>2007236280532</td><td>1</td></tr><tr><td>862959763668</td><td>1</td></tr><tr><td>1133224657108</td><td>1</td></tr><tr><td>2147922149588</td><td>1</td></tr><tr><td>1967769256148</td><td>1</td></tr><tr><td>1223813660884</td><td>1</td></tr><tr><td>1289073524948</td><td>1</td></tr><tr><td>2175685198036</td><td>1</td></tr><tr><td>2176217088212</td><td>1</td></tr><tr><td>1420937593044</td><td>1</td></tr><tr><td>2193939071188</td><td>1</td></tr><tr><td>2164971569364</td><td>1</td></tr><tr><td>1211218329812</td><td>1</td></tr><tr><td>1269328675028</td><td>1</td></tr><tr><td>2082795126996</td><td>1</td></tr><tr><td>1322762830036</td><td>1</td></tr><tr><td>1185571078356</td><td>1</td></tr><tr><td>1709981073620</td><td>1</td></tr><tr><td>1335855251668</td><td>1</td></tr><tr><td>1415023001812</td><td>1</td></tr><tr><td>2000924410068</td><td>1</td></tr><tr><td>2073363972308</td><td>1</td></tr><tr><td>1360605675732</td><td>1</td></tr><tr><td>1393184211156</td><td>1</td></tr><tr><td>1912034492628</td><td>1</td></tr><tr><td>1263469297876</td><td>1</td></tr><tr><td>939564400852</td><td>1</td></tr><tr><td>2082549268692</td><td>1</td></tr><tr><td>2141616308436</td><td>1</td></tr><tr><td>2079069896916</td><td>1</td></tr><tr><td>2183593001172</td><td>1</td></tr><tr><td>933223235796</td><td>1</td></tr><tr><td>2163405062356</td><td>1</td></tr><tr><td>1304010784980</td><td>1</td></tr><tr><td>2136935301332</td><td>1</td></tr><tr><td>1360279568596</td><td>1</td></tr><tr><td>1392489824468</td><td>1</td></tr><tr><td>1413291278548</td><td>1</td></tr><tr><td>1427190841556</td><td>1</td></tr><tr><td>1697077690580</td><td>1</td></tr><tr><td>2180447338708</td><td>1</td></tr><tr><td>1967811002580</td><td>1</td></tr><tr><td>934192185556</td><td>1</td></tr><tr><td>1819952382164</td><td>1</td></tr><tr><td>1366330998996</td><td>1</td></tr><tr><td>1384717648084</td><td>1</td></tr><tr><td>1366432153812</td><td>1</td></tr><tr><td>1385389785300</td><td>1</td></tr><tr><td>1362389369044</td><td>1</td></tr><tr><td>1301894267092</td><td>1</td></tr><tr><td>1249925497044</td><td>1</td></tr><tr><td>1427048693972</td><td>1</td></tr><tr><td>1235745210580</td><td>1</td></tr><tr><td>2114135261396</td><td>1</td></tr><tr><td>1244118745300</td><td>1</td></tr><tr><td>1340383297748</td><td>1</td></tr><tr><td>1707236819156</td><td>1</td></tr><tr><td>1409997734100</td><td>1</td></tr><tr><td>1339644575956</td><td>1</td></tr><tr><td>1847088120020</td><td>1</td></tr><tr><td>1921036812500</td><td>1</td></tr><tr><td>1991240450260</td><td>1</td></tr><tr><td>2056249245908</td><td>1</td></tr><tr><td>2189855162580</td><td>1</td></tr><tr><td>1389753204948</td><td>1</td></tr><tr><td>1308464742612</td><td>1</td></tr><tr><td>1393326686420</td><td>1</td></tr><tr><td>1388166283476</td><td>1</td></tr><tr><td>1971226443988</td><td>1</td></tr><tr><td>2094837530836</td><td>1</td></tr><tr><td>1409982759124</td><td>1</td></tr><tr><td>2126902264020</td><td>1</td></tr><tr><td>2141315727572</td><td>1</td></tr><tr><td>1177203736788</td><td>1</td></tr><tr><td>1249042596052</td><td>1</td></tr><tr><td>2026228089044</td><td>1</td></tr><tr><td>1927634714836</td><td>1</td></tr><tr><td>2114579333332</td><td>1</td></tr><tr><td>2186043064532</td><td>1</td></tr><tr><td>1309237838036</td><td>1</td></tr><tr><td>1418465476820</td><td>1</td></tr><tr><td>1231810199764</td><td>1</td></tr><tr><td>1350109888724</td><td>1</td></tr><tr><td>1412519821524</td><td>1</td></tr><tr><td>1997666615508</td><td>1</td></tr><tr><td>1799410352340</td><td>1</td></tr><tr><td>2210433728724</td><td>1</td></tr><tr><td>862985191636</td><td>1</td></tr><tr><td>1319108542676</td><td>1</td></tr><tr><td>1392417439956</td><td>1</td></tr><tr><td>1425156800724</td><td>1</td></tr><tr><td>1941403566292</td><td>1</td></tr><tr><td>1354639704276</td><td>1</td></tr><tr><td>1948531622100</td><td>1</td></tr><tr><td>2056017051860</td><td>1</td></tr><tr><td>1906163351764</td><td>1</td></tr><tr><td>1727995379924</td><td>1</td></tr><tr><td>1791156256980</td><td>1</td></tr><tr><td>2071426203860</td><td>1</td></tr><tr><td>1383330349268</td><td>1</td></tr><tr><td>1961237086420</td><td>1</td></tr><tr><td>2138167312596</td><td>1</td></tr><tr><td>2125566673108</td><td>1</td></tr><tr><td>2130183553236</td><td>1</td></tr><tr><td>1290960437460</td><td>1</td></tr><tr><td>1319904116948</td><td>1</td></tr><tr><td>1302397026516</td><td>1</td></tr><tr><td>1705011544276</td><td>1</td></tr><tr><td>2179050995924</td><td>1</td></tr><tr><td>1166121828564</td><td>1</td></tr><tr><td>1271707435220</td><td>1</td></tr><tr><td>1902890844372</td><td>1</td></tr><tr><td>1955275178196</td><td>1</td></tr><tr><td>2045982310612</td><td>1</td></tr><tr><td>1197708640468</td><td>1</td></tr><tr><td>1690369851604</td><td>1</td></tr><tr><td>1867719966932</td><td>1</td></tr><tr><td>1967690285268</td><td>1</td></tr><tr><td>1713331765460</td><td>1</td></tr><tr><td>1230764769492</td><td>1</td></tr><tr><td>1063275430100</td><td>1</td></tr><tr><td>2136537891028</td><td>1</td></tr><tr><td>2103577837780</td><td>1</td></tr><tr><td>2105355632852</td><td>1</td></tr><tr><td>862843896020</td><td>1</td></tr><tr><td>1878962241748</td><td>1</td></tr><tr><td>1316311302356</td><td>1</td></tr><tr><td>2118824558804</td><td>1</td></tr><tr><td>2149730779348</td><td>1</td></tr><tr><td>1943139156180</td><td>1</td></tr><tr><td>1226840408276</td><td>1</td></tr><tr><td>1684076822740</td><td>1</td></tr><tr><td>1719148675284</td><td>1</td></tr><tr><td>1709861241044</td><td>1</td></tr><tr><td>2091240358100</td><td>1</td></tr><tr><td>2139691745492</td><td>1</td></tr><tr><td>2103036477652</td><td>1</td></tr><tr><td>1271155458260</td><td>1</td></tr><tr><td>2089381560532</td><td>1</td></tr><tr><td>2066244501716</td><td>1</td></tr><tr><td>2082493792468</td><td>1</td></tr><tr><td>1396708180180</td><td>1</td></tr><tr><td>1227943608532</td><td>1</td></tr><tr><td>1263213871316</td><td>1</td></tr><tr><td>2161809391828</td><td>1</td></tr><tr><td>2178058387668</td><td>1</td></tr><tr><td>1370637402324</td><td>1</td></tr><tr><td>1686910763220</td><td>1</td></tr><tr><td>1709985333460</td><td>1</td></tr><tr><td>1321856237780</td><td>1</td></tr><tr><td>1370207748308</td><td>1</td></tr><tr><td>2148996481236</td><td>1</td></tr><tr><td>2180919951572</td><td>1</td></tr><tr><td>1270351790292</td><td>1</td></tr><tr><td>1309863674068</td><td>1</td></tr><tr><td>2212722999508</td><td>1</td></tr><tr><td>1295356494036</td><td>1</td></tr><tr><td>1725671833812</td><td>1</td></tr><tr><td>1692798124244</td><td>1</td></tr><tr><td>1230942470356</td><td>1</td></tr><tr><td>1211670266068</td><td>1</td></tr><tr><td>1227863752916</td><td>1</td></tr><tr><td>1799557578964</td><td>1</td></tr><tr><td>1872739401940</td><td>1</td></tr><tr><td>2152575172820</td><td>1</td></tr><tr><td>1954197864660</td><td>1</td></tr><tr><td>1237493547220</td><td>1</td></tr><tr><td>2062978941140</td><td>1</td></tr><tr><td>2104048058580</td><td>1</td></tr><tr><td>2093314900180</td><td>1</td></tr><tr><td>2114667905236</td><td>1</td></tr><tr><td>1383503200468</td><td>1</td></tr><tr><td>1407985582292</td><td>1</td></tr><tr><td>2151371735252</td><td>1</td></tr><tr><td>1183458263252</td><td>1</td></tr><tr><td>1988502749396</td><td>1</td></tr><tr><td>2009648595156</td><td>1</td></tr><tr><td>2133106196692</td><td>1</td></tr><tr><td>1285398102228</td><td>1</td></tr><tr><td>1925129568468</td><td>1</td></tr><tr><td>2131111280852</td><td>1</td></tr><tr><td>2125867024596</td><td>1</td></tr><tr><td>1387325325524</td><td>1</td></tr><tr><td>1978844020948</td><td>1</td></tr><tr><td>1387801313492</td><td>1</td></tr><tr><td>1284415258836</td><td>1</td></tr><tr><td>2022940475604</td><td>1</td></tr><tr><td>860320956628</td><td>1</td></tr><tr><td>932229710036</td><td>1</td></tr><tr><td>1185566523604</td><td>1</td></tr><tr><td>1916250685652</td><td>1</td></tr><tr><td>1967775416532</td><td>1</td></tr><tr><td>2063933046996</td><td>1</td></tr><tr><td>2199181230292</td><td>1</td></tr><tr><td>1908453572820</td><td>1</td></tr><tr><td>1993437577428</td><td>1</td></tr><tr><td>1179801321684</td><td>1</td></tr><tr><td>1339594277076</td><td>1</td></tr><tr><td>1162183246036</td><td>1</td></tr><tr><td>1164478349524</td><td>1</td></tr><tr><td>1409655144660</td><td>1</td></tr><tr><td>1190931267796</td><td>1</td></tr><tr><td>1365355561172</td><td>1</td></tr><tr><td>1137477451988</td><td>1</td></tr><tr><td>2139543109844</td><td>1</td></tr><tr><td>1310570938580</td><td>1</td></tr><tr><td>1884682125524</td><td>1</td></tr><tr><td>870966558932</td><td>1</td></tr><tr><td>944942121172</td><td>1</td></tr><tr><td>1967917826260</td><td>1</td></tr><tr><td>2142394089684</td><td>1</td></tr><tr><td>1295656321236</td><td>1</td></tr><tr><td>2184088125652</td><td>1</td></tr><tr><td>1709869367508</td><td>1</td></tr><tr><td>2147838296276</td><td>1</td></tr><tr><td>2124986908884</td><td>1</td></tr><tr><td>1153933836500</td><td>1</td></tr><tr><td>1162106831060</td><td>1</td></tr><tr><td>2211758964948</td><td>1</td></tr><tr><td>1333855453396</td><td>1</td></tr><tr><td>862930665684</td><td>1</td></tr><tr><td>2136812617940</td><td>1</td></tr><tr><td>1366169092308</td><td>1</td></tr><tr><td>1375627641044</td><td>1</td></tr><tr><td>2007476830420</td><td>1</td></tr><tr><td>2042595573972</td><td>1</td></tr><tr><td>1820382363860</td><td>1</td></tr><tr><td>2170135707860</td><td>1</td></tr><tr><td>1365370208468</td><td>1</td></tr><tr><td>1086229545172</td><td>1</td></tr><tr><td>1315066249428</td><td>1</td></tr><tr><td>1843554287828</td><td>1</td></tr><tr><td>1213878894804</td><td>1</td></tr><tr><td>1339556856020</td><td>1</td></tr><tr><td>1236577779924</td><td>1</td></tr><tr><td>1388133941460</td><td>1</td></tr><tr><td>2210421178580</td><td>1</td></tr><tr><td>1324073320660</td><td>1</td></tr><tr><td>1988764795092</td><td>1</td></tr><tr><td>1270267347156</td><td>1</td></tr><tr><td>2095255421140</td><td>1</td></tr><tr><td>2185737470164</td><td>1</td></tr><tr><td>2073351291092</td><td>1</td></tr><tr><td>1793374552276</td><td>1</td></tr><tr><td>1302571286740</td><td>1</td></tr><tr><td>2064649486548</td><td>1</td></tr><tr><td>1267673465044</td><td>1</td></tr><tr><td>1304971772116</td><td>1</td></tr><tr><td>1341243359444</td><td>1</td></tr><tr><td>1702899417300</td><td>1</td></tr><tr><td>1709003833556</td><td>1</td></tr><tr><td>2146357936340</td><td>1</td></tr><tr><td>2193339547860</td><td>1</td></tr><tr><td>1923211100372</td><td>1</td></tr><tr><td>1239858741460</td><td>1</td></tr><tr><td>2117684592852</td><td>1</td></tr><tr><td>1315575398612</td><td>1</td></tr><tr><td>2074877362388</td><td>1</td></tr><tr><td>1710301905108</td><td>1</td></tr><tr><td>1942773366996</td><td>1</td></tr><tr><td>1298427838676</td><td>1</td></tr><tr><td>2122497196244</td><td>1</td></tr><tr><td>1374241882324</td><td>1</td></tr><tr><td>1709879460052</td><td>1</td></tr><tr><td>1302389817556</td><td>1</td></tr><tr><td>1714115805396</td><td>1</td></tr><tr><td>1308417589460</td><td>1</td></tr><tr><td>1216003997908</td><td>1</td></tr><tr><td>1388093866196</td><td>1</td></tr><tr><td>1392616243412</td><td>1</td></tr><tr><td>1816060690644</td><td>1</td></tr><tr><td>1293220446420</td><td>1</td></tr><tr><td>1293985644756</td><td>1</td></tr><tr><td>2069337833684</td><td>1</td></tr><tr><td>1218596438228</td><td>1</td></tr><tr><td>1012816707796</td><td>1</td></tr><tr><td>1244942172372</td><td>1</td></tr><tr><td>1290728931540</td><td>1</td></tr><tr><td>1386293559508</td><td>1</td></tr><tr><td>2095850422484</td><td>1</td></tr><tr><td>1955093381332</td><td>1</td></tr><tr><td>2001611129044</td><td>1</td></tr><tr><td>1169963974868</td><td>1</td></tr><tr><td>2001314906324</td><td>1</td></tr><tr><td>1167111651540</td><td>1</td></tr><tr><td>1197957939412</td><td>1</td></tr><tr><td>1951353471188</td><td>1</td></tr><tr><td>2009207636180</td><td>1</td></tr><tr><td>1895813152980</td><td>1</td></tr><tr><td>1391594832084</td><td>1</td></tr><tr><td>1714062590164</td><td>1</td></tr><tr><td>1332147683540</td><td>1</td></tr><tr><td>2163928498388</td><td>1</td></tr><tr><td>2210885959892</td><td>1</td></tr><tr><td>1323103584468</td><td>1</td></tr><tr><td>1139841695956</td><td>1</td></tr><tr><td>2007152132308</td><td>1</td></tr><tr><td>2110443684052</td><td>1</td></tr><tr><td>1370111279316</td><td>1</td></tr><tr><td>1879493902548</td><td>1</td></tr><tr><td>2148876353748</td><td>1</td></tr><tr><td>2164742979796</td><td>1</td></tr><tr><td>1334851895508</td><td>1</td></tr><tr><td>1933438189780</td><td>1</td></tr><tr><td>1863609024724</td><td>1</td></tr><tr><td>2136934711508</td><td>1</td></tr><tr><td>1112855970004</td><td>1</td></tr><tr><td>1420146442452</td><td>1</td></tr><tr><td>1988768530644</td><td>1</td></tr><tr><td>1388874957012</td><td>1</td></tr><tr><td>1113020530900</td><td>1</td></tr><tr><td>1718364405972</td><td>1</td></tr><tr><td>1359984787668</td><td>1</td></tr><tr><td>1368806359252</td><td>1</td></tr><tr><td>1994310189268</td><td>1</td></tr><tr><td>2111891505364</td><td>1</td></tr><tr><td>1816060854484</td><td>1</td></tr><tr><td>2156967788756</td><td>1</td></tr><tr><td>2164724531412</td><td>1</td></tr><tr><td>1240120295636</td><td>1</td></tr><tr><td>944748331220</td><td>1</td></tr><tr><td>1139599016148</td><td>1</td></tr><tr><td>1277241721044</td><td>1</td></tr><tr><td>1728747438292</td><td>1</td></tr><tr><td>2049920827604</td><td>1</td></tr><tr><td>1265873846484</td><td>1</td></tr><tr><td>1273420185812</td><td>1</td></tr><tr><td>2007175069908</td><td>1</td></tr><tr><td>2199158358228</td><td>1</td></tr><tr><td>860321513684</td><td>1</td></tr><tr><td>2068044415188</td><td>1</td></tr><tr><td>1225293103316</td><td>1</td></tr><tr><td>1336411979988</td><td>1</td></tr><tr><td>2152196473044</td><td>1</td></tr><tr><td>1224962146516</td><td>1</td></tr><tr><td>1829090066644</td><td>1</td></tr><tr><td>1139733594324</td><td>1</td></tr><tr><td>921300107476</td><td>1</td></tr><tr><td>1168970285268</td><td>1</td></tr><tr><td>2082349220052</td><td>1</td></tr><tr><td>1166110163156</td><td>1</td></tr><tr><td>2062742520020</td><td>1</td></tr><tr><td>1396679147732</td><td>1</td></tr><tr><td>1055201853652</td><td>1</td></tr><tr><td>1727798902996</td><td>1</td></tr><tr><td>2129944051924</td><td>1</td></tr><tr><td>1202920685780</td><td>1</td></tr><tr><td>1367304732884</td><td>1</td></tr><tr><td>2200890933460</td><td>1</td></tr><tr><td>2119052427476</td><td>1</td></tr><tr><td>1201096786132</td><td>1</td></tr><tr><td>1290742005972</td><td>1</td></tr><tr><td>2147997253844</td><td>1</td></tr><tr><td>1396327514324</td><td>1</td></tr><tr><td>1313327087828</td><td>1</td></tr><tr><td>1374622941396</td><td>1</td></tr><tr><td>2192090530004</td><td>1</td></tr><tr><td>1371188822228</td><td>1</td></tr><tr><td>1919060312276</td><td>1</td></tr><tr><td>1920011337940</td><td>1</td></tr><tr><td>908426477780</td><td>1</td></tr><tr><td>1961259237588</td><td>1</td></tr><tr><td>1202916524244</td><td>1</td></tr><tr><td>1881619300564</td><td>1</td></tr><tr><td>1997439893716</td><td>1</td></tr><tr><td>1323871600852</td><td>1</td></tr><tr><td>1860429643988</td><td>1</td></tr><tr><td>1330286428372</td><td>1</td></tr><tr><td>1408708214996</td><td>1</td></tr><tr><td>2210419638484</td><td>1</td></tr><tr><td>1049493242068</td><td>1</td></tr><tr><td>1892431855828</td><td>1</td></tr><tr><td>1947274674388</td><td>1</td></tr><tr><td>2152075231444</td><td>1</td></tr><tr><td>1196297846996</td><td>1</td></tr><tr><td>1298193383636</td><td>1</td></tr><tr><td>2147468378324</td><td>1</td></tr><tr><td>1372500820180</td><td>1</td></tr><tr><td>1393077125332</td><td>1</td></tr><tr><td>1039119941844</td><td>1</td></tr><tr><td>1245929799892</td><td>1</td></tr><tr><td>1928931082452</td><td>1</td></tr><tr><td>1995282579668</td><td>1</td></tr><tr><td>2074957086932</td><td>1</td></tr><tr><td>985969983700</td><td>1</td></tr><tr><td>1299504201940</td><td>1</td></tr><tr><td>1961561751764</td><td>1</td></tr><tr><td>1229473579220</td><td>1</td></tr><tr><td>1284185063636</td><td>1</td></tr><tr><td>1353912189140</td><td>1</td></tr><tr><td>1936443310292</td><td>1</td></tr><tr><td>1269454667988</td><td>1</td></tr><tr><td>1879077486804</td><td>1</td></tr><tr><td>1211676131540</td><td>1</td></tr><tr><td>1393118937300</td><td>1</td></tr><tr><td>1690370146516</td><td>1</td></tr><tr><td>1695361564884</td><td>1</td></tr><tr><td>1972295794900</td><td>1</td></tr><tr><td>2095255814356</td><td>1</td></tr><tr><td>2210400010452</td><td>1</td></tr><tr><td>2102699032788</td><td>1</td></tr><tr><td>2007149412564</td><td>1</td></tr><tr><td>2096696590548</td><td>1</td></tr><tr><td>1395590103252</td><td>1</td></tr><tr><td>1320904098004</td><td>1</td></tr><tr><td>1190457573588</td><td>1</td></tr><tr><td>1254923534548</td><td>1</td></tr><tr><td>2075075805396</td><td>1</td></tr><tr><td>1206226616532</td><td>1</td></tr><tr><td>1342864326868</td><td>1</td></tr><tr><td>2137540690132</td><td>1</td></tr><tr><td>1881619071188</td><td>1</td></tr><tr><td>1319907885268</td><td>1</td></tr><tr><td>1707158864084</td><td>1</td></tr><tr><td>2112973832404</td><td>1</td></tr><tr><td>2130099929300</td><td>1</td></tr><tr><td>2069616525524</td><td>1</td></tr><tr><td>2147809919188</td><td>1</td></tr><tr><td>1178814021844</td><td>1</td></tr><tr><td>1306938179796</td><td>1</td></tr><tr><td>1816674631892</td><td>1</td></tr><tr><td>1930259988692</td><td>1</td></tr><tr><td>1966595440852</td><td>1</td></tr><tr><td>2108965847252</td><td>1</td></tr><tr><td>2200356782292</td><td>1</td></tr><tr><td>1171128615124</td><td>1</td></tr><tr><td>2091069669588</td><td>1</td></tr><tr><td>2164793868500</td><td>1</td></tr><tr><td>1996762153172</td><td>1</td></tr><tr><td>2039303864532</td><td>1</td></tr><tr><td>2199175856340</td><td>1</td></tr><tr><td>1297518297300</td><td>1</td></tr><tr><td>2086929465556</td><td>1</td></tr><tr><td>1278550769876</td><td>1</td></tr><tr><td>1804608209108</td><td>1</td></tr><tr><td>1304165810388</td><td>1</td></tr><tr><td>1792691503316</td><td>1</td></tr><tr><td>1161927786708</td><td>1</td></tr><tr><td>2165298004180</td><td>1</td></tr><tr><td>1938817089748</td><td>1</td></tr><tr><td>1059671703764</td><td>1</td></tr><tr><td>1272182276308</td><td>1</td></tr><tr><td>1282325676244</td><td>1</td></tr><tr><td>1888910016724</td><td>1</td></tr><tr><td>2204589654228</td><td>1</td></tr><tr><td>1973101068500</td><td>1</td></tr><tr><td>1227020042452</td><td>1</td></tr><tr><td>1321328443604</td><td>1</td></tr><tr><td>2099181879508</td><td>1</td></tr><tr><td>1821246423252</td><td>1</td></tr><tr><td>1374623138004</td><td>1</td></tr><tr><td>1417802383572</td><td>1</td></tr><tr><td>1927430045908</td><td>1</td></tr><tr><td>1242722402516</td><td>1</td></tr><tr><td>1165476724948</td><td>1</td></tr><tr><td>946104336596</td><td>1</td></tr><tr><td>1270555902164</td><td>1</td></tr><tr><td>2043713028308</td><td>1</td></tr><tr><td>1267646562516</td><td>1</td></tr><tr><td>1214376837332</td><td>1</td></tr><tr><td>1370971996372</td><td>1</td></tr><tr><td>1173928935636</td><td>1</td></tr><tr><td>1378771173588</td><td>1</td></tr><tr><td>1395335200980</td><td>1</td></tr><tr><td>1393161044180</td><td>1</td></tr><tr><td>2095942566100</td><td>1</td></tr><tr><td>2135052452052</td><td>1</td></tr><tr><td>1170080628948</td><td>1</td></tr><tr><td>2199185457364</td><td>1</td></tr><tr><td>1408408092884</td><td>1</td></tr><tr><td>1355196629204</td><td>1</td></tr><tr><td>2129693376724</td><td>1</td></tr><tr><td>2196803551444</td><td>1</td></tr><tr><td>1340252094676</td><td>1</td></tr><tr><td>2144222871764</td><td>1</td></tr><tr><td>2107099414740</td><td>1</td></tr><tr><td>2143034474708</td><td>1</td></tr><tr><td>2136934416596</td><td>1</td></tr><tr><td>2009870270676</td><td>1</td></tr><tr><td>2125379829972</td><td>1</td></tr><tr><td>1273554010324</td><td>1</td></tr><tr><td>2079536873684</td><td>1</td></tr><tr><td>2121957114068</td><td>1</td></tr><tr><td>2085090263252</td><td>1</td></tr><tr><td>2136530288852</td><td>1</td></tr><tr><td>2145426473172</td><td>1</td></tr><tr><td>2170812924116</td><td>1</td></tr><tr><td>1375508725972</td><td>1</td></tr><tr><td>1409066762452</td><td>1</td></tr><tr><td>1837113278676</td><td>1</td></tr><tr><td>1152018317524</td><td>1</td></tr><tr><td>1302101819604</td><td>1</td></tr><tr><td>1377092665556</td><td>1</td></tr><tr><td>1986631827668</td><td>1</td></tr><tr><td>2180919427284</td><td>1</td></tr><tr><td>1239611441364</td><td>1</td></tr><tr><td>2194493112532</td><td>1</td></tr><tr><td>1270552363220</td><td>1</td></tr><tr><td>1282474148052</td><td>1</td></tr><tr><td>1908949549268</td><td>1</td></tr><tr><td>1308159803604</td><td>1</td></tr><tr><td>1923195732180</td><td>1</td></tr><tr><td>1955092791508</td><td>1</td></tr><tr><td>2003135037652</td><td>1</td></tr><tr><td>1251157803220</td><td>1</td></tr><tr><td>1281394802900</td><td>1</td></tr><tr><td>1914400243924</td><td>1</td></tr><tr><td>1260609601748</td><td>1</td></tr><tr><td>2176959283412</td><td>1</td></tr><tr><td>2061648298196</td><td>1</td></tr><tr><td>1959562805460</td><td>1</td></tr><tr><td>1821860430036</td><td>1</td></tr><tr><td>1988734615764</td><td>1</td></tr><tr><td>1346460811476</td><td>1</td></tr><tr><td>1383290339540</td><td>1</td></tr><tr><td>1231079604436</td><td>1</td></tr><tr><td>2213003296980</td><td>1</td></tr><tr><td>1103887040724</td><td>1</td></tr><tr><td>1282354610388</td><td>1</td></tr><tr><td>1987605332180</td><td>1</td></tr><tr><td>1918556733652</td><td>1</td></tr><tr><td>1369982075092</td><td>1</td></tr><tr><td>1269274411220</td><td>1</td></tr><tr><td>2175848743124</td><td>1</td></tr><tr><td>2196537376980</td><td>1</td></tr><tr><td>1339586412756</td><td>1</td></tr><tr><td>1900022202580</td><td>1</td></tr><tr><td>1989556175060</td><td>1</td></tr><tr><td>1279403622612</td><td>1</td></tr><tr><td>2136593334484</td><td>1</td></tr><tr><td>1289910911188</td><td>1</td></tr><tr><td>1295804006612</td><td>1</td></tr><tr><td>1353943515348</td><td>1</td></tr><tr><td>1818756350164</td><td>1</td></tr><tr><td>1423631188180</td><td>1</td></tr><tr><td>1218756280532</td><td>1</td></tr><tr><td>1896521859284</td><td>1</td></tr><tr><td>1367519232212</td><td>1</td></tr><tr><td>1387659985108</td><td>1</td></tr><tr><td>1727531450580</td><td>1</td></tr><tr><td>1953889845460</td><td>1</td></tr><tr><td>1962510713044</td><td>1</td></tr><tr><td>2054967328980</td><td>1</td></tr><tr><td>1296596926676</td><td>1</td></tr><tr><td>1339035517140</td><td>1</td></tr><tr><td>1227439472852</td><td>1</td></tr><tr><td>2144515883220</td><td>1</td></tr><tr><td>1862877216980</td><td>1</td></tr><tr><td>2110661263572</td><td>1</td></tr><tr><td>1182829707476</td><td>1</td></tr><tr><td>1295768027348</td><td>1</td></tr><tr><td>2066792186068</td><td>1</td></tr><tr><td>1119941853396</td><td>1</td></tr><tr><td>1347926589652</td><td>1</td></tr><tr><td>2106987970772</td><td>1</td></tr><tr><td>1680890429652</td><td>1</td></tr><tr><td>1086222598356</td><td>1</td></tr><tr><td>2029545816276</td><td>1</td></tr><tr><td>1314788835540</td><td>1</td></tr><tr><td>1778175049940</td><td>1</td></tr><tr><td>1218671378644</td><td>1</td></tr><tr><td>1989286232276</td><td>1</td></tr><tr><td>1203063029972</td><td>1</td></tr><tr><td>1237187428564</td><td>1</td></tr><tr><td>2074295533780</td><td>1</td></tr><tr><td>1296526442708</td><td>1</td></tr><tr><td>1336668946644</td><td>1</td></tr><tr><td>1376727662804</td><td>1</td></tr><tr><td>1851475034324</td><td>1</td></tr><tr><td>2114134868180</td><td>1</td></tr><tr><td>2121956425940</td><td>1</td></tr><tr><td>1393062936788</td><td>1</td></tr><tr><td>2102183035092</td><td>1</td></tr><tr><td>1844952662228</td><td>1</td></tr><tr><td>2137414009044</td><td>1</td></tr><tr><td>2209145487572</td><td>1</td></tr><tr><td>1730145714388</td><td>1</td></tr><tr><td>1920939983060</td><td>1</td></tr><tr><td>1271588192468</td><td>1</td></tr><tr><td>1301228716244</td><td>1</td></tr><tr><td>2111507038420</td><td>1</td></tr><tr><td>1238286368980</td><td>1</td></tr><tr><td>1259580260564</td><td>1</td></tr><tr><td>1394121867476</td><td>1</td></tr><tr><td>1370800914644</td><td>1</td></tr><tr><td>2065220272340</td><td>1</td></tr><tr><td>1710720549076</td><td>1</td></tr><tr><td>1889290158292</td><td>1</td></tr><tr><td>2072121671892</td><td>1</td></tr><tr><td>1709678919892</td><td>1</td></tr><tr><td>1388762398932</td><td>1</td></tr><tr><td>1915240579284</td><td>1</td></tr><tr><td>1191572865236</td><td>1</td></tr><tr><td>2102784884948</td><td>1</td></tr><tr><td>2083604627668</td><td>1</td></tr><tr><td>1337089425620</td><td>1</td></tr><tr><td>1395430260948</td><td>1</td></tr><tr><td>2122242130132</td><td>1</td></tr><tr><td>1799150895316</td><td>1</td></tr><tr><td>1173804712148</td><td>1</td></tr><tr><td>1313107312852</td><td>1</td></tr><tr><td>2063029862612</td><td>1</td></tr><tr><td>2129697833172</td><td>1</td></tr><tr><td>2138265321684</td><td>1</td></tr><tr><td>1778608144596</td><td>1</td></tr><tr><td>1256244183252</td><td>1</td></tr><tr><td>1700917412052</td><td>1</td></tr><tr><td>1295426748628</td><td>1</td></tr><tr><td>1973056766164</td><td>1</td></tr><tr><td>1325280461012</td><td>1</td></tr><tr><td>2086627410132</td><td>1</td></tr><tr><td>2095868969172</td><td>1</td></tr><tr><td>1175543939284</td><td>1</td></tr><tr><td>1685246509268</td><td>1</td></tr><tr><td>1203037077716</td><td>1</td></tr><tr><td>1345909260500</td><td>1</td></tr><tr><td>2132756562132</td><td>1</td></tr><tr><td>1339596800212</td><td>1</td></tr><tr><td>1289609707732</td><td>1</td></tr><tr><td>1372578775252</td><td>1</td></tr><tr><td>1400222810324</td><td>1</td></tr><tr><td>2009874628820</td><td>1</td></tr><tr><td>1407574638804</td><td>1</td></tr><tr><td>1709589397716</td><td>1</td></tr><tr><td>1945294471380</td><td>1</td></tr><tr><td>1407383240916</td><td>1</td></tr><tr><td>1253070897364</td><td>1</td></tr><tr><td>1330715164884</td><td>1</td></tr><tr><td>1231083962580</td><td>1</td></tr><tr><td>1297986093268</td><td>1</td></tr><tr><td>1255457095892</td><td>1</td></tr><tr><td>2003087360212</td><td>1</td></tr><tr><td>2149624381652</td><td>1</td></tr><tr><td>2098611126484</td><td>1</td></tr><tr><td>1337973768404</td><td>1</td></tr><tr><td>1352169783508</td><td>1</td></tr><tr><td>1362783174868</td><td>1</td></tr><tr><td>1956408885460</td><td>1</td></tr><tr><td>1938892816596</td><td>1</td></tr><tr><td>2211592929492</td><td>1</td></tr><tr><td>1393043112148</td><td>1</td></tr><tr><td>1310762434772</td><td>1</td></tr><tr><td>2187876761812</td><td>1</td></tr><tr><td>1153354367188</td><td>1</td></tr><tr><td>1344417267924</td><td>1</td></tr><tr><td>1420392399060</td><td>1</td></tr><tr><td>2057011101908</td><td>1</td></tr><tr><td>2076874866900</td><td>1</td></tr><tr><td>1341672161492</td><td>1</td></tr><tr><td>1701901336788</td><td>1</td></tr><tr><td>1992469709012</td><td>1</td></tr><tr><td>2081503707348</td><td>1</td></tr><tr><td>2095255027924</td><td>1</td></tr><tr><td>1929717514452</td><td>1</td></tr><tr><td>1409845100756</td><td>1</td></tr><tr><td>1902210449620</td><td>1</td></tr><tr><td>1974040690900</td><td>1</td></tr><tr><td>1916355576020</td><td>1</td></tr><tr><td>1295004893396</td><td>1</td></tr><tr><td>1951909904596</td><td>1</td></tr><tr><td>1975342006484</td><td>1</td></tr><tr><td>2121152987348</td><td>1</td></tr><tr><td>880188063956</td><td>1</td></tr><tr><td>2067683934420</td><td>1</td></tr><tr><td>2092681527508</td><td>1</td></tr><tr><td>2140118614228</td><td>1</td></tr><tr><td>1111375315156</td><td>1</td></tr><tr><td>1707226005716</td><td>1</td></tr><tr><td>1962510942420</td><td>1</td></tr><tr><td>1709574979796</td><td>1</td></tr><tr><td>1169516331220</td><td>1</td></tr><tr><td>1269266940116</td><td>1</td></tr><tr><td>2213460050132</td><td>1</td></tr><tr><td>2086602997972</td><td>1</td></tr><tr><td>2054179717332</td><td>1</td></tr><tr><td>2105555878100</td><td>1</td></tr><tr><td>1320872706260</td><td>1</td></tr><tr><td>1837114589396</td><td>1</td></tr><tr><td>1688699797716</td><td>1</td></tr><tr><td>1858539913428</td><td>1</td></tr><tr><td>1931064541396</td><td>1</td></tr><tr><td>2070423863508</td><td>1</td></tr><tr><td>1203449200852</td><td>1</td></tr><tr><td>1394529566932</td><td>1</td></tr><tr><td>2116768497876</td><td>1</td></tr><tr><td>1087214321876</td><td>1</td></tr><tr><td>1265791140052</td><td>1</td></tr><tr><td>1314797846740</td><td>1</td></tr><tr><td>1203588268244</td><td>1</td></tr><tr><td>1339665023188</td><td>1</td></tr><tr><td>2007703945428</td><td>1</td></tr><tr><td>1353070379220</td><td>1</td></tr><tr><td>1967345500372</td><td>1</td></tr><tr><td>1915681734868</td><td>1</td></tr><tr><td>1953771028692</td><td>1</td></tr><tr><td>1203078824148</td><td>1</td></tr><tr><td>1888201801940</td><td>1</td></tr><tr><td>1717694857428</td><td>1</td></tr><tr><td>1385255502036</td><td>1</td></tr><tr><td>1425925079252</td><td>1</td></tr><tr><td>2148475961556</td><td>1</td></tr><tr><td>2066552258772</td><td>1</td></tr><tr><td>2095255584980</td><td>1</td></tr><tr><td>2121426469076</td><td>1</td></tr><tr><td>2072919965908</td><td>1</td></tr><tr><td>2176559907028</td><td>1</td></tr><tr><td>1208354537684</td><td>1</td></tr><tr><td>1931788255444</td><td>1</td></tr><tr><td>1287693828308</td><td>1</td></tr><tr><td>1718816014548</td><td>1</td></tr><tr><td>2122978754772</td><td>1</td></tr><tr><td>1410276950228</td><td>1</td></tr><tr><td>2156993020116</td><td>1</td></tr><tr><td>1426599739604</td><td>1</td></tr><tr><td>1129625059540</td><td>1</td></tr><tr><td>1378964799700</td><td>1</td></tr><tr><td>1325424050388</td><td>1</td></tr><tr><td>2137403556052</td><td>1</td></tr><tr><td>1323649368276</td><td>1</td></tr><tr><td>2007533060308</td><td>1</td></tr><tr><td>1365968945364</td><td>1</td></tr><tr><td>1314348237012</td><td>1</td></tr><tr><td>1685209317588</td><td>1</td></tr><tr><td>2061110051028</td><td>1</td></tr><tr><td>1842273157332</td><td>1</td></tr><tr><td>1681176854740</td><td>1</td></tr><tr><td>1271771070676</td><td>1</td></tr><tr><td>1903835087060</td><td>1</td></tr><tr><td>1139600949460</td><td>1</td></tr><tr><td>1138579243220</td><td>1</td></tr><tr><td>1201036853460</td><td>1</td></tr><tr><td>1961303736532</td><td>1</td></tr><tr><td>2094418690260</td><td>1</td></tr><tr><td>1279668814036</td><td>1</td></tr><tr><td>2102240149716</td><td>1</td></tr><tr><td>2178185068756</td><td>1</td></tr><tr><td>1172117323988</td><td>1</td></tr><tr><td>1237029322964</td><td>1</td></tr><tr><td>1310600659156</td><td>1</td></tr><tr><td>2179792863444</td><td>1</td></tr><tr><td>1203201999060</td><td>1</td></tr><tr><td>1202898665684</td><td>1</td></tr><tr><td>1966751908052</td><td>1</td></tr><tr><td>1203599409364</td><td>1</td></tr><tr><td>2138449248468</td><td>1</td></tr><tr><td>1263653028052</td><td>1</td></tr><tr><td>1224712618196</td><td>1</td></tr><tr><td>1918604443860</td><td>1</td></tr><tr><td>1778808291540</td><td>1</td></tr><tr><td>887936647380</td><td>1</td></tr><tr><td>2211645259988</td><td>1</td></tr><tr><td>1283404333268</td><td>1</td></tr><tr><td>1188245962964</td><td>1</td></tr><tr><td>2073817874644</td><td>1</td></tr><tr><td>2174649729236</td><td>1</td></tr><tr><td>1214358946004</td><td>1</td></tr><tr><td>1235004850388</td><td>1</td></tr><tr><td>1709547552980</td><td>1</td></tr><tr><td>1286349127892</td><td>1</td></tr><tr><td>1961220473044</td><td>1</td></tr><tr><td>1180533522644</td><td>1</td></tr><tr><td>2045123887316</td><td>1</td></tr><tr><td>1367362502868</td><td>1</td></tr><tr><td>1948685664468</td><td>1</td></tr><tr><td>2012061630676</td><td>1</td></tr><tr><td>1411986686164</td><td>1</td></tr><tr><td>2028873482452</td><td>1</td></tr><tr><td>1209310019796</td><td>1</td></tr><tr><td>1253925257428</td><td>1</td></tr><tr><td>1935392604372</td><td>1</td></tr><tr><td>2057913204948</td><td>1</td></tr><tr><td>2067149816020</td><td>1</td></tr><tr><td>934065930452</td><td>1</td></tr><tr><td>1082497237204</td><td>1</td></tr><tr><td>2185441738964</td><td>1</td></tr><tr><td>1326366425300</td><td>1</td></tr><tr><td>1709666894036</td><td>1</td></tr><tr><td>1922438889684</td><td>1</td></tr><tr><td>1374451990740</td><td>1</td></tr><tr><td>1375650119892</td><td>1</td></tr><tr><td>860196503764</td><td>1</td></tr><tr><td>2143733317844</td><td>1</td></tr><tr><td>2043714765012</td><td>1</td></tr><tr><td>2101393359060</td><td>1</td></tr><tr><td>2164244086996</td><td>1</td></tr><tr><td>1390418067668</td><td>1</td></tr><tr><td>2189827604692</td><td>1</td></tr><tr><td>1349993398484</td><td>1</td></tr><tr><td>1718622552276</td><td>1</td></tr><tr><td>1263729901780</td><td>1</td></tr><tr><td>1268043808980</td><td>1</td></tr><tr><td>2169269780692</td><td>1</td></tr><tr><td>2195102957780</td><td>1</td></tr><tr><td>1420865601748</td><td>1</td></tr><tr><td>2075293024468</td><td>1</td></tr><tr><td>1245645308116</td><td>1</td></tr><tr><td>1273168756948</td><td>1</td></tr><tr><td>1302644097236</td><td>1</td></tr><tr><td>1843445498068</td><td>1</td></tr><tr><td>2089862267092</td><td>1</td></tr><tr><td>1148185477332</td><td>1</td></tr><tr><td>1258786128084</td><td>1</td></tr><tr><td>2096464494804</td><td>1</td></tr><tr><td>1917367648468</td><td>1</td></tr><tr><td>1136764354772</td><td>1</td></tr><tr><td>1941496299732</td><td>1</td></tr><tr><td>2084657397972</td><td>1</td></tr><tr><td>1267085410516</td><td>1</td></tr><tr><td>2057080963284</td><td>1</td></tr><tr><td>1203049693396</td><td>1</td></tr><tr><td>1923653894356</td><td>1</td></tr><tr><td>1273701531860</td><td>1</td></tr><tr><td>2071442620628</td><td>1</td></tr><tr><td>1333524889812</td><td>1</td></tr><tr><td>2167793877204</td><td>1</td></tr><tr><td>1303940759764</td><td>1</td></tr><tr><td>1234025513172</td><td>1</td></tr><tr><td>2167364452564</td><td>1</td></tr><tr><td>1828918526164</td><td>1</td></tr><tr><td>1241553633492</td><td>1</td></tr><tr><td>1282452750548</td><td>1</td></tr><tr><td>1941199651028</td><td>1</td></tr><tr><td>2101473476820</td><td>1</td></tr><tr><td>1226066559188</td><td>1</td></tr><tr><td>1363354779860</td><td>1</td></tr><tr><td>1957307056340</td><td>1</td></tr><tr><td>2073702006996</td><td>1</td></tr><tr><td>1275018903764</td><td>1</td></tr><tr><td>2077847879892</td><td>1</td></tr><tr><td>1994346889428</td><td>1</td></tr><tr><td>1390195736788</td><td>1</td></tr><tr><td>1203017187540</td><td>1</td></tr><tr><td>1255311376596</td><td>1</td></tr><tr><td>1270828368084</td><td>1</td></tr><tr><td>1793028128980</td><td>1</td></tr><tr><td>1386261577940</td><td>1</td></tr><tr><td>1985693319380</td><td>1</td></tr><tr><td>1930338533588</td><td>1</td></tr><tr><td>1714115641556</td><td>1</td></tr><tr><td>2017782825172</td><td>1</td></tr><tr><td>1224067973332</td><td>1</td></tr><tr><td>1353199714516</td><td>1</td></tr><tr><td>1700833722580</td><td>1</td></tr><tr><td>2066052284628</td><td>1</td></tr><tr><td>1269589672148</td><td>1</td></tr><tr><td>1171793510612</td><td>1</td></tr><tr><td>1876174536916</td><td>1</td></tr><tr><td>1928287224020</td><td>1</td></tr><tr><td>1263999811796</td><td>1</td></tr><tr><td>1243781628116</td><td>1</td></tr><tr><td>1244108554452</td><td>1</td></tr><tr><td>2093315031252</td><td>1</td></tr><tr><td>1267051921620</td><td>1</td></tr><tr><td>1424504226004</td><td>1</td></tr><tr><td>1990395822292</td><td>1</td></tr><tr><td>1964770951380</td><td>1</td></tr><tr><td>1158508249300</td><td>1</td></tr><tr><td>1312467943636</td><td>1</td></tr><tr><td>1915561607380</td><td>1</td></tr><tr><td>2074602864852</td><td>1</td></tr><tr><td>1387708416212</td><td>1</td></tr><tr><td>1385059057876</td><td>1</td></tr><tr><td>1253816008916</td><td>1</td></tr><tr><td>1988657545428</td><td>1</td></tr><tr><td>2086556860628</td><td>1</td></tr><tr><td>2125000671444</td><td>1</td></tr><tr><td>2056415150292</td><td>1</td></tr><tr><td>862975819988</td><td>1</td></tr><tr><td>1916599337172</td><td>1</td></tr><tr><td>1395448774868</td><td>1</td></tr><tr><td>938210722004</td><td>1</td></tr><tr><td>2145420083412</td><td>1</td></tr><tr><td>1281152778452</td><td>1</td></tr><tr><td>1277500915924</td><td>1</td></tr><tr><td>1202893586644</td><td>1</td></tr><tr><td>1993433022676</td><td>1</td></tr><tr><td>1363324764372</td><td>1</td></tr><tr><td>1933955334356</td><td>1</td></tr><tr><td>1164673417428</td><td>1</td></tr><tr><td>1267347423444</td><td>1</td></tr><tr><td>1831959527636</td><td>1</td></tr><tr><td>2129394172116</td><td>1</td></tr><tr><td>2180920279252</td><td>1</td></tr><tr><td>1236104052948</td><td>1</td></tr><tr><td>2083890102484</td><td>1</td></tr><tr><td>1405043736788</td><td>1</td></tr><tr><td>1709865337044</td><td>1</td></tr><tr><td>1690369687764</td><td>1</td></tr><tr><td>1282447868116</td><td>1</td></tr><tr><td>2154825679060</td><td>1</td></tr><tr><td>1388770689236</td><td>1</td></tr><tr><td>1706924474580</td><td>1</td></tr><tr><td>2056138227924</td><td>1</td></tr><tr><td>2136257560788</td><td>1</td></tr><tr><td>1274620379348</td><td>1</td></tr><tr><td>2206733664468</td><td>1</td></tr><tr><td>2087130595540</td><td>1</td></tr><tr><td>1354033332436</td><td>1</td></tr><tr><td>1939139690708</td><td>1</td></tr><tr><td>1299310674132</td><td>1</td></tr><tr><td>1224066203860</td><td>1</td></tr><tr><td>1383608156372</td><td>1</td></tr><tr><td>860292645076</td><td>1</td></tr><tr><td>1822548558036</td><td>1</td></tr><tr><td>1939382206676</td><td>1</td></tr><tr><td>1302387392724</td><td>1</td></tr><tr><td>2009207832788</td><td>1</td></tr><tr><td>1222875611348</td><td>1</td></tr><tr><td>1392130293972</td><td>1</td></tr><tr><td>1295159132372</td><td>1</td></tr><tr><td>1346999714004</td><td>1</td></tr><tr><td>2080791822548</td><td>1</td></tr><tr><td>1016684478676</td><td>1</td></tr><tr><td>2115542221012</td><td>1</td></tr><tr><td>1347303506132</td><td>1</td></tr><tr><td>2183030603988</td><td>1</td></tr><tr><td>1790503911636</td><td>1</td></tr><tr><td>1995476238548</td><td>1</td></tr><tr><td>2177931903188</td><td>1</td></tr><tr><td>1275539226836</td><td>1</td></tr><tr><td>2206848024788</td><td>1</td></tr><tr><td>1381814763732</td><td>1</td></tr><tr><td>1381384192212</td><td>1</td></tr><tr><td>2007532142804</td><td>1</td></tr><tr><td>1915413790932</td><td>1</td></tr><tr><td>1826536685780</td><td>1</td></tr><tr><td>2210438152404</td><td>1</td></tr><tr><td>1302097821908</td><td>1</td></tr><tr><td>1153930854612</td><td>1</td></tr><tr><td>1900022038740</td><td>1</td></tr><tr><td>1294145847508</td><td>1</td></tr><tr><td>2074581795028</td><td>1</td></tr></tbody></table></div>"
      ]
     },
     "metadata": {
      "application/vnd.databricks.v1+output": {
       "addedWidgets": {},
       "aggData": [],
       "aggError": "",
       "aggOverflow": false,
       "aggSchema": [],
       "aggSeriesLimitReached": false,
       "aggType": "",
       "arguments": {},
       "columnCustomDisplayInfos": {},
       "data": [
        [
         1296324231380,
         1
        ],
        [
         1256869527764,
         1
        ],
        [
         2209629307092,
         1
        ],
        [
         933014601940,
         1
        ],
        [
         1221504565460,
         1
        ],
        [
         2108798238932,
         1
        ],
        [
         2102309093588,
         1
        ],
        [
         1299495092436,
         1
        ],
        [
         2047024529620,
         1
        ],
        [
         2207727878356,
         1
        ],
        [
         870939295956,
         1
        ],
        [
         1284329636052,
         1
        ],
        [
         1355215864020,
         1
        ],
        [
         1427390628052,
         1
        ],
        [
         1285899911380,
         1
        ],
        [
         2057217016020,
         1
        ],
        [
         2129033134292,
         1
        ],
        [
         1972235305172,
         1
        ],
        [
         1709551714516,
         1
        ],
        [
         1363939393748,
         1
        ],
        [
         2141867147476,
         1
        ],
        [
         1213636444372,
         1
        ],
        [
         1296249192660,
         1
        ],
        [
         1221186912468,
         1
        ],
        [
         2147619471572,
         1
        ],
        [
         1303814439124,
         1
        ],
        [
         1997374095572,
         1
        ],
        [
         1400867258580,
         1
        ],
        [
         1288196227284,
         1
        ],
        [
         1392394666196,
         1
        ],
        [
         2088885584084,
         1
        ],
        [
         2095003238612,
         1
        ],
        [
         2209244315860,
         1
        ],
        [
         1354644914388,
         1
        ],
        [
         1844953186516,
         1
        ],
        [
         2024300609748,
         1
        ],
        [
         1316516790484,
         1
        ],
        [
         1709874741460,
         1
        ],
        [
         2135281533140,
         1
        ],
        [
         1215640338644,
         1
        ],
        [
         2090388390100,
         1
        ],
        [
         1943296114900,
         1
        ],
        [
         1341259481300,
         1
        ],
        [
         2201412600020,
         1
        ],
        [
         1291017846996,
         1
        ],
        [
         2185741467860,
         1
        ],
        [
         1105768153300,
         1
        ],
        [
         1321020326100,
         1
        ],
        [
         2210441560276,
         1
        ],
        [
         1229690011860,
         1
        ],
        [
         2148330275028,
         1
        ],
        [
         1165691650260,
         1
        ],
        [
         1832624324820,
         1
        ],
        [
         1390931050708,
         1
        ],
        [
         1906576589012,
         1
        ],
        [
         1707597594836,
         1
        ],
        [
         2013940941012,
         1
        ],
        [
         1380826513620,
         1
        ],
        [
         1697009828052,
         1
        ],
        [
         1974987817172,
         1
        ],
        [
         1234950652116,
         1
        ],
        [
         2213240242388,
         1
        ],
        [
         2137904971988,
         1
        ],
        [
         1248108413140,
         1
        ],
        [
         2124812320980,
         1
        ],
        [
         1267703611604,
         1
        ],
        [
         1378747941076,
         1
        ],
        [
         2094060110036,
         1
        ],
        [
         2007236280532,
         1
        ],
        [
         862959763668,
         1
        ],
        [
         1133224657108,
         1
        ],
        [
         2147922149588,
         1
        ],
        [
         1967769256148,
         1
        ],
        [
         1223813660884,
         1
        ],
        [
         1289073524948,
         1
        ],
        [
         2175685198036,
         1
        ],
        [
         2176217088212,
         1
        ],
        [
         1420937593044,
         1
        ],
        [
         2193939071188,
         1
        ],
        [
         2164971569364,
         1
        ],
        [
         1211218329812,
         1
        ],
        [
         1269328675028,
         1
        ],
        [
         2082795126996,
         1
        ],
        [
         1322762830036,
         1
        ],
        [
         1185571078356,
         1
        ],
        [
         1709981073620,
         1
        ],
        [
         1335855251668,
         1
        ],
        [
         1415023001812,
         1
        ],
        [
         2000924410068,
         1
        ],
        [
         2073363972308,
         1
        ],
        [
         1360605675732,
         1
        ],
        [
         1393184211156,
         1
        ],
        [
         1912034492628,
         1
        ],
        [
         1263469297876,
         1
        ],
        [
         939564400852,
         1
        ],
        [
         2082549268692,
         1
        ],
        [
         2141616308436,
         1
        ],
        [
         2079069896916,
         1
        ],
        [
         2183593001172,
         1
        ],
        [
         933223235796,
         1
        ],
        [
         2163405062356,
         1
        ],
        [
         1304010784980,
         1
        ],
        [
         2136935301332,
         1
        ],
        [
         1360279568596,
         1
        ],
        [
         1392489824468,
         1
        ],
        [
         1413291278548,
         1
        ],
        [
         1427190841556,
         1
        ],
        [
         1697077690580,
         1
        ],
        [
         2180447338708,
         1
        ],
        [
         1967811002580,
         1
        ],
        [
         934192185556,
         1
        ],
        [
         1819952382164,
         1
        ],
        [
         1366330998996,
         1
        ],
        [
         1384717648084,
         1
        ],
        [
         1366432153812,
         1
        ],
        [
         1385389785300,
         1
        ],
        [
         1362389369044,
         1
        ],
        [
         1301894267092,
         1
        ],
        [
         1249925497044,
         1
        ],
        [
         1427048693972,
         1
        ],
        [
         1235745210580,
         1
        ],
        [
         2114135261396,
         1
        ],
        [
         1244118745300,
         1
        ],
        [
         1340383297748,
         1
        ],
        [
         1707236819156,
         1
        ],
        [
         1409997734100,
         1
        ],
        [
         1339644575956,
         1
        ],
        [
         1847088120020,
         1
        ],
        [
         1921036812500,
         1
        ],
        [
         1991240450260,
         1
        ],
        [
         2056249245908,
         1
        ],
        [
         2189855162580,
         1
        ],
        [
         1389753204948,
         1
        ],
        [
         1308464742612,
         1
        ],
        [
         1393326686420,
         1
        ],
        [
         1388166283476,
         1
        ],
        [
         1971226443988,
         1
        ],
        [
         2094837530836,
         1
        ],
        [
         1409982759124,
         1
        ],
        [
         2126902264020,
         1
        ],
        [
         2141315727572,
         1
        ],
        [
         1177203736788,
         1
        ],
        [
         1249042596052,
         1
        ],
        [
         2026228089044,
         1
        ],
        [
         1927634714836,
         1
        ],
        [
         2114579333332,
         1
        ],
        [
         2186043064532,
         1
        ],
        [
         1309237838036,
         1
        ],
        [
         1418465476820,
         1
        ],
        [
         1231810199764,
         1
        ],
        [
         1350109888724,
         1
        ],
        [
         1412519821524,
         1
        ],
        [
         1997666615508,
         1
        ],
        [
         1799410352340,
         1
        ],
        [
         2210433728724,
         1
        ],
        [
         862985191636,
         1
        ],
        [
         1319108542676,
         1
        ],
        [
         1392417439956,
         1
        ],
        [
         1425156800724,
         1
        ],
        [
         1941403566292,
         1
        ],
        [
         1354639704276,
         1
        ],
        [
         1948531622100,
         1
        ],
        [
         2056017051860,
         1
        ],
        [
         1906163351764,
         1
        ],
        [
         1727995379924,
         1
        ],
        [
         1791156256980,
         1
        ],
        [
         2071426203860,
         1
        ],
        [
         1383330349268,
         1
        ],
        [
         1961237086420,
         1
        ],
        [
         2138167312596,
         1
        ],
        [
         2125566673108,
         1
        ],
        [
         2130183553236,
         1
        ],
        [
         1290960437460,
         1
        ],
        [
         1319904116948,
         1
        ],
        [
         1302397026516,
         1
        ],
        [
         1705011544276,
         1
        ],
        [
         2179050995924,
         1
        ],
        [
         1166121828564,
         1
        ],
        [
         1271707435220,
         1
        ],
        [
         1902890844372,
         1
        ],
        [
         1955275178196,
         1
        ],
        [
         2045982310612,
         1
        ],
        [
         1197708640468,
         1
        ],
        [
         1690369851604,
         1
        ],
        [
         1867719966932,
         1
        ],
        [
         1967690285268,
         1
        ],
        [
         1713331765460,
         1
        ],
        [
         1230764769492,
         1
        ],
        [
         1063275430100,
         1
        ],
        [
         2136537891028,
         1
        ],
        [
         2103577837780,
         1
        ],
        [
         2105355632852,
         1
        ],
        [
         862843896020,
         1
        ],
        [
         1878962241748,
         1
        ],
        [
         1316311302356,
         1
        ],
        [
         2118824558804,
         1
        ],
        [
         2149730779348,
         1
        ],
        [
         1943139156180,
         1
        ],
        [
         1226840408276,
         1
        ],
        [
         1684076822740,
         1
        ],
        [
         1719148675284,
         1
        ],
        [
         1709861241044,
         1
        ],
        [
         2091240358100,
         1
        ],
        [
         2139691745492,
         1
        ],
        [
         2103036477652,
         1
        ],
        [
         1271155458260,
         1
        ],
        [
         2089381560532,
         1
        ],
        [
         2066244501716,
         1
        ],
        [
         2082493792468,
         1
        ],
        [
         1396708180180,
         1
        ],
        [
         1227943608532,
         1
        ],
        [
         1263213871316,
         1
        ],
        [
         2161809391828,
         1
        ],
        [
         2178058387668,
         1
        ],
        [
         1370637402324,
         1
        ],
        [
         1686910763220,
         1
        ],
        [
         1709985333460,
         1
        ],
        [
         1321856237780,
         1
        ],
        [
         1370207748308,
         1
        ],
        [
         2148996481236,
         1
        ],
        [
         2180919951572,
         1
        ],
        [
         1270351790292,
         1
        ],
        [
         1309863674068,
         1
        ],
        [
         2212722999508,
         1
        ],
        [
         1295356494036,
         1
        ],
        [
         1725671833812,
         1
        ],
        [
         1692798124244,
         1
        ],
        [
         1230942470356,
         1
        ],
        [
         1211670266068,
         1
        ],
        [
         1227863752916,
         1
        ],
        [
         1799557578964,
         1
        ],
        [
         1872739401940,
         1
        ],
        [
         2152575172820,
         1
        ],
        [
         1954197864660,
         1
        ],
        [
         1237493547220,
         1
        ],
        [
         2062978941140,
         1
        ],
        [
         2104048058580,
         1
        ],
        [
         2093314900180,
         1
        ],
        [
         2114667905236,
         1
        ],
        [
         1383503200468,
         1
        ],
        [
         1407985582292,
         1
        ],
        [
         2151371735252,
         1
        ],
        [
         1183458263252,
         1
        ],
        [
         1988502749396,
         1
        ],
        [
         2009648595156,
         1
        ],
        [
         2133106196692,
         1
        ],
        [
         1285398102228,
         1
        ],
        [
         1925129568468,
         1
        ],
        [
         2131111280852,
         1
        ],
        [
         2125867024596,
         1
        ],
        [
         1387325325524,
         1
        ],
        [
         1978844020948,
         1
        ],
        [
         1387801313492,
         1
        ],
        [
         1284415258836,
         1
        ],
        [
         2022940475604,
         1
        ],
        [
         860320956628,
         1
        ],
        [
         932229710036,
         1
        ],
        [
         1185566523604,
         1
        ],
        [
         1916250685652,
         1
        ],
        [
         1967775416532,
         1
        ],
        [
         2063933046996,
         1
        ],
        [
         2199181230292,
         1
        ],
        [
         1908453572820,
         1
        ],
        [
         1993437577428,
         1
        ],
        [
         1179801321684,
         1
        ],
        [
         1339594277076,
         1
        ],
        [
         1162183246036,
         1
        ],
        [
         1164478349524,
         1
        ],
        [
         1409655144660,
         1
        ],
        [
         1190931267796,
         1
        ],
        [
         1365355561172,
         1
        ],
        [
         1137477451988,
         1
        ],
        [
         2139543109844,
         1
        ],
        [
         1310570938580,
         1
        ],
        [
         1884682125524,
         1
        ],
        [
         870966558932,
         1
        ],
        [
         944942121172,
         1
        ],
        [
         1967917826260,
         1
        ],
        [
         2142394089684,
         1
        ],
        [
         1295656321236,
         1
        ],
        [
         2184088125652,
         1
        ],
        [
         1709869367508,
         1
        ],
        [
         2147838296276,
         1
        ],
        [
         2124986908884,
         1
        ],
        [
         1153933836500,
         1
        ],
        [
         1162106831060,
         1
        ],
        [
         2211758964948,
         1
        ],
        [
         1333855453396,
         1
        ],
        [
         862930665684,
         1
        ],
        [
         2136812617940,
         1
        ],
        [
         1366169092308,
         1
        ],
        [
         1375627641044,
         1
        ],
        [
         2007476830420,
         1
        ],
        [
         2042595573972,
         1
        ],
        [
         1820382363860,
         1
        ],
        [
         2170135707860,
         1
        ],
        [
         1365370208468,
         1
        ],
        [
         1086229545172,
         1
        ],
        [
         1315066249428,
         1
        ],
        [
         1843554287828,
         1
        ],
        [
         1213878894804,
         1
        ],
        [
         1339556856020,
         1
        ],
        [
         1236577779924,
         1
        ],
        [
         1388133941460,
         1
        ],
        [
         2210421178580,
         1
        ],
        [
         1324073320660,
         1
        ],
        [
         1988764795092,
         1
        ],
        [
         1270267347156,
         1
        ],
        [
         2095255421140,
         1
        ],
        [
         2185737470164,
         1
        ],
        [
         2073351291092,
         1
        ],
        [
         1793374552276,
         1
        ],
        [
         1302571286740,
         1
        ],
        [
         2064649486548,
         1
        ],
        [
         1267673465044,
         1
        ],
        [
         1304971772116,
         1
        ],
        [
         1341243359444,
         1
        ],
        [
         1702899417300,
         1
        ],
        [
         1709003833556,
         1
        ],
        [
         2146357936340,
         1
        ],
        [
         2193339547860,
         1
        ],
        [
         1923211100372,
         1
        ],
        [
         1239858741460,
         1
        ],
        [
         2117684592852,
         1
        ],
        [
         1315575398612,
         1
        ],
        [
         2074877362388,
         1
        ],
        [
         1710301905108,
         1
        ],
        [
         1942773366996,
         1
        ],
        [
         1298427838676,
         1
        ],
        [
         2122497196244,
         1
        ],
        [
         1374241882324,
         1
        ],
        [
         1709879460052,
         1
        ],
        [
         1302389817556,
         1
        ],
        [
         1714115805396,
         1
        ],
        [
         1308417589460,
         1
        ],
        [
         1216003997908,
         1
        ],
        [
         1388093866196,
         1
        ],
        [
         1392616243412,
         1
        ],
        [
         1816060690644,
         1
        ],
        [
         1293220446420,
         1
        ],
        [
         1293985644756,
         1
        ],
        [
         2069337833684,
         1
        ],
        [
         1218596438228,
         1
        ],
        [
         1012816707796,
         1
        ],
        [
         1244942172372,
         1
        ],
        [
         1290728931540,
         1
        ],
        [
         1386293559508,
         1
        ],
        [
         2095850422484,
         1
        ],
        [
         1955093381332,
         1
        ],
        [
         2001611129044,
         1
        ],
        [
         1169963974868,
         1
        ],
        [
         2001314906324,
         1
        ],
        [
         1167111651540,
         1
        ],
        [
         1197957939412,
         1
        ],
        [
         1951353471188,
         1
        ],
        [
         2009207636180,
         1
        ],
        [
         1895813152980,
         1
        ],
        [
         1391594832084,
         1
        ],
        [
         1714062590164,
         1
        ],
        [
         1332147683540,
         1
        ],
        [
         2163928498388,
         1
        ],
        [
         2210885959892,
         1
        ],
        [
         1323103584468,
         1
        ],
        [
         1139841695956,
         1
        ],
        [
         2007152132308,
         1
        ],
        [
         2110443684052,
         1
        ],
        [
         1370111279316,
         1
        ],
        [
         1879493902548,
         1
        ],
        [
         2148876353748,
         1
        ],
        [
         2164742979796,
         1
        ],
        [
         1334851895508,
         1
        ],
        [
         1933438189780,
         1
        ],
        [
         1863609024724,
         1
        ],
        [
         2136934711508,
         1
        ],
        [
         1112855970004,
         1
        ],
        [
         1420146442452,
         1
        ],
        [
         1988768530644,
         1
        ],
        [
         1388874957012,
         1
        ],
        [
         1113020530900,
         1
        ],
        [
         1718364405972,
         1
        ],
        [
         1359984787668,
         1
        ],
        [
         1368806359252,
         1
        ],
        [
         1994310189268,
         1
        ],
        [
         2111891505364,
         1
        ],
        [
         1816060854484,
         1
        ],
        [
         2156967788756,
         1
        ],
        [
         2164724531412,
         1
        ],
        [
         1240120295636,
         1
        ],
        [
         944748331220,
         1
        ],
        [
         1139599016148,
         1
        ],
        [
         1277241721044,
         1
        ],
        [
         1728747438292,
         1
        ],
        [
         2049920827604,
         1
        ],
        [
         1265873846484,
         1
        ],
        [
         1273420185812,
         1
        ],
        [
         2007175069908,
         1
        ],
        [
         2199158358228,
         1
        ],
        [
         860321513684,
         1
        ],
        [
         2068044415188,
         1
        ],
        [
         1225293103316,
         1
        ],
        [
         1336411979988,
         1
        ],
        [
         2152196473044,
         1
        ],
        [
         1224962146516,
         1
        ],
        [
         1829090066644,
         1
        ],
        [
         1139733594324,
         1
        ],
        [
         921300107476,
         1
        ],
        [
         1168970285268,
         1
        ],
        [
         2082349220052,
         1
        ],
        [
         1166110163156,
         1
        ],
        [
         2062742520020,
         1
        ],
        [
         1396679147732,
         1
        ],
        [
         1055201853652,
         1
        ],
        [
         1727798902996,
         1
        ],
        [
         2129944051924,
         1
        ],
        [
         1202920685780,
         1
        ],
        [
         1367304732884,
         1
        ],
        [
         2200890933460,
         1
        ],
        [
         2119052427476,
         1
        ],
        [
         1201096786132,
         1
        ],
        [
         1290742005972,
         1
        ],
        [
         2147997253844,
         1
        ],
        [
         1396327514324,
         1
        ],
        [
         1313327087828,
         1
        ],
        [
         1374622941396,
         1
        ],
        [
         2192090530004,
         1
        ],
        [
         1371188822228,
         1
        ],
        [
         1919060312276,
         1
        ],
        [
         1920011337940,
         1
        ],
        [
         908426477780,
         1
        ],
        [
         1961259237588,
         1
        ],
        [
         1202916524244,
         1
        ],
        [
         1881619300564,
         1
        ],
        [
         1997439893716,
         1
        ],
        [
         1323871600852,
         1
        ],
        [
         1860429643988,
         1
        ],
        [
         1330286428372,
         1
        ],
        [
         1408708214996,
         1
        ],
        [
         2210419638484,
         1
        ],
        [
         1049493242068,
         1
        ],
        [
         1892431855828,
         1
        ],
        [
         1947274674388,
         1
        ],
        [
         2152075231444,
         1
        ],
        [
         1196297846996,
         1
        ],
        [
         1298193383636,
         1
        ],
        [
         2147468378324,
         1
        ],
        [
         1372500820180,
         1
        ],
        [
         1393077125332,
         1
        ],
        [
         1039119941844,
         1
        ],
        [
         1245929799892,
         1
        ],
        [
         1928931082452,
         1
        ],
        [
         1995282579668,
         1
        ],
        [
         2074957086932,
         1
        ],
        [
         985969983700,
         1
        ],
        [
         1299504201940,
         1
        ],
        [
         1961561751764,
         1
        ],
        [
         1229473579220,
         1
        ],
        [
         1284185063636,
         1
        ],
        [
         1353912189140,
         1
        ],
        [
         1936443310292,
         1
        ],
        [
         1269454667988,
         1
        ],
        [
         1879077486804,
         1
        ],
        [
         1211676131540,
         1
        ],
        [
         1393118937300,
         1
        ],
        [
         1690370146516,
         1
        ],
        [
         1695361564884,
         1
        ],
        [
         1972295794900,
         1
        ],
        [
         2095255814356,
         1
        ],
        [
         2210400010452,
         1
        ],
        [
         2102699032788,
         1
        ],
        [
         2007149412564,
         1
        ],
        [
         2096696590548,
         1
        ],
        [
         1395590103252,
         1
        ],
        [
         1320904098004,
         1
        ],
        [
         1190457573588,
         1
        ],
        [
         1254923534548,
         1
        ],
        [
         2075075805396,
         1
        ],
        [
         1206226616532,
         1
        ],
        [
         1342864326868,
         1
        ],
        [
         2137540690132,
         1
        ],
        [
         1881619071188,
         1
        ],
        [
         1319907885268,
         1
        ],
        [
         1707158864084,
         1
        ],
        [
         2112973832404,
         1
        ],
        [
         2130099929300,
         1
        ],
        [
         2069616525524,
         1
        ],
        [
         2147809919188,
         1
        ],
        [
         1178814021844,
         1
        ],
        [
         1306938179796,
         1
        ],
        [
         1816674631892,
         1
        ],
        [
         1930259988692,
         1
        ],
        [
         1966595440852,
         1
        ],
        [
         2108965847252,
         1
        ],
        [
         2200356782292,
         1
        ],
        [
         1171128615124,
         1
        ],
        [
         2091069669588,
         1
        ],
        [
         2164793868500,
         1
        ],
        [
         1996762153172,
         1
        ],
        [
         2039303864532,
         1
        ],
        [
         2199175856340,
         1
        ],
        [
         1297518297300,
         1
        ],
        [
         2086929465556,
         1
        ],
        [
         1278550769876,
         1
        ],
        [
         1804608209108,
         1
        ],
        [
         1304165810388,
         1
        ],
        [
         1792691503316,
         1
        ],
        [
         1161927786708,
         1
        ],
        [
         2165298004180,
         1
        ],
        [
         1938817089748,
         1
        ],
        [
         1059671703764,
         1
        ],
        [
         1272182276308,
         1
        ],
        [
         1282325676244,
         1
        ],
        [
         1888910016724,
         1
        ],
        [
         2204589654228,
         1
        ],
        [
         1973101068500,
         1
        ],
        [
         1227020042452,
         1
        ],
        [
         1321328443604,
         1
        ],
        [
         2099181879508,
         1
        ],
        [
         1821246423252,
         1
        ],
        [
         1374623138004,
         1
        ],
        [
         1417802383572,
         1
        ],
        [
         1927430045908,
         1
        ],
        [
         1242722402516,
         1
        ],
        [
         1165476724948,
         1
        ],
        [
         946104336596,
         1
        ],
        [
         1270555902164,
         1
        ],
        [
         2043713028308,
         1
        ],
        [
         1267646562516,
         1
        ],
        [
         1214376837332,
         1
        ],
        [
         1370971996372,
         1
        ],
        [
         1173928935636,
         1
        ],
        [
         1378771173588,
         1
        ],
        [
         1395335200980,
         1
        ],
        [
         1393161044180,
         1
        ],
        [
         2095942566100,
         1
        ],
        [
         2135052452052,
         1
        ],
        [
         1170080628948,
         1
        ],
        [
         2199185457364,
         1
        ],
        [
         1408408092884,
         1
        ],
        [
         1355196629204,
         1
        ],
        [
         2129693376724,
         1
        ],
        [
         2196803551444,
         1
        ],
        [
         1340252094676,
         1
        ],
        [
         2144222871764,
         1
        ],
        [
         2107099414740,
         1
        ],
        [
         2143034474708,
         1
        ],
        [
         2136934416596,
         1
        ],
        [
         2009870270676,
         1
        ],
        [
         2125379829972,
         1
        ],
        [
         1273554010324,
         1
        ],
        [
         2079536873684,
         1
        ],
        [
         2121957114068,
         1
        ],
        [
         2085090263252,
         1
        ],
        [
         2136530288852,
         1
        ],
        [
         2145426473172,
         1
        ],
        [
         2170812924116,
         1
        ],
        [
         1375508725972,
         1
        ],
        [
         1409066762452,
         1
        ],
        [
         1837113278676,
         1
        ],
        [
         1152018317524,
         1
        ],
        [
         1302101819604,
         1
        ],
        [
         1377092665556,
         1
        ],
        [
         1986631827668,
         1
        ],
        [
         2180919427284,
         1
        ],
        [
         1239611441364,
         1
        ],
        [
         2194493112532,
         1
        ],
        [
         1270552363220,
         1
        ],
        [
         1282474148052,
         1
        ],
        [
         1908949549268,
         1
        ],
        [
         1308159803604,
         1
        ],
        [
         1923195732180,
         1
        ],
        [
         1955092791508,
         1
        ],
        [
         2003135037652,
         1
        ],
        [
         1251157803220,
         1
        ],
        [
         1281394802900,
         1
        ],
        [
         1914400243924,
         1
        ],
        [
         1260609601748,
         1
        ],
        [
         2176959283412,
         1
        ],
        [
         2061648298196,
         1
        ],
        [
         1959562805460,
         1
        ],
        [
         1821860430036,
         1
        ],
        [
         1988734615764,
         1
        ],
        [
         1346460811476,
         1
        ],
        [
         1383290339540,
         1
        ],
        [
         1231079604436,
         1
        ],
        [
         2213003296980,
         1
        ],
        [
         1103887040724,
         1
        ],
        [
         1282354610388,
         1
        ],
        [
         1987605332180,
         1
        ],
        [
         1918556733652,
         1
        ],
        [
         1369982075092,
         1
        ],
        [
         1269274411220,
         1
        ],
        [
         2175848743124,
         1
        ],
        [
         2196537376980,
         1
        ],
        [
         1339586412756,
         1
        ],
        [
         1900022202580,
         1
        ],
        [
         1989556175060,
         1
        ],
        [
         1279403622612,
         1
        ],
        [
         2136593334484,
         1
        ],
        [
         1289910911188,
         1
        ],
        [
         1295804006612,
         1
        ],
        [
         1353943515348,
         1
        ],
        [
         1818756350164,
         1
        ],
        [
         1423631188180,
         1
        ],
        [
         1218756280532,
         1
        ],
        [
         1896521859284,
         1
        ],
        [
         1367519232212,
         1
        ],
        [
         1387659985108,
         1
        ],
        [
         1727531450580,
         1
        ],
        [
         1953889845460,
         1
        ],
        [
         1962510713044,
         1
        ],
        [
         2054967328980,
         1
        ],
        [
         1296596926676,
         1
        ],
        [
         1339035517140,
         1
        ],
        [
         1227439472852,
         1
        ],
        [
         2144515883220,
         1
        ],
        [
         1862877216980,
         1
        ],
        [
         2110661263572,
         1
        ],
        [
         1182829707476,
         1
        ],
        [
         1295768027348,
         1
        ],
        [
         2066792186068,
         1
        ],
        [
         1119941853396,
         1
        ],
        [
         1347926589652,
         1
        ],
        [
         2106987970772,
         1
        ],
        [
         1680890429652,
         1
        ],
        [
         1086222598356,
         1
        ],
        [
         2029545816276,
         1
        ],
        [
         1314788835540,
         1
        ],
        [
         1778175049940,
         1
        ],
        [
         1218671378644,
         1
        ],
        [
         1989286232276,
         1
        ],
        [
         1203063029972,
         1
        ],
        [
         1237187428564,
         1
        ],
        [
         2074295533780,
         1
        ],
        [
         1296526442708,
         1
        ],
        [
         1336668946644,
         1
        ],
        [
         1376727662804,
         1
        ],
        [
         1851475034324,
         1
        ],
        [
         2114134868180,
         1
        ],
        [
         2121956425940,
         1
        ],
        [
         1393062936788,
         1
        ],
        [
         2102183035092,
         1
        ],
        [
         1844952662228,
         1
        ],
        [
         2137414009044,
         1
        ],
        [
         2209145487572,
         1
        ],
        [
         1730145714388,
         1
        ],
        [
         1920939983060,
         1
        ],
        [
         1271588192468,
         1
        ],
        [
         1301228716244,
         1
        ],
        [
         2111507038420,
         1
        ],
        [
         1238286368980,
         1
        ],
        [
         1259580260564,
         1
        ],
        [
         1394121867476,
         1
        ],
        [
         1370800914644,
         1
        ],
        [
         2065220272340,
         1
        ],
        [
         1710720549076,
         1
        ],
        [
         1889290158292,
         1
        ],
        [
         2072121671892,
         1
        ],
        [
         1709678919892,
         1
        ],
        [
         1388762398932,
         1
        ],
        [
         1915240579284,
         1
        ],
        [
         1191572865236,
         1
        ],
        [
         2102784884948,
         1
        ],
        [
         2083604627668,
         1
        ],
        [
         1337089425620,
         1
        ],
        [
         1395430260948,
         1
        ],
        [
         2122242130132,
         1
        ],
        [
         1799150895316,
         1
        ],
        [
         1173804712148,
         1
        ],
        [
         1313107312852,
         1
        ],
        [
         2063029862612,
         1
        ],
        [
         2129697833172,
         1
        ],
        [
         2138265321684,
         1
        ],
        [
         1778608144596,
         1
        ],
        [
         1256244183252,
         1
        ],
        [
         1700917412052,
         1
        ],
        [
         1295426748628,
         1
        ],
        [
         1973056766164,
         1
        ],
        [
         1325280461012,
         1
        ],
        [
         2086627410132,
         1
        ],
        [
         2095868969172,
         1
        ],
        [
         1175543939284,
         1
        ],
        [
         1685246509268,
         1
        ],
        [
         1203037077716,
         1
        ],
        [
         1345909260500,
         1
        ],
        [
         2132756562132,
         1
        ],
        [
         1339596800212,
         1
        ],
        [
         1289609707732,
         1
        ],
        [
         1372578775252,
         1
        ],
        [
         1400222810324,
         1
        ],
        [
         2009874628820,
         1
        ],
        [
         1407574638804,
         1
        ],
        [
         1709589397716,
         1
        ],
        [
         1945294471380,
         1
        ],
        [
         1407383240916,
         1
        ],
        [
         1253070897364,
         1
        ],
        [
         1330715164884,
         1
        ],
        [
         1231083962580,
         1
        ],
        [
         1297986093268,
         1
        ],
        [
         1255457095892,
         1
        ],
        [
         2003087360212,
         1
        ],
        [
         2149624381652,
         1
        ],
        [
         2098611126484,
         1
        ],
        [
         1337973768404,
         1
        ],
        [
         1352169783508,
         1
        ],
        [
         1362783174868,
         1
        ],
        [
         1956408885460,
         1
        ],
        [
         1938892816596,
         1
        ],
        [
         2211592929492,
         1
        ],
        [
         1393043112148,
         1
        ],
        [
         1310762434772,
         1
        ],
        [
         2187876761812,
         1
        ],
        [
         1153354367188,
         1
        ],
        [
         1344417267924,
         1
        ],
        [
         1420392399060,
         1
        ],
        [
         2057011101908,
         1
        ],
        [
         2076874866900,
         1
        ],
        [
         1341672161492,
         1
        ],
        [
         1701901336788,
         1
        ],
        [
         1992469709012,
         1
        ],
        [
         2081503707348,
         1
        ],
        [
         2095255027924,
         1
        ],
        [
         1929717514452,
         1
        ],
        [
         1409845100756,
         1
        ],
        [
         1902210449620,
         1
        ],
        [
         1974040690900,
         1
        ],
        [
         1916355576020,
         1
        ],
        [
         1295004893396,
         1
        ],
        [
         1951909904596,
         1
        ],
        [
         1975342006484,
         1
        ],
        [
         2121152987348,
         1
        ],
        [
         880188063956,
         1
        ],
        [
         2067683934420,
         1
        ],
        [
         2092681527508,
         1
        ],
        [
         2140118614228,
         1
        ],
        [
         1111375315156,
         1
        ],
        [
         1707226005716,
         1
        ],
        [
         1962510942420,
         1
        ],
        [
         1709574979796,
         1
        ],
        [
         1169516331220,
         1
        ],
        [
         1269266940116,
         1
        ],
        [
         2213460050132,
         1
        ],
        [
         2086602997972,
         1
        ],
        [
         2054179717332,
         1
        ],
        [
         2105555878100,
         1
        ],
        [
         1320872706260,
         1
        ],
        [
         1837114589396,
         1
        ],
        [
         1688699797716,
         1
        ],
        [
         1858539913428,
         1
        ],
        [
         1931064541396,
         1
        ],
        [
         2070423863508,
         1
        ],
        [
         1203449200852,
         1
        ],
        [
         1394529566932,
         1
        ],
        [
         2116768497876,
         1
        ],
        [
         1087214321876,
         1
        ],
        [
         1265791140052,
         1
        ],
        [
         1314797846740,
         1
        ],
        [
         1203588268244,
         1
        ],
        [
         1339665023188,
         1
        ],
        [
         2007703945428,
         1
        ],
        [
         1353070379220,
         1
        ],
        [
         1967345500372,
         1
        ],
        [
         1915681734868,
         1
        ],
        [
         1953771028692,
         1
        ],
        [
         1203078824148,
         1
        ],
        [
         1888201801940,
         1
        ],
        [
         1717694857428,
         1
        ],
        [
         1385255502036,
         1
        ],
        [
         1425925079252,
         1
        ],
        [
         2148475961556,
         1
        ],
        [
         2066552258772,
         1
        ],
        [
         2095255584980,
         1
        ],
        [
         2121426469076,
         1
        ],
        [
         2072919965908,
         1
        ],
        [
         2176559907028,
         1
        ],
        [
         1208354537684,
         1
        ],
        [
         1931788255444,
         1
        ],
        [
         1287693828308,
         1
        ],
        [
         1718816014548,
         1
        ],
        [
         2122978754772,
         1
        ],
        [
         1410276950228,
         1
        ],
        [
         2156993020116,
         1
        ],
        [
         1426599739604,
         1
        ],
        [
         1129625059540,
         1
        ],
        [
         1378964799700,
         1
        ],
        [
         1325424050388,
         1
        ],
        [
         2137403556052,
         1
        ],
        [
         1323649368276,
         1
        ],
        [
         2007533060308,
         1
        ],
        [
         1365968945364,
         1
        ],
        [
         1314348237012,
         1
        ],
        [
         1685209317588,
         1
        ],
        [
         2061110051028,
         1
        ],
        [
         1842273157332,
         1
        ],
        [
         1681176854740,
         1
        ],
        [
         1271771070676,
         1
        ],
        [
         1903835087060,
         1
        ],
        [
         1139600949460,
         1
        ],
        [
         1138579243220,
         1
        ],
        [
         1201036853460,
         1
        ],
        [
         1961303736532,
         1
        ],
        [
         2094418690260,
         1
        ],
        [
         1279668814036,
         1
        ],
        [
         2102240149716,
         1
        ],
        [
         2178185068756,
         1
        ],
        [
         1172117323988,
         1
        ],
        [
         1237029322964,
         1
        ],
        [
         1310600659156,
         1
        ],
        [
         2179792863444,
         1
        ],
        [
         1203201999060,
         1
        ],
        [
         1202898665684,
         1
        ],
        [
         1966751908052,
         1
        ],
        [
         1203599409364,
         1
        ],
        [
         2138449248468,
         1
        ],
        [
         1263653028052,
         1
        ],
        [
         1224712618196,
         1
        ],
        [
         1918604443860,
         1
        ],
        [
         1778808291540,
         1
        ],
        [
         887936647380,
         1
        ],
        [
         2211645259988,
         1
        ],
        [
         1283404333268,
         1
        ],
        [
         1188245962964,
         1
        ],
        [
         2073817874644,
         1
        ],
        [
         2174649729236,
         1
        ],
        [
         1214358946004,
         1
        ],
        [
         1235004850388,
         1
        ],
        [
         1709547552980,
         1
        ],
        [
         1286349127892,
         1
        ],
        [
         1961220473044,
         1
        ],
        [
         1180533522644,
         1
        ],
        [
         2045123887316,
         1
        ],
        [
         1367362502868,
         1
        ],
        [
         1948685664468,
         1
        ],
        [
         2012061630676,
         1
        ],
        [
         1411986686164,
         1
        ],
        [
         2028873482452,
         1
        ],
        [
         1209310019796,
         1
        ],
        [
         1253925257428,
         1
        ],
        [
         1935392604372,
         1
        ],
        [
         2057913204948,
         1
        ],
        [
         2067149816020,
         1
        ],
        [
         934065930452,
         1
        ],
        [
         1082497237204,
         1
        ],
        [
         2185441738964,
         1
        ],
        [
         1326366425300,
         1
        ],
        [
         1709666894036,
         1
        ],
        [
         1922438889684,
         1
        ],
        [
         1374451990740,
         1
        ],
        [
         1375650119892,
         1
        ],
        [
         860196503764,
         1
        ],
        [
         2143733317844,
         1
        ],
        [
         2043714765012,
         1
        ],
        [
         2101393359060,
         1
        ],
        [
         2164244086996,
         1
        ],
        [
         1390418067668,
         1
        ],
        [
         2189827604692,
         1
        ],
        [
         1349993398484,
         1
        ],
        [
         1718622552276,
         1
        ],
        [
         1263729901780,
         1
        ],
        [
         1268043808980,
         1
        ],
        [
         2169269780692,
         1
        ],
        [
         2195102957780,
         1
        ],
        [
         1420865601748,
         1
        ],
        [
         2075293024468,
         1
        ],
        [
         1245645308116,
         1
        ],
        [
         1273168756948,
         1
        ],
        [
         1302644097236,
         1
        ],
        [
         1843445498068,
         1
        ],
        [
         2089862267092,
         1
        ],
        [
         1148185477332,
         1
        ],
        [
         1258786128084,
         1
        ],
        [
         2096464494804,
         1
        ],
        [
         1917367648468,
         1
        ],
        [
         1136764354772,
         1
        ],
        [
         1941496299732,
         1
        ],
        [
         2084657397972,
         1
        ],
        [
         1267085410516,
         1
        ],
        [
         2057080963284,
         1
        ],
        [
         1203049693396,
         1
        ],
        [
         1923653894356,
         1
        ],
        [
         1273701531860,
         1
        ],
        [
         2071442620628,
         1
        ],
        [
         1333524889812,
         1
        ],
        [
         2167793877204,
         1
        ],
        [
         1303940759764,
         1
        ],
        [
         1234025513172,
         1
        ],
        [
         2167364452564,
         1
        ],
        [
         1828918526164,
         1
        ],
        [
         1241553633492,
         1
        ],
        [
         1282452750548,
         1
        ],
        [
         1941199651028,
         1
        ],
        [
         2101473476820,
         1
        ],
        [
         1226066559188,
         1
        ],
        [
         1363354779860,
         1
        ],
        [
         1957307056340,
         1
        ],
        [
         2073702006996,
         1
        ],
        [
         1275018903764,
         1
        ],
        [
         2077847879892,
         1
        ],
        [
         1994346889428,
         1
        ],
        [
         1390195736788,
         1
        ],
        [
         1203017187540,
         1
        ],
        [
         1255311376596,
         1
        ],
        [
         1270828368084,
         1
        ],
        [
         1793028128980,
         1
        ],
        [
         1386261577940,
         1
        ],
        [
         1985693319380,
         1
        ],
        [
         1930338533588,
         1
        ],
        [
         1714115641556,
         1
        ],
        [
         2017782825172,
         1
        ],
        [
         1224067973332,
         1
        ],
        [
         1353199714516,
         1
        ],
        [
         1700833722580,
         1
        ],
        [
         2066052284628,
         1
        ],
        [
         1269589672148,
         1
        ],
        [
         1171793510612,
         1
        ],
        [
         1876174536916,
         1
        ],
        [
         1928287224020,
         1
        ],
        [
         1263999811796,
         1
        ],
        [
         1243781628116,
         1
        ],
        [
         1244108554452,
         1
        ],
        [
         2093315031252,
         1
        ],
        [
         1267051921620,
         1
        ],
        [
         1424504226004,
         1
        ],
        [
         1990395822292,
         1
        ],
        [
         1964770951380,
         1
        ],
        [
         1158508249300,
         1
        ],
        [
         1312467943636,
         1
        ],
        [
         1915561607380,
         1
        ],
        [
         2074602864852,
         1
        ],
        [
         1387708416212,
         1
        ],
        [
         1385059057876,
         1
        ],
        [
         1253816008916,
         1
        ],
        [
         1988657545428,
         1
        ],
        [
         2086556860628,
         1
        ],
        [
         2125000671444,
         1
        ],
        [
         2056415150292,
         1
        ],
        [
         862975819988,
         1
        ],
        [
         1916599337172,
         1
        ],
        [
         1395448774868,
         1
        ],
        [
         938210722004,
         1
        ],
        [
         2145420083412,
         1
        ],
        [
         1281152778452,
         1
        ],
        [
         1277500915924,
         1
        ],
        [
         1202893586644,
         1
        ],
        [
         1993433022676,
         1
        ],
        [
         1363324764372,
         1
        ],
        [
         1933955334356,
         1
        ],
        [
         1164673417428,
         1
        ],
        [
         1267347423444,
         1
        ],
        [
         1831959527636,
         1
        ],
        [
         2129394172116,
         1
        ],
        [
         2180920279252,
         1
        ],
        [
         1236104052948,
         1
        ],
        [
         2083890102484,
         1
        ],
        [
         1405043736788,
         1
        ],
        [
         1709865337044,
         1
        ],
        [
         1690369687764,
         1
        ],
        [
         1282447868116,
         1
        ],
        [
         2154825679060,
         1
        ],
        [
         1388770689236,
         1
        ],
        [
         1706924474580,
         1
        ],
        [
         2056138227924,
         1
        ],
        [
         2136257560788,
         1
        ],
        [
         1274620379348,
         1
        ],
        [
         2206733664468,
         1
        ],
        [
         2087130595540,
         1
        ],
        [
         1354033332436,
         1
        ],
        [
         1939139690708,
         1
        ],
        [
         1299310674132,
         1
        ],
        [
         1224066203860,
         1
        ],
        [
         1383608156372,
         1
        ],
        [
         860292645076,
         1
        ],
        [
         1822548558036,
         1
        ],
        [
         1939382206676,
         1
        ],
        [
         1302387392724,
         1
        ],
        [
         2009207832788,
         1
        ],
        [
         1222875611348,
         1
        ],
        [
         1392130293972,
         1
        ],
        [
         1295159132372,
         1
        ],
        [
         1346999714004,
         1
        ],
        [
         2080791822548,
         1
        ],
        [
         1016684478676,
         1
        ],
        [
         2115542221012,
         1
        ],
        [
         1347303506132,
         1
        ],
        [
         2183030603988,
         1
        ],
        [
         1790503911636,
         1
        ],
        [
         1995476238548,
         1
        ],
        [
         2177931903188,
         1
        ],
        [
         1275539226836,
         1
        ],
        [
         2206848024788,
         1
        ],
        [
         1381814763732,
         1
        ],
        [
         1381384192212,
         1
        ],
        [
         2007532142804,
         1
        ],
        [
         1915413790932,
         1
        ],
        [
         1826536685780,
         1
        ],
        [
         2210438152404,
         1
        ],
        [
         1302097821908,
         1
        ],
        [
         1153930854612,
         1
        ],
        [
         1900022038740,
         1
        ],
        [
         1294145847508,
         1
        ],
        [
         2074581795028,
         1
        ]
       ],
       "datasetInfos": [
        {
         "name": "_sqldf",
         "schema": {
          "fields": [
           {
            "metadata": {},
            "name": "order_id",
            "nullable": true,
            "type": "long"
           },
           {
            "metadata": {},
            "name": "count",
            "nullable": true,
            "type": "long"
           }
          ],
          "type": "struct"
         },
         "tableIdentifier": null,
         "typeStr": "pyspark.sql.connect.dataframe.DataFrame"
        }
       ],
       "dbfsResultPath": null,
       "isJsonSchema": true,
       "metadata": {
        "createTempViewForImplicitDf": true,
        "dataframeName": "_sqldf",
        "executionCount": 197
       },
       "overflow": false,
       "plotOptions": {
        "customPlotOptions": {},
        "displayType": "table",
        "pivotAggregation": null,
        "pivotColumns": null,
        "xColumns": null,
        "yColumns": null
       },
       "removedWidgets": [],
       "schema": [
        {
         "metadata": "{}",
         "name": "order_id",
         "type": "\"long\""
        },
        {
         "metadata": "{}",
         "name": "count",
         "type": "\"long\""
        }
       ],
       "type": "table"
      }
     },
     "output_type": "display_data"
    }
   ],
   "source": [
    "%sql\n",
    "\n",
    "SELECT *\n",
    "FROM dev.orders_count"
   ]
  },
  {
   "cell_type": "markdown",
   "metadata": {
    "application/vnd.databricks.v1+cell": {
     "cellMetadata": {},
     "inputWidgets": {},
     "nuid": "b909d130-a610-4457-99c8-287cff95c27b",
     "showTitle": false,
     "tableResultSettingsMap": {},
     "title": ""
    }
   },
   "source": [
    "External Table 예는 나중 \"실습과 확장\" 섹션에서 AWS EMR을 사용할 때 S3와 연동하는 걸로 대신 할 예정"
   ]
  }
 ],
 "metadata": {
  "application/vnd.databricks.v1+notebook": {
   "computePreferences": null,
   "dashboards": [],
   "environmentMetadata": null,
   "language": "python",
   "notebookMetadata": {
    "mostRecentlyExecutedCommandWithImplicitDF": {
     "commandId": 8464611348300325,
     "dataframes": [
      "_sqldf"
     ]
    },
    "pythonIndentUnit": 4
   },
   "notebookName": "In_Memory_Catalog와_Hive_Metastore_테스트",
   "widgets": {}
  },
  "colab": {
   "provenance": []
  },
  "kernelspec": {
   "display_name": "Python 3",
   "name": "python3"
  },
  "language_info": {
   "name": "python"
  }
 },
 "nbformat": 4,
 "nbformat_minor": 0
}